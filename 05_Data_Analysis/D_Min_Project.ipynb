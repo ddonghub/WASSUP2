{
 "cells": [
  {
   "cell_type": "markdown",
   "id": "ad7181c2-2b55-4c85-b98b-73f88cd2f077",
   "metadata": {},
   "source": [
    "# 특명 잠재 구독연장자를 찾아라!"
   ]
  },
  {
   "cell_type": "markdown",
   "id": "305a044e",
   "metadata": {},
   "source": [
    "이번 프로젝트는 학습 서비스를 이용하는 독자들 중 누가 서비스 구독을 연장할지 예측하기 위한 사전 파악에 초점을 맞추고 있습니다. 우리의 목표는 유저들의 학습 습관, 선호도, 이용 행태 등 다양한 측면을 면밀히 분석하는 것입니다."
   ]
  },
  {
   "cell_type": "markdown",
   "id": "23fb717e",
   "metadata": {},
   "source": [
    "# 데이터 살펴보기"
   ]
  },
  {
   "cell_type": "code",
   "execution_count": 2,
   "id": "e0f2acf5",
   "metadata": {
    "ExecuteTime": {
     "end_time": "2024-03-31T11:28:54.312569Z",
     "start_time": "2024-03-31T11:28:52.903208Z"
    }
   },
   "outputs": [],
   "source": [
    "import pandas as pd\n",
    "import numpy as np"
   ]
  },
  {
   "cell_type": "code",
   "execution_count": 3,
   "id": "473978ce",
   "metadata": {
    "ExecuteTime": {
     "end_time": "2024-03-31T11:28:57.891114Z",
     "start_time": "2024-03-31T11:28:54.317413Z"
    }
   },
   "outputs": [],
   "source": [
    "import matplotlib.pyplot as plt\n",
    "import seaborn as sns"
   ]
  },
  {
   "cell_type": "code",
   "execution_count": 4,
   "id": "b40d2155",
   "metadata": {
    "ExecuteTime": {
     "end_time": "2024-03-31T11:28:57.964083Z",
     "start_time": "2024-03-31T11:28:57.897326Z"
    }
   },
   "outputs": [],
   "source": [
    "data = pd.read_table('data/mini.csv',sep=',')"
   ]
  },
  {
   "cell_type": "code",
   "execution_count": 5,
   "id": "0445e581",
   "metadata": {
    "ExecuteTime": {
     "end_time": "2024-03-31T11:28:58.002090Z",
     "start_time": "2024-03-31T11:28:57.965586Z"
    },
    "scrolled": true
   },
   "outputs": [
    {
     "data": {
      "text/html": [
       "<div>\n",
       "<style scoped>\n",
       "    .dataframe tbody tr th:only-of-type {\n",
       "        vertical-align: middle;\n",
       "    }\n",
       "\n",
       "    .dataframe tbody tr th {\n",
       "        vertical-align: top;\n",
       "    }\n",
       "\n",
       "    .dataframe thead th {\n",
       "        text-align: right;\n",
       "    }\n",
       "</style>\n",
       "<table border=\"1\" class=\"dataframe\">\n",
       "  <thead>\n",
       "    <tr style=\"text-align: right;\">\n",
       "      <th></th>\n",
       "      <th>user_id</th>\n",
       "      <th>subscription_duration</th>\n",
       "      <th>recent_login_time</th>\n",
       "      <th>average_login_time</th>\n",
       "      <th>average_time_per_learning_session</th>\n",
       "      <th>monthly_active_learning_days</th>\n",
       "      <th>total_completed_courses</th>\n",
       "      <th>recent_learning_achievement</th>\n",
       "      <th>abandoned_learning_sessions</th>\n",
       "      <th>community_engagement_level</th>\n",
       "      <th>preferred_difficulty_level</th>\n",
       "      <th>subscription_type</th>\n",
       "      <th>customer_inquiry_history</th>\n",
       "      <th>payment_pattern</th>\n",
       "      <th>target</th>\n",
       "    </tr>\n",
       "  </thead>\n",
       "  <tbody>\n",
       "    <tr>\n",
       "      <th>0</th>\n",
       "      <td>b919c29d</td>\n",
       "      <td>13</td>\n",
       "      <td>14</td>\n",
       "      <td>14.946163</td>\n",
       "      <td>8.427187</td>\n",
       "      <td>18</td>\n",
       "      <td>16</td>\n",
       "      <td>68.360455</td>\n",
       "      <td>3</td>\n",
       "      <td>4</td>\n",
       "      <td>Low</td>\n",
       "      <td>Basic</td>\n",
       "      <td>4</td>\n",
       "      <td>5</td>\n",
       "      <td>0</td>\n",
       "    </tr>\n",
       "    <tr>\n",
       "      <th>1</th>\n",
       "      <td>a0a60abb</td>\n",
       "      <td>16</td>\n",
       "      <td>18</td>\n",
       "      <td>18.453224</td>\n",
       "      <td>72.646087</td>\n",
       "      <td>16</td>\n",
       "      <td>13</td>\n",
       "      <td>97.567322</td>\n",
       "      <td>2</td>\n",
       "      <td>3</td>\n",
       "      <td>Medium</td>\n",
       "      <td>Basic</td>\n",
       "      <td>1</td>\n",
       "      <td>6</td>\n",
       "      <td>1</td>\n",
       "    </tr>\n",
       "    <tr>\n",
       "      <th>2</th>\n",
       "      <td>b9f171ae</td>\n",
       "      <td>22</td>\n",
       "      <td>1</td>\n",
       "      <td>16.195228</td>\n",
       "      <td>21.774492</td>\n",
       "      <td>13</td>\n",
       "      <td>14</td>\n",
       "      <td>94.358763</td>\n",
       "      <td>3</td>\n",
       "      <td>4</td>\n",
       "      <td>Medium</td>\n",
       "      <td>Premium</td>\n",
       "      <td>0</td>\n",
       "      <td>7</td>\n",
       "      <td>1</td>\n",
       "    </tr>\n",
       "    <tr>\n",
       "      <th>3</th>\n",
       "      <td>5dc0ba8b</td>\n",
       "      <td>1</td>\n",
       "      <td>19</td>\n",
       "      <td>17.628656</td>\n",
       "      <td>42.659066</td>\n",
       "      <td>19</td>\n",
       "      <td>18</td>\n",
       "      <td>70.153228</td>\n",
       "      <td>0</td>\n",
       "      <td>3</td>\n",
       "      <td>Low</td>\n",
       "      <td>Basic</td>\n",
       "      <td>1</td>\n",
       "      <td>0</td>\n",
       "      <td>1</td>\n",
       "    </tr>\n",
       "    <tr>\n",
       "      <th>4</th>\n",
       "      <td>65c83654</td>\n",
       "      <td>4</td>\n",
       "      <td>5</td>\n",
       "      <td>21.390656</td>\n",
       "      <td>30.744287</td>\n",
       "      <td>19</td>\n",
       "      <td>10</td>\n",
       "      <td>81.917908</td>\n",
       "      <td>2</td>\n",
       "      <td>4</td>\n",
       "      <td>Medium</td>\n",
       "      <td>Basic</td>\n",
       "      <td>3</td>\n",
       "      <td>0</td>\n",
       "      <td>1</td>\n",
       "    </tr>\n",
       "    <tr>\n",
       "      <th>...</th>\n",
       "      <td>...</td>\n",
       "      <td>...</td>\n",
       "      <td>...</td>\n",
       "      <td>...</td>\n",
       "      <td>...</td>\n",
       "      <td>...</td>\n",
       "      <td>...</td>\n",
       "      <td>...</td>\n",
       "      <td>...</td>\n",
       "      <td>...</td>\n",
       "      <td>...</td>\n",
       "      <td>...</td>\n",
       "      <td>...</td>\n",
       "      <td>...</td>\n",
       "      <td>...</td>\n",
       "    </tr>\n",
       "    <tr>\n",
       "      <th>9995</th>\n",
       "      <td>ae6b76bc</td>\n",
       "      <td>22</td>\n",
       "      <td>29</td>\n",
       "      <td>14.727623</td>\n",
       "      <td>84.053558</td>\n",
       "      <td>18</td>\n",
       "      <td>16</td>\n",
       "      <td>64.966803</td>\n",
       "      <td>2</td>\n",
       "      <td>5</td>\n",
       "      <td>Low</td>\n",
       "      <td>Premium</td>\n",
       "      <td>1</td>\n",
       "      <td>1</td>\n",
       "      <td>1</td>\n",
       "    </tr>\n",
       "    <tr>\n",
       "      <th>9996</th>\n",
       "      <td>24588752</td>\n",
       "      <td>10</td>\n",
       "      <td>11</td>\n",
       "      <td>19.374054</td>\n",
       "      <td>45.464833</td>\n",
       "      <td>9</td>\n",
       "      <td>8</td>\n",
       "      <td>82.750244</td>\n",
       "      <td>3</td>\n",
       "      <td>3</td>\n",
       "      <td>Medium</td>\n",
       "      <td>Basic</td>\n",
       "      <td>2</td>\n",
       "      <td>7</td>\n",
       "      <td>1</td>\n",
       "    </tr>\n",
       "    <tr>\n",
       "      <th>9997</th>\n",
       "      <td>e4622a54</td>\n",
       "      <td>7</td>\n",
       "      <td>27</td>\n",
       "      <td>18.240978</td>\n",
       "      <td>127.302411</td>\n",
       "      <td>24</td>\n",
       "      <td>14</td>\n",
       "      <td>81.567839</td>\n",
       "      <td>3</td>\n",
       "      <td>5</td>\n",
       "      <td>High</td>\n",
       "      <td>Basic</td>\n",
       "      <td>1</td>\n",
       "      <td>6</td>\n",
       "      <td>1</td>\n",
       "    </tr>\n",
       "    <tr>\n",
       "      <th>9998</th>\n",
       "      <td>e07fbad9</td>\n",
       "      <td>11</td>\n",
       "      <td>7</td>\n",
       "      <td>18.783800</td>\n",
       "      <td>5.297234</td>\n",
       "      <td>10</td>\n",
       "      <td>10</td>\n",
       "      <td>89.885656</td>\n",
       "      <td>4</td>\n",
       "      <td>5</td>\n",
       "      <td>Low</td>\n",
       "      <td>Basic</td>\n",
       "      <td>2</td>\n",
       "      <td>0</td>\n",
       "      <td>1</td>\n",
       "    </tr>\n",
       "    <tr>\n",
       "      <th>9999</th>\n",
       "      <td>e12dcb55</td>\n",
       "      <td>10</td>\n",
       "      <td>5</td>\n",
       "      <td>13.073230</td>\n",
       "      <td>28.120031</td>\n",
       "      <td>3</td>\n",
       "      <td>13</td>\n",
       "      <td>64.811297</td>\n",
       "      <td>4</td>\n",
       "      <td>5</td>\n",
       "      <td>Low</td>\n",
       "      <td>Premium</td>\n",
       "      <td>0</td>\n",
       "      <td>3</td>\n",
       "      <td>0</td>\n",
       "    </tr>\n",
       "  </tbody>\n",
       "</table>\n",
       "<p>10000 rows × 15 columns</p>\n",
       "</div>"
      ],
      "text/plain": [
       "       user_id  subscription_duration  recent_login_time  average_login_time  \\\n",
       "0     b919c29d                     13                 14           14.946163   \n",
       "1     a0a60abb                     16                 18           18.453224   \n",
       "2     b9f171ae                     22                  1           16.195228   \n",
       "3     5dc0ba8b                      1                 19           17.628656   \n",
       "4     65c83654                      4                  5           21.390656   \n",
       "...        ...                    ...                ...                 ...   \n",
       "9995  ae6b76bc                     22                 29           14.727623   \n",
       "9996  24588752                     10                 11           19.374054   \n",
       "9997  e4622a54                      7                 27           18.240978   \n",
       "9998  e07fbad9                     11                  7           18.783800   \n",
       "9999  e12dcb55                     10                  5           13.073230   \n",
       "\n",
       "      average_time_per_learning_session  monthly_active_learning_days  \\\n",
       "0                              8.427187                            18   \n",
       "1                             72.646087                            16   \n",
       "2                             21.774492                            13   \n",
       "3                             42.659066                            19   \n",
       "4                             30.744287                            19   \n",
       "...                                 ...                           ...   \n",
       "9995                          84.053558                            18   \n",
       "9996                          45.464833                             9   \n",
       "9997                         127.302411                            24   \n",
       "9998                           5.297234                            10   \n",
       "9999                          28.120031                             3   \n",
       "\n",
       "      total_completed_courses  recent_learning_achievement  \\\n",
       "0                          16                    68.360455   \n",
       "1                          13                    97.567322   \n",
       "2                          14                    94.358763   \n",
       "3                          18                    70.153228   \n",
       "4                          10                    81.917908   \n",
       "...                       ...                          ...   \n",
       "9995                       16                    64.966803   \n",
       "9996                        8                    82.750244   \n",
       "9997                       14                    81.567839   \n",
       "9998                       10                    89.885656   \n",
       "9999                       13                    64.811297   \n",
       "\n",
       "      abandoned_learning_sessions  community_engagement_level  \\\n",
       "0                               3                           4   \n",
       "1                               2                           3   \n",
       "2                               3                           4   \n",
       "3                               0                           3   \n",
       "4                               2                           4   \n",
       "...                           ...                         ...   \n",
       "9995                            2                           5   \n",
       "9996                            3                           3   \n",
       "9997                            3                           5   \n",
       "9998                            4                           5   \n",
       "9999                            4                           5   \n",
       "\n",
       "     preferred_difficulty_level subscription_type  customer_inquiry_history  \\\n",
       "0                           Low             Basic                         4   \n",
       "1                        Medium             Basic                         1   \n",
       "2                        Medium           Premium                         0   \n",
       "3                           Low             Basic                         1   \n",
       "4                        Medium             Basic                         3   \n",
       "...                         ...               ...                       ...   \n",
       "9995                        Low           Premium                         1   \n",
       "9996                     Medium             Basic                         2   \n",
       "9997                       High             Basic                         1   \n",
       "9998                        Low             Basic                         2   \n",
       "9999                        Low           Premium                         0   \n",
       "\n",
       "      payment_pattern  target  \n",
       "0                   5       0  \n",
       "1                   6       1  \n",
       "2                   7       1  \n",
       "3                   0       1  \n",
       "4                   0       1  \n",
       "...               ...     ...  \n",
       "9995                1       1  \n",
       "9996                7       1  \n",
       "9997                6       1  \n",
       "9998                0       1  \n",
       "9999                3       0  \n",
       "\n",
       "[10000 rows x 15 columns]"
      ]
     },
     "execution_count": 5,
     "metadata": {},
     "output_type": "execute_result"
    }
   ],
   "source": [
    "data"
   ]
  },
  {
   "cell_type": "markdown",
   "id": "935c28bb",
   "metadata": {},
   "source": [
    "범주형 데이터는 preferred_difficulty_level, subscription_type, community_engagement_level, payment_pattern 이 네가지로 정리된다"
   ]
  },
  {
   "cell_type": "code",
   "execution_count": 5,
   "id": "19e67d09",
   "metadata": {
    "ExecuteTime": {
     "end_time": "2024-03-29T08:20:17.435094Z",
     "start_time": "2024-03-29T08:20:17.361138Z"
    },
    "scrolled": true
   },
   "outputs": [
    {
     "data": {
      "text/html": [
       "<div>\n",
       "<style scoped>\n",
       "    .dataframe tbody tr th:only-of-type {\n",
       "        vertical-align: middle;\n",
       "    }\n",
       "\n",
       "    .dataframe tbody tr th {\n",
       "        vertical-align: top;\n",
       "    }\n",
       "\n",
       "    .dataframe thead th {\n",
       "        text-align: right;\n",
       "    }\n",
       "</style>\n",
       "<table border=\"1\" class=\"dataframe\">\n",
       "  <thead>\n",
       "    <tr style=\"text-align: right;\">\n",
       "      <th></th>\n",
       "      <th>subscription_duration</th>\n",
       "      <th>recent_login_time</th>\n",
       "      <th>average_login_time</th>\n",
       "      <th>average_time_per_learning_session</th>\n",
       "      <th>monthly_active_learning_days</th>\n",
       "      <th>total_completed_courses</th>\n",
       "      <th>recent_learning_achievement</th>\n",
       "      <th>abandoned_learning_sessions</th>\n",
       "      <th>community_engagement_level</th>\n",
       "      <th>customer_inquiry_history</th>\n",
       "      <th>payment_pattern</th>\n",
       "      <th>target</th>\n",
       "    </tr>\n",
       "  </thead>\n",
       "  <tbody>\n",
       "    <tr>\n",
       "      <th>count</th>\n",
       "      <td>10000.000000</td>\n",
       "      <td>10000.000000</td>\n",
       "      <td>10000.000000</td>\n",
       "      <td>10000.000000</td>\n",
       "      <td>10000.000000</td>\n",
       "      <td>10000.000000</td>\n",
       "      <td>10000.000000</td>\n",
       "      <td>10000.000000</td>\n",
       "      <td>10000.000000</td>\n",
       "      <td>10000.000000</td>\n",
       "      <td>10000.000000</td>\n",
       "      <td>10000.000000</td>\n",
       "    </tr>\n",
       "    <tr>\n",
       "      <th>mean</th>\n",
       "      <td>11.897400</td>\n",
       "      <td>15.013200</td>\n",
       "      <td>14.994076</td>\n",
       "      <td>54.917720</td>\n",
       "      <td>12.545400</td>\n",
       "      <td>12.227500</td>\n",
       "      <td>75.029513</td>\n",
       "      <td>3.043600</td>\n",
       "      <td>3.886100</td>\n",
       "      <td>2.010500</td>\n",
       "      <td>3.502900</td>\n",
       "      <td>0.619900</td>\n",
       "    </tr>\n",
       "    <tr>\n",
       "      <th>std</th>\n",
       "      <td>6.600896</td>\n",
       "      <td>8.362573</td>\n",
       "      <td>3.001869</td>\n",
       "      <td>56.024310</td>\n",
       "      <td>6.932239</td>\n",
       "      <td>3.634125</td>\n",
       "      <td>9.968529</td>\n",
       "      <td>1.755052</td>\n",
       "      <td>1.262175</td>\n",
       "      <td>1.420983</td>\n",
       "      <td>2.311261</td>\n",
       "      <td>0.485435</td>\n",
       "    </tr>\n",
       "    <tr>\n",
       "      <th>min</th>\n",
       "      <td>1.000000</td>\n",
       "      <td>1.000000</td>\n",
       "      <td>2.366189</td>\n",
       "      <td>0.011515</td>\n",
       "      <td>1.000000</td>\n",
       "      <td>1.000000</td>\n",
       "      <td>35.941755</td>\n",
       "      <td>0.000000</td>\n",
       "      <td>1.000000</td>\n",
       "      <td>0.000000</td>\n",
       "      <td>0.000000</td>\n",
       "      <td>0.000000</td>\n",
       "    </tr>\n",
       "    <tr>\n",
       "      <th>25%</th>\n",
       "      <td>6.000000</td>\n",
       "      <td>8.000000</td>\n",
       "      <td>13.025597</td>\n",
       "      <td>15.276611</td>\n",
       "      <td>7.000000</td>\n",
       "      <td>10.000000</td>\n",
       "      <td>68.278054</td>\n",
       "      <td>2.000000</td>\n",
       "      <td>3.000000</td>\n",
       "      <td>1.000000</td>\n",
       "      <td>1.000000</td>\n",
       "      <td>0.000000</td>\n",
       "    </tr>\n",
       "    <tr>\n",
       "      <th>50%</th>\n",
       "      <td>12.000000</td>\n",
       "      <td>15.000000</td>\n",
       "      <td>14.979228</td>\n",
       "      <td>37.578818</td>\n",
       "      <td>13.000000</td>\n",
       "      <td>12.000000</td>\n",
       "      <td>75.126061</td>\n",
       "      <td>3.000000</td>\n",
       "      <td>4.000000</td>\n",
       "      <td>2.000000</td>\n",
       "      <td>4.000000</td>\n",
       "      <td>1.000000</td>\n",
       "    </tr>\n",
       "    <tr>\n",
       "      <th>75%</th>\n",
       "      <td>18.000000</td>\n",
       "      <td>22.000000</td>\n",
       "      <td>16.995340</td>\n",
       "      <td>75.584200</td>\n",
       "      <td>19.000000</td>\n",
       "      <td>15.000000</td>\n",
       "      <td>81.718976</td>\n",
       "      <td>4.000000</td>\n",
       "      <td>5.000000</td>\n",
       "      <td>3.000000</td>\n",
       "      <td>6.000000</td>\n",
       "      <td>1.000000</td>\n",
       "    </tr>\n",
       "    <tr>\n",
       "      <th>max</th>\n",
       "      <td>23.000000</td>\n",
       "      <td>29.000000</td>\n",
       "      <td>26.998490</td>\n",
       "      <td>503.372616</td>\n",
       "      <td>24.000000</td>\n",
       "      <td>27.000000</td>\n",
       "      <td>112.643828</td>\n",
       "      <td>12.000000</td>\n",
       "      <td>5.000000</td>\n",
       "      <td>10.000000</td>\n",
       "      <td>7.000000</td>\n",
       "      <td>1.000000</td>\n",
       "    </tr>\n",
       "  </tbody>\n",
       "</table>\n",
       "</div>"
      ],
      "text/plain": [
       "       subscription_duration  recent_login_time  average_login_time  \\\n",
       "count           10000.000000       10000.000000        10000.000000   \n",
       "mean               11.897400          15.013200           14.994076   \n",
       "std                 6.600896           8.362573            3.001869   \n",
       "min                 1.000000           1.000000            2.366189   \n",
       "25%                 6.000000           8.000000           13.025597   \n",
       "50%                12.000000          15.000000           14.979228   \n",
       "75%                18.000000          22.000000           16.995340   \n",
       "max                23.000000          29.000000           26.998490   \n",
       "\n",
       "       average_time_per_learning_session  monthly_active_learning_days  \\\n",
       "count                       10000.000000                  10000.000000   \n",
       "mean                           54.917720                     12.545400   \n",
       "std                            56.024310                      6.932239   \n",
       "min                             0.011515                      1.000000   \n",
       "25%                            15.276611                      7.000000   \n",
       "50%                            37.578818                     13.000000   \n",
       "75%                            75.584200                     19.000000   \n",
       "max                           503.372616                     24.000000   \n",
       "\n",
       "       total_completed_courses  recent_learning_achievement  \\\n",
       "count             10000.000000                 10000.000000   \n",
       "mean                 12.227500                    75.029513   \n",
       "std                   3.634125                     9.968529   \n",
       "min                   1.000000                    35.941755   \n",
       "25%                  10.000000                    68.278054   \n",
       "50%                  12.000000                    75.126061   \n",
       "75%                  15.000000                    81.718976   \n",
       "max                  27.000000                   112.643828   \n",
       "\n",
       "       abandoned_learning_sessions  community_engagement_level  \\\n",
       "count                 10000.000000                10000.000000   \n",
       "mean                      3.043600                    3.886100   \n",
       "std                       1.755052                    1.262175   \n",
       "min                       0.000000                    1.000000   \n",
       "25%                       2.000000                    3.000000   \n",
       "50%                       3.000000                    4.000000   \n",
       "75%                       4.000000                    5.000000   \n",
       "max                      12.000000                    5.000000   \n",
       "\n",
       "       customer_inquiry_history  payment_pattern        target  \n",
       "count              10000.000000     10000.000000  10000.000000  \n",
       "mean                   2.010500         3.502900      0.619900  \n",
       "std                    1.420983         2.311261      0.485435  \n",
       "min                    0.000000         0.000000      0.000000  \n",
       "25%                    1.000000         1.000000      0.000000  \n",
       "50%                    2.000000         4.000000      1.000000  \n",
       "75%                    3.000000         6.000000      1.000000  \n",
       "max                   10.000000         7.000000      1.000000  "
      ]
     },
     "execution_count": 5,
     "metadata": {},
     "output_type": "execute_result"
    }
   ],
   "source": [
    "data.describe()"
   ]
  },
  {
   "cell_type": "code",
   "execution_count": null,
   "id": "570b9f3b",
   "metadata": {},
   "outputs": [],
   "source": []
  },
  {
   "cell_type": "markdown",
   "id": "8b06102c",
   "metadata": {},
   "source": [
    "# 데이터 전처리"
   ]
  },
  {
   "cell_type": "markdown",
   "id": "16a42f08",
   "metadata": {},
   "source": [
    "피쳐들만 볼 수 있도록 user_id를 set_index해주장"
   ]
  },
  {
   "cell_type": "code",
   "execution_count": 6,
   "id": "69bf5c0d",
   "metadata": {
    "ExecuteTime": {
     "end_time": "2024-03-31T11:29:00.302321Z",
     "start_time": "2024-03-31T11:29:00.266126Z"
    }
   },
   "outputs": [
    {
     "data": {
      "text/html": [
       "<div>\n",
       "<style scoped>\n",
       "    .dataframe tbody tr th:only-of-type {\n",
       "        vertical-align: middle;\n",
       "    }\n",
       "\n",
       "    .dataframe tbody tr th {\n",
       "        vertical-align: top;\n",
       "    }\n",
       "\n",
       "    .dataframe thead th {\n",
       "        text-align: right;\n",
       "    }\n",
       "</style>\n",
       "<table border=\"1\" class=\"dataframe\">\n",
       "  <thead>\n",
       "    <tr style=\"text-align: right;\">\n",
       "      <th></th>\n",
       "      <th>subscription_duration</th>\n",
       "      <th>recent_login_time</th>\n",
       "      <th>average_login_time</th>\n",
       "      <th>average_time_per_learning_session</th>\n",
       "      <th>monthly_active_learning_days</th>\n",
       "      <th>total_completed_courses</th>\n",
       "      <th>recent_learning_achievement</th>\n",
       "      <th>abandoned_learning_sessions</th>\n",
       "      <th>community_engagement_level</th>\n",
       "      <th>preferred_difficulty_level</th>\n",
       "      <th>subscription_type</th>\n",
       "      <th>customer_inquiry_history</th>\n",
       "      <th>payment_pattern</th>\n",
       "      <th>target</th>\n",
       "    </tr>\n",
       "    <tr>\n",
       "      <th>user_id</th>\n",
       "      <th></th>\n",
       "      <th></th>\n",
       "      <th></th>\n",
       "      <th></th>\n",
       "      <th></th>\n",
       "      <th></th>\n",
       "      <th></th>\n",
       "      <th></th>\n",
       "      <th></th>\n",
       "      <th></th>\n",
       "      <th></th>\n",
       "      <th></th>\n",
       "      <th></th>\n",
       "      <th></th>\n",
       "    </tr>\n",
       "  </thead>\n",
       "  <tbody>\n",
       "    <tr>\n",
       "      <th>b919c29d</th>\n",
       "      <td>13</td>\n",
       "      <td>14</td>\n",
       "      <td>14.946163</td>\n",
       "      <td>8.427187</td>\n",
       "      <td>18</td>\n",
       "      <td>16</td>\n",
       "      <td>68.360455</td>\n",
       "      <td>3</td>\n",
       "      <td>4</td>\n",
       "      <td>Low</td>\n",
       "      <td>Basic</td>\n",
       "      <td>4</td>\n",
       "      <td>5</td>\n",
       "      <td>0</td>\n",
       "    </tr>\n",
       "    <tr>\n",
       "      <th>a0a60abb</th>\n",
       "      <td>16</td>\n",
       "      <td>18</td>\n",
       "      <td>18.453224</td>\n",
       "      <td>72.646087</td>\n",
       "      <td>16</td>\n",
       "      <td>13</td>\n",
       "      <td>97.567322</td>\n",
       "      <td>2</td>\n",
       "      <td>3</td>\n",
       "      <td>Medium</td>\n",
       "      <td>Basic</td>\n",
       "      <td>1</td>\n",
       "      <td>6</td>\n",
       "      <td>1</td>\n",
       "    </tr>\n",
       "    <tr>\n",
       "      <th>b9f171ae</th>\n",
       "      <td>22</td>\n",
       "      <td>1</td>\n",
       "      <td>16.195228</td>\n",
       "      <td>21.774492</td>\n",
       "      <td>13</td>\n",
       "      <td>14</td>\n",
       "      <td>94.358763</td>\n",
       "      <td>3</td>\n",
       "      <td>4</td>\n",
       "      <td>Medium</td>\n",
       "      <td>Premium</td>\n",
       "      <td>0</td>\n",
       "      <td>7</td>\n",
       "      <td>1</td>\n",
       "    </tr>\n",
       "    <tr>\n",
       "      <th>5dc0ba8b</th>\n",
       "      <td>1</td>\n",
       "      <td>19</td>\n",
       "      <td>17.628656</td>\n",
       "      <td>42.659066</td>\n",
       "      <td>19</td>\n",
       "      <td>18</td>\n",
       "      <td>70.153228</td>\n",
       "      <td>0</td>\n",
       "      <td>3</td>\n",
       "      <td>Low</td>\n",
       "      <td>Basic</td>\n",
       "      <td>1</td>\n",
       "      <td>0</td>\n",
       "      <td>1</td>\n",
       "    </tr>\n",
       "    <tr>\n",
       "      <th>65c83654</th>\n",
       "      <td>4</td>\n",
       "      <td>5</td>\n",
       "      <td>21.390656</td>\n",
       "      <td>30.744287</td>\n",
       "      <td>19</td>\n",
       "      <td>10</td>\n",
       "      <td>81.917908</td>\n",
       "      <td>2</td>\n",
       "      <td>4</td>\n",
       "      <td>Medium</td>\n",
       "      <td>Basic</td>\n",
       "      <td>3</td>\n",
       "      <td>0</td>\n",
       "      <td>1</td>\n",
       "    </tr>\n",
       "    <tr>\n",
       "      <th>...</th>\n",
       "      <td>...</td>\n",
       "      <td>...</td>\n",
       "      <td>...</td>\n",
       "      <td>...</td>\n",
       "      <td>...</td>\n",
       "      <td>...</td>\n",
       "      <td>...</td>\n",
       "      <td>...</td>\n",
       "      <td>...</td>\n",
       "      <td>...</td>\n",
       "      <td>...</td>\n",
       "      <td>...</td>\n",
       "      <td>...</td>\n",
       "      <td>...</td>\n",
       "    </tr>\n",
       "    <tr>\n",
       "      <th>ae6b76bc</th>\n",
       "      <td>22</td>\n",
       "      <td>29</td>\n",
       "      <td>14.727623</td>\n",
       "      <td>84.053558</td>\n",
       "      <td>18</td>\n",
       "      <td>16</td>\n",
       "      <td>64.966803</td>\n",
       "      <td>2</td>\n",
       "      <td>5</td>\n",
       "      <td>Low</td>\n",
       "      <td>Premium</td>\n",
       "      <td>1</td>\n",
       "      <td>1</td>\n",
       "      <td>1</td>\n",
       "    </tr>\n",
       "    <tr>\n",
       "      <th>24588752</th>\n",
       "      <td>10</td>\n",
       "      <td>11</td>\n",
       "      <td>19.374054</td>\n",
       "      <td>45.464833</td>\n",
       "      <td>9</td>\n",
       "      <td>8</td>\n",
       "      <td>82.750244</td>\n",
       "      <td>3</td>\n",
       "      <td>3</td>\n",
       "      <td>Medium</td>\n",
       "      <td>Basic</td>\n",
       "      <td>2</td>\n",
       "      <td>7</td>\n",
       "      <td>1</td>\n",
       "    </tr>\n",
       "    <tr>\n",
       "      <th>e4622a54</th>\n",
       "      <td>7</td>\n",
       "      <td>27</td>\n",
       "      <td>18.240978</td>\n",
       "      <td>127.302411</td>\n",
       "      <td>24</td>\n",
       "      <td>14</td>\n",
       "      <td>81.567839</td>\n",
       "      <td>3</td>\n",
       "      <td>5</td>\n",
       "      <td>High</td>\n",
       "      <td>Basic</td>\n",
       "      <td>1</td>\n",
       "      <td>6</td>\n",
       "      <td>1</td>\n",
       "    </tr>\n",
       "    <tr>\n",
       "      <th>e07fbad9</th>\n",
       "      <td>11</td>\n",
       "      <td>7</td>\n",
       "      <td>18.783800</td>\n",
       "      <td>5.297234</td>\n",
       "      <td>10</td>\n",
       "      <td>10</td>\n",
       "      <td>89.885656</td>\n",
       "      <td>4</td>\n",
       "      <td>5</td>\n",
       "      <td>Low</td>\n",
       "      <td>Basic</td>\n",
       "      <td>2</td>\n",
       "      <td>0</td>\n",
       "      <td>1</td>\n",
       "    </tr>\n",
       "    <tr>\n",
       "      <th>e12dcb55</th>\n",
       "      <td>10</td>\n",
       "      <td>5</td>\n",
       "      <td>13.073230</td>\n",
       "      <td>28.120031</td>\n",
       "      <td>3</td>\n",
       "      <td>13</td>\n",
       "      <td>64.811297</td>\n",
       "      <td>4</td>\n",
       "      <td>5</td>\n",
       "      <td>Low</td>\n",
       "      <td>Premium</td>\n",
       "      <td>0</td>\n",
       "      <td>3</td>\n",
       "      <td>0</td>\n",
       "    </tr>\n",
       "  </tbody>\n",
       "</table>\n",
       "<p>10000 rows × 14 columns</p>\n",
       "</div>"
      ],
      "text/plain": [
       "          subscription_duration  recent_login_time  average_login_time  \\\n",
       "user_id                                                                  \n",
       "b919c29d                     13                 14           14.946163   \n",
       "a0a60abb                     16                 18           18.453224   \n",
       "b9f171ae                     22                  1           16.195228   \n",
       "5dc0ba8b                      1                 19           17.628656   \n",
       "65c83654                      4                  5           21.390656   \n",
       "...                         ...                ...                 ...   \n",
       "ae6b76bc                     22                 29           14.727623   \n",
       "24588752                     10                 11           19.374054   \n",
       "e4622a54                      7                 27           18.240978   \n",
       "e07fbad9                     11                  7           18.783800   \n",
       "e12dcb55                     10                  5           13.073230   \n",
       "\n",
       "          average_time_per_learning_session  monthly_active_learning_days  \\\n",
       "user_id                                                                     \n",
       "b919c29d                           8.427187                            18   \n",
       "a0a60abb                          72.646087                            16   \n",
       "b9f171ae                          21.774492                            13   \n",
       "5dc0ba8b                          42.659066                            19   \n",
       "65c83654                          30.744287                            19   \n",
       "...                                     ...                           ...   \n",
       "ae6b76bc                          84.053558                            18   \n",
       "24588752                          45.464833                             9   \n",
       "e4622a54                         127.302411                            24   \n",
       "e07fbad9                           5.297234                            10   \n",
       "e12dcb55                          28.120031                             3   \n",
       "\n",
       "          total_completed_courses  recent_learning_achievement  \\\n",
       "user_id                                                          \n",
       "b919c29d                       16                    68.360455   \n",
       "a0a60abb                       13                    97.567322   \n",
       "b9f171ae                       14                    94.358763   \n",
       "5dc0ba8b                       18                    70.153228   \n",
       "65c83654                       10                    81.917908   \n",
       "...                           ...                          ...   \n",
       "ae6b76bc                       16                    64.966803   \n",
       "24588752                        8                    82.750244   \n",
       "e4622a54                       14                    81.567839   \n",
       "e07fbad9                       10                    89.885656   \n",
       "e12dcb55                       13                    64.811297   \n",
       "\n",
       "          abandoned_learning_sessions  community_engagement_level  \\\n",
       "user_id                                                             \n",
       "b919c29d                            3                           4   \n",
       "a0a60abb                            2                           3   \n",
       "b9f171ae                            3                           4   \n",
       "5dc0ba8b                            0                           3   \n",
       "65c83654                            2                           4   \n",
       "...                               ...                         ...   \n",
       "ae6b76bc                            2                           5   \n",
       "24588752                            3                           3   \n",
       "e4622a54                            3                           5   \n",
       "e07fbad9                            4                           5   \n",
       "e12dcb55                            4                           5   \n",
       "\n",
       "         preferred_difficulty_level subscription_type  \\\n",
       "user_id                                                 \n",
       "b919c29d                        Low             Basic   \n",
       "a0a60abb                     Medium             Basic   \n",
       "b9f171ae                     Medium           Premium   \n",
       "5dc0ba8b                        Low             Basic   \n",
       "65c83654                     Medium             Basic   \n",
       "...                             ...               ...   \n",
       "ae6b76bc                        Low           Premium   \n",
       "24588752                     Medium             Basic   \n",
       "e4622a54                       High             Basic   \n",
       "e07fbad9                        Low             Basic   \n",
       "e12dcb55                        Low           Premium   \n",
       "\n",
       "          customer_inquiry_history  payment_pattern  target  \n",
       "user_id                                                      \n",
       "b919c29d                         4                5       0  \n",
       "a0a60abb                         1                6       1  \n",
       "b9f171ae                         0                7       1  \n",
       "5dc0ba8b                         1                0       1  \n",
       "65c83654                         3                0       1  \n",
       "...                            ...              ...     ...  \n",
       "ae6b76bc                         1                1       1  \n",
       "24588752                         2                7       1  \n",
       "e4622a54                         1                6       1  \n",
       "e07fbad9                         2                0       1  \n",
       "e12dcb55                         0                3       0  \n",
       "\n",
       "[10000 rows x 14 columns]"
      ]
     },
     "execution_count": 6,
     "metadata": {},
     "output_type": "execute_result"
    }
   ],
   "source": [
    "data = data.set_index('user_id')\n",
    "data"
   ]
  },
  {
   "cell_type": "code",
   "execution_count": 180,
   "id": "d8983c16",
   "metadata": {
    "ExecuteTime": {
     "end_time": "2024-03-30T20:28:25.527608Z",
     "start_time": "2024-03-30T20:28:25.521316Z"
    },
    "scrolled": true
   },
   "outputs": [
    {
     "data": {
      "text/plain": [
       "subscription_duration                0\n",
       "recent_login_time                    0\n",
       "average_login_time                   0\n",
       "average_time_per_learning_session    0\n",
       "monthly_active_learning_days         0\n",
       "total_completed_courses              0\n",
       "recent_learning_achievement          0\n",
       "abandoned_learning_sessions          0\n",
       "community_engagement_level           0\n",
       "preferred_difficulty_level           0\n",
       "subscription_type                    0\n",
       "customer_inquiry_history             0\n",
       "payment_pattern                      0\n",
       "target                               0\n",
       "dtype: int64"
      ]
     },
     "execution_count": 180,
     "metadata": {},
     "output_type": "execute_result"
    }
   ],
   "source": [
    "data.isnull().sum() # 혹시 모르니 결측치 체크"
   ]
  },
  {
   "cell_type": "markdown",
   "id": "3fb52750",
   "metadata": {},
   "source": [
    "결측치 없음"
   ]
  },
  {
   "cell_type": "code",
   "execution_count": 179,
   "id": "3c314884",
   "metadata": {
    "ExecuteTime": {
     "end_time": "2024-03-30T20:28:23.139895Z",
     "start_time": "2024-03-30T20:28:23.129741Z"
    }
   },
   "outputs": [
    {
     "data": {
      "text/plain": [
       "0"
      ]
     },
     "execution_count": 179,
     "metadata": {},
     "output_type": "execute_result"
    }
   ],
   "source": [
    "data.duplicated().sum() # 혹시 모르니 중복값 체크"
   ]
  },
  {
   "cell_type": "markdown",
   "id": "eeca5d63",
   "metadata": {},
   "source": [
    "중복값 없음"
   ]
  },
  {
   "cell_type": "code",
   "execution_count": 181,
   "id": "e41187d0",
   "metadata": {
    "ExecuteTime": {
     "end_time": "2024-03-30T20:28:44.302432Z",
     "start_time": "2024-03-30T20:28:44.295433Z"
    }
   },
   "outputs": [
    {
     "data": {
      "text/plain": [
       "target\n",
       "1    6199\n",
       "0    3801\n",
       "Name: count, dtype: int64"
      ]
     },
     "execution_count": 181,
     "metadata": {},
     "output_type": "execute_result"
    }
   ],
   "source": [
    "data['target'].value_counts()"
   ]
  },
  {
   "cell_type": "markdown",
   "id": "b5a66c59",
   "metadata": {},
   "source": [
    "전체인원의 구독 연장률은 61.99%"
   ]
  },
  {
   "cell_type": "markdown",
   "id": "f59d1785",
   "metadata": {},
   "source": [
    "# 정수형 칼럼중 가장 상관관계가 큰것을 한번 보자!"
   ]
  },
  {
   "cell_type": "markdown",
   "id": "ee75c6b1",
   "metadata": {},
   "source": [
    "가설: 정수형 칼럼들과 target 칼럼의 상관관계가 0.5 이상이면 좀 관련이 있지 않을까??"
   ]
  },
  {
   "cell_type": "markdown",
   "id": "345b084d",
   "metadata": {},
   "source": [
    "범주형(문자열) 데이터 칼럼 삭제 실시"
   ]
  },
  {
   "cell_type": "code",
   "execution_count": 7,
   "id": "fee05531",
   "metadata": {
    "ExecuteTime": {
     "end_time": "2024-03-31T11:29:04.636474Z",
     "start_time": "2024-03-31T11:29:04.615823Z"
    },
    "scrolled": true
   },
   "outputs": [
    {
     "data": {
      "text/html": [
       "<div>\n",
       "<style scoped>\n",
       "    .dataframe tbody tr th:only-of-type {\n",
       "        vertical-align: middle;\n",
       "    }\n",
       "\n",
       "    .dataframe tbody tr th {\n",
       "        vertical-align: top;\n",
       "    }\n",
       "\n",
       "    .dataframe thead th {\n",
       "        text-align: right;\n",
       "    }\n",
       "</style>\n",
       "<table border=\"1\" class=\"dataframe\">\n",
       "  <thead>\n",
       "    <tr style=\"text-align: right;\">\n",
       "      <th></th>\n",
       "      <th>subscription_duration</th>\n",
       "      <th>recent_login_time</th>\n",
       "      <th>average_login_time</th>\n",
       "      <th>average_time_per_learning_session</th>\n",
       "      <th>monthly_active_learning_days</th>\n",
       "      <th>total_completed_courses</th>\n",
       "      <th>recent_learning_achievement</th>\n",
       "      <th>abandoned_learning_sessions</th>\n",
       "      <th>customer_inquiry_history</th>\n",
       "      <th>target</th>\n",
       "    </tr>\n",
       "    <tr>\n",
       "      <th>user_id</th>\n",
       "      <th></th>\n",
       "      <th></th>\n",
       "      <th></th>\n",
       "      <th></th>\n",
       "      <th></th>\n",
       "      <th></th>\n",
       "      <th></th>\n",
       "      <th></th>\n",
       "      <th></th>\n",
       "      <th></th>\n",
       "    </tr>\n",
       "  </thead>\n",
       "  <tbody>\n",
       "    <tr>\n",
       "      <th>b919c29d</th>\n",
       "      <td>13</td>\n",
       "      <td>14</td>\n",
       "      <td>14.946163</td>\n",
       "      <td>8.427187</td>\n",
       "      <td>18</td>\n",
       "      <td>16</td>\n",
       "      <td>68.360455</td>\n",
       "      <td>3</td>\n",
       "      <td>4</td>\n",
       "      <td>0</td>\n",
       "    </tr>\n",
       "    <tr>\n",
       "      <th>a0a60abb</th>\n",
       "      <td>16</td>\n",
       "      <td>18</td>\n",
       "      <td>18.453224</td>\n",
       "      <td>72.646087</td>\n",
       "      <td>16</td>\n",
       "      <td>13</td>\n",
       "      <td>97.567322</td>\n",
       "      <td>2</td>\n",
       "      <td>1</td>\n",
       "      <td>1</td>\n",
       "    </tr>\n",
       "    <tr>\n",
       "      <th>b9f171ae</th>\n",
       "      <td>22</td>\n",
       "      <td>1</td>\n",
       "      <td>16.195228</td>\n",
       "      <td>21.774492</td>\n",
       "      <td>13</td>\n",
       "      <td>14</td>\n",
       "      <td>94.358763</td>\n",
       "      <td>3</td>\n",
       "      <td>0</td>\n",
       "      <td>1</td>\n",
       "    </tr>\n",
       "    <tr>\n",
       "      <th>5dc0ba8b</th>\n",
       "      <td>1</td>\n",
       "      <td>19</td>\n",
       "      <td>17.628656</td>\n",
       "      <td>42.659066</td>\n",
       "      <td>19</td>\n",
       "      <td>18</td>\n",
       "      <td>70.153228</td>\n",
       "      <td>0</td>\n",
       "      <td>1</td>\n",
       "      <td>1</td>\n",
       "    </tr>\n",
       "    <tr>\n",
       "      <th>65c83654</th>\n",
       "      <td>4</td>\n",
       "      <td>5</td>\n",
       "      <td>21.390656</td>\n",
       "      <td>30.744287</td>\n",
       "      <td>19</td>\n",
       "      <td>10</td>\n",
       "      <td>81.917908</td>\n",
       "      <td>2</td>\n",
       "      <td>3</td>\n",
       "      <td>1</td>\n",
       "    </tr>\n",
       "    <tr>\n",
       "      <th>...</th>\n",
       "      <td>...</td>\n",
       "      <td>...</td>\n",
       "      <td>...</td>\n",
       "      <td>...</td>\n",
       "      <td>...</td>\n",
       "      <td>...</td>\n",
       "      <td>...</td>\n",
       "      <td>...</td>\n",
       "      <td>...</td>\n",
       "      <td>...</td>\n",
       "    </tr>\n",
       "    <tr>\n",
       "      <th>ae6b76bc</th>\n",
       "      <td>22</td>\n",
       "      <td>29</td>\n",
       "      <td>14.727623</td>\n",
       "      <td>84.053558</td>\n",
       "      <td>18</td>\n",
       "      <td>16</td>\n",
       "      <td>64.966803</td>\n",
       "      <td>2</td>\n",
       "      <td>1</td>\n",
       "      <td>1</td>\n",
       "    </tr>\n",
       "    <tr>\n",
       "      <th>24588752</th>\n",
       "      <td>10</td>\n",
       "      <td>11</td>\n",
       "      <td>19.374054</td>\n",
       "      <td>45.464833</td>\n",
       "      <td>9</td>\n",
       "      <td>8</td>\n",
       "      <td>82.750244</td>\n",
       "      <td>3</td>\n",
       "      <td>2</td>\n",
       "      <td>1</td>\n",
       "    </tr>\n",
       "    <tr>\n",
       "      <th>e4622a54</th>\n",
       "      <td>7</td>\n",
       "      <td>27</td>\n",
       "      <td>18.240978</td>\n",
       "      <td>127.302411</td>\n",
       "      <td>24</td>\n",
       "      <td>14</td>\n",
       "      <td>81.567839</td>\n",
       "      <td>3</td>\n",
       "      <td>1</td>\n",
       "      <td>1</td>\n",
       "    </tr>\n",
       "    <tr>\n",
       "      <th>e07fbad9</th>\n",
       "      <td>11</td>\n",
       "      <td>7</td>\n",
       "      <td>18.783800</td>\n",
       "      <td>5.297234</td>\n",
       "      <td>10</td>\n",
       "      <td>10</td>\n",
       "      <td>89.885656</td>\n",
       "      <td>4</td>\n",
       "      <td>2</td>\n",
       "      <td>1</td>\n",
       "    </tr>\n",
       "    <tr>\n",
       "      <th>e12dcb55</th>\n",
       "      <td>10</td>\n",
       "      <td>5</td>\n",
       "      <td>13.073230</td>\n",
       "      <td>28.120031</td>\n",
       "      <td>3</td>\n",
       "      <td>13</td>\n",
       "      <td>64.811297</td>\n",
       "      <td>4</td>\n",
       "      <td>0</td>\n",
       "      <td>0</td>\n",
       "    </tr>\n",
       "  </tbody>\n",
       "</table>\n",
       "<p>10000 rows × 10 columns</p>\n",
       "</div>"
      ],
      "text/plain": [
       "          subscription_duration  recent_login_time  average_login_time  \\\n",
       "user_id                                                                  \n",
       "b919c29d                     13                 14           14.946163   \n",
       "a0a60abb                     16                 18           18.453224   \n",
       "b9f171ae                     22                  1           16.195228   \n",
       "5dc0ba8b                      1                 19           17.628656   \n",
       "65c83654                      4                  5           21.390656   \n",
       "...                         ...                ...                 ...   \n",
       "ae6b76bc                     22                 29           14.727623   \n",
       "24588752                     10                 11           19.374054   \n",
       "e4622a54                      7                 27           18.240978   \n",
       "e07fbad9                     11                  7           18.783800   \n",
       "e12dcb55                     10                  5           13.073230   \n",
       "\n",
       "          average_time_per_learning_session  monthly_active_learning_days  \\\n",
       "user_id                                                                     \n",
       "b919c29d                           8.427187                            18   \n",
       "a0a60abb                          72.646087                            16   \n",
       "b9f171ae                          21.774492                            13   \n",
       "5dc0ba8b                          42.659066                            19   \n",
       "65c83654                          30.744287                            19   \n",
       "...                                     ...                           ...   \n",
       "ae6b76bc                          84.053558                            18   \n",
       "24588752                          45.464833                             9   \n",
       "e4622a54                         127.302411                            24   \n",
       "e07fbad9                           5.297234                            10   \n",
       "e12dcb55                          28.120031                             3   \n",
       "\n",
       "          total_completed_courses  recent_learning_achievement  \\\n",
       "user_id                                                          \n",
       "b919c29d                       16                    68.360455   \n",
       "a0a60abb                       13                    97.567322   \n",
       "b9f171ae                       14                    94.358763   \n",
       "5dc0ba8b                       18                    70.153228   \n",
       "65c83654                       10                    81.917908   \n",
       "...                           ...                          ...   \n",
       "ae6b76bc                       16                    64.966803   \n",
       "24588752                        8                    82.750244   \n",
       "e4622a54                       14                    81.567839   \n",
       "e07fbad9                       10                    89.885656   \n",
       "e12dcb55                       13                    64.811297   \n",
       "\n",
       "          abandoned_learning_sessions  customer_inquiry_history  target  \n",
       "user_id                                                                  \n",
       "b919c29d                            3                         4       0  \n",
       "a0a60abb                            2                         1       1  \n",
       "b9f171ae                            3                         0       1  \n",
       "5dc0ba8b                            0                         1       1  \n",
       "65c83654                            2                         3       1  \n",
       "...                               ...                       ...     ...  \n",
       "ae6b76bc                            2                         1       1  \n",
       "24588752                            3                         2       1  \n",
       "e4622a54                            3                         1       1  \n",
       "e07fbad9                            4                         2       1  \n",
       "e12dcb55                            4                         0       0  \n",
       "\n",
       "[10000 rows x 10 columns]"
      ]
     },
     "execution_count": 7,
     "metadata": {},
     "output_type": "execute_result"
    }
   ],
   "source": [
    "df=data.drop('subscription_type',axis=1)\n",
    "df2=df.drop('preferred_difficulty_level',axis=1)\n",
    "df3=df2.drop('community_engagement_level',axis=1)\n",
    "df4=df3.drop('payment_pattern',axis=1)\n",
    "\n",
    "df4"
   ]
  },
  {
   "cell_type": "markdown",
   "id": "ef33b134",
   "metadata": {},
   "source": [
    "상관관계를 알수 있는 corr 메소드 사용"
   ]
  },
  {
   "cell_type": "code",
   "execution_count": 8,
   "id": "a1c46ff4",
   "metadata": {
    "ExecuteTime": {
     "end_time": "2024-03-31T11:29:07.630272Z",
     "start_time": "2024-03-31T11:29:07.599569Z"
    },
    "scrolled": false
   },
   "outputs": [
    {
     "data": {
      "text/html": [
       "<div>\n",
       "<style scoped>\n",
       "    .dataframe tbody tr th:only-of-type {\n",
       "        vertical-align: middle;\n",
       "    }\n",
       "\n",
       "    .dataframe tbody tr th {\n",
       "        vertical-align: top;\n",
       "    }\n",
       "\n",
       "    .dataframe thead th {\n",
       "        text-align: right;\n",
       "    }\n",
       "</style>\n",
       "<table border=\"1\" class=\"dataframe\">\n",
       "  <thead>\n",
       "    <tr style=\"text-align: right;\">\n",
       "      <th></th>\n",
       "      <th>subscription_duration</th>\n",
       "      <th>recent_login_time</th>\n",
       "      <th>average_login_time</th>\n",
       "      <th>average_time_per_learning_session</th>\n",
       "      <th>monthly_active_learning_days</th>\n",
       "      <th>total_completed_courses</th>\n",
       "      <th>recent_learning_achievement</th>\n",
       "      <th>abandoned_learning_sessions</th>\n",
       "      <th>customer_inquiry_history</th>\n",
       "      <th>target</th>\n",
       "    </tr>\n",
       "  </thead>\n",
       "  <tbody>\n",
       "    <tr>\n",
       "      <th>subscription_duration</th>\n",
       "      <td>1.000000</td>\n",
       "      <td>0.014754</td>\n",
       "      <td>-0.000031</td>\n",
       "      <td>0.006324</td>\n",
       "      <td>0.002193</td>\n",
       "      <td>-0.001662</td>\n",
       "      <td>0.007875</td>\n",
       "      <td>0.014414</td>\n",
       "      <td>-0.005174</td>\n",
       "      <td>-0.006710</td>\n",
       "    </tr>\n",
       "    <tr>\n",
       "      <th>recent_login_time</th>\n",
       "      <td>0.014754</td>\n",
       "      <td>1.000000</td>\n",
       "      <td>-0.006113</td>\n",
       "      <td>-0.004650</td>\n",
       "      <td>-0.015338</td>\n",
       "      <td>-0.000142</td>\n",
       "      <td>0.005768</td>\n",
       "      <td>-0.015882</td>\n",
       "      <td>0.011653</td>\n",
       "      <td>-0.004184</td>\n",
       "    </tr>\n",
       "    <tr>\n",
       "      <th>average_login_time</th>\n",
       "      <td>-0.000031</td>\n",
       "      <td>-0.006113</td>\n",
       "      <td>1.000000</td>\n",
       "      <td>-0.007382</td>\n",
       "      <td>0.002294</td>\n",
       "      <td>-0.012416</td>\n",
       "      <td>-0.005967</td>\n",
       "      <td>0.013661</td>\n",
       "      <td>0.009768</td>\n",
       "      <td>-0.008527</td>\n",
       "    </tr>\n",
       "    <tr>\n",
       "      <th>average_time_per_learning_session</th>\n",
       "      <td>0.006324</td>\n",
       "      <td>-0.004650</td>\n",
       "      <td>-0.007382</td>\n",
       "      <td>1.000000</td>\n",
       "      <td>-0.001678</td>\n",
       "      <td>0.081332</td>\n",
       "      <td>-0.008231</td>\n",
       "      <td>-0.014488</td>\n",
       "      <td>-0.001397</td>\n",
       "      <td>0.118261</td>\n",
       "    </tr>\n",
       "    <tr>\n",
       "      <th>monthly_active_learning_days</th>\n",
       "      <td>0.002193</td>\n",
       "      <td>-0.015338</td>\n",
       "      <td>0.002294</td>\n",
       "      <td>-0.001678</td>\n",
       "      <td>1.000000</td>\n",
       "      <td>0.004816</td>\n",
       "      <td>0.030110</td>\n",
       "      <td>-0.007512</td>\n",
       "      <td>-0.016704</td>\n",
       "      <td>0.004876</td>\n",
       "    </tr>\n",
       "    <tr>\n",
       "      <th>total_completed_courses</th>\n",
       "      <td>-0.001662</td>\n",
       "      <td>-0.000142</td>\n",
       "      <td>-0.012416</td>\n",
       "      <td>0.081332</td>\n",
       "      <td>0.004816</td>\n",
       "      <td>1.000000</td>\n",
       "      <td>-0.002416</td>\n",
       "      <td>0.012322</td>\n",
       "      <td>-0.014949</td>\n",
       "      <td>-0.004040</td>\n",
       "    </tr>\n",
       "    <tr>\n",
       "      <th>recent_learning_achievement</th>\n",
       "      <td>0.007875</td>\n",
       "      <td>0.005768</td>\n",
       "      <td>-0.005967</td>\n",
       "      <td>-0.008231</td>\n",
       "      <td>0.030110</td>\n",
       "      <td>-0.002416</td>\n",
       "      <td>1.000000</td>\n",
       "      <td>0.002115</td>\n",
       "      <td>0.005612</td>\n",
       "      <td>0.002294</td>\n",
       "    </tr>\n",
       "    <tr>\n",
       "      <th>abandoned_learning_sessions</th>\n",
       "      <td>0.014414</td>\n",
       "      <td>-0.015882</td>\n",
       "      <td>0.013661</td>\n",
       "      <td>-0.014488</td>\n",
       "      <td>-0.007512</td>\n",
       "      <td>0.012322</td>\n",
       "      <td>0.002115</td>\n",
       "      <td>1.000000</td>\n",
       "      <td>-0.007322</td>\n",
       "      <td>-0.019636</td>\n",
       "    </tr>\n",
       "    <tr>\n",
       "      <th>customer_inquiry_history</th>\n",
       "      <td>-0.005174</td>\n",
       "      <td>0.011653</td>\n",
       "      <td>0.009768</td>\n",
       "      <td>-0.001397</td>\n",
       "      <td>-0.016704</td>\n",
       "      <td>-0.014949</td>\n",
       "      <td>0.005612</td>\n",
       "      <td>-0.007322</td>\n",
       "      <td>1.000000</td>\n",
       "      <td>0.000277</td>\n",
       "    </tr>\n",
       "    <tr>\n",
       "      <th>target</th>\n",
       "      <td>-0.006710</td>\n",
       "      <td>-0.004184</td>\n",
       "      <td>-0.008527</td>\n",
       "      <td>0.118261</td>\n",
       "      <td>0.004876</td>\n",
       "      <td>-0.004040</td>\n",
       "      <td>0.002294</td>\n",
       "      <td>-0.019636</td>\n",
       "      <td>0.000277</td>\n",
       "      <td>1.000000</td>\n",
       "    </tr>\n",
       "  </tbody>\n",
       "</table>\n",
       "</div>"
      ],
      "text/plain": [
       "                                   subscription_duration  recent_login_time  \\\n",
       "subscription_duration                           1.000000           0.014754   \n",
       "recent_login_time                               0.014754           1.000000   \n",
       "average_login_time                             -0.000031          -0.006113   \n",
       "average_time_per_learning_session               0.006324          -0.004650   \n",
       "monthly_active_learning_days                    0.002193          -0.015338   \n",
       "total_completed_courses                        -0.001662          -0.000142   \n",
       "recent_learning_achievement                     0.007875           0.005768   \n",
       "abandoned_learning_sessions                     0.014414          -0.015882   \n",
       "customer_inquiry_history                       -0.005174           0.011653   \n",
       "target                                         -0.006710          -0.004184   \n",
       "\n",
       "                                   average_login_time  \\\n",
       "subscription_duration                       -0.000031   \n",
       "recent_login_time                           -0.006113   \n",
       "average_login_time                           1.000000   \n",
       "average_time_per_learning_session           -0.007382   \n",
       "monthly_active_learning_days                 0.002294   \n",
       "total_completed_courses                     -0.012416   \n",
       "recent_learning_achievement                 -0.005967   \n",
       "abandoned_learning_sessions                  0.013661   \n",
       "customer_inquiry_history                     0.009768   \n",
       "target                                      -0.008527   \n",
       "\n",
       "                                   average_time_per_learning_session  \\\n",
       "subscription_duration                                       0.006324   \n",
       "recent_login_time                                          -0.004650   \n",
       "average_login_time                                         -0.007382   \n",
       "average_time_per_learning_session                           1.000000   \n",
       "monthly_active_learning_days                               -0.001678   \n",
       "total_completed_courses                                     0.081332   \n",
       "recent_learning_achievement                                -0.008231   \n",
       "abandoned_learning_sessions                                -0.014488   \n",
       "customer_inquiry_history                                   -0.001397   \n",
       "target                                                      0.118261   \n",
       "\n",
       "                                   monthly_active_learning_days  \\\n",
       "subscription_duration                                  0.002193   \n",
       "recent_login_time                                     -0.015338   \n",
       "average_login_time                                     0.002294   \n",
       "average_time_per_learning_session                     -0.001678   \n",
       "monthly_active_learning_days                           1.000000   \n",
       "total_completed_courses                                0.004816   \n",
       "recent_learning_achievement                            0.030110   \n",
       "abandoned_learning_sessions                           -0.007512   \n",
       "customer_inquiry_history                              -0.016704   \n",
       "target                                                 0.004876   \n",
       "\n",
       "                                   total_completed_courses  \\\n",
       "subscription_duration                            -0.001662   \n",
       "recent_login_time                                -0.000142   \n",
       "average_login_time                               -0.012416   \n",
       "average_time_per_learning_session                 0.081332   \n",
       "monthly_active_learning_days                      0.004816   \n",
       "total_completed_courses                           1.000000   \n",
       "recent_learning_achievement                      -0.002416   \n",
       "abandoned_learning_sessions                       0.012322   \n",
       "customer_inquiry_history                         -0.014949   \n",
       "target                                           -0.004040   \n",
       "\n",
       "                                   recent_learning_achievement  \\\n",
       "subscription_duration                                 0.007875   \n",
       "recent_login_time                                     0.005768   \n",
       "average_login_time                                   -0.005967   \n",
       "average_time_per_learning_session                    -0.008231   \n",
       "monthly_active_learning_days                          0.030110   \n",
       "total_completed_courses                              -0.002416   \n",
       "recent_learning_achievement                           1.000000   \n",
       "abandoned_learning_sessions                           0.002115   \n",
       "customer_inquiry_history                              0.005612   \n",
       "target                                                0.002294   \n",
       "\n",
       "                                   abandoned_learning_sessions  \\\n",
       "subscription_duration                                 0.014414   \n",
       "recent_login_time                                    -0.015882   \n",
       "average_login_time                                    0.013661   \n",
       "average_time_per_learning_session                    -0.014488   \n",
       "monthly_active_learning_days                         -0.007512   \n",
       "total_completed_courses                               0.012322   \n",
       "recent_learning_achievement                           0.002115   \n",
       "abandoned_learning_sessions                           1.000000   \n",
       "customer_inquiry_history                             -0.007322   \n",
       "target                                               -0.019636   \n",
       "\n",
       "                                   customer_inquiry_history    target  \n",
       "subscription_duration                             -0.005174 -0.006710  \n",
       "recent_login_time                                  0.011653 -0.004184  \n",
       "average_login_time                                 0.009768 -0.008527  \n",
       "average_time_per_learning_session                 -0.001397  0.118261  \n",
       "monthly_active_learning_days                      -0.016704  0.004876  \n",
       "total_completed_courses                           -0.014949 -0.004040  \n",
       "recent_learning_achievement                        0.005612  0.002294  \n",
       "abandoned_learning_sessions                       -0.007322 -0.019636  \n",
       "customer_inquiry_history                           1.000000  0.000277  \n",
       "target                                             0.000277  1.000000  "
      ]
     },
     "execution_count": 8,
     "metadata": {},
     "output_type": "execute_result"
    }
   ],
   "source": [
    "corr=df4.corr()\n",
    "corr"
   ]
  },
  {
   "cell_type": "code",
   "execution_count": 9,
   "id": "b1dbe435",
   "metadata": {
    "ExecuteTime": {
     "end_time": "2024-03-31T11:29:08.275631Z",
     "start_time": "2024-03-31T11:29:08.264096Z"
    },
    "scrolled": true
   },
   "outputs": [
    {
     "data": {
      "text/plain": [
       "target                               1.000000\n",
       "average_time_per_learning_session    0.118261\n",
       "monthly_active_learning_days         0.004876\n",
       "recent_learning_achievement          0.002294\n",
       "customer_inquiry_history             0.000277\n",
       "total_completed_courses             -0.004040\n",
       "recent_login_time                   -0.004184\n",
       "subscription_duration               -0.006710\n",
       "average_login_time                  -0.008527\n",
       "abandoned_learning_sessions         -0.019636\n",
       "Name: target, dtype: float64"
      ]
     },
     "execution_count": 9,
     "metadata": {},
     "output_type": "execute_result"
    }
   ],
   "source": [
    "corr_target=corr['target'].sort_values(ascending=False) #target과 다른 요소들의 상관관계를 내림차순으로 정렬해봐라\n",
    "corr_target"
   ]
  },
  {
   "cell_type": "code",
   "execution_count": 10,
   "id": "65f6edc6",
   "metadata": {
    "ExecuteTime": {
     "end_time": "2024-03-31T11:29:09.762445Z",
     "start_time": "2024-03-31T11:29:09.298952Z"
    },
    "scrolled": true
   },
   "outputs": [
    {
     "data": {
      "text/plain": [
       "<Axes: >"
      ]
     },
     "execution_count": 10,
     "metadata": {},
     "output_type": "execute_result"
    },
    {
     "data": {
      "image/png": "[encoded data removed]",
      "text/plain": [
       "<Figure size 640x480 with 1 Axes>"
      ]
     },
     "metadata": {},
     "output_type": "display_data"
    }
   ],
   "source": [
    "sns.barplot(x=corr_target.values, y=corr_target.index)"
   ]
  },
  {
   "cell_type": "markdown",
   "id": "fe4cd99b",
   "metadata": {},
   "source": [
    "시각화를 해보니 target과 target끼리의 상관관계가 당연히 1이라 얘만 너무커서 다른게 보기 쉽지 않으므로 corr에서 target열 삭제"
   ]
  },
  {
   "cell_type": "code",
   "execution_count": 11,
   "id": "d86e0419",
   "metadata": {
    "ExecuteTime": {
     "end_time": "2024-03-30T16:45:29.159927Z",
     "start_time": "2024-03-30T16:45:29.146129Z"
    }
   },
   "outputs": [
    {
     "data": {
      "text/plain": [
       "average_time_per_learning_session    0.118261\n",
       "monthly_active_learning_days         0.004876\n",
       "recent_learning_achievement          0.002294\n",
       "customer_inquiry_history             0.000277\n",
       "total_completed_courses             -0.004040\n",
       "recent_login_time                   -0.004184\n",
       "subscription_duration               -0.006710\n",
       "average_login_time                  -0.008527\n",
       "abandoned_learning_sessions         -0.019636\n",
       "Name: target, dtype: float64"
      ]
     },
     "execution_count": 11,
     "metadata": {},
     "output_type": "execute_result"
    }
   ],
   "source": [
    "corr2= corr_target.drop('target')\n",
    "corr2"
   ]
  },
  {
   "cell_type": "code",
   "execution_count": 12,
   "id": "c47636d0",
   "metadata": {
    "ExecuteTime": {
     "end_time": "2024-03-30T16:45:30.599042Z",
     "start_time": "2024-03-30T16:45:30.262699Z"
    }
   },
   "outputs": [
    {
     "data": {
      "text/plain": [
       "<Axes: >"
      ]
     },
     "execution_count": 12,
     "metadata": {},
     "output_type": "execute_result"
    },
    {
     "data": {
      "image/png": "[encoded data removed]",
      "text/plain": [
       "<Figure size 640x480 with 1 Axes>"
      ]
     },
     "metadata": {},
     "output_type": "display_data"
    }
   ],
   "source": [
    "sns.barplot(x=corr2.values, y=corr2.index)"
   ]
  },
  {
   "cell_type": "markdown",
   "id": "cefcaa2c",
   "metadata": {},
   "source": [
    "이는 target\n",
    "젤 높은 상관관계가 average_time_per_learning_session( 각 학습 세션에 소요된 평균 시간) 인데 0.12로 매우매우 미미함.               \n",
    "음의 관계로 봐도 abandoned_learning_session의 -0.02가 제일 큰 값으로 미미함. \n",
    "정수형 데이터들은 큰 상관관계가 없어보임...      \n",
    "그럼 일단 아까 지워버린 우리의 범주형 데이터들을 먼저 한번 살펴보자."
   ]
  },
  {
   "cell_type": "markdown",
   "id": "b32d0b22",
   "metadata": {},
   "source": [
    "# 범주형 데이터들과 구독 연장 여부의 상관관계를 살펴보자!"
   ]
  },
  {
   "cell_type": "markdown",
   "id": "3f08d6ad",
   "metadata": {},
   "source": [
    "유의미한 수치는 구독 유지자 수 비율 70% 이상으로 설정한다."
   ]
  },
  {
   "cell_type": "markdown",
   "id": "e2b8f297",
   "metadata": {},
   "source": [
    "## 가설: 구독 유형에 따라 구독 연장 의사 여부는 다를것이다!!"
   ]
  },
  {
   "cell_type": "markdown",
   "id": "1d63daec",
   "metadata": {},
   "source": [
    "일단 그럼 새 데이터 프레임을 짜보자"
   ]
  },
  {
   "cell_type": "code",
   "execution_count": 26,
   "id": "252114cb",
   "metadata": {
    "ExecuteTime": {
     "end_time": "2024-03-29T08:34:19.614636Z",
     "start_time": "2024-03-29T08:34:19.606497Z"
    }
   },
   "outputs": [
    {
     "data": {
      "text/plain": [
       "user_id\n",
       "b919c29d    0\n",
       "a0a60abb    1\n",
       "b9f171ae    1\n",
       "5dc0ba8b    1\n",
       "65c83654    1\n",
       "           ..\n",
       "ae6b76bc    1\n",
       "24588752    1\n",
       "e4622a54    1\n",
       "e07fbad9    1\n",
       "e12dcb55    0\n",
       "Name: target, Length: 10000, dtype: int64"
      ]
     },
     "execution_count": 26,
     "metadata": {},
     "output_type": "execute_result"
    }
   ],
   "source": [
    "data['target']"
   ]
  },
  {
   "cell_type": "code",
   "execution_count": 13,
   "id": "76f386c5",
   "metadata": {
    "ExecuteTime": {
     "end_time": "2024-03-30T16:45:34.450272Z",
     "start_time": "2024-03-30T16:45:34.436795Z"
    },
    "scrolled": true
   },
   "outputs": [
    {
     "data": {
      "text/plain": [
       "subscription_type  target\n",
       "Basic              1         3683\n",
       "                   0         2296\n",
       "Premium            1         2516\n",
       "                   0         1505\n",
       "Name: count, dtype: int64"
      ]
     },
     "execution_count": 13,
     "metadata": {},
     "output_type": "execute_result"
    }
   ],
   "source": [
    "type_target = data.groupby('subscription_type')['target'].value_counts() #구독 유형별 target 겂 갯수 구하기\n",
    "type_target"
   ]
  },
  {
   "cell_type": "markdown",
   "id": "acbf6313",
   "metadata": {},
   "source": [
    "시각화하려니 애매해서 Basic과 Premium 각자의 target 데이터에 대한 데이터 프레임을 만드는게 나을 것 같다는 생각이 듦."
   ]
  },
  {
   "cell_type": "code",
   "execution_count": 14,
   "id": "410c5759",
   "metadata": {
    "ExecuteTime": {
     "end_time": "2024-03-30T16:45:37.017091Z",
     "start_time": "2024-03-30T16:45:36.996525Z"
    }
   },
   "outputs": [
    {
     "data": {
      "text/plain": [
       "target\n",
       "1    3683\n",
       "0    2296\n",
       "Name: count, dtype: int64"
      ]
     },
     "execution_count": 14,
     "metadata": {},
     "output_type": "execute_result"
    }
   ],
   "source": [
    "basic_target = df[data['subscription_type']=='Basic']['target'].value_counts() # Basic 구독 유형의 target 값 갯수\n",
    "premium_target = df[data['subscription_type']=='Premium']['target'].value_counts() # Premium 구독 유형의 target 값 갯수\n",
    "basic_target"
   ]
  },
  {
   "cell_type": "code",
   "execution_count": 15,
   "id": "34bceb54",
   "metadata": {
    "ExecuteTime": {
     "end_time": "2024-03-30T16:45:37.698023Z",
     "start_time": "2024-03-30T16:45:37.690767Z"
    }
   },
   "outputs": [
    {
     "data": {
      "text/plain": [
       "target\n",
       "1    2516\n",
       "0    1505\n",
       "Name: count, dtype: int64"
      ]
     },
     "execution_count": 15,
     "metadata": {},
     "output_type": "execute_result"
    }
   ],
   "source": [
    "premium_target"
   ]
  },
  {
   "cell_type": "code",
   "execution_count": 16,
   "id": "dae4e7ae",
   "metadata": {
    "ExecuteTime": {
     "end_time": "2024-03-30T16:45:38.374972Z",
     "start_time": "2024-03-30T16:45:38.366972Z"
    },
    "scrolled": true
   },
   "outputs": [
    {
     "data": {
      "text/plain": [
       "2516"
      ]
     },
     "execution_count": 16,
     "metadata": {},
     "output_type": "execute_result"
    }
   ],
   "source": [
    "premium_target[1]"
   ]
  },
  {
   "cell_type": "code",
   "execution_count": 17,
   "id": "bd776538",
   "metadata": {
    "ExecuteTime": {
     "end_time": "2024-03-30T16:45:38.856050Z",
     "start_time": "2024-03-30T16:45:38.844864Z"
    }
   },
   "outputs": [
    {
     "data": {
      "text/plain": [
       "[2516, 1505]"
      ]
     },
     "execution_count": 17,
     "metadata": {},
     "output_type": "execute_result"
    }
   ],
   "source": [
    "premium_user = [premium_target[1], premium_target[0]] #파이차트에 넣을 데이터 생성\n",
    "premium_user"
   ]
  },
  {
   "cell_type": "code",
   "execution_count": 18,
   "id": "645fffb0",
   "metadata": {
    "ExecuteTime": {
     "end_time": "2024-03-30T16:45:39.285277Z",
     "start_time": "2024-03-30T16:45:39.273587Z"
    }
   },
   "outputs": [
    {
     "data": {
      "text/plain": [
       "[3683, 2296]"
      ]
     },
     "execution_count": 18,
     "metadata": {},
     "output_type": "execute_result"
    }
   ],
   "source": [
    "basic_user = [basic_target[1], basic_target[0]]\n",
    "basic_user"
   ]
  },
  {
   "cell_type": "code",
   "execution_count": 19,
   "id": "7995049b",
   "metadata": {
    "ExecuteTime": {
     "end_time": "2024-03-30T16:45:41.406711Z",
     "start_time": "2024-03-30T16:45:40.979443Z"
    }
   },
   "outputs": [],
   "source": [
    "import koreanize_matplotlib"
   ]
  },
  {
   "cell_type": "code",
   "execution_count": 20,
   "id": "e9744b45",
   "metadata": {
    "ExecuteTime": {
     "end_time": "2024-03-30T16:45:42.149794Z",
     "start_time": "2024-03-30T16:45:42.145923Z"
    }
   },
   "outputs": [],
   "source": [
    "labels=['유지O','유지X']"
   ]
  },
  {
   "cell_type": "code",
   "execution_count": 21,
   "id": "731bfdca",
   "metadata": {
    "ExecuteTime": {
     "end_time": "2024-03-30T16:45:46.351178Z",
     "start_time": "2024-03-30T16:45:46.107890Z"
    }
   },
   "outputs": [
    {
     "data": {
      "image/png": "[encoded data removed]",
      "text/plain": [
       "<Figure size 1000x500 with 2 Axes>"
      ]
     },
     "metadata": {},
     "output_type": "display_data"
    }
   ],
   "source": [
    "fig, axs = plt.subplots(1, 2, figsize=(10, 5))\n",
    "\n",
    "axs[0].pie(basic_target, labels=labels, autopct='%.1f%%',colors=['skyblue','darkred'],startangle=90)\n",
    "axs[0].set_title('Basic 구독자의 구독 유지 비율')\n",
    "\n",
    "axs[1].pie(premium_user, labels=labels, autopct='%.1f%%',colors=['hotpink','lightgreen'],startangle=90)\n",
    "axs[1].set_title('Premium 구독자의 구독 유지 비율')\n",
    "\n",
    "plt.show()"
   ]
  },
  {
   "cell_type": "markdown",
   "id": "a9d738e6",
   "metadata": {},
   "source": [
    "그만 알아보자. "
   ]
  },
  {
   "cell_type": "markdown",
   "id": "27e10ae4",
   "metadata": {
    "ExecuteTime": {
     "end_time": "2024-03-29T07:39:15.763071Z",
     "start_time": "2024-03-29T07:39:15.748630Z"
    }
   },
   "source": [
    "양단의 차이가 없는것 같으므로 subscription_type을 단독으로 분석하는 것은 하지 않겠음."
   ]
  },
  {
   "cell_type": "markdown",
   "id": "7ebf7034",
   "metadata": {},
   "source": [
    "##  고럼 Community engagement level을 살펴볼까...?"
   ]
  },
  {
   "cell_type": "markdown",
   "id": "5a5ac82c",
   "metadata": {
    "ExecuteTime": {
     "end_time": "2024-03-29T08:45:35.666788Z",
     "start_time": "2024-03-29T08:45:35.660527Z"
    }
   },
   "source": [
    "가설: 커뮤니티의 이용이 활발할 수록 구독 연장 확률이 높다?"
   ]
  },
  {
   "cell_type": "code",
   "execution_count": 22,
   "id": "4ab4f3b5",
   "metadata": {
    "ExecuteTime": {
     "end_time": "2024-03-30T16:45:48.343041Z",
     "start_time": "2024-03-30T16:45:48.334521Z"
    }
   },
   "outputs": [
    {
     "data": {
      "text/plain": [
       "user_id\n",
       "b919c29d    4\n",
       "a0a60abb    3\n",
       "b9f171ae    4\n",
       "5dc0ba8b    3\n",
       "65c83654    4\n",
       "           ..\n",
       "ae6b76bc    5\n",
       "24588752    3\n",
       "e4622a54    5\n",
       "e07fbad9    5\n",
       "e12dcb55    5\n",
       "Name: community_engagement_level, Length: 10000, dtype: int64"
      ]
     },
     "execution_count": 22,
     "metadata": {},
     "output_type": "execute_result"
    }
   ],
   "source": [
    "data['community_engagement_level']"
   ]
  },
  {
   "cell_type": "code",
   "execution_count": 23,
   "id": "a2ff017c",
   "metadata": {
    "ExecuteTime": {
     "end_time": "2024-03-30T16:45:49.969535Z",
     "start_time": "2024-03-30T16:45:49.959676Z"
    }
   },
   "outputs": [
    {
     "data": {
      "text/plain": [
       "community_engagement_level  target\n",
       "1                           1          348\n",
       "                            0          211\n",
       "2                           1          751\n",
       "                            0          468\n",
       "3                           1          968\n",
       "                            0          620\n",
       "4                           1         1265\n",
       "                            0          805\n",
       "5                           1         2867\n",
       "                            0         1697\n",
       "Name: count, dtype: int64"
      ]
     },
     "execution_count": 23,
     "metadata": {},
     "output_type": "execute_result"
    }
   ],
   "source": [
    "comm_target = data.groupby('community_engagement_level')['target'].value_counts() #구독 유형별 target 겂 갯수 구하기\n",
    "comm_target"
   ]
  },
  {
   "cell_type": "code",
   "execution_count": 45,
   "id": "4980f6f6",
   "metadata": {
    "ExecuteTime": {
     "end_time": "2024-03-30T17:23:34.467883Z",
     "start_time": "2024-03-30T17:23:34.436129Z"
    }
   },
   "outputs": [
    {
     "data": {
      "text/plain": [
       "(target\n",
       " 1    348\n",
       " 0    211\n",
       " Name: count, dtype: int64,\n",
       " target\n",
       " 1    751\n",
       " 0    468\n",
       " Name: count, dtype: int64,\n",
       " target\n",
       " 1    968\n",
       " 0    620\n",
       " Name: count, dtype: int64,\n",
       " target\n",
       " 1    1265\n",
       " 0     805\n",
       " Name: count, dtype: int64,\n",
       " target\n",
       " 1    2867\n",
       " 0    1697\n",
       " Name: count, dtype: int64)"
      ]
     },
     "execution_count": 45,
     "metadata": {},
     "output_type": "execute_result"
    }
   ],
   "source": [
    "comm1_target = df[data['community_engagement_level']==1]['target'].value_counts()\n",
    "comm2_target = df[data['community_engagement_level']==2]['target'].value_counts()\n",
    "comm3_target = df[data['community_engagement_level']==3]['target'].value_counts()\n",
    "comm4_target = df[data['community_engagement_level']==4]['target'].value_counts()\n",
    "comm5_target = df[data['community_engagement_level']==5]['target'].value_counts()\n",
    "\n",
    "comm1_target,comm2_target,comm3_target,comm4_target,comm5_target"
   ]
  },
  {
   "cell_type": "code",
   "execution_count": 31,
   "id": "799e073c",
   "metadata": {
    "ExecuteTime": {
     "end_time": "2024-03-30T16:54:12.740874Z",
     "start_time": "2024-03-30T16:54:11.995174Z"
    }
   },
   "outputs": [
    {
     "data": {
      "image/png": "[encoded data removed]",
      "text/plain": [
       "<Figure size 1500x1000 with 6 Axes>"
      ]
     },
     "metadata": {},
     "output_type": "display_data"
    }
   ],
   "source": [
    "fig, axs = plt.subplots(2, 3, figsize=(15, 10))\n",
    "\n",
    "axs[0][0].pie(comm1_target, labels=labels, autopct='%.1f%%',colors=['skyblue','darkred'],startangle=90)\n",
    "axs[0][0].set_title('커뮤니티 이용률 레벨 1 사용자의 구독 유지 비율')\n",
    "\n",
    "axs[0][1].pie(comm2_target, labels=labels, autopct='%.1f%%',colors=['hotpink','lightgreen'],startangle=90)\n",
    "axs[0][1].set_title('커뮤니티 이용률 레벨 2 사용자의 구독 유지 비율')\n",
    "\n",
    "axs[0][2].pie(comm3_target, labels=labels, autopct='%.1f%%',colors=['darkgrey','ivory'],startangle=90)\n",
    "axs[0][2].set_title('커뮤니티 이용률 레벨 3 사용자의 구독 유지 비율')\n",
    "\n",
    "axs[1][0].pie(comm4_target, labels=labels, autopct='%.1f%%',colors=['purple','orange'],startangle=90)\n",
    "axs[1][0].set_title('커뮤니티 이용률 레벨 4 사용자의 구독 유지 비율')\n",
    "\n",
    "axs[1][1].pie(comm5_target, labels=labels, autopct='%.1f%%',colors=['blue','yellow'],startangle=90)\n",
    "axs[1][1].set_title('커뮤니티 이용률 레벨 5 사용자의 구독 유지 비율')\n",
    "\n",
    "axs[1][2].pie(comm5_target, labels=labels, autopct='%.1f%%',colors=['blue','yellow'],startangle=90)\n",
    "axs[1][2].set_title('커뮤니티 이용률 레벨 5 사용자의 구독 유지 비율')\n",
    "\n",
    "\n",
    "plt.show()"
   ]
  },
  {
   "cell_type": "markdown",
   "id": "016b82f2",
   "metadata": {},
   "source": [
    "얘도 그만 알아보자."
   ]
  },
  {
   "cell_type": "markdown",
   "id": "4c72a242",
   "metadata": {},
   "source": [
    "## 그럼 선호 난이도는 관련이 있을까?"
   ]
  },
  {
   "cell_type": "markdown",
   "id": "0aa2937b",
   "metadata": {},
   "source": [
    "가설: 어려운 내용을 선호할 수록 구독을 연장하려고 할지도 몰라!"
   ]
  },
  {
   "cell_type": "code",
   "execution_count": 29,
   "id": "04c595bc",
   "metadata": {
    "ExecuteTime": {
     "end_time": "2024-03-30T16:51:29.337455Z",
     "start_time": "2024-03-30T16:51:29.324108Z"
    }
   },
   "outputs": [
    {
     "data": {
      "text/plain": [
       "preferred_difficulty_level  target\n",
       "High                        1         1241\n",
       "                            0          759\n",
       "Low                         1         3047\n",
       "                            0         1945\n",
       "Medium                      1         1911\n",
       "                            0         1097\n",
       "Name: count, dtype: int64"
      ]
     },
     "execution_count": 29,
     "metadata": {},
     "output_type": "execute_result"
    }
   ],
   "source": [
    "data.groupby('preferred_difficulty_level')['target'].value_counts() "
   ]
  },
  {
   "cell_type": "code",
   "execution_count": 136,
   "id": "300d2470",
   "metadata": {
    "ExecuteTime": {
     "end_time": "2024-03-30T20:09:04.892137Z",
     "start_time": "2024-03-30T20:09:04.846700Z"
    }
   },
   "outputs": [
    {
     "ename": "ValueError",
     "evalue": "The truth value of a Series is ambiguous. Use a.empty, a.bool(), a.item(), a.any() or a.all().",
     "output_type": "error",
     "traceback": [
      "\u001b[1;31m---------------------------------------------------------------------------\u001b[0m",
      "\u001b[1;31mValueError\u001b[0m                                Traceback (most recent call last)",
      "Cell \u001b[1;32mIn[136], line 5\u001b[0m\n\u001b[0;32m      2\u001b[0m diff2_target \u001b[38;5;241m=\u001b[39m df[data[\u001b[38;5;124m'\u001b[39m\u001b[38;5;124mpreferred_difficulty_level\u001b[39m\u001b[38;5;124m'\u001b[39m]\u001b[38;5;241m==\u001b[39m\u001b[38;5;124m\"\u001b[39m\u001b[38;5;124mMedium\u001b[39m\u001b[38;5;124m\"\u001b[39m][\u001b[38;5;124m'\u001b[39m\u001b[38;5;124mtarget\u001b[39m\u001b[38;5;124m'\u001b[39m]\u001b[38;5;241m.\u001b[39mvalue_counts()\n\u001b[0;32m      3\u001b[0m diff3_target \u001b[38;5;241m=\u001b[39m df[data[\u001b[38;5;124m'\u001b[39m\u001b[38;5;124mpreferred_difficulty_level\u001b[39m\u001b[38;5;124m'\u001b[39m]\u001b[38;5;241m==\u001b[39m\u001b[38;5;124m\"\u001b[39m\u001b[38;5;124mHigh\u001b[39m\u001b[38;5;124m\"\u001b[39m][\u001b[38;5;124m'\u001b[39m\u001b[38;5;124mtarget\u001b[39m\u001b[38;5;124m'\u001b[39m]\u001b[38;5;241m.\u001b[39mvalue_counts()\n\u001b[1;32m----> 5\u001b[0m diff4_target \u001b[38;5;241m=\u001b[39m df[data[\u001b[38;5;124m'\u001b[39m\u001b[38;5;124mpreferred_difficulty_level\u001b[39m\u001b[38;5;124m'\u001b[39m]\u001b[38;5;241m==\u001b[39m\u001b[38;5;124m\"\u001b[39m\u001b[38;5;124mMedium\u001b[39m\u001b[38;5;124m\"\u001b[39m \u001b[38;5;129;01mor\u001b[39;00m \u001b[38;5;124m\"\u001b[39m\u001b[38;5;124mHigh\u001b[39m\u001b[38;5;124m\"\u001b[39m][\u001b[38;5;124m'\u001b[39m\u001b[38;5;124mtarget\u001b[39m\u001b[38;5;124m'\u001b[39m]\u001b[38;5;241m.\u001b[39mvalue_counts()\n",
      "File \u001b[1;32m~\\anaconda3\\Lib\\site-packages\\pandas\\core\\generic.py:1466\u001b[0m, in \u001b[0;36mNDFrame.__nonzero__\u001b[1;34m(self)\u001b[0m\n\u001b[0;32m   1464\u001b[0m \u001b[38;5;129m@final\u001b[39m\n\u001b[0;32m   1465\u001b[0m \u001b[38;5;28;01mdef\u001b[39;00m \u001b[38;5;21m__nonzero__\u001b[39m(\u001b[38;5;28mself\u001b[39m) \u001b[38;5;241m-\u001b[39m\u001b[38;5;241m>\u001b[39m NoReturn:\n\u001b[1;32m-> 1466\u001b[0m     \u001b[38;5;28;01mraise\u001b[39;00m \u001b[38;5;167;01mValueError\u001b[39;00m(\n\u001b[0;32m   1467\u001b[0m         \u001b[38;5;124mf\u001b[39m\u001b[38;5;124m\"\u001b[39m\u001b[38;5;124mThe truth value of a \u001b[39m\u001b[38;5;132;01m{\u001b[39;00m\u001b[38;5;28mtype\u001b[39m(\u001b[38;5;28mself\u001b[39m)\u001b[38;5;241m.\u001b[39m\u001b[38;5;18m__name__\u001b[39m\u001b[38;5;132;01m}\u001b[39;00m\u001b[38;5;124m is ambiguous. \u001b[39m\u001b[38;5;124m\"\u001b[39m\n\u001b[0;32m   1468\u001b[0m         \u001b[38;5;124m\"\u001b[39m\u001b[38;5;124mUse a.empty, a.bool(), a.item(), a.any() or a.all().\u001b[39m\u001b[38;5;124m\"\u001b[39m\n\u001b[0;32m   1469\u001b[0m     )\n",
      "\u001b[1;31mValueError\u001b[0m: The truth value of a Series is ambiguous. Use a.empty, a.bool(), a.item(), a.any() or a.all()."
     ]
    }
   ],
   "source": [
    "diff1_target = df[data['preferred_difficulty_level']==\"Low\"]['target'].value_counts()\n",
    "diff2_target = df[data['preferred_difficulty_level']==\"Medium\"]['target'].value_counts()\n",
    "diff3_target = df[data['preferred_difficulty_level']==\"High\"]['target'].value_counts()"
   ]
  },
  {
   "cell_type": "code",
   "execution_count": 33,
   "id": "b2fba648",
   "metadata": {
    "ExecuteTime": {
     "end_time": "2024-03-30T16:56:28.237662Z",
     "start_time": "2024-03-30T16:56:27.658224Z"
    }
   },
   "outputs": [
    {
     "data": {
      "image/png": "[encoded data removed]",
      "text/plain": [
       "<Figure size 1500x1000 with 3 Axes>"
      ]
     },
     "metadata": {},
     "output_type": "display_data"
    }
   ],
   "source": [
    "fig, axs = plt.subplots(1, 3, figsize=(15, 10))\n",
    "\n",
    "axs[0].pie(diff1_target, labels=labels, autopct='%.1f%%',colors=['hotpink','lightgreen'],startangle=90)\n",
    "axs[0].set_title('선호 난이도 Low 사용자의 구독 유지 비율')\n",
    "\n",
    "axs[1].pie(diff2_target, labels=labels, autopct='%.1f%%',colors=['purple','orange'],startangle=90)\n",
    "axs[1].set_title('선호 난이도 Medium 사용자의 구독 유지 비율')\n",
    "\n",
    "axs[2].pie(diff3_target, labels=labels, autopct='%.1f%%',colors=['blue','yellow'],startangle=90)\n",
    "axs[2].set_title('선호 난이도 High 사용자의 구독 유지 비율')\n",
    "\n",
    "plt.show()"
   ]
  },
  {
   "cell_type": "markdown",
   "id": "e4368757",
   "metadata": {},
   "source": [
    "## 최후의 보루 최근 구독 패턴에 따라 다를 수도 있어!"
   ]
  },
  {
   "cell_type": "code",
   "execution_count": 35,
   "id": "25ee021e",
   "metadata": {
    "ExecuteTime": {
     "end_time": "2024-03-30T17:11:22.686998Z",
     "start_time": "2024-03-30T17:11:22.671457Z"
    }
   },
   "outputs": [
    {
     "data": {
      "text/plain": [
       "payment_pattern  target\n",
       "0                1         807\n",
       "                 0         468\n",
       "1                1         783\n",
       "                 0         502\n",
       "2                1         747\n",
       "                 0         459\n",
       "3                1         763\n",
       "                 0         467\n",
       "4                1         753\n",
       "                 0         461\n",
       "5                1         750\n",
       "                 0         488\n",
       "6                1         801\n",
       "                 0         467\n",
       "7                1         795\n",
       "                 0         489\n",
       "Name: count, dtype: int64"
      ]
     },
     "execution_count": 35,
     "metadata": {},
     "output_type": "execute_result"
    }
   ],
   "source": [
    "data.groupby('payment_pattern')['target'].value_counts() "
   ]
  },
  {
   "cell_type": "code",
   "execution_count": 37,
   "id": "13e1473a",
   "metadata": {
    "ExecuteTime": {
     "end_time": "2024-03-30T17:13:16.917880Z",
     "start_time": "2024-03-30T17:13:16.899828Z"
    }
   },
   "outputs": [],
   "source": [
    "pay0_target = df[data['payment_pattern']==0]['target'].value_counts()\n",
    "pay1_target = df[data['payment_pattern']==1]['target'].value_counts()\n",
    "pay2_target = df[data['payment_pattern']==2]['target'].value_counts()\n",
    "pay3_target = df[data['payment_pattern']==3]['target'].value_counts()\n",
    "pay4_target = df[data['payment_pattern']==4]['target'].value_counts()\n",
    "pay5_target = df[data['payment_pattern']==5]['target'].value_counts()\n",
    "pay6_target = df[data['payment_pattern']==6]['target'].value_counts()\n",
    "pay7_target = df[data['payment_pattern']==7]['target'].value_counts()"
   ]
  },
  {
   "cell_type": "code",
   "execution_count": 43,
   "id": "100010fe",
   "metadata": {
    "ExecuteTime": {
     "end_time": "2024-03-30T17:21:07.309565Z",
     "start_time": "2024-03-30T17:21:06.292540Z"
    }
   },
   "outputs": [
    {
     "data": {
      "image/png": "[encoded data removed]",
      "text/plain": [
       "<Figure size 2000x1500 with 8 Axes>"
      ]
     },
     "metadata": {},
     "output_type": "display_data"
    }
   ],
   "source": [
    "fig, axs = plt.subplots(2, 4, figsize=(20, 15))\n",
    "\n",
    "axs[0][0].pie(pay0_target, labels=labels, autopct='%.1f%%',colors=['skyblue','darkred'],startangle=90)\n",
    "axs[0][0].set_title('결제 XXX 사용자의 구독 유지 비율')\n",
    "\n",
    "axs[0][1].pie(pay1_target, labels=labels, autopct='%.1f%%',colors=['hotpink','lightgreen'],startangle=90)\n",
    "axs[0][1].set_title('결제 XXO 사용자의 구독 유지 비율')\n",
    "\n",
    "axs[0][2].pie(pay2_target, labels=labels, autopct='%.1f%%',colors=['darkgrey','ivory'],startangle=90)\n",
    "axs[0][2].set_title('결제 XOX 사용자의 구독 유지 비율')\n",
    "\n",
    "axs[0][3].pie(pay3_target, labels=labels, autopct='%.1f%%',colors=['purple','orange'],startangle=90)\n",
    "axs[0][3].set_title('결제 XOO 사용자의 구독 유지 비율')\n",
    "\n",
    "axs[1][0].pie(pay4_target, labels=labels, autopct='%.1f%%',colors=['skyblue','darkred'],startangle=90)\n",
    "axs[1][0].set_title('결제 OXX 사용자의 구독 유지 비율')\n",
    "\n",
    "axs[1][1].pie(pay5_target, labels=labels, autopct='%.1f%%',colors=['hotpink','lightgreen'],startangle=90)\n",
    "axs[1][1].set_title('결제 OXO 사용자의 구독 유지 비율')\n",
    "\n",
    "axs[1][2].pie(pay6_target, labels=labels, autopct='%.1f%%',colors=['darkgrey','ivory'],startangle=90)\n",
    "axs[1][2].set_title('결제 OOX 사용자의 구독 유지 비율')\n",
    "\n",
    "axs[1][3].pie(pay7_target, labels=labels, autopct='%.1f%%',colors=['purple','orange'],startangle=90)\n",
    "axs[1][3].set_title('결제 OOO 사용자의 구독 유지 비율')\n",
    "\n",
    "plt.show()"
   ]
  },
  {
   "cell_type": "markdown",
   "id": "6a1f6ed6",
   "metadata": {},
   "source": [
    "인자를 하나씩 단독으로 보기엔 무리가 있다."
   ]
  },
  {
   "cell_type": "markdown",
   "id": "3fbcaf9a",
   "metadata": {},
   "source": [
    "# 범주형 데이터 묶어서 살펴보기"
   ]
  },
  {
   "cell_type": "code",
   "execution_count": 12,
   "id": "99dd500d",
   "metadata": {
    "ExecuteTime": {
     "end_time": "2024-03-31T11:29:25.300497Z",
     "start_time": "2024-03-31T11:29:25.282875Z"
    }
   },
   "outputs": [],
   "source": [
    "bumzu_group = data.groupby(['subscription_type','preferred_difficulty_level','community_engagement_level','payment_pattern']).agg({'target': 'mean'}).reset_index()"
   ]
  },
  {
   "cell_type": "code",
   "execution_count": 13,
   "id": "74a88b72",
   "metadata": {
    "ExecuteTime": {
     "end_time": "2024-03-31T11:29:28.019400Z",
     "start_time": "2024-03-31T11:29:27.998887Z"
    }
   },
   "outputs": [
    {
     "data": {
      "text/html": [
       "<div>\n",
       "<style scoped>\n",
       "    .dataframe tbody tr th:only-of-type {\n",
       "        vertical-align: middle;\n",
       "    }\n",
       "\n",
       "    .dataframe tbody tr th {\n",
       "        vertical-align: top;\n",
       "    }\n",
       "\n",
       "    .dataframe thead th {\n",
       "        text-align: right;\n",
       "    }\n",
       "</style>\n",
       "<table border=\"1\" class=\"dataframe\">\n",
       "  <thead>\n",
       "    <tr style=\"text-align: right;\">\n",
       "      <th></th>\n",
       "      <th>subscription_type</th>\n",
       "      <th>preferred_difficulty_level</th>\n",
       "      <th>community_engagement_level</th>\n",
       "      <th>payment_pattern</th>\n",
       "      <th>target</th>\n",
       "    </tr>\n",
       "  </thead>\n",
       "  <tbody>\n",
       "    <tr>\n",
       "      <th>0</th>\n",
       "      <td>Basic</td>\n",
       "      <td>High</td>\n",
       "      <td>1</td>\n",
       "      <td>0</td>\n",
       "      <td>0.648649</td>\n",
       "    </tr>\n",
       "    <tr>\n",
       "      <th>1</th>\n",
       "      <td>Basic</td>\n",
       "      <td>High</td>\n",
       "      <td>1</td>\n",
       "      <td>1</td>\n",
       "      <td>0.666667</td>\n",
       "    </tr>\n",
       "    <tr>\n",
       "      <th>2</th>\n",
       "      <td>Basic</td>\n",
       "      <td>High</td>\n",
       "      <td>1</td>\n",
       "      <td>2</td>\n",
       "      <td>0.720000</td>\n",
       "    </tr>\n",
       "    <tr>\n",
       "      <th>3</th>\n",
       "      <td>Basic</td>\n",
       "      <td>High</td>\n",
       "      <td>1</td>\n",
       "      <td>3</td>\n",
       "      <td>0.666667</td>\n",
       "    </tr>\n",
       "    <tr>\n",
       "      <th>4</th>\n",
       "      <td>Basic</td>\n",
       "      <td>High</td>\n",
       "      <td>1</td>\n",
       "      <td>4</td>\n",
       "      <td>0.785714</td>\n",
       "    </tr>\n",
       "    <tr>\n",
       "      <th>...</th>\n",
       "      <td>...</td>\n",
       "      <td>...</td>\n",
       "      <td>...</td>\n",
       "      <td>...</td>\n",
       "      <td>...</td>\n",
       "    </tr>\n",
       "    <tr>\n",
       "      <th>171</th>\n",
       "      <td>Premium</td>\n",
       "      <td>Medium</td>\n",
       "      <td>5</td>\n",
       "      <td>3</td>\n",
       "      <td>0.657895</td>\n",
       "    </tr>\n",
       "    <tr>\n",
       "      <th>172</th>\n",
       "      <td>Premium</td>\n",
       "      <td>Medium</td>\n",
       "      <td>5</td>\n",
       "      <td>4</td>\n",
       "      <td>0.583333</td>\n",
       "    </tr>\n",
       "    <tr>\n",
       "      <th>173</th>\n",
       "      <td>Premium</td>\n",
       "      <td>Medium</td>\n",
       "      <td>5</td>\n",
       "      <td>5</td>\n",
       "      <td>0.656250</td>\n",
       "    </tr>\n",
       "    <tr>\n",
       "      <th>174</th>\n",
       "      <td>Premium</td>\n",
       "      <td>Medium</td>\n",
       "      <td>5</td>\n",
       "      <td>6</td>\n",
       "      <td>0.684211</td>\n",
       "    </tr>\n",
       "    <tr>\n",
       "      <th>175</th>\n",
       "      <td>Premium</td>\n",
       "      <td>Medium</td>\n",
       "      <td>5</td>\n",
       "      <td>7</td>\n",
       "      <td>0.688312</td>\n",
       "    </tr>\n",
       "  </tbody>\n",
       "</table>\n",
       "<p>176 rows × 5 columns</p>\n",
       "</div>"
      ],
      "text/plain": [
       "    subscription_type preferred_difficulty_level  community_engagement_level  \\\n",
       "0               Basic                       High                           1   \n",
       "1               Basic                       High                           1   \n",
       "2               Basic                       High                           1   \n",
       "3               Basic                       High                           1   \n",
       "4               Basic                       High                           1   \n",
       "..                ...                        ...                         ...   \n",
       "171           Premium                     Medium                           5   \n",
       "172           Premium                     Medium                           5   \n",
       "173           Premium                     Medium                           5   \n",
       "174           Premium                     Medium                           5   \n",
       "175           Premium                     Medium                           5   \n",
       "\n",
       "     payment_pattern    target  \n",
       "0                  0  0.648649  \n",
       "1                  1  0.666667  \n",
       "2                  2  0.720000  \n",
       "3                  3  0.666667  \n",
       "4                  4  0.785714  \n",
       "..               ...       ...  \n",
       "171                3  0.657895  \n",
       "172                4  0.583333  \n",
       "173                5  0.656250  \n",
       "174                6  0.684211  \n",
       "175                7  0.688312  \n",
       "\n",
       "[176 rows x 5 columns]"
      ]
     },
     "execution_count": 13,
     "metadata": {},
     "output_type": "execute_result"
    }
   ],
   "source": [
    "bumzu_group"
   ]
  },
  {
   "cell_type": "code",
   "execution_count": 14,
   "id": "345b1d21",
   "metadata": {
    "ExecuteTime": {
     "end_time": "2024-03-31T11:29:32.365911Z",
     "start_time": "2024-03-31T11:29:32.340665Z"
    }
   },
   "outputs": [
    {
     "data": {
      "text/html": [
       "<div>\n",
       "<style scoped>\n",
       "    .dataframe tbody tr th:only-of-type {\n",
       "        vertical-align: middle;\n",
       "    }\n",
       "\n",
       "    .dataframe tbody tr th {\n",
       "        vertical-align: top;\n",
       "    }\n",
       "\n",
       "    .dataframe thead th {\n",
       "        text-align: right;\n",
       "    }\n",
       "</style>\n",
       "<table border=\"1\" class=\"dataframe\">\n",
       "  <thead>\n",
       "    <tr style=\"text-align: right;\">\n",
       "      <th></th>\n",
       "      <th>subscription_type</th>\n",
       "      <th>preferred_difficulty_level</th>\n",
       "      <th>community_engagement_level</th>\n",
       "      <th>payment_pattern</th>\n",
       "      <th>target</th>\n",
       "    </tr>\n",
       "  </thead>\n",
       "  <tbody>\n",
       "    <tr>\n",
       "      <th>26</th>\n",
       "      <td>Basic</td>\n",
       "      <td>High</td>\n",
       "      <td>4</td>\n",
       "      <td>2</td>\n",
       "      <td>0.909091</td>\n",
       "    </tr>\n",
       "    <tr>\n",
       "      <th>153</th>\n",
       "      <td>Premium</td>\n",
       "      <td>Medium</td>\n",
       "      <td>3</td>\n",
       "      <td>1</td>\n",
       "      <td>0.846154</td>\n",
       "    </tr>\n",
       "    <tr>\n",
       "      <th>97</th>\n",
       "      <td>Basic</td>\n",
       "      <td>Medium</td>\n",
       "      <td>4</td>\n",
       "      <td>1</td>\n",
       "      <td>0.800000</td>\n",
       "    </tr>\n",
       "    <tr>\n",
       "      <th>34</th>\n",
       "      <td>Basic</td>\n",
       "      <td>High</td>\n",
       "      <td>5</td>\n",
       "      <td>2</td>\n",
       "      <td>0.793103</td>\n",
       "    </tr>\n",
       "    <tr>\n",
       "      <th>4</th>\n",
       "      <td>Basic</td>\n",
       "      <td>High</td>\n",
       "      <td>1</td>\n",
       "      <td>4</td>\n",
       "      <td>0.785714</td>\n",
       "    </tr>\n",
       "    <tr>\n",
       "      <th>...</th>\n",
       "      <td>...</td>\n",
       "      <td>...</td>\n",
       "      <td>...</td>\n",
       "      <td>...</td>\n",
       "      <td>...</td>\n",
       "    </tr>\n",
       "    <tr>\n",
       "      <th>113</th>\n",
       "      <td>Premium</td>\n",
       "      <td>High</td>\n",
       "      <td>3</td>\n",
       "      <td>1</td>\n",
       "      <td>0.444444</td>\n",
       "    </tr>\n",
       "    <tr>\n",
       "      <th>125</th>\n",
       "      <td>Premium</td>\n",
       "      <td>High</td>\n",
       "      <td>4</td>\n",
       "      <td>5</td>\n",
       "      <td>0.428571</td>\n",
       "    </tr>\n",
       "    <tr>\n",
       "      <th>115</th>\n",
       "      <td>Premium</td>\n",
       "      <td>High</td>\n",
       "      <td>3</td>\n",
       "      <td>3</td>\n",
       "      <td>0.428571</td>\n",
       "    </tr>\n",
       "    <tr>\n",
       "      <th>16</th>\n",
       "      <td>Basic</td>\n",
       "      <td>High</td>\n",
       "      <td>3</td>\n",
       "      <td>0</td>\n",
       "      <td>0.409091</td>\n",
       "    </tr>\n",
       "    <tr>\n",
       "      <th>18</th>\n",
       "      <td>Basic</td>\n",
       "      <td>High</td>\n",
       "      <td>3</td>\n",
       "      <td>2</td>\n",
       "      <td>0.393939</td>\n",
       "    </tr>\n",
       "  </tbody>\n",
       "</table>\n",
       "<p>176 rows × 5 columns</p>\n",
       "</div>"
      ],
      "text/plain": [
       "    subscription_type preferred_difficulty_level  community_engagement_level  \\\n",
       "26              Basic                       High                           4   \n",
       "153           Premium                     Medium                           3   \n",
       "97              Basic                     Medium                           4   \n",
       "34              Basic                       High                           5   \n",
       "4               Basic                       High                           1   \n",
       "..                ...                        ...                         ...   \n",
       "113           Premium                       High                           3   \n",
       "125           Premium                       High                           4   \n",
       "115           Premium                       High                           3   \n",
       "16              Basic                       High                           3   \n",
       "18              Basic                       High                           3   \n",
       "\n",
       "     payment_pattern    target  \n",
       "26                 2  0.909091  \n",
       "153                1  0.846154  \n",
       "97                 1  0.800000  \n",
       "34                 2  0.793103  \n",
       "4                  4  0.785714  \n",
       "..               ...       ...  \n",
       "113                1  0.444444  \n",
       "125                5  0.428571  \n",
       "115                3  0.428571  \n",
       "16                 0  0.409091  \n",
       "18                 2  0.393939  \n",
       "\n",
       "[176 rows x 5 columns]"
      ]
     },
     "execution_count": 14,
     "metadata": {},
     "output_type": "execute_result"
    }
   ],
   "source": [
    "bumzu_oreum=bumzu_group.sort_values(by='target', ascending=False)\n",
    "bumzu_oreum"
   ]
  },
  {
   "cell_type": "code",
   "execution_count": 15,
   "id": "bd0cbf3a",
   "metadata": {
    "ExecuteTime": {
     "end_time": "2024-03-31T11:29:34.006622Z",
     "start_time": "2024-03-31T11:29:33.996242Z"
    },
    "scrolled": true
   },
   "outputs": [
    {
     "data": {
      "text/html": [
       "<div>\n",
       "<style scoped>\n",
       "    .dataframe tbody tr th:only-of-type {\n",
       "        vertical-align: middle;\n",
       "    }\n",
       "\n",
       "    .dataframe tbody tr th {\n",
       "        vertical-align: top;\n",
       "    }\n",
       "\n",
       "    .dataframe thead th {\n",
       "        text-align: right;\n",
       "    }\n",
       "</style>\n",
       "<table border=\"1\" class=\"dataframe\">\n",
       "  <thead>\n",
       "    <tr style=\"text-align: right;\">\n",
       "      <th></th>\n",
       "      <th>subscription_type</th>\n",
       "      <th>preferred_difficulty_level</th>\n",
       "      <th>community_engagement_level</th>\n",
       "      <th>payment_pattern</th>\n",
       "      <th>target</th>\n",
       "    </tr>\n",
       "  </thead>\n",
       "  <tbody>\n",
       "    <tr>\n",
       "      <th>26</th>\n",
       "      <td>Basic</td>\n",
       "      <td>High</td>\n",
       "      <td>4</td>\n",
       "      <td>2</td>\n",
       "      <td>0.909091</td>\n",
       "    </tr>\n",
       "    <tr>\n",
       "      <th>153</th>\n",
       "      <td>Premium</td>\n",
       "      <td>Medium</td>\n",
       "      <td>3</td>\n",
       "      <td>1</td>\n",
       "      <td>0.846154</td>\n",
       "    </tr>\n",
       "    <tr>\n",
       "      <th>97</th>\n",
       "      <td>Basic</td>\n",
       "      <td>Medium</td>\n",
       "      <td>4</td>\n",
       "      <td>1</td>\n",
       "      <td>0.800000</td>\n",
       "    </tr>\n",
       "    <tr>\n",
       "      <th>34</th>\n",
       "      <td>Basic</td>\n",
       "      <td>High</td>\n",
       "      <td>5</td>\n",
       "      <td>2</td>\n",
       "      <td>0.793103</td>\n",
       "    </tr>\n",
       "    <tr>\n",
       "      <th>4</th>\n",
       "      <td>Basic</td>\n",
       "      <td>High</td>\n",
       "      <td>1</td>\n",
       "      <td>4</td>\n",
       "      <td>0.785714</td>\n",
       "    </tr>\n",
       "    <tr>\n",
       "      <th>121</th>\n",
       "      <td>Premium</td>\n",
       "      <td>High</td>\n",
       "      <td>4</td>\n",
       "      <td>1</td>\n",
       "      <td>0.782609</td>\n",
       "    </tr>\n",
       "    <tr>\n",
       "      <th>118</th>\n",
       "      <td>Premium</td>\n",
       "      <td>High</td>\n",
       "      <td>3</td>\n",
       "      <td>6</td>\n",
       "      <td>0.782609</td>\n",
       "    </tr>\n",
       "    <tr>\n",
       "      <th>32</th>\n",
       "      <td>Basic</td>\n",
       "      <td>High</td>\n",
       "      <td>5</td>\n",
       "      <td>0</td>\n",
       "      <td>0.781250</td>\n",
       "    </tr>\n",
       "    <tr>\n",
       "      <th>24</th>\n",
       "      <td>Basic</td>\n",
       "      <td>High</td>\n",
       "      <td>4</td>\n",
       "      <td>0</td>\n",
       "      <td>0.764706</td>\n",
       "    </tr>\n",
       "    <tr>\n",
       "      <th>158</th>\n",
       "      <td>Premium</td>\n",
       "      <td>Medium</td>\n",
       "      <td>3</td>\n",
       "      <td>6</td>\n",
       "      <td>0.750000</td>\n",
       "    </tr>\n",
       "  </tbody>\n",
       "</table>\n",
       "</div>"
      ],
      "text/plain": [
       "    subscription_type preferred_difficulty_level  community_engagement_level  \\\n",
       "26              Basic                       High                           4   \n",
       "153           Premium                     Medium                           3   \n",
       "97              Basic                     Medium                           4   \n",
       "34              Basic                       High                           5   \n",
       "4               Basic                       High                           1   \n",
       "121           Premium                       High                           4   \n",
       "118           Premium                       High                           3   \n",
       "32              Basic                       High                           5   \n",
       "24              Basic                       High                           4   \n",
       "158           Premium                     Medium                           3   \n",
       "\n",
       "     payment_pattern    target  \n",
       "26                 2  0.909091  \n",
       "153                1  0.846154  \n",
       "97                 1  0.800000  \n",
       "34                 2  0.793103  \n",
       "4                  4  0.785714  \n",
       "121                1  0.782609  \n",
       "118                6  0.782609  \n",
       "32                 0  0.781250  \n",
       "24                 0  0.764706  \n",
       "158                6  0.750000  "
      ]
     },
     "execution_count": 15,
     "metadata": {},
     "output_type": "execute_result"
    }
   ],
   "source": [
    "bumzu_oreum.head(10)"
   ]
  },
  {
   "cell_type": "markdown",
   "id": "d7546cdf",
   "metadata": {},
   "source": [
    "상위 25개의 범주 그룹이 구독 유지비율 70% 이상을 만족!\n",
    "특히 구독 타입이 Basic, 선호데이터가 High, 커뮤니티 참여도가 4, 최근 3달중 가운데달에만 결제한 사람이 이번달에 구독을 할 확률이 0.909091!"
   ]
  },
  {
   "cell_type": "code",
   "execution_count": 240,
   "id": "a68b26db",
   "metadata": {
    "ExecuteTime": {
     "end_time": "2024-03-30T21:45:18.392555Z",
     "start_time": "2024-03-30T21:45:18.387188Z"
    }
   },
   "outputs": [],
   "source": [
    "target_group = df[(data['subscription_type'] == 'Basic') & (data['preferred_difficulty_level'] == 3) & (data['community_engagement_level'] == 4) & (data['payment_pattern'] ==2)]"
   ]
  },
  {
   "cell_type": "code",
   "execution_count": 241,
   "id": "6ae77016",
   "metadata": {
    "ExecuteTime": {
     "end_time": "2024-03-30T21:45:18.679299Z",
     "start_time": "2024-03-30T21:45:18.671067Z"
    },
    "scrolled": false
   },
   "outputs": [
    {
     "data": {
      "text/plain": [
       "target\n",
       "1    20\n",
       "0     2\n",
       "Name: count, dtype: int64"
      ]
     },
     "execution_count": 241,
     "metadata": {},
     "output_type": "execute_result"
    }
   ],
   "source": [
    "target_group['target'].value_counts()"
   ]
  },
  {
   "cell_type": "markdown",
   "id": "d3605bb1",
   "metadata": {},
   "source": [
    "총 22명중 20명이 구독 의사 밝힘!"
   ]
  },
  {
   "cell_type": "code",
   "execution_count": 160,
   "id": "a1121be3",
   "metadata": {
    "ExecuteTime": {
     "end_time": "2024-03-30T20:19:24.774358Z",
     "start_time": "2024-03-30T20:19:24.767563Z"
    }
   },
   "outputs": [],
   "source": [
    "target_group2 = df[(data['subscription_type'] == 'Premium') & (data['preferred_difficulty_level'] == 2) & (data['community_engagement_level'] == 3) & (data['payment_pattern'] == 1)]"
   ]
  },
  {
   "cell_type": "code",
   "execution_count": 161,
   "id": "ff960344",
   "metadata": {
    "ExecuteTime": {
     "end_time": "2024-03-30T20:19:25.194487Z",
     "start_time": "2024-03-30T20:19:25.188937Z"
    }
   },
   "outputs": [
    {
     "data": {
      "text/plain": [
       "target\n",
       "1    33\n",
       "0     6\n",
       "Name: count, dtype: int64"
      ]
     },
     "execution_count": 161,
     "metadata": {},
     "output_type": "execute_result"
    }
   ],
   "source": [
    "target_group2['target'].value_counts() "
   ]
  },
  {
   "cell_type": "markdown",
   "id": "66dcc24b",
   "metadata": {
    "ExecuteTime": {
     "end_time": "2024-03-30T20:13:50.252818Z",
     "start_time": "2024-03-30T20:13:50.246252Z"
    }
   },
   "source": [
    "총 39명중 33명이 구독의사를 밝힘!"
   ]
  },
  {
   "cell_type": "code",
   "execution_count": 242,
   "id": "4c6193e2",
   "metadata": {
    "ExecuteTime": {
     "end_time": "2024-03-30T21:45:56.182595Z",
     "start_time": "2024-03-30T21:45:56.173660Z"
    }
   },
   "outputs": [
    {
     "data": {
      "text/plain": [
       "target\n",
       "1    23\n",
       "0     6\n",
       "Name: count, dtype: int64"
      ]
     },
     "execution_count": 242,
     "metadata": {},
     "output_type": "execute_result"
    }
   ],
   "source": [
    "target_group3 = df[(data['subscription_type'] == 'Basic') & (data['preferred_difficulty_level'] == 3) & (data['community_engagement_level'] == 5) & (data['payment_pattern'] ==2)]\n",
    "target_group3['target'].value_counts() "
   ]
  },
  {
   "cell_type": "code",
   "execution_count": 251,
   "id": "ce81d853",
   "metadata": {
    "ExecuteTime": {
     "end_time": "2024-03-30T21:52:05.387257Z",
     "start_time": "2024-03-30T21:52:05.377941Z"
    }
   },
   "outputs": [
    {
     "data": {
      "text/plain": [
       "target\n",
       "1    43\n",
       "0     8\n",
       "Name: count, dtype: int64"
      ]
     },
     "execution_count": 251,
     "metadata": {},
     "output_type": "execute_result"
    }
   ],
   "source": [
    "tg= df[(data['subscription_type'] == 'Basic') & (data['preferred_difficulty_level'] == 3) & (data['community_engagement_level'] >= 4) & (data['payment_pattern'] ==2)]\n",
    "tg['target'].value_counts() "
   ]
  },
  {
   "cell_type": "code",
   "execution_count": null,
   "id": "9cd996b3",
   "metadata": {},
   "outputs": [],
   "source": []
  },
  {
   "cell_type": "code",
   "execution_count": null,
   "id": "35381360",
   "metadata": {},
   "outputs": [],
   "source": []
  }
 ],
 "metadata": {
  "kernelspec": {
   "display_name": "Python 3 (ipykernel)",
   "language": "python",
   "name": "python3"
  },
  "language_info": {
   "codemirror_mode": {
    "name": "ipython",
    "version": 3
   },
   "file_extension": ".py",
   "mimetype": "text/x-python",
   "name": "python",
   "nbconvert_exporter": "python",
   "pygments_lexer": "ipython3",
   "version": "3.11.5"
  },
  "toc": {
   "base_numbering": 1,
   "nav_menu": {},
   "number_sections": true,
   "sideBar": true,
   "skip_h1_title": false,
   "title_cell": "Table of Contents",
   "title_sidebar": "Contents",
   "toc_cell": false,
   "toc_position": {},
   "toc_section_display": true,
   "toc_window_display": false
  }
 },
 "nbformat": 4,
 "nbformat_minor": 5
}
