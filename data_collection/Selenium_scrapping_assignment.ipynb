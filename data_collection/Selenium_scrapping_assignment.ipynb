{
 "cells": [
  {
   "cell_type": "code",
   "execution_count": 1,
   "id": "3d90e479",
   "metadata": {
    "ExecuteTime": {
     "end_time": "2024-03-18T20:24:12.132208Z",
     "start_time": "2024-03-18T20:24:10.502014Z"
    }
   },
   "outputs": [],
   "source": [
    "from selenium import webdriver\n",
    "from selenium.webdriver.common.by import By\n",
    "from selenium.webdriver.chrome.options import Options\n",
    "import math, time\n",
    "import time, random, pandas as pd"
   ]
  },
  {
   "cell_type": "code",
   "execution_count": 6,
   "id": "c7f6b4b8",
   "metadata": {
    "ExecuteTime": {
     "end_time": "2024-03-18T20:25:39.021410Z",
     "start_time": "2024-03-18T20:25:39.017309Z"
    }
   },
   "outputs": [],
   "source": [
    "from selenium.common.exceptions import ElementClickInterceptedException, NoSuchElementException,StaleElementReferenceException"
   ]
  },
  {
   "cell_type": "code",
   "execution_count": 4,
   "id": "8131f3c1",
   "metadata": {
    "ExecuteTime": {
     "end_time": "2024-03-18T20:25:15.661087Z",
     "start_time": "2024-03-18T20:25:02.360897Z"
    }
   },
   "outputs": [
    {
     "name": "stdout",
     "output_type": "stream",
     "text": [
      "Requirement already satisfied: selenium in c:\\users\\min\\anaconda3\\lib\\site-packages (4.18.1)Note: you may need to restart the kernel to use updated packages.\n",
      "\n",
      "Requirement already satisfied: urllib3[socks]<3,>=1.26 in c:\\users\\min\\anaconda3\\lib\\site-packages (from selenium) (1.26.16)\n",
      "Requirement already satisfied: trio~=0.17 in c:\\users\\min\\anaconda3\\lib\\site-packages (from selenium) (0.24.0)\n",
      "Requirement already satisfied: trio-websocket~=0.9 in c:\\users\\min\\anaconda3\\lib\\site-packages (from selenium) (0.11.1)\n",
      "Requirement already satisfied: certifi>=2021.10.8 in c:\\users\\min\\anaconda3\\lib\\site-packages (from selenium) (2023.7.22)\n",
      "Requirement already satisfied: typing_extensions>=4.9.0 in c:\\users\\min\\anaconda3\\lib\\site-packages (from selenium) (4.10.0)\n",
      "Requirement already satisfied: attrs>=20.1.0 in c:\\users\\min\\anaconda3\\lib\\site-packages (from trio~=0.17->selenium) (22.1.0)\n",
      "Requirement already satisfied: sortedcontainers in c:\\users\\min\\anaconda3\\lib\\site-packages (from trio~=0.17->selenium) (2.4.0)\n",
      "Requirement already satisfied: idna in c:\\users\\min\\anaconda3\\lib\\site-packages (from trio~=0.17->selenium) (3.4)\n",
      "Requirement already satisfied: outcome in c:\\users\\min\\anaconda3\\lib\\site-packages (from trio~=0.17->selenium) (1.3.0.post0)\n",
      "Requirement already satisfied: sniffio>=1.3.0 in c:\\users\\min\\anaconda3\\lib\\site-packages (from trio~=0.17->selenium) (1.3.1)\n",
      "Requirement already satisfied: cffi>=1.14 in c:\\users\\min\\anaconda3\\lib\\site-packages (from trio~=0.17->selenium) (1.15.1)\n",
      "Requirement already satisfied: wsproto>=0.14 in c:\\users\\min\\anaconda3\\lib\\site-packages (from trio-websocket~=0.9->selenium) (1.2.0)\n",
      "Requirement already satisfied: PySocks!=1.5.7,<2.0,>=1.5.6 in c:\\users\\min\\anaconda3\\lib\\site-packages (from urllib3[socks]<3,>=1.26->selenium) (1.7.1)\n",
      "Requirement already satisfied: pycparser in c:\\users\\min\\anaconda3\\lib\\site-packages (from cffi>=1.14->trio~=0.17->selenium) (2.21)\n",
      "Requirement already satisfied: h11<1,>=0.9.0 in c:\\users\\min\\anaconda3\\lib\\site-packages (from wsproto>=0.14->trio-websocket~=0.9->selenium) (0.14.0)\n"
     ]
    }
   ],
   "source": [
    "pip install selenium"
   ]
  },
  {
   "cell_type": "code",
   "execution_count": 9,
   "id": "04b68ff1",
   "metadata": {
    "ExecuteTime": {
     "end_time": "2024-03-18T20:26:35.829181Z",
     "start_time": "2024-03-18T20:26:35.822272Z"
    }
   },
   "outputs": [],
   "source": [
    "options = Options()\n",
    "options.add_argument('--window-size=782,824') \n",
    "options.add_argument('--window-position=-8,0')\n",
    "options.add_experimental_option(\"detach\", True)"
   ]
  },
  {
   "cell_type": "code",
   "execution_count": 21,
   "id": "d9435869",
   "metadata": {
    "ExecuteTime": {
     "end_time": "2024-03-18T20:29:18.095560Z",
     "start_time": "2024-03-18T20:29:16.426994Z"
    }
   },
   "outputs": [
    {
     "name": "stdout",
     "output_type": "stream",
     "text": [
      "검색어를 입력하세요.경주\n"
     ]
    }
   ],
   "source": [
    "search = input('검색어를 입력하세요.')"
   ]
  },
  {
   "cell_type": "code",
   "execution_count": 22,
   "id": "22ca41ab",
   "metadata": {
    "ExecuteTime": {
     "end_time": "2024-03-18T20:29:26.523220Z",
     "start_time": "2024-03-18T20:29:19.549250Z"
    }
   },
   "outputs": [],
   "source": [
    "URL = 'https://korean.visitkorea.or.kr/search/search_list.do?keyword='+search\n",
    "\n",
    "driver = webdriver.Chrome(options=options)\n",
    "driver.get(URL)\n",
    "time.sleep(3.5)"
   ]
  },
  {
   "cell_type": "code",
   "execution_count": 23,
   "id": "00a9e6a3",
   "metadata": {
    "ExecuteTime": {
     "end_time": "2024-03-18T20:29:26.737605Z",
     "start_time": "2024-03-18T20:29:26.529211Z"
    }
   },
   "outputs": [],
   "source": [
    "driver.find_element(By.CSS_SELECTOR, \"#s_recommend > .more_view > a\").click()"
   ]
  },
  {
   "cell_type": "code",
   "execution_count": 24,
   "id": "896ecbd1",
   "metadata": {
    "ExecuteTime": {
     "end_time": "2024-03-18T20:29:27.028513Z",
     "start_time": "2024-03-18T20:29:26.741032Z"
    }
   },
   "outputs": [
    {
     "data": {
      "text/plain": [
       "'경주의 봄을 즐길 수 있는 벚꽃 데이트 명소 4'"
      ]
     },
     "execution_count": 24,
     "metadata": {},
     "output_type": "execute_result"
    }
   ],
   "source": [
    "a = driver.find_element(By.XPATH, '//*[@id=\"search_result\"]/ul/li[1]/div[1]/div[1]')\n",
    "a.text"
   ]
  },
  {
   "cell_type": "code",
   "execution_count": 26,
   "id": "96722b7b",
   "metadata": {
    "ExecuteTime": {
     "end_time": "2024-03-18T20:29:29.852215Z",
     "start_time": "2024-03-18T20:29:29.803540Z"
    }
   },
   "outputs": [
    {
     "data": {
      "text/plain": [
       "(10, '경주의 봄을 즐길 수 있는 벚꽃 데이트 명소 4', '휠체어 타고 우정 여행, 경주')"
      ]
     },
     "execution_count": 26,
     "metadata": {},
     "output_type": "execute_result"
    }
   ],
   "source": [
    "tit_xpath = '//*[@id=\"search_result\"]/ul/li[*]/div[1]/div[1]' # //*[@id=\"search_result\"]/ul/li[2]/div[1]/div[1]\n",
    "result = driver.find_elements(By.XPATH, tit_xpath)\n",
    "len(result), result[0].text, result[1].text"
   ]
  },
  {
   "cell_type": "code",
   "execution_count": 27,
   "id": "564ab17f",
   "metadata": {
    "ExecuteTime": {
     "end_time": "2024-03-18T20:29:31.845068Z",
     "start_time": "2024-03-18T20:29:31.697398Z"
    }
   },
   "outputs": [
    {
     "name": "stdout",
     "output_type": "stream",
     "text": [
      "1 경주의 봄을 즐길 수 있는 벚꽃 데이트 명소 4\n",
      "2 휠체어 타고 우정 여행, 경주\n",
      "3 얼음왕국부터 야경까지 겨울의 낭만을 즐기는, 경주 여행\n",
      "4 경주 여행, 기차 타고 떠나는 벚꽃 여행 코스\n",
      "5 경북 여행, 나만 알고 싶은 경주 가을 단풍 명소 4\n",
      "6 음악과 떠나는 시간 여행, 경주 한국대중음악박물관\n",
      "7 [디어먼데이 경주] 고즈넉한 경주의 한옥 워케이션\n",
      "8 [경주] 꽃단풍 곱게 물든 경주는 지금 안온한 가을! 리버틴 호텔 경주\n",
      "9 경주 여행, 아이와 함께 가면 좋은 실내 여행지 5\n",
      "10 경주 여행, 알차게 즐기는 1박2일 코스\n"
     ]
    }
   ],
   "source": [
    "for i, title in enumerate(result, start = 1):\n",
    "    print(i, title.text)"
   ]
  },
  {
   "cell_type": "code",
   "execution_count": 28,
   "id": "cb16dae4",
   "metadata": {
    "ExecuteTime": {
     "end_time": "2024-03-18T20:29:33.664309Z",
     "start_time": "2024-03-18T20:29:33.525919Z"
    }
   },
   "outputs": [],
   "source": [
    "driver.find_element(By.XPATH, '/html/body/div[3]/div/div[1]/div[14]/a[2]').click()"
   ]
  },
  {
   "cell_type": "code",
   "execution_count": 29,
   "id": "4f0ca3a3",
   "metadata": {
    "ExecuteTime": {
     "end_time": "2024-03-18T20:29:37.832822Z",
     "start_time": "2024-03-18T20:29:34.587951Z"
    },
    "scrolled": true
   },
   "outputs": [
    {
     "name": "stdout",
     "output_type": "stream",
     "text": [
      "크롤링 할 건수는 몇건입니까?: 100\n"
     ]
    }
   ],
   "source": [
    "cnt = int(input('크롤링 할 건수는 몇건입니까?: '))"
   ]
  },
  {
   "cell_type": "code",
   "execution_count": 32,
   "id": "044acc2a",
   "metadata": {
    "ExecuteTime": {
     "end_time": "2024-03-18T20:31:03.131270Z",
     "start_time": "2024-03-18T20:31:03.126303Z"
    }
   },
   "outputs": [
    {
     "name": "stdout",
     "output_type": "stream",
     "text": [
      "10\n"
     ]
    }
   ],
   "source": [
    "page_cnt = math.ceil(cnt / 10)\n",
    "print(page_cnt)"
   ]
  },
  {
   "cell_type": "code",
   "execution_count": 33,
   "id": "092a9bd6",
   "metadata": {
    "ExecuteTime": {
     "end_time": "2024-03-18T20:31:31.338680Z",
     "start_time": "2024-03-18T20:31:05.074798Z"
    }
   },
   "outputs": [
    {
     "name": "stdout",
     "output_type": "stream",
     "text": [
      "========= 1 페이지 작업 =========\n",
      "1 다시 쓰는 수학여행기, 경주 불국사와 석굴암\n",
      "2 추워도 매력만점*̥❄︎‧˚\n",
      "겨울 경주 인기 스팟 랜선 여행\n",
      "3 [경주 여행] 자전거 타고 가는 신라 역사 여행\n",
      "4 천년고도 꽃길을 거닐다 – 경주\n",
      "5 [경주] 경주의 가장 아름다운 계절을 만나다, <앨리 게스트하우스>\n",
      "6 [경주] 가족과 함께 경주 여행하고 한옥 마루에서 업무도 척척\n",
      "경주 위연재\n",
      "7 신라 천년의 밤을 만나다!\n",
      "경주 동궁과 월지, 월정교\n",
      "8 아직도 안 가봤어? 인생 사진 스폿이 넘쳐나는 '경주세계문화엑스포대공원'\n",
      "9 [경주] 경주 남산은 신앙심과 예술혼으로 일궈낸 불국토\n",
      "10 [경주] 경주 시내에서 분위기 있게 하룻밤, 리버틴호텔\n",
      "========= 2 페이지 작업 =========\n",
      "11 다시 쓰는 수학여행기, 경주 불국사와 석굴암\n",
      "12 추워도 매력만점*̥❄︎‧˚\n",
      "겨울 경주 인기 스팟 랜선 여행\n",
      "13 [경주 여행] 자전거 타고 가는 신라 역사 여행\n",
      "14 천년고도 꽃길을 거닐다 – 경주\n",
      "15 [경주] 경주의 가장 아름다운 계절을 만나다, <앨리 게스트하우스>\n",
      "16 [경주] 가족과 함께 경주 여행하고 한옥 마루에서 업무도 척척\n",
      "경주 위연재\n",
      "17 신라 천년의 밤을 만나다!\n",
      "경주 동궁과 월지, 월정교\n",
      "18 아직도 안 가봤어? 인생 사진 스폿이 넘쳐나는 '경주세계문화엑스포대공원'\n",
      "19 [경주] 경주 남산은 신앙심과 예술혼으로 일궈낸 불국토\n",
      "20 [경주] 경주 시내에서 분위기 있게 하룻밤, 리버틴호텔\n",
      "========= 3 페이지 작업 =========\n",
      "21 [경주] 배산임수의 명당, 경주 천년한옥펜션\n",
      "22 남산에서 '경주를 다 보았다' 당당히 외쳐라\n",
      "23 [경주] 미드나잇 인 경주, 휴원 민박\n",
      "24 봄을 기다리는 경주 겨울 이야기\n",
      "25 [경주] 경주의 봄을 만나기 좋은 숙소 4\n",
      "26 벚꽃이 가득할 그날을 기다리며, 경주 벚꽃 명소 답사여행\n",
      "27 [경주] 가만히 앉아만 있어도 좋은 한옥의 멋, 경주한옥1번가\n",
      "28 [경주] '경주가 제일 예쁜 지금' 1박2일 경주 여행 숙소 6\n",
      "29 〈JTBC 핑클 캠핑 클럽〉 촬영지, 낮과 밤이 아름다운 경주\n",
      "30 [경주] 온기 가득한 경주의 따뜻한 방\n",
      "========= 4 페이지 작업 =========\n",
      "31 태고의 자연 속에서 학문과 사색의 즐거움을 찾다, 경주 옥산서원\n",
      "32 키덜트만을 위한 공간이라고? 노! 아이(Kid)와 어른(Adult), 모두가 행복한 공간 키덜트뮤지엄\n",
      "33 [경주] 따스한 봄을 건너는 경주의 밤\n",
      "34 한국의 가을 맛집, 경주산책\n",
      "35 천년의 향기가 피어나는 경주 연꽃단지\n",
      "36 도보로 즐기는 신라의 밤, 경주역사유적지구 야경\n",
      "37 [일주일 살아보기 시즌 2] 세 모녀의 경주 살이 브이로그\n",
      "38 [경주] 어디를 가도 좋다! 경주의 방\n",
      "39 가을 정취 물씬한 해국 벽화길, 경주 감포 해국길\n",
      "40 경주 시내.보문호.불국사로 떠나는 벚꽃여행 '봄바람 흩날리면, 함께 달려요!'\n",
      "========= 5 페이지 작업 =========\n",
      "41 남산에 들어앉은 부처, 경주를 굽어보네\n",
      "42 응답하라 7080! 경주 추억의 달동네\n",
      "43 신나게 놀다 보면 에너지 척척박사가 되는 경주 에너지팜\n",
      "44 푸짐한 인심과 먹는 즐거움이 어우러진 경주 성동시장\n",
      "45 추억으로 새겨지는 '경주의 달밤'\n",
      "46 [경주] 꽃향기 은은한 신라의 달밤\n",
      "47 [경주] 안락함이 깃든 방, 경주한옥1번가\n",
      "48 신라 천년 고도, 커피와 사랑에 빠지다 '경주 커피 명소'\n",
      "49 가을밤, 몽돌과 파도 소리 따라 걷는 경주 주상절리 파도소리길\n",
      "50 거대 유리온실 안 새들과 열대식물의 낙원, 경주 동궁원\n",
      "========= 6 페이지 작업 =========\n",
      "51 한복에 반하고, 경주에 반하다\n",
      "52 여름 향기 물씬 풍기는 경주 시티투어 2코스\n",
      "53 현판 뒤에 숨은 황금 돼지를 찾아라! 경주 불국사 복돼지\n",
      "54 추억이 가득한 경주, 겨울바다가 아름다운 포항으로 떠나는 여행\n",
      "55 홀로 걷는 여행의 즐거움, 경주 양남 주상절리 '파도소리길'\n",
      "56 야호(夜好) 경주! 젊은 여행자들의 천년 고도\n",
      "57 경주를 지키고자 하는 마음이 담긴 산성, 경주 명활성\n",
      "58 영화 <경주> 촬영지, 경주를 찾아서\n",
      "59 [경주] 가족여행에 제격, 첫 경주 여행을 위한 엄마의 선택, 신라부티크호텔 프리미엄\n",
      "60 [일주일 살아보기 시즌 2] 넷이 합쳐 계란 열 판! 경주 여행하기 딱 좋은 나이!\n",
      "========= 7 페이지 작업 =========\n",
      "61 한복에 반하고, 경주에 반하다\n",
      "62 여름 향기 물씬 풍기는 경주 시티투어 2코스\n",
      "63 현판 뒤에 숨은 황금 돼지를 찾아라! 경주 불국사 복돼지\n",
      "64 추억이 가득한 경주, 겨울바다가 아름다운 포항으로 떠나는 여행\n",
      "65 홀로 걷는 여행의 즐거움, 경주 양남 주상절리 '파도소리길'\n",
      "66 야호(夜好) 경주! 젊은 여행자들의 천년 고도\n",
      "67 경주를 지키고자 하는 마음이 담긴 산성, 경주 명활성\n",
      "68 영화 <경주> 촬영지, 경주를 찾아서\n",
      "69 [경주] 가족여행에 제격, 첫 경주 여행을 위한 엄마의 선택, 신라부티크호텔 프리미엄\n",
      "70 [일주일 살아보기 시즌 2] 넷이 합쳐 계란 열 판! 경주 여행하기 딱 좋은 나이!\n",
      "========= 8 페이지 작업 =========\n",
      "71 한복에 반하고, 경주에 반하다\n",
      "72 여름 향기 물씬 풍기는 경주 시티투어 2코스\n",
      "73 현판 뒤에 숨은 황금 돼지를 찾아라! 경주 불국사 복돼지\n",
      "74 추억이 가득한 경주, 겨울바다가 아름다운 포항으로 떠나는 여행\n",
      "75 홀로 걷는 여행의 즐거움, 경주 양남 주상절리 '파도소리길'\n",
      "76 야호(夜好) 경주! 젊은 여행자들의 천년 고도\n",
      "77 경주를 지키고자 하는 마음이 담긴 산성, 경주 명활성\n",
      "78 영화 <경주> 촬영지, 경주를 찾아서\n",
      "79 [경주] 가족여행에 제격, 첫 경주 여행을 위한 엄마의 선택, 신라부티크호텔 프리미엄\n",
      "80 [일주일 살아보기 시즌 2] 넷이 합쳐 계란 열 판! 경주 여행하기 딱 좋은 나이!\n",
      "========= 9 페이지 작업 =========\n",
      "81 한복에 반하고, 경주에 반하다\n",
      "82 여름 향기 물씬 풍기는 경주 시티투어 2코스\n",
      "83 현판 뒤에 숨은 황금 돼지를 찾아라! 경주 불국사 복돼지\n",
      "84 추억이 가득한 경주, 겨울바다가 아름다운 포항으로 떠나는 여행\n",
      "85 홀로 걷는 여행의 즐거움, 경주 양남 주상절리 '파도소리길'\n",
      "86 야호(夜好) 경주! 젊은 여행자들의 천년 고도\n",
      "87 경주를 지키고자 하는 마음이 담긴 산성, 경주 명활성\n",
      "88 영화 <경주> 촬영지, 경주를 찾아서\n",
      "89 [경주] 가족여행에 제격, 첫 경주 여행을 위한 엄마의 선택, 신라부티크호텔 프리미엄\n",
      "90 [일주일 살아보기 시즌 2] 넷이 합쳐 계란 열 판! 경주 여행하기 딱 좋은 나이!\n",
      "========= 10 페이지 작업 =========\n",
      "91 한복에 반하고, 경주에 반하다\n",
      "92 여름 향기 물씬 풍기는 경주 시티투어 2코스\n",
      "93 현판 뒤에 숨은 황금 돼지를 찾아라! 경주 불국사 복돼지\n",
      "94 추억이 가득한 경주, 겨울바다가 아름다운 포항으로 떠나는 여행\n",
      "95 홀로 걷는 여행의 즐거움, 경주 양남 주상절리 '파도소리길'\n",
      "96 야호(夜好) 경주! 젊은 여행자들의 천년 고도\n",
      "97 경주를 지키고자 하는 마음이 담긴 산성, 경주 명활성\n",
      "98 영화 <경주> 촬영지, 경주를 찾아서\n",
      "99 [경주] 가족여행에 제격, 첫 경주 여행을 위한 엄마의 선택, 신라부티크호텔 프리미엄\n",
      "100 [일주일 살아보기 시즌 2] 넷이 합쳐 계란 열 판! 경주 여행하기 딱 좋은 나이!\n",
      "존재하는 콘텐츠를 다 크롤링했습니다.\n",
      "========= 작업 완료 =========\n"
     ]
    }
   ],
   "source": [
    "tit_xpath = '//*[@id=\"search_result\"]/ul/li[*]/div[1]/div[1]'\n",
    "no = 0\n",
    "\n",
    "titlist = []\n",
    "for x in range(1, page_cnt+1):\n",
    "    try :\n",
    "        print(f'========= {x} 페이지 작업 =========')\n",
    "        mylist = driver.find_elements(By.XPATH, tit_xpath)\n",
    "    \n",
    "    \n",
    "        for item in mylist:\n",
    "            no += 1\n",
    "            \n",
    "                \n",
    "            if no > cnt:\n",
    "                break\n",
    "            titlist.append(item.text)\n",
    "            print(no, item.text)\n",
    "            \n",
    "    \n",
    "\n",
    "        if no <= cnt:\n",
    "            a = f'/html/body/div[3]/div/div[1]/div[14]/a[{x+1}]'\n",
    "            if x <= 5:\n",
    "                driver.find_element(By.XPATH, a).click()\n",
    "            elif x >= 6:\n",
    "                if x % 5 == 0:\n",
    "                    driver.find_element(By.XPATH, '/html/body/div[3]/div/div[1]/div[14]/a[6]').click() # 페이지 다음 화살표 버튼 클릭\n",
    "                    for i in range(3,8):\n",
    "                        driver.find_element(By.XPATH, '/html/body/div[3]/div/div[1]/div[14]/a[i]').click() \n",
    "\n",
    "                        \n",
    "                \n",
    "        # driver.implicitly_wait(10)    \n",
    "        time.sleep(2.5)\n",
    "    \n",
    "    except NoSuchElementException:\n",
    "        print('존재하는 콘텐츠를 다 크롤링했습니다.')\n",
    "\n",
    "        \n",
    "    except StaleElementReferenceException:\n",
    "        #a = f'/html/body/div[3]/div/div[1]/div[14]/a[{x+1}]'\n",
    "        #driver.find_element(By.XPATH, a).click()\n",
    "        clickUnderTen.click()\n",
    "        \n",
    "    except ElementClickInterceptedException:\n",
    "        # driver.find_elements_by_css_selector(\"[data-testid='loadingButton']\")[0].sendkeys(Keys.ENTER)\n",
    "        clickUnderTen.click()\n",
    "        \n",
    "    \n",
    "        \n",
    "print('========= 작업 완료 =========')"
   ]
  },
  {
   "cell_type": "code",
   "execution_count": 34,
   "id": "e655c3a2",
   "metadata": {
    "ExecuteTime": {
     "end_time": "2024-03-18T20:31:37.929723Z",
     "start_time": "2024-03-18T20:31:37.910869Z"
    }
   },
   "outputs": [
    {
     "data": {
      "text/plain": [
       "['다시 쓰는 수학여행기, 경주 불국사와 석굴암',\n",
       " '추워도 매력만점*̥❄︎‧˚\\n겨울 경주 인기 스팟 랜선 여행',\n",
       " '[경주 여행] 자전거 타고 가는 신라 역사 여행',\n",
       " '천년고도 꽃길을 거닐다 – 경주',\n",
       " '[경주] 경주의 가장 아름다운 계절을 만나다, <앨리 게스트하우스>',\n",
       " '[경주] 가족과 함께 경주 여행하고 한옥 마루에서 업무도 척척\\n경주 위연재',\n",
       " '신라 천년의 밤을 만나다!\\n경주 동궁과 월지, 월정교',\n",
       " \"아직도 안 가봤어? 인생 사진 스폿이 넘쳐나는 '경주세계문화엑스포대공원'\",\n",
       " '[경주] 경주 남산은 신앙심과 예술혼으로 일궈낸 불국토',\n",
       " '[경주] 경주 시내에서 분위기 있게 하룻밤, 리버틴호텔',\n",
       " '다시 쓰는 수학여행기, 경주 불국사와 석굴암',\n",
       " '추워도 매력만점*̥❄︎‧˚\\n겨울 경주 인기 스팟 랜선 여행',\n",
       " '[경주 여행] 자전거 타고 가는 신라 역사 여행',\n",
       " '천년고도 꽃길을 거닐다 – 경주',\n",
       " '[경주] 경주의 가장 아름다운 계절을 만나다, <앨리 게스트하우스>',\n",
       " '[경주] 가족과 함께 경주 여행하고 한옥 마루에서 업무도 척척\\n경주 위연재',\n",
       " '신라 천년의 밤을 만나다!\\n경주 동궁과 월지, 월정교',\n",
       " \"아직도 안 가봤어? 인생 사진 스폿이 넘쳐나는 '경주세계문화엑스포대공원'\",\n",
       " '[경주] 경주 남산은 신앙심과 예술혼으로 일궈낸 불국토',\n",
       " '[경주] 경주 시내에서 분위기 있게 하룻밤, 리버틴호텔',\n",
       " '[경주] 배산임수의 명당, 경주 천년한옥펜션',\n",
       " \"남산에서 '경주를 다 보았다' 당당히 외쳐라\",\n",
       " '[경주] 미드나잇 인 경주, 휴원 민박',\n",
       " '봄을 기다리는 경주 겨울 이야기',\n",
       " '[경주] 경주의 봄을 만나기 좋은 숙소 4',\n",
       " '벚꽃이 가득할 그날을 기다리며, 경주 벚꽃 명소 답사여행',\n",
       " '[경주] 가만히 앉아만 있어도 좋은 한옥의 멋, 경주한옥1번가',\n",
       " \"[경주] '경주가 제일 예쁜 지금' 1박2일 경주 여행 숙소 6\",\n",
       " '〈JTBC 핑클 캠핑 클럽〉 촬영지, 낮과 밤이 아름다운 경주',\n",
       " '[경주] 온기 가득한 경주의 따뜻한 방',\n",
       " '태고의 자연 속에서 학문과 사색의 즐거움을 찾다, 경주 옥산서원',\n",
       " '키덜트만을 위한 공간이라고? 노! 아이(Kid)와 어른(Adult), 모두가 행복한 공간 키덜트뮤지엄',\n",
       " '[경주] 따스한 봄을 건너는 경주의 밤',\n",
       " '한국의 가을 맛집, 경주산책',\n",
       " '천년의 향기가 피어나는 경주 연꽃단지',\n",
       " '도보로 즐기는 신라의 밤, 경주역사유적지구 야경',\n",
       " '[일주일 살아보기 시즌 2] 세 모녀의 경주 살이 브이로그',\n",
       " '[경주] 어디를 가도 좋다! 경주의 방',\n",
       " '가을 정취 물씬한 해국 벽화길, 경주 감포 해국길',\n",
       " \"경주 시내.보문호.불국사로 떠나는 벚꽃여행 '봄바람 흩날리면, 함께 달려요!'\",\n",
       " '남산에 들어앉은 부처, 경주를 굽어보네',\n",
       " '응답하라 7080! 경주 추억의 달동네',\n",
       " '신나게 놀다 보면 에너지 척척박사가 되는 경주 에너지팜',\n",
       " '푸짐한 인심과 먹는 즐거움이 어우러진 경주 성동시장',\n",
       " \"추억으로 새겨지는 '경주의 달밤'\",\n",
       " '[경주] 꽃향기 은은한 신라의 달밤',\n",
       " '[경주] 안락함이 깃든 방, 경주한옥1번가',\n",
       " \"신라 천년 고도, 커피와 사랑에 빠지다 '경주 커피 명소'\",\n",
       " '가을밤, 몽돌과 파도 소리 따라 걷는 경주 주상절리 파도소리길',\n",
       " '거대 유리온실 안 새들과 열대식물의 낙원, 경주 동궁원',\n",
       " '한복에 반하고, 경주에 반하다',\n",
       " '여름 향기 물씬 풍기는 경주 시티투어 2코스',\n",
       " '현판 뒤에 숨은 황금 돼지를 찾아라! 경주 불국사 복돼지',\n",
       " '추억이 가득한 경주, 겨울바다가 아름다운 포항으로 떠나는 여행',\n",
       " \"홀로 걷는 여행의 즐거움, 경주 양남 주상절리 '파도소리길'\",\n",
       " '야호(夜好) 경주! 젊은 여행자들의 천년 고도',\n",
       " '경주를 지키고자 하는 마음이 담긴 산성, 경주 명활성',\n",
       " '영화 <경주> 촬영지, 경주를 찾아서',\n",
       " '[경주] 가족여행에 제격, 첫 경주 여행을 위한 엄마의 선택, 신라부티크호텔 프리미엄',\n",
       " '[일주일 살아보기 시즌 2] 넷이 합쳐 계란 열 판! 경주 여행하기 딱 좋은 나이!',\n",
       " '한복에 반하고, 경주에 반하다',\n",
       " '여름 향기 물씬 풍기는 경주 시티투어 2코스',\n",
       " '현판 뒤에 숨은 황금 돼지를 찾아라! 경주 불국사 복돼지',\n",
       " '추억이 가득한 경주, 겨울바다가 아름다운 포항으로 떠나는 여행',\n",
       " \"홀로 걷는 여행의 즐거움, 경주 양남 주상절리 '파도소리길'\",\n",
       " '야호(夜好) 경주! 젊은 여행자들의 천년 고도',\n",
       " '경주를 지키고자 하는 마음이 담긴 산성, 경주 명활성',\n",
       " '영화 <경주> 촬영지, 경주를 찾아서',\n",
       " '[경주] 가족여행에 제격, 첫 경주 여행을 위한 엄마의 선택, 신라부티크호텔 프리미엄',\n",
       " '[일주일 살아보기 시즌 2] 넷이 합쳐 계란 열 판! 경주 여행하기 딱 좋은 나이!',\n",
       " '한복에 반하고, 경주에 반하다',\n",
       " '여름 향기 물씬 풍기는 경주 시티투어 2코스',\n",
       " '현판 뒤에 숨은 황금 돼지를 찾아라! 경주 불국사 복돼지',\n",
       " '추억이 가득한 경주, 겨울바다가 아름다운 포항으로 떠나는 여행',\n",
       " \"홀로 걷는 여행의 즐거움, 경주 양남 주상절리 '파도소리길'\",\n",
       " '야호(夜好) 경주! 젊은 여행자들의 천년 고도',\n",
       " '경주를 지키고자 하는 마음이 담긴 산성, 경주 명활성',\n",
       " '영화 <경주> 촬영지, 경주를 찾아서',\n",
       " '[경주] 가족여행에 제격, 첫 경주 여행을 위한 엄마의 선택, 신라부티크호텔 프리미엄',\n",
       " '[일주일 살아보기 시즌 2] 넷이 합쳐 계란 열 판! 경주 여행하기 딱 좋은 나이!',\n",
       " '한복에 반하고, 경주에 반하다',\n",
       " '여름 향기 물씬 풍기는 경주 시티투어 2코스',\n",
       " '현판 뒤에 숨은 황금 돼지를 찾아라! 경주 불국사 복돼지',\n",
       " '추억이 가득한 경주, 겨울바다가 아름다운 포항으로 떠나는 여행',\n",
       " \"홀로 걷는 여행의 즐거움, 경주 양남 주상절리 '파도소리길'\",\n",
       " '야호(夜好) 경주! 젊은 여행자들의 천년 고도',\n",
       " '경주를 지키고자 하는 마음이 담긴 산성, 경주 명활성',\n",
       " '영화 <경주> 촬영지, 경주를 찾아서',\n",
       " '[경주] 가족여행에 제격, 첫 경주 여행을 위한 엄마의 선택, 신라부티크호텔 프리미엄',\n",
       " '[일주일 살아보기 시즌 2] 넷이 합쳐 계란 열 판! 경주 여행하기 딱 좋은 나이!',\n",
       " '한복에 반하고, 경주에 반하다',\n",
       " '여름 향기 물씬 풍기는 경주 시티투어 2코스',\n",
       " '현판 뒤에 숨은 황금 돼지를 찾아라! 경주 불국사 복돼지',\n",
       " '추억이 가득한 경주, 겨울바다가 아름다운 포항으로 떠나는 여행',\n",
       " \"홀로 걷는 여행의 즐거움, 경주 양남 주상절리 '파도소리길'\",\n",
       " '야호(夜好) 경주! 젊은 여행자들의 천년 고도',\n",
       " '경주를 지키고자 하는 마음이 담긴 산성, 경주 명활성',\n",
       " '영화 <경주> 촬영지, 경주를 찾아서',\n",
       " '[경주] 가족여행에 제격, 첫 경주 여행을 위한 엄마의 선택, 신라부티크호텔 프리미엄',\n",
       " '[일주일 살아보기 시즌 2] 넷이 합쳐 계란 열 판! 경주 여행하기 딱 좋은 나이!']"
      ]
     },
     "execution_count": 34,
     "metadata": {},
     "output_type": "execute_result"
    }
   ],
   "source": [
    "titlist"
   ]
  },
  {
   "cell_type": "code",
   "execution_count": 35,
   "id": "924ddb80",
   "metadata": {
    "ExecuteTime": {
     "end_time": "2024-03-18T20:31:45.592138Z",
     "start_time": "2024-03-18T20:31:45.559450Z"
    }
   },
   "outputs": [
    {
     "data": {
      "text/html": [
       "<div>\n",
       "<style scoped>\n",
       "    .dataframe tbody tr th:only-of-type {\n",
       "        vertical-align: middle;\n",
       "    }\n",
       "\n",
       "    .dataframe tbody tr th {\n",
       "        vertical-align: top;\n",
       "    }\n",
       "\n",
       "    .dataframe thead th {\n",
       "        text-align: right;\n",
       "    }\n",
       "</style>\n",
       "<table border=\"1\" class=\"dataframe\">\n",
       "  <thead>\n",
       "    <tr style=\"text-align: right;\">\n",
       "      <th></th>\n",
       "      <th>0</th>\n",
       "    </tr>\n",
       "  </thead>\n",
       "  <tbody>\n",
       "    <tr>\n",
       "      <th>0</th>\n",
       "      <td>다시 쓰는 수학여행기, 경주 불국사와 석굴암</td>\n",
       "    </tr>\n",
       "    <tr>\n",
       "      <th>1</th>\n",
       "      <td>추워도 매력만점*̥❄︎‧˚\\n겨울 경주 인기 스팟 랜선 여행</td>\n",
       "    </tr>\n",
       "    <tr>\n",
       "      <th>2</th>\n",
       "      <td>[경주 여행] 자전거 타고 가는 신라 역사 여행</td>\n",
       "    </tr>\n",
       "    <tr>\n",
       "      <th>3</th>\n",
       "      <td>천년고도 꽃길을 거닐다 – 경주</td>\n",
       "    </tr>\n",
       "    <tr>\n",
       "      <th>4</th>\n",
       "      <td>[경주] 경주의 가장 아름다운 계절을 만나다, &lt;앨리 게스트하우스&gt;</td>\n",
       "    </tr>\n",
       "    <tr>\n",
       "      <th>...</th>\n",
       "      <td>...</td>\n",
       "    </tr>\n",
       "    <tr>\n",
       "      <th>95</th>\n",
       "      <td>야호(夜好) 경주! 젊은 여행자들의 천년 고도</td>\n",
       "    </tr>\n",
       "    <tr>\n",
       "      <th>96</th>\n",
       "      <td>경주를 지키고자 하는 마음이 담긴 산성, 경주 명활성</td>\n",
       "    </tr>\n",
       "    <tr>\n",
       "      <th>97</th>\n",
       "      <td>영화 &lt;경주&gt; 촬영지, 경주를 찾아서</td>\n",
       "    </tr>\n",
       "    <tr>\n",
       "      <th>98</th>\n",
       "      <td>[경주] 가족여행에 제격, 첫 경주 여행을 위한 엄마의 선택, 신라부티크호텔 프리미엄</td>\n",
       "    </tr>\n",
       "    <tr>\n",
       "      <th>99</th>\n",
       "      <td>[일주일 살아보기 시즌 2] 넷이 합쳐 계란 열 판! 경주 여행하기 딱 좋은 나이!</td>\n",
       "    </tr>\n",
       "  </tbody>\n",
       "</table>\n",
       "<p>100 rows × 1 columns</p>\n",
       "</div>"
      ],
      "text/plain": [
       "                                                  0\n",
       "0                          다시 쓰는 수학여행기, 경주 불국사와 석굴암\n",
       "1                 추워도 매력만점*̥❄︎‧˚\\n겨울 경주 인기 스팟 랜선 여행\n",
       "2                        [경주 여행] 자전거 타고 가는 신라 역사 여행\n",
       "3                                 천년고도 꽃길을 거닐다 – 경주\n",
       "4             [경주] 경주의 가장 아름다운 계절을 만나다, <앨리 게스트하우스>\n",
       "..                                              ...\n",
       "95                        야호(夜好) 경주! 젊은 여행자들의 천년 고도\n",
       "96                    경주를 지키고자 하는 마음이 담긴 산성, 경주 명활성\n",
       "97                             영화 <경주> 촬영지, 경주를 찾아서\n",
       "98  [경주] 가족여행에 제격, 첫 경주 여행을 위한 엄마의 선택, 신라부티크호텔 프리미엄\n",
       "99   [일주일 살아보기 시즌 2] 넷이 합쳐 계란 열 판! 경주 여행하기 딱 좋은 나이!\n",
       "\n",
       "[100 rows x 1 columns]"
      ]
     },
     "execution_count": 35,
     "metadata": {},
     "output_type": "execute_result"
    }
   ],
   "source": [
    "df = pd.DataFrame(titlist)\n",
    "df"
   ]
  },
  {
   "cell_type": "code",
   "execution_count": 36,
   "id": "197d3e5e",
   "metadata": {
    "ExecuteTime": {
     "end_time": "2024-03-18T20:32:05.282658Z",
     "start_time": "2024-03-18T20:31:55.768778Z"
    }
   },
   "outputs": [
    {
     "name": "stdout",
     "output_type": "stream",
     "text": [
      "파일명: gyeongjuleggo\n"
     ]
    }
   ],
   "source": [
    "fname = input('파일명: ')\n",
    "df.to_csv(f'./{fname}.csv', sep='.', encoding='utf-8-sig')"
   ]
  },
  {
   "cell_type": "code",
   "execution_count": null,
   "id": "3de12723",
   "metadata": {},
   "outputs": [],
   "source": []
  }
 ],
 "metadata": {
  "kernelspec": {
   "display_name": "Python 3 (ipykernel)",
   "language": "python",
   "name": "python3"
  },
  "language_info": {
   "codemirror_mode": {
    "name": "ipython",
    "version": 3
   },
   "file_extension": ".py",
   "mimetype": "text/x-python",
   "name": "python",
   "nbconvert_exporter": "python",
   "pygments_lexer": "ipython3",
   "version": "3.11.5"
  },
  "toc": {
   "base_numbering": 1,
   "nav_menu": {},
   "number_sections": true,
   "sideBar": true,
   "skip_h1_title": false,
   "title_cell": "Table of Contents",
   "title_sidebar": "Contents",
   "toc_cell": false,
   "toc_position": {},
   "toc_section_display": true,
   "toc_window_display": false
  }
 },
 "nbformat": 4,
 "nbformat_minor": 5
}
