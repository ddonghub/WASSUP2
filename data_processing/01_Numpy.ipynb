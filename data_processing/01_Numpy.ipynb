{
 "cells": [
  {
   "cell_type": "code",
   "execution_count": 23,
   "id": "d16a9d1e",
   "metadata": {
    "ExecuteTime": {
     "end_time": "2021-11-23T01:56:21.145848Z",
     "start_time": "2021-11-23T01:56:21.133880Z"
    }
   },
   "outputs": [
    {
     "data": {
      "text/html": [
       "<style>.container { width: 100% !important; }</style>"
      ],
      "text/plain": [
       "<IPython.core.display.HTML object>"
      ]
     },
     "metadata": {},
     "output_type": "display_data"
    }
   ],
   "source": [
    "# 주피터노트북 셀 스타일 조절\n",
    "from IPython.core.display import display, HTML\n",
    "# display(HTML(\"<style>.container { font-weight: bold !important; }</style>\"))\n",
    "display(HTML(\"<style>.container { width: 100% !important; }</style>\"))\n",
    "\n",
    "# 경고메시지 숨기기\n",
    "# import warnings\\\n",
    "\n",
    "# warnings.filterwarnings(action='ignore')"
   ]
  },
  {
   "cell_type": "markdown",
   "id": "6f332404",
   "metadata": {},
   "source": [
    "# Numpy 개요\n",
    "- Numeric + Python = Numpy\n",
    "- 수학 및 과학 연산을 위한 파이썬 패키지\n",
    "- 배열이나 행렬 계산에 용이한 메서드를 제공\n",
    "- 한글로 넘파이로 주로 통칭, 넘피/늄파이라고\n",
    "부르기도 함\n",
    "- 관련 사이트 : http://www.numpy.org\n",
    "\n",
    "일반 List에 비해 빠르고, 메모리 효율적\n",
    "- 반복문 없이 데이터 배열에 대한 처리를 지원함\n",
    "- 선형대수와 관련된 다양한 기능을 제공함\n",
    "- Reference Site\n",
    "- cs231 : http://cs231n.github.io/python-numpy-tutorial/#numpy\n",
    "- https://docs.scipy.org/doc/numpy-dev/user/quickstart.html\n",
    "- 데이터사이언스스쿨(파이썬버전) - https://goo.gl/3hsjbS "
   ]
  },
  {
   "cell_type": "markdown",
   "id": "08e4f99f",
   "metadata": {},
   "source": [
    "### 설치 및 임포트\n",
    "* 넘파이는 외부 라이브러리이므로 설치 필요.(아나콘다는 사전 설치됨)\n",
    "* pip install numpy"
   ]
  },
  {
   "cell_type": "code",
   "execution_count": 1,
   "id": "aaddad97",
   "metadata": {
    "ExecuteTime": {
     "end_time": "2024-03-20T00:21:29.792932Z",
     "start_time": "2024-03-20T00:21:29.533590Z"
    }
   },
   "outputs": [
    {
     "data": {
      "text/plain": [
       "'1.24.3'"
      ]
     },
     "execution_count": 1,
     "metadata": {},
     "output_type": "execute_result"
    }
   ],
   "source": [
    "import numpy as np\n",
    "np.__version__"
   ]
  },
  {
   "cell_type": "code",
   "execution_count": 2,
   "id": "ba13afdd",
   "metadata": {
    "ExecuteTime": {
     "end_time": "2023-11-01T06:09:07.790124Z",
     "start_time": "2023-11-01T06:09:07.776742Z"
    }
   },
   "outputs": [
    {
     "data": {
      "text/plain": [
       "['ALLOW_THREADS',\n",
       " 'BUFSIZE',\n",
       " 'CLIP',\n",
       " 'DataSource',\n",
       " 'ERR_CALL',\n",
       " 'ERR_DEFAULT',\n",
       " 'ERR_IGNORE',\n",
       " 'ERR_LOG',\n",
       " 'ERR_PRINT',\n",
       " 'ERR_RAISE',\n",
       " 'ERR_WARN',\n",
       " 'FLOATING_POINT_SUPPORT',\n",
       " 'FPE_DIVIDEBYZERO',\n",
       " 'FPE_INVALID',\n",
       " 'FPE_OVERFLOW',\n",
       " 'FPE_UNDERFLOW',\n",
       " 'False_',\n",
       " 'Inf',\n",
       " 'Infinity',\n",
       " 'MAXDIMS',\n",
       " 'MAY_SHARE_BOUNDS',\n",
       " 'MAY_SHARE_EXACT',\n",
       " 'NAN',\n",
       " 'NINF',\n",
       " 'NZERO',\n",
       " 'NaN',\n",
       " 'PINF',\n",
       " 'PZERO',\n",
       " 'RAISE',\n",
       " 'RankWarning',\n",
       " 'SHIFT_DIVIDEBYZERO',\n",
       " 'SHIFT_INVALID',\n",
       " 'SHIFT_OVERFLOW',\n",
       " 'SHIFT_UNDERFLOW',\n",
       " 'ScalarType',\n",
       " 'True_',\n",
       " 'UFUNC_BUFSIZE_DEFAULT',\n",
       " 'UFUNC_PYVALS_NAME',\n",
       " 'WRAP',\n",
       " '_CopyMode',\n",
       " '_NoValue',\n",
       " '_UFUNC_API',\n",
       " '__NUMPY_SETUP__',\n",
       " '__all__',\n",
       " '__builtins__',\n",
       " '__cached__',\n",
       " '__config__',\n",
       " '__deprecated_attrs__',\n",
       " '__dir__',\n",
       " '__doc__',\n",
       " '__expired_functions__',\n",
       " '__file__',\n",
       " '__former_attrs__',\n",
       " '__future_scalars__',\n",
       " '__getattr__',\n",
       " '__git_version__',\n",
       " '__loader__',\n",
       " '__mkl_version__',\n",
       " '__name__',\n",
       " '__package__',\n",
       " '__path__',\n",
       " '__spec__',\n",
       " '__version__',\n",
       " '_add_newdoc_ufunc',\n",
       " '_builtins',\n",
       " '_distributor_init',\n",
       " '_financial_names',\n",
       " '_get_promotion_state',\n",
       " '_globals',\n",
       " '_int_extended_msg',\n",
       " '_mat',\n",
       " '_no_nep50_warning',\n",
       " '_pyinstaller_hooks_dir',\n",
       " '_pytesttester',\n",
       " '_set_promotion_state',\n",
       " '_specific_msg',\n",
       " '_typing',\n",
       " '_using_numpy2_behavior',\n",
       " '_utils',\n",
       " '_version',\n",
       " 'abs',\n",
       " 'absolute',\n",
       " 'add',\n",
       " 'add_docstring',\n",
       " 'add_newdoc',\n",
       " 'add_newdoc_ufunc',\n",
       " 'all',\n",
       " 'allclose',\n",
       " 'alltrue',\n",
       " 'amax',\n",
       " 'amin',\n",
       " 'angle',\n",
       " 'any',\n",
       " 'append',\n",
       " 'apply_along_axis',\n",
       " 'apply_over_axes',\n",
       " 'arange',\n",
       " 'arccos',\n",
       " 'arccosh',\n",
       " 'arcsin',\n",
       " 'arcsinh',\n",
       " 'arctan',\n",
       " 'arctan2',\n",
       " 'arctanh',\n",
       " 'argmax',\n",
       " 'argmin',\n",
       " 'argpartition',\n",
       " 'argsort',\n",
       " 'argwhere',\n",
       " 'around',\n",
       " 'array',\n",
       " 'array2string',\n",
       " 'array_equal',\n",
       " 'array_equiv',\n",
       " 'array_repr',\n",
       " 'array_split',\n",
       " 'array_str',\n",
       " 'asanyarray',\n",
       " 'asarray',\n",
       " 'asarray_chkfinite',\n",
       " 'ascontiguousarray',\n",
       " 'asfarray',\n",
       " 'asfortranarray',\n",
       " 'asmatrix',\n",
       " 'atleast_1d',\n",
       " 'atleast_2d',\n",
       " 'atleast_3d',\n",
       " 'average',\n",
       " 'bartlett',\n",
       " 'base_repr',\n",
       " 'binary_repr',\n",
       " 'bincount',\n",
       " 'bitwise_and',\n",
       " 'bitwise_not',\n",
       " 'bitwise_or',\n",
       " 'bitwise_xor',\n",
       " 'blackman',\n",
       " 'block',\n",
       " 'bmat',\n",
       " 'bool_',\n",
       " 'broadcast',\n",
       " 'broadcast_arrays',\n",
       " 'broadcast_shapes',\n",
       " 'broadcast_to',\n",
       " 'busday_count',\n",
       " 'busday_offset',\n",
       " 'busdaycalendar',\n",
       " 'byte',\n",
       " 'byte_bounds',\n",
       " 'bytes_',\n",
       " 'c_',\n",
       " 'can_cast',\n",
       " 'cast',\n",
       " 'cbrt',\n",
       " 'cdouble',\n",
       " 'ceil',\n",
       " 'cfloat',\n",
       " 'char',\n",
       " 'character',\n",
       " 'chararray',\n",
       " 'choose',\n",
       " 'clip',\n",
       " 'clongdouble',\n",
       " 'clongfloat',\n",
       " 'column_stack',\n",
       " 'common_type',\n",
       " 'compare_chararrays',\n",
       " 'compat',\n",
       " 'complex128',\n",
       " 'complex64',\n",
       " 'complex_',\n",
       " 'complexfloating',\n",
       " 'compress',\n",
       " 'concatenate',\n",
       " 'conj',\n",
       " 'conjugate',\n",
       " 'convolve',\n",
       " 'copy',\n",
       " 'copysign',\n",
       " 'copyto',\n",
       " 'corrcoef',\n",
       " 'correlate',\n",
       " 'cos',\n",
       " 'cosh',\n",
       " 'count_nonzero',\n",
       " 'cov',\n",
       " 'cross',\n",
       " 'csingle',\n",
       " 'ctypeslib',\n",
       " 'cumprod',\n",
       " 'cumproduct',\n",
       " 'cumsum',\n",
       " 'datetime64',\n",
       " 'datetime_as_string',\n",
       " 'datetime_data',\n",
       " 'deg2rad',\n",
       " 'degrees',\n",
       " 'delete',\n",
       " 'deprecate',\n",
       " 'deprecate_with_doc',\n",
       " 'diag',\n",
       " 'diag_indices',\n",
       " 'diag_indices_from',\n",
       " 'diagflat',\n",
       " 'diagonal',\n",
       " 'diff',\n",
       " 'digitize',\n",
       " 'disp',\n",
       " 'divide',\n",
       " 'divmod',\n",
       " 'dot',\n",
       " 'double',\n",
       " 'dsplit',\n",
       " 'dstack',\n",
       " 'dtype',\n",
       " 'dtypes',\n",
       " 'e',\n",
       " 'ediff1d',\n",
       " 'einsum',\n",
       " 'einsum_path',\n",
       " 'emath',\n",
       " 'empty',\n",
       " 'empty_like',\n",
       " 'equal',\n",
       " 'errstate',\n",
       " 'euler_gamma',\n",
       " 'exceptions',\n",
       " 'exp',\n",
       " 'exp2',\n",
       " 'expand_dims',\n",
       " 'expm1',\n",
       " 'extract',\n",
       " 'eye',\n",
       " 'fabs',\n",
       " 'fastCopyAndTranspose',\n",
       " 'fft',\n",
       " 'fill_diagonal',\n",
       " 'find_common_type',\n",
       " 'finfo',\n",
       " 'fix',\n",
       " 'flatiter',\n",
       " 'flatnonzero',\n",
       " 'flexible',\n",
       " 'flip',\n",
       " 'fliplr',\n",
       " 'flipud',\n",
       " 'float16',\n",
       " 'float32',\n",
       " 'float64',\n",
       " 'float_',\n",
       " 'float_power',\n",
       " 'floating',\n",
       " 'floor',\n",
       " 'floor_divide',\n",
       " 'fmax',\n",
       " 'fmin',\n",
       " 'fmod',\n",
       " 'format_float_positional',\n",
       " 'format_float_scientific',\n",
       " 'format_parser',\n",
       " 'frexp',\n",
       " 'from_dlpack',\n",
       " 'frombuffer',\n",
       " 'fromfile',\n",
       " 'fromfunction',\n",
       " 'fromiter',\n",
       " 'frompyfunc',\n",
       " 'fromregex',\n",
       " 'fromstring',\n",
       " 'full',\n",
       " 'full_like',\n",
       " 'gcd',\n",
       " 'generic',\n",
       " 'genfromtxt',\n",
       " 'geomspace',\n",
       " 'get_array_wrap',\n",
       " 'get_include',\n",
       " 'get_printoptions',\n",
       " 'getbufsize',\n",
       " 'geterr',\n",
       " 'geterrcall',\n",
       " 'geterrobj',\n",
       " 'gradient',\n",
       " 'greater',\n",
       " 'greater_equal',\n",
       " 'half',\n",
       " 'hamming',\n",
       " 'hanning',\n",
       " 'heaviside',\n",
       " 'histogram',\n",
       " 'histogram2d',\n",
       " 'histogram_bin_edges',\n",
       " 'histogramdd',\n",
       " 'hsplit',\n",
       " 'hstack',\n",
       " 'hypot',\n",
       " 'i0',\n",
       " 'identity',\n",
       " 'iinfo',\n",
       " 'imag',\n",
       " 'in1d',\n",
       " 'index_exp',\n",
       " 'indices',\n",
       " 'inexact',\n",
       " 'inf',\n",
       " 'info',\n",
       " 'infty',\n",
       " 'inner',\n",
       " 'insert',\n",
       " 'int16',\n",
       " 'int32',\n",
       " 'int64',\n",
       " 'int8',\n",
       " 'int_',\n",
       " 'intc',\n",
       " 'integer',\n",
       " 'interp',\n",
       " 'intersect1d',\n",
       " 'intp',\n",
       " 'invert',\n",
       " 'is_busday',\n",
       " 'isclose',\n",
       " 'iscomplex',\n",
       " 'iscomplexobj',\n",
       " 'isfinite',\n",
       " 'isfortran',\n",
       " 'isin',\n",
       " 'isinf',\n",
       " 'isnan',\n",
       " 'isnat',\n",
       " 'isneginf',\n",
       " 'isposinf',\n",
       " 'isreal',\n",
       " 'isrealobj',\n",
       " 'isscalar',\n",
       " 'issctype',\n",
       " 'issubclass_',\n",
       " 'issubdtype',\n",
       " 'issubsctype',\n",
       " 'iterable',\n",
       " 'ix_',\n",
       " 'kaiser',\n",
       " 'kron',\n",
       " 'lcm',\n",
       " 'ldexp',\n",
       " 'left_shift',\n",
       " 'less',\n",
       " 'less_equal',\n",
       " 'lexsort',\n",
       " 'lib',\n",
       " 'linalg',\n",
       " 'linspace',\n",
       " 'little_endian',\n",
       " 'load',\n",
       " 'loadtxt',\n",
       " 'log',\n",
       " 'log10',\n",
       " 'log1p',\n",
       " 'log2',\n",
       " 'logaddexp',\n",
       " 'logaddexp2',\n",
       " 'logical_and',\n",
       " 'logical_not',\n",
       " 'logical_or',\n",
       " 'logical_xor',\n",
       " 'logspace',\n",
       " 'longcomplex',\n",
       " 'longdouble',\n",
       " 'longfloat',\n",
       " 'longlong',\n",
       " 'lookfor',\n",
       " 'ma',\n",
       " 'mask_indices',\n",
       " 'mat',\n",
       " 'matmul',\n",
       " 'matrix',\n",
       " 'max',\n",
       " 'maximum',\n",
       " 'maximum_sctype',\n",
       " 'may_share_memory',\n",
       " 'mean',\n",
       " 'median',\n",
       " 'memmap',\n",
       " 'meshgrid',\n",
       " 'mgrid',\n",
       " 'min',\n",
       " 'min_scalar_type',\n",
       " 'minimum',\n",
       " 'mintypecode',\n",
       " 'mkl',\n",
       " 'mod',\n",
       " 'modf',\n",
       " 'moveaxis',\n",
       " 'msort',\n",
       " 'multiply',\n",
       " 'nan',\n",
       " 'nan_to_num',\n",
       " 'nanargmax',\n",
       " 'nanargmin',\n",
       " 'nancumprod',\n",
       " 'nancumsum',\n",
       " 'nanmax',\n",
       " 'nanmean',\n",
       " 'nanmedian',\n",
       " 'nanmin',\n",
       " 'nanpercentile',\n",
       " 'nanprod',\n",
       " 'nanquantile',\n",
       " 'nanstd',\n",
       " 'nansum',\n",
       " 'nanvar',\n",
       " 'nbytes',\n",
       " 'ndarray',\n",
       " 'ndenumerate',\n",
       " 'ndim',\n",
       " 'ndindex',\n",
       " 'nditer',\n",
       " 'negative',\n",
       " 'nested_iters',\n",
       " 'newaxis',\n",
       " 'nextafter',\n",
       " 'nonzero',\n",
       " 'not_equal',\n",
       " 'numarray',\n",
       " 'number',\n",
       " 'obj2sctype',\n",
       " 'object_',\n",
       " 'ogrid',\n",
       " 'oldnumeric',\n",
       " 'ones',\n",
       " 'ones_like',\n",
       " 'outer',\n",
       " 'packbits',\n",
       " 'pad',\n",
       " 'partition',\n",
       " 'percentile',\n",
       " 'pi',\n",
       " 'piecewise',\n",
       " 'place',\n",
       " 'poly',\n",
       " 'poly1d',\n",
       " 'polyadd',\n",
       " 'polyder',\n",
       " 'polydiv',\n",
       " 'polyfit',\n",
       " 'polyint',\n",
       " 'polymul',\n",
       " 'polynomial',\n",
       " 'polysub',\n",
       " 'polyval',\n",
       " 'positive',\n",
       " 'power',\n",
       " 'printoptions',\n",
       " 'prod',\n",
       " 'product',\n",
       " 'promote_types',\n",
       " 'ptp',\n",
       " 'put',\n",
       " 'put_along_axis',\n",
       " 'putmask',\n",
       " 'quantile',\n",
       " 'r_',\n",
       " 'rad2deg',\n",
       " 'radians',\n",
       " 'random',\n",
       " 'ravel',\n",
       " 'ravel_multi_index',\n",
       " 'real',\n",
       " 'real_if_close',\n",
       " 'rec',\n",
       " 'recarray',\n",
       " 'recfromcsv',\n",
       " 'recfromtxt',\n",
       " 'reciprocal',\n",
       " 'record',\n",
       " 'remainder',\n",
       " 'repeat',\n",
       " 'require',\n",
       " 'reshape',\n",
       " 'resize',\n",
       " 'result_type',\n",
       " 'right_shift',\n",
       " 'rint',\n",
       " 'roll',\n",
       " 'rollaxis',\n",
       " 'roots',\n",
       " 'rot90',\n",
       " 'round',\n",
       " 'round_',\n",
       " 'row_stack',\n",
       " 's_',\n",
       " 'safe_eval',\n",
       " 'save',\n",
       " 'savetxt',\n",
       " 'savez',\n",
       " 'savez_compressed',\n",
       " 'sctype2char',\n",
       " 'sctypeDict',\n",
       " 'sctypes',\n",
       " 'searchsorted',\n",
       " 'select',\n",
       " 'set_numeric_ops',\n",
       " 'set_printoptions',\n",
       " 'set_string_function',\n",
       " 'setbufsize',\n",
       " 'setdiff1d',\n",
       " 'seterr',\n",
       " 'seterrcall',\n",
       " 'seterrobj',\n",
       " 'setxor1d',\n",
       " 'shape',\n",
       " 'shares_memory',\n",
       " 'short',\n",
       " 'show_config',\n",
       " 'show_runtime',\n",
       " 'sign',\n",
       " 'signbit',\n",
       " 'signedinteger',\n",
       " 'sin',\n",
       " 'sinc',\n",
       " 'single',\n",
       " 'singlecomplex',\n",
       " 'sinh',\n",
       " 'size',\n",
       " 'sometrue',\n",
       " 'sort',\n",
       " 'sort_complex',\n",
       " 'source',\n",
       " 'spacing',\n",
       " 'split',\n",
       " 'sqrt',\n",
       " 'square',\n",
       " 'squeeze',\n",
       " 'stack',\n",
       " 'std',\n",
       " 'str_',\n",
       " 'string_',\n",
       " 'subtract',\n",
       " 'sum',\n",
       " 'swapaxes',\n",
       " 'take',\n",
       " 'take_along_axis',\n",
       " 'tan',\n",
       " 'tanh',\n",
       " 'tensordot',\n",
       " 'test',\n",
       " 'testing',\n",
       " 'tile',\n",
       " 'timedelta64',\n",
       " 'trace',\n",
       " 'tracemalloc_domain',\n",
       " 'transpose',\n",
       " 'trapz',\n",
       " 'tri',\n",
       " 'tril',\n",
       " 'tril_indices',\n",
       " 'tril_indices_from',\n",
       " 'trim_zeros',\n",
       " 'triu',\n",
       " 'triu_indices',\n",
       " 'triu_indices_from',\n",
       " 'true_divide',\n",
       " 'trunc',\n",
       " 'typecodes',\n",
       " 'typename',\n",
       " 'ubyte',\n",
       " 'ufunc',\n",
       " 'uint',\n",
       " 'uint16',\n",
       " 'uint32',\n",
       " 'uint64',\n",
       " 'uint8',\n",
       " 'uintc',\n",
       " 'uintp',\n",
       " 'ulonglong',\n",
       " 'unicode_',\n",
       " 'union1d',\n",
       " 'unique',\n",
       " 'unpackbits',\n",
       " 'unravel_index',\n",
       " 'unsignedinteger',\n",
       " 'unwrap',\n",
       " 'ushort',\n",
       " 'vander',\n",
       " 'var',\n",
       " 'vdot',\n",
       " 'vectorize',\n",
       " 'version',\n",
       " 'void',\n",
       " 'vsplit',\n",
       " 'vstack',\n",
       " 'where',\n",
       " 'who',\n",
       " 'zeros',\n",
       " 'zeros_like']"
      ]
     },
     "execution_count": 2,
     "metadata": {},
     "output_type": "execute_result"
    }
   ],
   "source": [
    "# 메소드와 속성\n",
    "dir(np)"
   ]
  },
  {
   "attachments": {
    "image.png": {
     "image/png": "[encoded data removed]"
    }
   },
   "cell_type": "markdown",
   "id": "87f4430f",
   "metadata": {},
   "source": [
    "# 넘파이 배열 이해하기\n",
    "![image.png](attachment:image.png)"
   ]
  },
  {
   "cell_type": "markdown",
   "id": "536b7fb4",
   "metadata": {},
   "source": [
    "## ndim(dimention, rank)\n",
    "* 몇 차원인지 반환"
   ]
  },
  {
   "cell_type": "code",
   "execution_count": 2,
   "id": "88b22e4d",
   "metadata": {
    "ExecuteTime": {
     "end_time": "2024-03-20T00:34:57.888308Z",
     "start_time": "2024-03-20T00:34:57.872768Z"
    }
   },
   "outputs": [
    {
     "data": {
      "text/plain": [
       "(array(0), 0, numpy.ndarray)"
      ]
     },
     "execution_count": 2,
     "metadata": {},
     "output_type": "execute_result"
    }
   ],
   "source": [
    "a = np.array(0)\n",
    "a, a.ndim, type(a)"
   ]
  },
  {
   "cell_type": "code",
   "execution_count": 3,
   "id": "e4305d5a",
   "metadata": {
    "ExecuteTime": {
     "end_time": "2024-03-20T00:35:35.476179Z",
     "start_time": "2024-03-20T00:35:35.461483Z"
    }
   },
   "outputs": [
    {
     "data": {
      "text/plain": [
       "(array([2, 4, 6]), 1, numpy.ndarray)"
      ]
     },
     "execution_count": 3,
     "metadata": {},
     "output_type": "execute_result"
    }
   ],
   "source": [
    "a = np.array([2, 4, 6])\n",
    "a, a.ndim, type(a)"
   ]
  },
  {
   "cell_type": "code",
   "execution_count": 5,
   "id": "450367f0",
   "metadata": {
    "ExecuteTime": {
     "end_time": "2023-11-01T06:10:35.666101Z",
     "start_time": "2023-11-01T06:10:35.660188Z"
    }
   },
   "outputs": [
    {
     "data": {
      "text/plain": [
       "(array([[1, 2, 3],\n",
       "        [4, 5, 6]]),\n",
       " 2,\n",
       " numpy.ndarray)"
      ]
     },
     "execution_count": 5,
     "metadata": {},
     "output_type": "execute_result"
    }
   ],
   "source": [
    "a = np.array( [[1,2,3], [4,5,6]] )\n",
    "a, a.ndim, type(a)"
   ]
  },
  {
   "cell_type": "code",
   "execution_count": 4,
   "id": "1e7643c4",
   "metadata": {
    "ExecuteTime": {
     "end_time": "2024-03-20T00:41:18.672611Z",
     "start_time": "2024-03-20T00:41:18.661868Z"
    }
   },
   "outputs": [
    {
     "data": {
      "text/plain": [
       "(array([[[1, 2, 3],\n",
       "         [4, 5, 6]],\n",
       " \n",
       "        [[1, 2, 3],\n",
       "         [4, 5, 6]]]),\n",
       " 3,\n",
       " numpy.ndarray)"
      ]
     },
     "execution_count": 4,
     "metadata": {},
     "output_type": "execute_result"
    }
   ],
   "source": [
    "a = np.array( [ [[1,2,3], [4,5,6]], [[1,2,3], [4,5,6]] ] )\n",
    "a, a.ndim, type(a)"
   ]
  },
  {
   "attachments": {
    "image.png": {
     "image/png": "[encoded data removed]"
    }
   },
   "cell_type": "markdown",
   "id": "f9c09018",
   "metadata": {},
   "source": [
    "## shape\n",
    "- 행렬의 차원으로, 몇행 몇열인지 반환\n",
    "- 아래의 경우 1차원에 4, 2차원에 2로 (4,2)로 표현됨\n",
    "![image.png](attachment:image.png)"
   ]
  },
  {
   "cell_type": "code",
   "execution_count": 8,
   "id": "a343f32d",
   "metadata": {
    "ExecuteTime": {
     "end_time": "2023-10-30T06:43:03.635967Z",
     "start_time": "2023-10-30T06:43:03.632123Z"
    }
   },
   "outputs": [],
   "source": [
    "a.shape?"
   ]
  },
  {
   "cell_type": "code",
   "execution_count": 8,
   "id": "2883d88f",
   "metadata": {
    "ExecuteTime": {
     "end_time": "2023-11-01T06:11:59.113480Z",
     "start_time": "2023-11-01T06:11:59.108522Z"
    }
   },
   "outputs": [
    {
     "data": {
      "text/plain": [
       "(array(3), ())"
      ]
     },
     "execution_count": 8,
     "metadata": {},
     "output_type": "execute_result"
    }
   ],
   "source": [
    "a = np.array(3)\n",
    "a, a.shape # 행렬아님"
   ]
  },
  {
   "cell_type": "code",
   "execution_count": 9,
   "id": "63893734",
   "metadata": {
    "ExecuteTime": {
     "end_time": "2023-11-01T06:12:19.989089Z",
     "start_time": "2023-11-01T06:12:19.981536Z"
    }
   },
   "outputs": [
    {
     "data": {
      "text/plain": [
       "(array([1, 3, 5, 7, 9]), (5,))"
      ]
     },
     "execution_count": 9,
     "metadata": {},
     "output_type": "execute_result"
    }
   ],
   "source": [
    "a = np.array([ 1, 3, 5, 7, 9 ])\n",
    "a, a.shape"
   ]
  },
  {
   "cell_type": "code",
   "execution_count": 10,
   "id": "3a57f333",
   "metadata": {
    "ExecuteTime": {
     "end_time": "2023-11-01T06:12:32.347703Z",
     "start_time": "2023-11-01T06:12:32.341719Z"
    }
   },
   "outputs": [
    {
     "data": {
      "text/plain": [
       "(array([[1, 2, 3],\n",
       "        [4, 5, 6]]),\n",
       " (2, 3))"
      ]
     },
     "execution_count": 10,
     "metadata": {},
     "output_type": "execute_result"
    }
   ],
   "source": [
    "a = np.array([[1,2,3], [4,5,6]])\n",
    "a, a.shape"
   ]
  },
  {
   "cell_type": "code",
   "execution_count": 11,
   "id": "ee4a77d8",
   "metadata": {
    "ExecuteTime": {
     "end_time": "2023-11-01T06:12:44.038452Z",
     "start_time": "2023-11-01T06:12:44.032470Z"
    },
    "scrolled": true
   },
   "outputs": [
    {
     "data": {
      "text/plain": [
       "(array([[[0, 0, 0, 0],\n",
       "         [0, 0, 0, 0],\n",
       "         [0, 0, 0, 0]],\n",
       " \n",
       "        [[0, 0, 0, 0],\n",
       "         [0, 0, 0, 0],\n",
       "         [0, 0, 0, 0]]]),\n",
       " (2, 3, 4))"
      ]
     },
     "execution_count": 11,
     "metadata": {},
     "output_type": "execute_result"
    }
   ],
   "source": [
    "a = np.array([[[0, 0, 0, 0], [0, 0, 0, 0], [0, 0, 0, 0]], [[0, 0, 0, 0], [0, 0, 0, 0], [0, 0, 0, 0]]])\n",
    "a, a.shape # 2개의 3행 4열"
   ]
  },
  {
   "cell_type": "markdown",
   "id": "392e871f",
   "metadata": {},
   "source": [
    "##  size\n",
    "요소의 수"
   ]
  },
  {
   "cell_type": "code",
   "execution_count": 12,
   "id": "f45c23f9",
   "metadata": {
    "ExecuteTime": {
     "end_time": "2023-11-01T06:13:01.735904Z",
     "start_time": "2023-11-01T06:13:01.730930Z"
    }
   },
   "outputs": [
    {
     "data": {
      "text/plain": [
       "5"
      ]
     },
     "execution_count": 12,
     "metadata": {},
     "output_type": "execute_result"
    }
   ],
   "source": [
    "a= np.array([1, 3, 5, 7, 9])\n",
    "a.size"
   ]
  },
  {
   "cell_type": "code",
   "execution_count": 13,
   "id": "550a9897",
   "metadata": {
    "ExecuteTime": {
     "end_time": "2023-11-01T06:13:10.969496Z",
     "start_time": "2023-11-01T06:13:10.963995Z"
    }
   },
   "outputs": [
    {
     "data": {
      "text/plain": [
       "6"
      ]
     },
     "execution_count": 13,
     "metadata": {},
     "output_type": "execute_result"
    }
   ],
   "source": [
    "a = np.array([[1,2,3], [4,5,6]])\n",
    "a.size"
   ]
  },
  {
   "cell_type": "markdown",
   "id": "e1b24d64",
   "metadata": {},
   "source": [
    "## 넘파이 배열\n",
    "- 리스트를 넘파이 배열로 생성 np.array(리스트)\n",
    "- 관련 속성 : ndim 차원 반환 int , size 전체 길이 반환 int, shape 구조 반환 tuple"
   ]
  },
  {
   "cell_type": "code",
   "execution_count": 14,
   "id": "a01e1e37",
   "metadata": {
    "ExecuteTime": {
     "end_time": "2023-11-01T06:13:26.703096Z",
     "start_time": "2023-11-01T06:13:26.698077Z"
    }
   },
   "outputs": [
    {
     "name": "stdout",
     "output_type": "stream",
     "text": [
      "[10, 56, 77, 23, 44] <class 'list'> 5\n"
     ]
    }
   ],
   "source": [
    "# 1차원 리스트 객체(이터러블)\n",
    "myList = [10, 56, 77, 23, 44]\n",
    "print(myList, type(myList), len(myList))"
   ]
  },
  {
   "cell_type": "code",
   "execution_count": 15,
   "id": "dca173e3",
   "metadata": {
    "ExecuteTime": {
     "end_time": "2023-11-01T06:13:31.981712Z",
     "start_time": "2023-11-01T06:13:31.976648Z"
    }
   },
   "outputs": [
    {
     "name": "stdout",
     "output_type": "stream",
     "text": [
      "[10 56 77 23 44] <class 'numpy.ndarray'> 5\n",
      "차원=1, 구조=(5,) 구조타입=<class 'tuple'>, size=5\n"
     ]
    }
   ],
   "source": [
    "myArr = np.array(myList)\n",
    "print(myArr, type(myArr), len(myArr))\n",
    "print(f'차원={myArr.ndim}, 구조={myArr.shape} 구조타입={type(myArr.shape)}, size={myArr.size}')"
   ]
  },
  {
   "cell_type": "code",
   "execution_count": 16,
   "id": "9d2a61a4",
   "metadata": {
    "ExecuteTime": {
     "end_time": "2023-11-01T06:13:58.104258Z",
     "start_time": "2023-11-01T06:13:58.098448Z"
    }
   },
   "outputs": [
    {
     "data": {
      "text/plain": [
       "array([10, 56, 77, 23, 44])"
      ]
     },
     "execution_count": 16,
     "metadata": {},
     "output_type": "execute_result"
    }
   ],
   "source": [
    "myArr"
   ]
  },
  {
   "cell_type": "code",
   "execution_count": 19,
   "id": "e0627978",
   "metadata": {
    "ExecuteTime": {
     "end_time": "2023-11-01T06:14:41.849322Z",
     "start_time": "2023-11-01T06:14:41.843817Z"
    }
   },
   "outputs": [
    {
     "data": {
      "text/plain": [
       "([[1, 2, 3], [10, 20, 30], [100, 200, 300]], 3)"
      ]
     },
     "execution_count": 19,
     "metadata": {},
     "output_type": "execute_result"
    }
   ],
   "source": [
    "# 2차원 리스트 객체(이터러블)\n",
    "myList2 = [[1,2,3 ],[10,20,30],[100,200,300]]\n",
    "myList2, len(myList2)"
   ]
  },
  {
   "cell_type": "code",
   "execution_count": 18,
   "id": "97fd305c",
   "metadata": {
    "ExecuteTime": {
     "end_time": "2023-11-01T06:14:17.866234Z",
     "start_time": "2023-11-01T06:14:17.861219Z"
    }
   },
   "outputs": [
    {
     "name": "stdout",
     "output_type": "stream",
     "text": [
      "[[  1   2   3]\n",
      " [ 10  20  30]\n",
      " [100 200 300]] <class 'numpy.ndarray'> 3\n",
      "차원= 2, 구조 = (3, 3) 구조타입 = <class 'tuple'>, size = 9\n"
     ]
    }
   ],
   "source": [
    "myArr2 = np.array(myList2)\n",
    "print(myArr2, type(myArr2), len(myArr2))\n",
    "print(f'차원= {myArr2.ndim}, 구조 = {myArr2.shape} 구조타입 = {type(myArr2.shape)}, size = {myArr2.size}')"
   ]
  },
  {
   "cell_type": "code",
   "execution_count": 20,
   "id": "5727ce45",
   "metadata": {
    "ExecuteTime": {
     "end_time": "2023-11-01T06:15:12.253575Z",
     "start_time": "2023-11-01T06:15:12.249061Z"
    }
   },
   "outputs": [
    {
     "name": "stdout",
     "output_type": "stream",
     "text": [
      "[[1, 2, 3, 4], [10, 20, 30, 40, 50], [100, 200]] <class 'list'> 3\n"
     ]
    }
   ],
   "source": [
    "# 2차원 리스트에서 각 행의 수가 다를 경우?\n",
    "myList21 = [ [1,2,3,4 ],[10,20 ,30,40,50],[100,200,]]\n",
    "print(myList21, type(myList21), len(myList21))"
   ]
  },
  {
   "cell_type": "code",
   "execution_count": 21,
   "id": "c1075a69",
   "metadata": {
    "ExecuteTime": {
     "end_time": "2023-11-01T06:15:20.257635Z",
     "start_time": "2023-11-01T06:15:20.230730Z"
    }
   },
   "outputs": [
    {
     "ename": "ValueError",
     "evalue": "setting an array element with a sequence. The requested array has an inhomogeneous shape after 1 dimensions. The detected shape was (3,) + inhomogeneous part.",
     "output_type": "error",
     "traceback": [
      "\u001b[1;31m---------------------------------------------------------------------------\u001b[0m",
      "\u001b[1;31mValueError\u001b[0m                                Traceback (most recent call last)",
      "Cell \u001b[1;32mIn[21], line 2\u001b[0m\n\u001b[0;32m      1\u001b[0m \u001b[38;5;66;03m# 길이가 달라 에러 리턴\u001b[39;00m\n\u001b[1;32m----> 2\u001b[0m myArr21 \u001b[38;5;241m=\u001b[39m np\u001b[38;5;241m.\u001b[39marray(myList21)\n\u001b[0;32m      3\u001b[0m \u001b[38;5;28mprint\u001b[39m(myArr21, \u001b[38;5;28mtype\u001b[39m(myArr21), \u001b[38;5;28mlen\u001b[39m(myArr21))\n\u001b[0;32m      4\u001b[0m \u001b[38;5;28mprint\u001b[39m(\u001b[38;5;124mf\u001b[39m\u001b[38;5;124m'\u001b[39m\u001b[38;5;124m차원= \u001b[39m\u001b[38;5;132;01m{\u001b[39;00mmyArr21\u001b[38;5;241m.\u001b[39mndim\u001b[38;5;132;01m}\u001b[39;00m\u001b[38;5;124m, 구조 = \u001b[39m\u001b[38;5;132;01m{\u001b[39;00mmyArr21\u001b[38;5;241m.\u001b[39mshape\u001b[38;5;132;01m}\u001b[39;00m\u001b[38;5;124m 구조타입 = \u001b[39m\u001b[38;5;132;01m{\u001b[39;00m\u001b[38;5;28mtype\u001b[39m(myArr21\u001b[38;5;241m.\u001b[39mshape)\u001b[38;5;132;01m}\u001b[39;00m\u001b[38;5;124m, size = \u001b[39m\u001b[38;5;132;01m{\u001b[39;00mmyArr21\u001b[38;5;241m.\u001b[39msize\u001b[38;5;132;01m}\u001b[39;00m\u001b[38;5;124m'\u001b[39m)\n",
      "\u001b[1;31mValueError\u001b[0m: setting an array element with a sequence. The requested array has an inhomogeneous shape after 1 dimensions. The detected shape was (3,) + inhomogeneous part."
     ]
    }
   ],
   "source": [
    "# 길이가 달라 에러 리턴\n",
    "myArr21 = np.array(myList21)\n",
    "print(myArr21, type(myArr21), len(myArr21))\n",
    "print(f'차원= {myArr21.ndim}, 구조 = {myArr21.shape} 구조타입 = {type(myArr21.shape)}, size = {myArr21.size}')"
   ]
  },
  {
   "cell_type": "markdown",
   "id": "8bc38ba5",
   "metadata": {},
   "source": [
    "## 넘파이 배열과 리스트와의 차이점\n",
    "- 배열간의 연산 가능 \"브로드캐스팅\", 요소별 연산(element-wise)\n",
    "- 넘파이 메서드 사용 가능 : 평균, 상관계수, 분산, 표준편차 등\n",
    "- 리스트는 자료형 혼합 가능, 넘파이배열은 하나의 자료형만 가능"
   ]
  },
  {
   "cell_type": "code",
   "execution_count": 22,
   "id": "8db7d030",
   "metadata": {
    "ExecuteTime": {
     "end_time": "2023-11-01T06:15:54.463522Z",
     "start_time": "2023-11-01T06:15:54.440417Z"
    },
    "scrolled": true
   },
   "outputs": [
    {
     "name": "stdout",
     "output_type": "stream",
     "text": [
      "[10, 30, 50, 1, 2, 3]\n"
     ]
    },
    {
     "ename": "TypeError",
     "evalue": "can only concatenate list (not \"int\") to list",
     "output_type": "error",
     "traceback": [
      "\u001b[1;31m---------------------------------------------------------------------------\u001b[0m",
      "\u001b[1;31mTypeError\u001b[0m                                 Traceback (most recent call last)",
      "Cell \u001b[1;32mIn[22], line 5\u001b[0m\n\u001b[0;32m      3\u001b[0m listB \u001b[38;5;241m=\u001b[39m [\u001b[38;5;241m1\u001b[39m, \u001b[38;5;241m2\u001b[39m, \u001b[38;5;241m3\u001b[39m]\n\u001b[0;32m      4\u001b[0m \u001b[38;5;28mprint\u001b[39m(listA \u001b[38;5;241m+\u001b[39m listB) \u001b[38;5;66;03m# 리스트의 + 연산자는 조인역할\u001b[39;00m\n\u001b[1;32m----> 5\u001b[0m \u001b[38;5;28mprint\u001b[39m(listA \u001b[38;5;241m+\u001b[39m \u001b[38;5;241m2\u001b[39m)\n",
      "\u001b[1;31mTypeError\u001b[0m: can only concatenate list (not \"int\") to list"
     ]
    }
   ],
   "source": [
    "# 리스트의 산술연산자 +, * \n",
    "listA = [10, 30, 50]\n",
    "listB = [1, 2, 3]\n",
    "print(listA + listB) # 리스트의 + 연산자는 조인역할\n",
    "print(listA + 2) # 불가"
   ]
  },
  {
   "cell_type": "code",
   "execution_count": 23,
   "id": "39f0a2e5",
   "metadata": {
    "ExecuteTime": {
     "end_time": "2023-11-01T06:16:13.720566Z",
     "start_time": "2023-11-01T06:16:13.700617Z"
    }
   },
   "outputs": [
    {
     "name": "stdout",
     "output_type": "stream",
     "text": [
      "[10, 30, 50, 10, 30, 50]\n"
     ]
    },
    {
     "ename": "TypeError",
     "evalue": "can't multiply sequence by non-int of type 'list'",
     "output_type": "error",
     "traceback": [
      "\u001b[1;31m---------------------------------------------------------------------------\u001b[0m",
      "\u001b[1;31mTypeError\u001b[0m                                 Traceback (most recent call last)",
      "Cell \u001b[1;32mIn[23], line 2\u001b[0m\n\u001b[0;32m      1\u001b[0m \u001b[38;5;28mprint\u001b[39m(listA \u001b[38;5;241m*\u001b[39m \u001b[38;5;241m2\u001b[39m) \u001b[38;5;66;03m# 해당 리스트의 반복\u001b[39;00m\n\u001b[1;32m----> 2\u001b[0m \u001b[38;5;28mprint\u001b[39m(listA \u001b[38;5;241m*\u001b[39m listB)\n",
      "\u001b[1;31mTypeError\u001b[0m: can't multiply sequence by non-int of type 'list'"
     ]
    }
   ],
   "source": [
    "print(listA * 2) # 해당 리스트의 반복\n",
    "print(listA * listB) # 불가"
   ]
  },
  {
   "cell_type": "code",
   "execution_count": 24,
   "id": "3fc1105e",
   "metadata": {
    "ExecuteTime": {
     "end_time": "2023-11-01T06:16:29.065178Z",
     "start_time": "2023-11-01T06:16:29.059193Z"
    }
   },
   "outputs": [
    {
     "name": "stdout",
     "output_type": "stream",
     "text": [
      "[3 4 5]\n",
      "[2 4 6]\n"
     ]
    }
   ],
   "source": [
    "# 넘파이의 산술연산\n",
    "arrA = np.array([1, 2, 3])\n",
    "print(arrA + 2)\n",
    "print(arrA * 2)"
   ]
  },
  {
   "cell_type": "code",
   "execution_count": 25,
   "id": "95c07835",
   "metadata": {
    "ExecuteTime": {
     "end_time": "2023-11-01T06:16:36.621728Z",
     "start_time": "2023-11-01T06:16:36.615327Z"
    }
   },
   "outputs": [
    {
     "name": "stdout",
     "output_type": "stream",
     "text": [
      "[5 7 9]\n",
      "[ 4 10 18]\n",
      "[0.25 0.4  0.5 ]\n",
      "[0 0 0]\n",
      "[1 2 3]\n"
     ]
    }
   ],
   "source": [
    "arrB = np.array([4, 5, 6])\n",
    "print(arrA + arrB)\n",
    "print(arrA * arrB)\n",
    "print(arrA / arrB)\n",
    "print(arrA // arrB) # 몫\n",
    "print(arrA % arrB) # 나머지"
   ]
  },
  {
   "attachments": {
    "image.png": {
     "image/png": "[encoded data removed]"
    }
   },
   "cell_type": "markdown",
   "id": "e41062d4",
   "metadata": {},
   "source": [
    "## dtype\n",
    "https://numpy.org/doc/stable/reference/arrays.dtypes.html   \n",
    "데이터 U유형은 각 유니코드 문자를 32비트 정수(예: 4바이트)로 저장합니다. (유니코드 스트링\n",
    "dtype 인수로 지정할 자료형은 다음 표에 보인것과 같은 “dtype 접두사”로 시작하는 문자열이고 이 글자 뒤에 오는 숫자는 바이트 수 혹은 글자 수를 의미한다.   \n",
    "예를 들어 f8은 8바이트(64비트) 부동소수점 실수를 뜻하고 U4 는 4글자 유니코드 문자열을 뜻한다   \n",
    "숫자를 생략하면 운영체제에 따라 알맞은 크기를 지정한다.\n",
    "![image.png](attachment:image.png)\n"
   ]
  },
  {
   "cell_type": "code",
   "execution_count": 26,
   "id": "980e874f",
   "metadata": {
    "ExecuteTime": {
     "end_time": "2023-11-01T06:17:08.807779Z",
     "start_time": "2023-11-01T06:17:08.803989Z"
    }
   },
   "outputs": [
    {
     "name": "stdout",
     "output_type": "stream",
     "text": [
      "['안녕', 100, 3.14, True, False]\n"
     ]
    }
   ],
   "source": [
    "# 자료형 테스트\n",
    "myList_c = ['안녕', 100, 3.14, True, False] # 리스트는 혼합된 형 그대로 유지\n",
    "print(myList_c)"
   ]
  },
  {
   "cell_type": "code",
   "execution_count": 27,
   "id": "df4aea0d",
   "metadata": {
    "ExecuteTime": {
     "end_time": "2023-11-01T06:17:17.305435Z",
     "start_time": "2023-11-01T06:17:17.299719Z"
    },
    "scrolled": true
   },
   "outputs": [
    {
     "name": "stdout",
     "output_type": "stream",
     "text": [
      "['안녕' '100' '3.14' 'True' 'False'] <class 'numpy.ndarray'> <U32\n"
     ]
    }
   ],
   "source": [
    "myArr_c = np.array(myList_c) # 넘파이배열은 '문자열'로 통일 자동형변환\n",
    "print(myArr_c, type(myArr_c), myArr_c.dtype)"
   ]
  },
  {
   "cell_type": "code",
   "execution_count": 28,
   "id": "a490ac28",
   "metadata": {
    "ExecuteTime": {
     "end_time": "2023-11-01T06:18:38.447594Z",
     "start_time": "2023-11-01T06:18:38.441623Z"
    }
   },
   "outputs": [
    {
     "name": "stdout",
     "output_type": "stream",
     "text": [
      "[100.     3.14  23.5    0.  ] <class 'numpy.ndarray'> float64\n"
     ]
    }
   ],
   "source": [
    "# 정수와 실수가 혼합된 넘파이 배열\n",
    "myArr_d = np.array([100, 3.14, 23.5, 0])\n",
    "print(myArr_d, type(myArr_d), myArr_d.dtype) # 정수와 실수 혼합시, 더 큰 실수형으로 통일 자동형변환"
   ]
  },
  {
   "cell_type": "markdown",
   "id": "4f5fb78a",
   "metadata": {},
   "source": [
    "## Inf와 NaN\n",
    "넘파이에서는 무한대를 표현하기 위한 np.inf(infinity)와 정의할 수 없는 숫자를 나타내는 np.nan(not a number)을 사용할 수 있다.   \n",
    "다음 예와 같이 1을 0으로 나누려고 하거나 0에 대한 로그 값을 계산하면 무한대인 np.inf이 나온다.   \n",
    "0을 0으로 나누려고 시도하면 np.nan이 나온다."
   ]
  },
  {
   "cell_type": "code",
   "execution_count": 5,
   "id": "e8b13d9c",
   "metadata": {
    "ExecuteTime": {
     "end_time": "2024-03-20T01:19:21.648947Z",
     "start_time": "2024-03-20T01:19:21.621117Z"
    }
   },
   "outputs": [
    {
     "name": "stderr",
     "output_type": "stream",
     "text": [
      "C:\\Users\\Min\\AppData\\Local\\Temp\\ipykernel_2472\\2068585620.py:1: RuntimeWarning: divide by zero encountered in divide\n",
      "  np.array([0, 1, -1, 0]) / np.array([1, 0, 0, 0])\n",
      "C:\\Users\\Min\\AppData\\Local\\Temp\\ipykernel_2472\\2068585620.py:1: RuntimeWarning: invalid value encountered in divide\n",
      "  np.array([0, 1, -1, 0]) / np.array([1, 0, 0, 0])\n"
     ]
    },
    {
     "data": {
      "text/plain": [
       "array([  0.,  inf, -inf,  nan])"
      ]
     },
     "execution_count": 5,
     "metadata": {},
     "output_type": "execute_result"
    }
   ],
   "source": [
    "np.array([0, 1, -1, 0]) / np.array([1, 0, 0, 0])"
   ]
  },
  {
   "cell_type": "code",
   "execution_count": 6,
   "id": "c879a1b2",
   "metadata": {
    "ExecuteTime": {
     "end_time": "2024-03-20T01:19:25.980742Z",
     "start_time": "2024-03-20T01:19:25.967619Z"
    }
   },
   "outputs": [
    {
     "name": "stderr",
     "output_type": "stream",
     "text": [
      "C:\\Users\\Min\\AppData\\Local\\Temp\\ipykernel_2472\\2933082444.py:1: RuntimeWarning: divide by zero encountered in log\n",
      "  np.log(0)\n"
     ]
    },
    {
     "data": {
      "text/plain": [
       "-inf"
      ]
     },
     "execution_count": 6,
     "metadata": {},
     "output_type": "execute_result"
    }
   ],
   "source": [
    "np.log(0)"
   ]
  },
  {
   "cell_type": "code",
   "execution_count": 7,
   "id": "c3553eea",
   "metadata": {
    "ExecuteTime": {
     "end_time": "2024-03-20T01:19:29.365241Z",
     "start_time": "2024-03-20T01:19:29.359049Z"
    }
   },
   "outputs": [
    {
     "data": {
      "text/plain": [
       "0.0"
      ]
     },
     "execution_count": 7,
     "metadata": {},
     "output_type": "execute_result"
    }
   ],
   "source": [
    "np.exp(-np.inf)"
   ]
  },
  {
   "cell_type": "markdown",
   "id": "df250434",
   "metadata": {},
   "source": [
    "## 기술통계"
   ]
  },
  {
   "cell_type": "code",
   "execution_count": 8,
   "id": "94835ceb",
   "metadata": {
    "ExecuteTime": {
     "end_time": "2024-03-20T01:21:25.770375Z",
     "start_time": "2024-03-20T01:21:25.761875Z"
    }
   },
   "outputs": [],
   "source": [
    "x = np.array([18,   5,  10,  23,  19,  -8,  10,   0,   0,   5,   2,  15,   8,\n",
    "              2,   5,   4,  15,  -1,   4,  -7, -24,   7,   9,  -6,  23, -13])"
   ]
  },
  {
   "cell_type": "code",
   "execution_count": 9,
   "id": "46867534",
   "metadata": {
    "ExecuteTime": {
     "end_time": "2024-03-20T01:21:26.783530Z",
     "start_time": "2024-03-20T01:21:26.777937Z"
    }
   },
   "outputs": [
    {
     "data": {
      "text/plain": [
       "4.8076923076923075"
      ]
     },
     "execution_count": 9,
     "metadata": {},
     "output_type": "execute_result"
    }
   ],
   "source": [
    "np.mean(x)  # 평균"
   ]
  },
  {
   "cell_type": "code",
   "execution_count": 10,
   "id": "885ade3d",
   "metadata": {
    "ExecuteTime": {
     "end_time": "2024-03-20T01:21:27.610133Z",
     "start_time": "2024-03-20T01:21:27.603557Z"
    }
   },
   "outputs": [
    {
     "data": {
      "text/plain": [
       "115.23224852071006"
      ]
     },
     "execution_count": 10,
     "metadata": {},
     "output_type": "execute_result"
    }
   ],
   "source": [
    "np.var(x)  # 분산"
   ]
  },
  {
   "cell_type": "code",
   "execution_count": 11,
   "id": "749d959f",
   "metadata": {
    "ExecuteTime": {
     "end_time": "2024-03-20T01:21:28.189088Z",
     "start_time": "2024-03-20T01:21:28.184314Z"
    }
   },
   "outputs": [
    {
     "data": {
      "text/plain": [
       "10.734628476137871"
      ]
     },
     "execution_count": 11,
     "metadata": {},
     "output_type": "execute_result"
    }
   ],
   "source": [
    "np.std(x)  # 표준 편차"
   ]
  },
  {
   "cell_type": "code",
   "execution_count": 12,
   "id": "a35a9cfa",
   "metadata": {
    "ExecuteTime": {
     "end_time": "2024-03-20T01:21:28.810093Z",
     "start_time": "2024-03-20T01:21:28.801392Z"
    }
   },
   "outputs": [
    {
     "data": {
      "text/plain": [
       "23"
      ]
     },
     "execution_count": 12,
     "metadata": {},
     "output_type": "execute_result"
    }
   ],
   "source": [
    "np.max(x)  # 최댓값"
   ]
  },
  {
   "cell_type": "code",
   "execution_count": 13,
   "id": "768a2869",
   "metadata": {
    "ExecuteTime": {
     "end_time": "2024-03-20T01:21:29.288933Z",
     "start_time": "2024-03-20T01:21:29.282253Z"
    }
   },
   "outputs": [
    {
     "data": {
      "text/plain": [
       "-24"
      ]
     },
     "execution_count": 13,
     "metadata": {},
     "output_type": "execute_result"
    }
   ],
   "source": [
    "np.min(x)  # 최소값"
   ]
  },
  {
   "cell_type": "code",
   "execution_count": 14,
   "id": "ac73e714",
   "metadata": {
    "ExecuteTime": {
     "end_time": "2024-03-20T01:21:29.920607Z",
     "start_time": "2024-03-20T01:21:29.903289Z"
    }
   },
   "outputs": [
    {
     "data": {
      "text/plain": [
       "5.0"
      ]
     },
     "execution_count": 14,
     "metadata": {},
     "output_type": "execute_result"
    }
   ],
   "source": [
    "np.median(x)  # 중앙값"
   ]
  },
  {
   "cell_type": "markdown",
   "id": "7f50c391",
   "metadata": {},
   "source": [
    "### 사분위수\n",
    "사분위수(quartile)는 데이터를 가장 작은 수부터 가장 큰 수까지 크기가 커지는 순서대로 정렬하였을 때 1/4, 2/4, 3/4 위치에 있는 수를 말한다.   \n",
    "각각 1사분위수, 2사분위수, 3사분위수라고 한다.   \n",
    "1/4의 위치란 전체 데이터의 수가 만약 100개이면 25번째 순서, 즉 하위 25%를 말한다. 따라서 2사분위수는 중앙값과 같다.   \n",
    "\n",
    "때로는 위치를 1/100 단위로 나눈 백분위수(percentile)을 사용하기도 한다. 1사분위수는 25% 백분위수와 같다.\n"
   ]
  },
  {
   "cell_type": "code",
   "execution_count": null,
   "id": "78cd7096",
   "metadata": {},
   "outputs": [],
   "source": [
    "np.percentile(x, 0)  # 최소값"
   ]
  },
  {
   "cell_type": "code",
   "execution_count": null,
   "id": "599aa700",
   "metadata": {},
   "outputs": [],
   "source": [
    "np.percentile(x, 25)  # 1사분위 수"
   ]
  },
  {
   "cell_type": "code",
   "execution_count": null,
   "id": "1e5b46af",
   "metadata": {},
   "outputs": [],
   "source": [
    "np.percentile(x, 50)  # 2사분위 수"
   ]
  },
  {
   "cell_type": "code",
   "execution_count": null,
   "id": "8a72f70d",
   "metadata": {},
   "outputs": [],
   "source": [
    "np.percentile(x, 75)  # 3사분위 수"
   ]
  },
  {
   "cell_type": "code",
   "execution_count": null,
   "id": "538d399a",
   "metadata": {},
   "outputs": [],
   "source": [
    "p.percentile(x, 100)  # 최댓값"
   ]
  },
  {
   "cell_type": "markdown",
   "id": "942a069c",
   "metadata": {},
   "source": [
    "## 넘파이 함수로 배열 만들기\n",
    "\n",
    "np.ones(n)  , np.ones((x, y))   \n",
    "np.zeros(n) , np.zeros((x, y))   \n",
    "np.empty(n) , np.empty((x, y))   \n",
    "np.aranges(start, end step)   \n",
    "\n",
    "reshape(x, y) # 차원 확대   \n",
    "flatten(x, y) # 차원 축소"
   ]
  },
  {
   "cell_type": "code",
   "execution_count": 15,
   "id": "019eb262",
   "metadata": {
    "ExecuteTime": {
     "end_time": "2024-03-20T01:25:34.858354Z",
     "start_time": "2024-03-20T01:25:34.850316Z"
    }
   },
   "outputs": [
    {
     "name": "stdout",
     "output_type": "stream",
     "text": [
      "[1. 1. 1. 1. 1. 1. 1. 1. 1. 1.] float64\n"
     ]
    }
   ],
   "source": [
    "# 넘파이 함수로 배열을 만들때에는 디폴트가 실수형\n",
    "print(np.ones(10), np.ones(10).dtype) "
   ]
  },
  {
   "cell_type": "code",
   "execution_count": 16,
   "id": "0fe533c1",
   "metadata": {
    "ExecuteTime": {
     "end_time": "2024-03-20T01:25:57.835045Z",
     "start_time": "2024-03-20T01:25:57.831684Z"
    }
   },
   "outputs": [
    {
     "name": "stdout",
     "output_type": "stream",
     "text": [
      "[[1. 1. 1. 1.]\n",
      " [1. 1. 1. 1.]] float64\n"
     ]
    }
   ],
   "source": [
    "print(np.ones((2,4)), np.ones((2,4)).dtype)"
   ]
  },
  {
   "cell_type": "code",
   "execution_count": 32,
   "id": "445570a8",
   "metadata": {
    "ExecuteTime": {
     "end_time": "2023-11-01T06:20:11.596150Z",
     "start_time": "2023-11-01T06:20:11.591193Z"
    }
   },
   "outputs": [
    {
     "name": "stdout",
     "output_type": "stream",
     "text": [
      "[1 1 1 1 1 1 1 1 1 1] int32\n"
     ]
    }
   ],
   "source": [
    "print(np.ones(10, dtype = int), np.ones(10, dtype = int).dtype)"
   ]
  },
  {
   "cell_type": "code",
   "execution_count": 33,
   "id": "9917cce5",
   "metadata": {
    "ExecuteTime": {
     "end_time": "2023-11-01T06:20:15.653787Z",
     "start_time": "2023-11-01T06:20:15.649838Z"
    },
    "scrolled": true
   },
   "outputs": [
    {
     "name": "stdout",
     "output_type": "stream",
     "text": [
      "[0. 0. 0. 0. 0. 0. 0. 0. 0. 0.] float64\n"
     ]
    }
   ],
   "source": [
    "print(np.zeros(10), np.zeros(10).dtype)"
   ]
  },
  {
   "cell_type": "code",
   "execution_count": 34,
   "id": "c9661820",
   "metadata": {
    "ExecuteTime": {
     "end_time": "2023-11-01T06:20:18.144714Z",
     "start_time": "2023-11-01T06:20:18.140823Z"
    }
   },
   "outputs": [
    {
     "name": "stdout",
     "output_type": "stream",
     "text": [
      "[[0. 0. 0.]\n",
      " [0. 0. 0.]\n",
      " [0. 0. 0.]] float64\n"
     ]
    }
   ],
   "source": [
    "print(np.zeros((3,3)), np.zeros((3,3)).dtype)"
   ]
  },
  {
   "cell_type": "code",
   "execution_count": 17,
   "id": "7a2e6aac",
   "metadata": {
    "ExecuteTime": {
     "end_time": "2024-03-20T01:32:30.587543Z",
     "start_time": "2024-03-20T01:32:30.581083Z"
    }
   },
   "outputs": [
    {
     "name": "stdout",
     "output_type": "stream",
     "text": [
      "[1. 1. 1. 1. 1. 1. 1. 1. 1. 1.] float64\n",
      "[[6.23042070e-307 4.67296746e-307 1.69121096e-306]\n",
      " [1.33511561e-306 1.42419938e-306 7.56603881e-307]\n",
      " [8.45603440e-307 4.45046008e-307 2.37667058e-312]] float64\n",
      "[[6.23042070e-307 4.67296746e-307 1.69121096e-306]\n",
      " [1.33511561e-306 1.42419938e-306 7.56603881e-307]\n",
      " [8.45603440e-307 4.45046008e-307 2.37667058e-312]]\n",
      "[[          0           1           0]\n",
      " [    5570652         332           0]\n",
      " [        768         370 -1979149304]]\n"
     ]
    }
   ],
   "source": [
    "# 메모리가 비어있음\n",
    "print(np.empty(10), np.empty(10).dtype)\n",
    "print(np.empty((3,3)), np.empty((3,3)).dtype)\n",
    "print(np.empty((3,3)))\n",
    "print(np.empty((3,3), dtype=int))"
   ]
  },
  {
   "cell_type": "code",
   "execution_count": 37,
   "id": "03f4f49f",
   "metadata": {
    "ExecuteTime": {
     "end_time": "2023-11-01T06:21:32.757918Z",
     "start_time": "2023-11-01T06:21:32.753938Z"
    }
   },
   "outputs": [
    {
     "name": "stdout",
     "output_type": "stream",
     "text": [
      "[1, 2, 3, 4, 5, 6, 7, 8, 9, 10, 11, 12, 13, 14, 15, 16, 17, 18, 19, 20] <class 'list'>\n"
     ]
    }
   ],
   "source": [
    "# 리스트+레인지\n",
    "print( list(range(1,21)), type(list(range(1,21))) )"
   ]
  },
  {
   "cell_type": "code",
   "execution_count": 18,
   "id": "59441ebb",
   "metadata": {
    "ExecuteTime": {
     "end_time": "2024-03-20T01:33:55.706496Z",
     "start_time": "2024-03-20T01:33:55.698043Z"
    }
   },
   "outputs": [
    {
     "name": "stdout",
     "output_type": "stream",
     "text": [
      "[ 0  1  2  3  4  5  6  7  8  9 10 11 12 13 14 15 16 17 18 19] <class 'numpy.ndarray'>\n",
      "[ 1  2  3  4  5  6  7  8  9 10 11 12 13 14 15 16 17 18 19] <class 'numpy.ndarray'>\n",
      "[ 1  3  5  7  9 11 13 15 17 19] <class 'numpy.ndarray'>\n"
     ]
    }
   ],
   "source": [
    "# 1~20으로 구성된 4행 5열의 넘파이 배열print(np.array(list(range(1,21))), type(list(range(1,21))))\n",
    "print(np.arange(20), type(np.arange(20)))\n",
    "print(np.arange(1, 20), type(np.arange(1, 20)))\n",
    "print(np.arange(1, 20, 2), type(np.arange(1, 20,2)))"
   ]
  },
  {
   "cell_type": "code",
   "execution_count": 39,
   "id": "36f1669b",
   "metadata": {
    "ExecuteTime": {
     "end_time": "2023-11-01T06:21:54.323881Z",
     "start_time": "2023-11-01T06:21:54.319520Z"
    }
   },
   "outputs": [
    {
     "name": "stdout",
     "output_type": "stream",
     "text": [
      "[ 0  1  2  3  4  5  6  7  8  9 10 11 12 13 14 15 16 17 18 19 20 21 22 23\n",
      " 24 25 26 27 28 29 30 31 32 33 34 35 36 37 38 39 40 41 42 43 44 45 46 47\n",
      " 48 49] 50 50\n"
     ]
    }
   ],
   "source": [
    "# 0~49까지 구성된 넘파이 배열\n",
    "arr = np.arange(50)\n",
    "print(arr, len(arr), arr.size)"
   ]
  },
  {
   "cell_type": "code",
   "execution_count": 23,
   "id": "5314e41f",
   "metadata": {
    "ExecuteTime": {
     "end_time": "2024-03-20T01:35:23.935732Z",
     "start_time": "2024-03-20T01:35:23.928577Z"
    }
   },
   "outputs": [
    {
     "data": {
      "text/plain": [
       "array([ 0.  , 23.25, 46.5 , 69.75, 93.  ])"
      ]
     },
     "execution_count": 23,
     "metadata": {},
     "output_type": "execute_result"
    }
   ],
   "source": [
    "# linspace 명령이나 logspace 명령은 선형 구간 혹은 로그 구간을 지정한 구간의 수만큼 분할한다.\n",
    "np.linspace(0, 93, 5)  # 시작, 끝(포함), 갯수"
   ]
  },
  {
   "cell_type": "code",
   "execution_count": 20,
   "id": "9335380e",
   "metadata": {
    "ExecuteTime": {
     "end_time": "2024-03-20T01:34:41.621075Z",
     "start_time": "2024-03-20T01:34:41.614586Z"
    }
   },
   "outputs": [
    {
     "data": {
      "text/plain": [
       "array([ 1.25892541,  1.58489319,  1.99526231,  2.51188643,  3.16227766,\n",
       "        3.98107171,  5.01187234,  6.30957344,  7.94328235, 10.        ])"
      ]
     },
     "execution_count": 20,
     "metadata": {},
     "output_type": "execute_result"
    }
   ],
   "source": [
    "np.logspace(0.1, 1, 10)"
   ]
  },
  {
   "cell_type": "markdown",
   "id": "d26720b0",
   "metadata": {},
   "source": [
    "## reshape 구조의 재배열\n",
    "reshape함수는 np.reshape(변경할 배열, 차원) 또는 배열.reshape(차원)으로 사용 할 수 있으며,   \n",
    "현재의 배열의 차원(1차원,2차원,3차원)을 변경하여 행렬을 반환하거나 하는 경우에 많이 이용되는 함수이다."
   ]
  },
  {
   "cell_type": "code",
   "execution_count": 25,
   "id": "869af3b7",
   "metadata": {
    "ExecuteTime": {
     "end_time": "2024-03-20T01:41:27.582137Z",
     "start_time": "2024-03-20T01:41:27.565012Z"
    }
   },
   "outputs": [
    {
     "ename": "NameError",
     "evalue": "name 'arr' is not defined",
     "output_type": "error",
     "traceback": [
      "\u001b[1;31m---------------------------------------------------------------------------\u001b[0m",
      "\u001b[1;31mNameError\u001b[0m                                 Traceback (most recent call last)",
      "Cell \u001b[1;32mIn[25], line 1\u001b[0m\n\u001b[1;32m----> 1\u001b[0m arr, arr\u001b[38;5;241m.\u001b[39mndim, arr\u001b[38;5;241m.\u001b[39mshape\n",
      "\u001b[1;31mNameError\u001b[0m: name 'arr' is not defined"
     ]
    }
   ],
   "source": [
    "arr, arr.ndim, arr.shape"
   ]
  },
  {
   "cell_type": "code",
   "execution_count": 31,
   "id": "fb805bd8",
   "metadata": {
    "ExecuteTime": {
     "end_time": "2024-03-20T01:46:55.911491Z",
     "start_time": "2024-03-20T01:46:55.904985Z"
    }
   },
   "outputs": [
    {
     "data": {
      "text/plain": [
       "(array([[1., 1., 1., 1., 1.],\n",
       "        [1., 1., 1., 1., 1.],\n",
       "        [1., 1., 1., 1., 1.],\n",
       "        [1., 1., 1., 1., 1.],\n",
       "        [1., 1., 1., 1., 1.],\n",
       "        [1., 1., 1., 1., 1.],\n",
       "        [1., 1., 1., 1., 1.],\n",
       "        [1., 1., 1., 1., 1.],\n",
       "        [1., 1., 1., 1., 1.],\n",
       "        [1., 1., 1., 1., 1.]]),\n",
       " 2,\n",
       " (10, 5))"
      ]
     },
     "execution_count": 31,
     "metadata": {},
     "output_type": "execute_result"
    }
   ],
   "source": [
    "arr=np.ones(50)\n",
    "arr = arr.reshape(10,5)\n",
    "arr, arr.ndim, arr.shape"
   ]
  },
  {
   "cell_type": "code",
   "execution_count": 46,
   "id": "ed620204",
   "metadata": {
    "ExecuteTime": {
     "end_time": "2023-11-01T06:23:54.345577Z",
     "start_time": "2023-11-01T06:23:54.340792Z"
    }
   },
   "outputs": [
    {
     "data": {
      "text/plain": [
       "(array([[ 0,  1,  2,  3,  4,  5,  6,  7,  8,  9],\n",
       "        [10, 11, 12, 13, 14, 15, 16, 17, 18, 19],\n",
       "        [20, 21, 22, 23, 24, 25, 26, 27, 28, 29],\n",
       "        [30, 31, 32, 33, 34, 35, 36, 37, 38, 39],\n",
       "        [40, 41, 42, 43, 44, 45, 46, 47, 48, 49]]),\n",
       " 2,\n",
       " (5, 10))"
      ]
     },
     "execution_count": 46,
     "metadata": {},
     "output_type": "execute_result"
    }
   ],
   "source": [
    "arr2 = arr.reshape(5,10)\n",
    "arr2, arr2.ndim, arr2.shape"
   ]
  },
  {
   "cell_type": "code",
   "execution_count": 48,
   "id": "cf86ef1d",
   "metadata": {
    "ExecuteTime": {
     "end_time": "2023-11-01T06:24:24.669860Z",
     "start_time": "2023-11-01T06:24:24.664246Z"
    }
   },
   "outputs": [
    {
     "data": {
      "text/plain": [
       "(array([ 0,  1,  2,  3,  4,  5,  6,  7,  8,  9, 10, 11, 12, 13, 14, 15, 16,\n",
       "        17, 18, 19, 20, 21, 22, 23, 24, 25, 26, 27, 28, 29, 30, 31, 32, 33,\n",
       "        34, 35, 36, 37, 38, 39, 40, 41, 42, 43, 44, 45, 46, 47, 48, 49]),\n",
       " (50,),\n",
       " 1)"
      ]
     },
     "execution_count": 48,
     "metadata": {},
     "output_type": "execute_result"
    }
   ],
   "source": [
    "# 2차원 -> 1차원\n",
    "# 넘파이배열.flatten()\n",
    "arr3 = arr2.flatten()\n",
    "arr3, arr3.shape, arr3.ndim"
   ]
  },
  {
   "cell_type": "code",
   "execution_count": 49,
   "id": "b6a21730",
   "metadata": {
    "ExecuteTime": {
     "end_time": "2023-11-01T06:24:41.487969Z",
     "start_time": "2023-11-01T06:24:41.481984Z"
    }
   },
   "outputs": [
    {
     "data": {
      "text/plain": [
       "array([  2,   4,   6,   8,  10,  12,  14,  16,  18,  20,  22,  24,  26,\n",
       "        28,  30,  32,  34,  36,  38,  40,  42,  44,  46,  48,  50,  52,\n",
       "        54,  56,  58,  60,  62,  64,  66,  68,  70,  72,  74,  76,  78,\n",
       "        80,  82,  84,  86,  88,  90,  92,  94,  96,  98, 100])"
      ]
     },
     "execution_count": 49,
     "metadata": {},
     "output_type": "execute_result"
    }
   ],
   "source": [
    "# 1~100 사이의 짝수로 된 넘파이 배열 생성\n",
    "np.arange(2,101,2)"
   ]
  },
  {
   "cell_type": "code",
   "execution_count": 26,
   "id": "dabde00a",
   "metadata": {
    "ExecuteTime": {
     "end_time": "2024-03-20T01:45:42.611800Z",
     "start_time": "2024-03-20T01:45:42.604895Z"
    }
   },
   "outputs": [
    {
     "name": "stdout",
     "output_type": "stream",
     "text": [
      "[[  2   4   6   8  10  12  14  16  18  20]\n",
      " [ 22  24  26  28  30  32  34  36  38  40]\n",
      " [ 42  44  46  48  50  52  54  56  58  60]\n",
      " [ 62  64  66  68  70  72  74  76  78  80]\n",
      " [ 82  84  86  88  90  92  94  96  98 100]]\n"
     ]
    }
   ],
   "source": [
    "print(np.arange(2,101,2).reshape(5,10))"
   ]
  },
  {
   "cell_type": "code",
   "execution_count": 27,
   "id": "bf8cc694",
   "metadata": {
    "ExecuteTime": {
     "end_time": "2024-03-20T01:45:45.881315Z",
     "start_time": "2024-03-20T01:45:45.873716Z"
    }
   },
   "outputs": [
    {
     "data": {
      "text/plain": [
       "(array([[ 1],\n",
       "        [ 2],\n",
       "        [ 3],\n",
       "        [ 4],\n",
       "        [ 5],\n",
       "        [ 6],\n",
       "        [ 7],\n",
       "        [ 8],\n",
       "        [ 9],\n",
       "        [10],\n",
       "        [11],\n",
       "        [12],\n",
       "        [13],\n",
       "        [14],\n",
       "        [15],\n",
       "        [16],\n",
       "        [17],\n",
       "        [18],\n",
       "        [19],\n",
       "        [20],\n",
       "        [21],\n",
       "        [22],\n",
       "        [23],\n",
       "        [24],\n",
       "        [25],\n",
       "        [26],\n",
       "        [27],\n",
       "        [28],\n",
       "        [29],\n",
       "        [30]]),\n",
       " 2,\n",
       " (30, 1))"
      ]
     },
     "execution_count": 27,
     "metadata": {},
     "output_type": "execute_result"
    }
   ],
   "source": [
    "# 2차원인데 1개 칼럼의 모형을 만들어보자\n",
    "# reshape(-1, n) : 2차원 n개의 컬럼으로 구성, -1을 넣으면 자동으로 사이즈를 맞춰준다.\n",
    "arr4 = np.arange(1, 31).reshape(-1, 1)\n",
    "arr4, arr4.ndim, arr4.shape"
   ]
  },
  {
   "cell_type": "code",
   "execution_count": 32,
   "id": "ee767ef7",
   "metadata": {
    "ExecuteTime": {
     "end_time": "2024-03-20T01:47:54.522162Z",
     "start_time": "2024-03-20T01:47:54.514455Z"
    }
   },
   "outputs": [
    {
     "data": {
      "text/plain": [
       "array([[ 1,  2,  3,  4],\n",
       "       [ 5,  6,  7,  8],\n",
       "       [ 9, 10, 11, 12],\n",
       "       [13, 14, 15, 16],\n",
       "       [17, 18, 19, 20]])"
      ]
     },
     "execution_count": 32,
     "metadata": {},
     "output_type": "execute_result"
    }
   ],
   "source": [
    "# 4개 칼럼으로 배열 모형을 만들자\n",
    "np.arange(1, 21).reshape(5, 4)"
   ]
  },
  {
   "cell_type": "code",
   "execution_count": 33,
   "id": "794193bc",
   "metadata": {
    "ExecuteTime": {
     "end_time": "2024-03-20T01:48:01.084016Z",
     "start_time": "2024-03-20T01:48:01.075410Z"
    }
   },
   "outputs": [
    {
     "data": {
      "text/plain": [
       "array([[ 1,  2,  3,  4],\n",
       "       [ 5,  6,  7,  8],\n",
       "       [ 9, 10, 11, 12],\n",
       "       [13, 14, 15, 16],\n",
       "       [17, 18, 19, 20]])"
      ]
     },
     "execution_count": 33,
     "metadata": {},
     "output_type": "execute_result"
    }
   ],
   "source": [
    "# 4개 칼럼으로 배열 모형을 만들자\n",
    "np.arange(1, 21).reshape(-1, 4)\n",
    "# rehsape -1은, 행무관하고 n개의 컬럼을 만든다"
   ]
  },
  {
   "cell_type": "code",
   "execution_count": 54,
   "id": "8736ba58",
   "metadata": {
    "ExecuteTime": {
     "end_time": "2023-11-01T06:26:27.899225Z",
     "start_time": "2023-11-01T06:26:27.879764Z"
    }
   },
   "outputs": [
    {
     "ename": "ValueError",
     "evalue": "cannot reshape array of size 20 into shape (7)",
     "output_type": "error",
     "traceback": [
      "\u001b[1;31m---------------------------------------------------------------------------\u001b[0m",
      "\u001b[1;31mValueError\u001b[0m                                Traceback (most recent call last)",
      "Cell \u001b[1;32mIn[54], line 1\u001b[0m\n\u001b[1;32m----> 1\u001b[0m np\u001b[38;5;241m.\u001b[39marange(\u001b[38;5;241m1\u001b[39m, \u001b[38;5;241m21\u001b[39m)\u001b[38;5;241m.\u001b[39mreshape(\u001b[38;5;241m-\u001b[39m\u001b[38;5;241m1\u001b[39m, \u001b[38;5;241m7\u001b[39m)\n",
      "\u001b[1;31mValueError\u001b[0m: cannot reshape array of size 20 into shape (7)"
     ]
    }
   ],
   "source": [
    "# 사이즈가 맞아야 한다.\n",
    "# np.arange(1, 21).reshape(-1, 7)"
   ]
  },
  {
   "cell_type": "code",
   "execution_count": 34,
   "id": "e5638d5a",
   "metadata": {
    "ExecuteTime": {
     "end_time": "2024-03-20T01:48:33.897235Z",
     "start_time": "2024-03-20T01:48:33.888064Z"
    }
   },
   "outputs": [
    {
     "data": {
      "text/plain": [
       "(array([ 0,  1,  2,  3,  4,  5,  6,  7,  8,  9, 10, 11]), (12,))"
      ]
     },
     "execution_count": 34,
     "metadata": {},
     "output_type": "execute_result"
    }
   ],
   "source": [
    "a = np.arange(12)\n",
    "a, a.shape"
   ]
  },
  {
   "cell_type": "code",
   "execution_count": 36,
   "id": "489919be",
   "metadata": {
    "ExecuteTime": {
     "end_time": "2024-03-20T01:50:13.969176Z",
     "start_time": "2024-03-20T01:50:13.963768Z"
    }
   },
   "outputs": [
    {
     "data": {
      "text/plain": [
       "(array([[ 0,  1,  2,  3,  4,  5],\n",
       "        [ 6,  7,  8,  9, 10, 11]]),\n",
       " (2, 6))"
      ]
     },
     "execution_count": 36,
     "metadata": {},
     "output_type": "execute_result"
    }
   ],
   "source": [
    "# 원본 값이 바뀜\n",
    "a.shape = 2, -1\n",
    "a, a.shape"
   ]
  },
  {
   "cell_type": "code",
   "execution_count": 37,
   "id": "f8b8a7ec",
   "metadata": {
    "ExecuteTime": {
     "end_time": "2024-03-20T01:50:14.612433Z",
     "start_time": "2024-03-20T01:50:14.607212Z"
    }
   },
   "outputs": [
    {
     "data": {
      "text/plain": [
       "(array([[ 0,  1,  2,  3],\n",
       "        [ 4,  5,  6,  7],\n",
       "        [ 8,  9, 10, 11]]),\n",
       " (3, 4))"
      ]
     },
     "execution_count": 37,
     "metadata": {},
     "output_type": "execute_result"
    }
   ],
   "source": [
    "a.shape = 3, -1\n",
    "a, a.shape"
   ]
  },
  {
   "cell_type": "code",
   "execution_count": 38,
   "id": "a2d60994",
   "metadata": {
    "ExecuteTime": {
     "end_time": "2024-03-20T01:50:16.649706Z",
     "start_time": "2024-03-20T01:50:16.644696Z"
    }
   },
   "outputs": [
    {
     "data": {
      "text/plain": [
       "(array([[ 0],\n",
       "        [ 1],\n",
       "        [ 2],\n",
       "        [ 3],\n",
       "        [ 4],\n",
       "        [ 5],\n",
       "        [ 6],\n",
       "        [ 7],\n",
       "        [ 8],\n",
       "        [ 9],\n",
       "        [10],\n",
       "        [11]]),\n",
       " (12, 1))"
      ]
     },
     "execution_count": 38,
     "metadata": {},
     "output_type": "execute_result"
    }
   ],
   "source": [
    "a.shape = -1, 1\n",
    "a, a.shape"
   ]
  },
  {
   "cell_type": "code",
   "execution_count": 59,
   "id": "ccc66d64",
   "metadata": {
    "ExecuteTime": {
     "end_time": "2023-11-01T06:27:34.818306Z",
     "start_time": "2023-11-01T06:27:34.812323Z"
    }
   },
   "outputs": [
    {
     "data": {
      "text/plain": [
       "(array([[ 0,  1],\n",
       "        [ 2,  3],\n",
       "        [ 4,  5],\n",
       "        [ 6,  7],\n",
       "        [ 8,  9],\n",
       "        [10, 11]]),\n",
       " (6, 2))"
      ]
     },
     "execution_count": 59,
     "metadata": {},
     "output_type": "execute_result"
    }
   ],
   "source": [
    "a.shape = -1, 2\n",
    "a, a.shape"
   ]
  },
  {
   "cell_type": "code",
   "execution_count": 60,
   "id": "9acdca7b",
   "metadata": {
    "ExecuteTime": {
     "end_time": "2023-11-01T06:27:37.156602Z",
     "start_time": "2023-11-01T06:27:37.151615Z"
    }
   },
   "outputs": [
    {
     "data": {
      "text/plain": [
       "(array([[ 0,  1,  2],\n",
       "        [ 3,  4,  5],\n",
       "        [ 6,  7,  8],\n",
       "        [ 9, 10, 11]]),\n",
       " (4, 3))"
      ]
     },
     "execution_count": 60,
     "metadata": {},
     "output_type": "execute_result"
    }
   ],
   "source": [
    "a.shape = -1, 3\n",
    "a, a.shape"
   ]
  },
  {
   "cell_type": "code",
   "execution_count": 39,
   "id": "a0fdc60a",
   "metadata": {
    "ExecuteTime": {
     "end_time": "2024-03-20T01:50:25.632748Z",
     "start_time": "2024-03-20T01:50:25.627735Z"
    }
   },
   "outputs": [
    {
     "data": {
      "text/plain": [
       "(array([ 0,  1,  2,  3,  4,  5,  6,  7,  8,  9, 10, 11]), (12,))"
      ]
     },
     "execution_count": 39,
     "metadata": {},
     "output_type": "execute_result"
    }
   ],
   "source": [
    "# flatten\n",
    "a.shape = -1\n",
    "a, a.shape"
   ]
  },
  {
   "cell_type": "markdown",
   "id": "24862bee",
   "metadata": {},
   "source": [
    "## 넘파이배열의 자료형 형변환\n",
    "\n",
    "배열명2 = 배열명1.astype(자료형)   \n",
    "자료형 = np.float64, np.int32"
   ]
  },
  {
   "cell_type": "code",
   "execution_count": 62,
   "id": "3ecf5861",
   "metadata": {
    "ExecuteTime": {
     "end_time": "2023-11-01T06:28:18.708463Z",
     "start_time": "2023-11-01T06:28:18.703962Z"
    },
    "scrolled": true
   },
   "outputs": [
    {
     "data": {
      "text/plain": [
       "(array([1, 2, 3, 4, 5, 6, 7, 8, 9]), dtype('int32'))"
      ]
     },
     "execution_count": 62,
     "metadata": {},
     "output_type": "execute_result"
    }
   ],
   "source": [
    "matrix1 = np.arange(1, 10)\n",
    "matrix1, matrix1.dtype"
   ]
  },
  {
   "cell_type": "code",
   "execution_count": 63,
   "id": "6e426075",
   "metadata": {
    "ExecuteTime": {
     "end_time": "2023-11-01T06:28:33.243177Z",
     "start_time": "2023-11-01T06:28:33.238191Z"
    }
   },
   "outputs": [
    {
     "data": {
      "text/plain": [
       "(array([[1, 2, 3],\n",
       "        [4, 5, 6],\n",
       "        [7, 8, 9]]),\n",
       " dtype('int32'))"
      ]
     },
     "execution_count": 63,
     "metadata": {},
     "output_type": "execute_result"
    }
   ],
   "source": [
    "# 정수형, 3행 3열\n",
    "matrix = np.arange(1, 10).reshape(3,3)\n",
    "matrix, matrix.dtype"
   ]
  },
  {
   "cell_type": "code",
   "execution_count": 64,
   "id": "6751b21b",
   "metadata": {
    "ExecuteTime": {
     "end_time": "2023-11-01T06:28:37.580851Z",
     "start_time": "2023-11-01T06:28:37.573163Z"
    }
   },
   "outputs": [
    {
     "data": {
      "text/plain": [
       "(array([[1., 2., 3.],\n",
       "        [4., 5., 6.],\n",
       "        [7., 8., 9.]]),\n",
       " dtype('float64'))"
      ]
     },
     "execution_count": 64,
     "metadata": {},
     "output_type": "execute_result"
    }
   ],
   "source": [
    "# 실수형, 3행 3열\n",
    "matrix = np.arange(1, 10, dtype=float).reshape(3,3)\n",
    "matrix, matrix.dtype"
   ]
  },
  {
   "cell_type": "code",
   "execution_count": 65,
   "id": "3da9c0db",
   "metadata": {
    "ExecuteTime": {
     "end_time": "2023-11-01T06:28:45.912721Z",
     "start_time": "2023-11-01T06:28:45.892594Z"
    }
   },
   "outputs": [
    {
     "ename": "TypeError",
     "evalue": "arange() not supported for inputs with DType <class 'numpy.dtypes.StrDType'>.",
     "output_type": "error",
     "traceback": [
      "\u001b[1;31m---------------------------------------------------------------------------\u001b[0m",
      "\u001b[1;31mTypeError\u001b[0m                                 Traceback (most recent call last)",
      "Cell \u001b[1;32mIn[65], line 2\u001b[0m\n\u001b[0;32m      1\u001b[0m \u001b[38;5;66;03m# 문자열형, 3행 3열 -> 불가\u001b[39;00m\n\u001b[1;32m----> 2\u001b[0m matrix \u001b[38;5;241m=\u001b[39m np\u001b[38;5;241m.\u001b[39marange(\u001b[38;5;241m1\u001b[39m, \u001b[38;5;241m10\u001b[39m, dtype\u001b[38;5;241m=\u001b[39m\u001b[38;5;124m'\u001b[39m\u001b[38;5;124mstr\u001b[39m\u001b[38;5;124m'\u001b[39m)\u001b[38;5;241m.\u001b[39mreshape(\u001b[38;5;241m3\u001b[39m,\u001b[38;5;241m3\u001b[39m)\n\u001b[0;32m      3\u001b[0m matrix, matrix\u001b[38;5;241m.\u001b[39mdtype\n",
      "\u001b[1;31mTypeError\u001b[0m: arange() not supported for inputs with DType <class 'numpy.dtypes.StrDType'>."
     ]
    }
   ],
   "source": [
    "# 문자열형, 3행 3열 -> 불가\n",
    "matrix = np.arange(1, 10, dtype='str').reshape(3,3)\n",
    "matrix, matrix.dtype"
   ]
  },
  {
   "cell_type": "code",
   "execution_count": 66,
   "id": "ad9e5809",
   "metadata": {
    "ExecuteTime": {
     "end_time": "2023-11-01T06:29:18.496190Z",
     "start_time": "2023-11-01T06:29:18.486699Z"
    }
   },
   "outputs": [
    {
     "data": {
      "text/plain": [
       "array([['1.0', '2.0', '3.0'],\n",
       "       ['4.0', '5.0', '6.0'],\n",
       "       ['7.0', '8.0', '9.0']], dtype='<U5')"
      ]
     },
     "execution_count": 66,
     "metadata": {},
     "output_type": "execute_result"
    }
   ],
   "source": [
    "# 정수형 => 문자열\n",
    "matrix.astype('<U5')"
   ]
  },
  {
   "cell_type": "code",
   "execution_count": 67,
   "id": "6f856a10",
   "metadata": {
    "ExecuteTime": {
     "end_time": "2023-11-01T06:29:27.113611Z",
     "start_time": "2023-11-01T06:29:27.108822Z"
    }
   },
   "outputs": [
    {
     "data": {
      "text/plain": [
       "(array([ True, False,  True,  True]), dtype('bool'))"
      ]
     },
     "execution_count": 67,
     "metadata": {},
     "output_type": "execute_result"
    }
   ],
   "source": [
    "# 논리형으로 구성된 넘파이 배열 생성\n",
    "matrix2 = np.array([True, False, True, True])\n",
    "matrix2, matrix2.dtype"
   ]
  },
  {
   "cell_type": "code",
   "execution_count": 68,
   "id": "c2486748",
   "metadata": {
    "ExecuteTime": {
     "end_time": "2023-11-01T06:29:34.169024Z",
     "start_time": "2023-11-01T06:29:34.163049Z"
    }
   },
   "outputs": [
    {
     "data": {
      "text/plain": [
       "array([1, 0, 1, 1])"
      ]
     },
     "execution_count": 68,
     "metadata": {},
     "output_type": "execute_result"
    }
   ],
   "source": [
    "# 불린 -> 정수\n",
    "matrix2.astype(int)"
   ]
  },
  {
   "cell_type": "code",
   "execution_count": 69,
   "id": "ea96a659",
   "metadata": {
    "ExecuteTime": {
     "end_time": "2023-11-01T06:29:38.356431Z",
     "start_time": "2023-11-01T06:29:38.351004Z"
    }
   },
   "outputs": [
    {
     "data": {
      "text/plain": [
       "array(['True', 'False', 'True', 'True'], dtype='<U5')"
      ]
     },
     "execution_count": 69,
     "metadata": {},
     "output_type": "execute_result"
    }
   ],
   "source": [
    "# 불린형 -> 문자열\n",
    "matrix2.astype('<U5')"
   ]
  },
  {
   "cell_type": "code",
   "execution_count": 70,
   "id": "978fe3e4",
   "metadata": {
    "ExecuteTime": {
     "end_time": "2023-11-01T06:29:46.184141Z",
     "start_time": "2023-11-01T06:29:46.179338Z"
    }
   },
   "outputs": [
    {
     "data": {
      "text/plain": [
       "(array(['3.14', '5.5', '0.78'], dtype='<U4'), dtype('<U4'))"
      ]
     },
     "execution_count": 70,
     "metadata": {},
     "output_type": "execute_result"
    }
   ],
   "source": [
    "# 문자열 숫자 => 정수 , 실수\n",
    "matrix3 = np.array(['3.14', '5.5', '0.78'])\n",
    "matrix3, matrix3.dtype"
   ]
  },
  {
   "cell_type": "code",
   "execution_count": 71,
   "id": "f6695b51",
   "metadata": {
    "ExecuteTime": {
     "end_time": "2023-11-01T06:29:49.276321Z",
     "start_time": "2023-11-01T06:29:49.239664Z"
    }
   },
   "outputs": [
    {
     "name": "stdout",
     "output_type": "stream",
     "text": [
      "[3.14 5.5  0.78]\n"
     ]
    },
    {
     "ename": "ValueError",
     "evalue": "invalid literal for int() with base 10: '3.14'",
     "output_type": "error",
     "traceback": [
      "\u001b[1;31m---------------------------------------------------------------------------\u001b[0m",
      "\u001b[1;31mValueError\u001b[0m                                Traceback (most recent call last)",
      "Cell \u001b[1;32mIn[71], line 3\u001b[0m\n\u001b[0;32m      1\u001b[0m \u001b[38;5;28mprint\u001b[39m(matrix3\u001b[38;5;241m.\u001b[39mastype(\u001b[38;5;28mfloat\u001b[39m))\n\u001b[1;32m----> 3\u001b[0m \u001b[38;5;28mprint\u001b[39m(matrix3\u001b[38;5;241m.\u001b[39mastype(\u001b[38;5;28mint\u001b[39m)) \u001b[38;5;66;03m# 불가\u001b[39;00m\n\u001b[0;32m      4\u001b[0m \u001b[38;5;28mprint\u001b[39m(matrix3\u001b[38;5;241m.\u001b[39mastype(\u001b[38;5;28mbool\u001b[39m))\n",
      "\u001b[1;31mValueError\u001b[0m: invalid literal for int() with base 10: '3.14'"
     ]
    }
   ],
   "source": [
    "print(matrix3.astype(float))\n",
    "\n",
    "print(matrix3.astype(int)) # 불가\n",
    "print(matrix3.astype(bool)) # 불가"
   ]
  },
  {
   "cell_type": "code",
   "execution_count": 72,
   "id": "57f2b169",
   "metadata": {
    "ExecuteTime": {
     "end_time": "2023-11-01T06:30:09.735670Z",
     "start_time": "2023-11-01T06:30:09.730178Z"
    }
   },
   "outputs": [
    {
     "data": {
      "text/plain": [
       "array([3, 5, 7])"
      ]
     },
     "execution_count": 72,
     "metadata": {},
     "output_type": "execute_result"
    }
   ],
   "source": [
    "matrix4 = np.array(['3', '5', '7'])\n",
    "matrix4.astype(int)  # 가능, 값이 유효하기 때문"
   ]
  },
  {
   "cell_type": "markdown",
   "id": "175e0ac2",
   "metadata": {},
   "source": [
    "## 넘파이 배열의 인덱싱\n",
    "\n",
    "넘파이배열[index]\n",
    "넘파이배열[i, j], 넘파이배열[i][j] : i행 j 열"
   ]
  },
  {
   "cell_type": "markdown",
   "id": "84c45882",
   "metadata": {},
   "source": [
    "### 1D array"
   ]
  },
  {
   "cell_type": "code",
   "execution_count": 40,
   "id": "ddc0f105",
   "metadata": {
    "ExecuteTime": {
     "end_time": "2024-03-20T02:06:49.347453Z",
     "start_time": "2024-03-20T02:06:49.336004Z"
    }
   },
   "outputs": [
    {
     "data": {
      "text/plain": [
       "(array([1, 3, 5, 7, 9]), 1, (5,), 5)"
      ]
     },
     "execution_count": 40,
     "metadata": {},
     "output_type": "execute_result"
    }
   ],
   "source": [
    "a = np.array([1, 3, 5, 7, 9])\n",
    "a, a.ndim, a.shape, a.size"
   ]
  },
  {
   "cell_type": "code",
   "execution_count": 41,
   "id": "d7f63d35",
   "metadata": {
    "ExecuteTime": {
     "end_time": "2024-03-20T02:06:50.493305Z",
     "start_time": "2024-03-20T02:06:50.488777Z"
    }
   },
   "outputs": [
    {
     "data": {
      "text/plain": [
       "1"
      ]
     },
     "execution_count": 41,
     "metadata": {},
     "output_type": "execute_result"
    }
   ],
   "source": [
    "a[0]"
   ]
  },
  {
   "cell_type": "code",
   "execution_count": 42,
   "id": "bba41234",
   "metadata": {
    "ExecuteTime": {
     "end_time": "2024-03-20T02:06:51.067899Z",
     "start_time": "2024-03-20T02:06:51.062366Z"
    }
   },
   "outputs": [
    {
     "data": {
      "text/plain": [
       "5"
      ]
     },
     "execution_count": 42,
     "metadata": {},
     "output_type": "execute_result"
    }
   ],
   "source": [
    "a[2]"
   ]
  },
  {
   "cell_type": "code",
   "execution_count": 43,
   "id": "81555d64",
   "metadata": {
    "ExecuteTime": {
     "end_time": "2024-03-20T02:06:51.487359Z",
     "start_time": "2024-03-20T02:06:51.481952Z"
    }
   },
   "outputs": [
    {
     "data": {
      "text/plain": [
       "9"
      ]
     },
     "execution_count": 43,
     "metadata": {},
     "output_type": "execute_result"
    }
   ],
   "source": [
    "a[4]"
   ]
  },
  {
   "cell_type": "code",
   "execution_count": 44,
   "id": "af49870b",
   "metadata": {
    "ExecuteTime": {
     "end_time": "2024-03-20T02:06:51.817557Z",
     "start_time": "2024-03-20T02:06:51.812480Z"
    }
   },
   "outputs": [
    {
     "data": {
      "text/plain": [
       "9"
      ]
     },
     "execution_count": 44,
     "metadata": {},
     "output_type": "execute_result"
    }
   ],
   "source": [
    "a[-1]"
   ]
  },
  {
   "cell_type": "code",
   "execution_count": 45,
   "id": "fa822411",
   "metadata": {
    "ExecuteTime": {
     "end_time": "2024-03-20T02:06:54.418610Z",
     "start_time": "2024-03-20T02:06:54.407520Z"
    }
   },
   "outputs": [
    {
     "data": {
      "text/plain": [
       "5"
      ]
     },
     "execution_count": 45,
     "metadata": {},
     "output_type": "execute_result"
    }
   ],
   "source": [
    "a[-3]"
   ]
  },
  {
   "cell_type": "code",
   "execution_count": 46,
   "id": "01ec21cb",
   "metadata": {
    "ExecuteTime": {
     "end_time": "2024-03-20T02:06:55.349137Z",
     "start_time": "2024-03-20T02:06:55.343999Z"
    }
   },
   "outputs": [
    {
     "data": {
      "text/plain": [
       "1"
      ]
     },
     "execution_count": 46,
     "metadata": {},
     "output_type": "execute_result"
    }
   ],
   "source": [
    "a[-5]"
   ]
  },
  {
   "cell_type": "code",
   "execution_count": 47,
   "id": "761bf7d8",
   "metadata": {
    "ExecuteTime": {
     "end_time": "2024-03-20T02:06:58.748081Z",
     "start_time": "2024-03-20T02:06:58.741053Z"
    }
   },
   "outputs": [
    {
     "data": {
      "text/plain": [
       "array([1, 5, 9])"
      ]
     },
     "execution_count": 47,
     "metadata": {},
     "output_type": "execute_result"
    }
   ],
   "source": [
    "a[[0, 2, 4]]"
   ]
  },
  {
   "cell_type": "code",
   "execution_count": 48,
   "id": "e10b85df",
   "metadata": {
    "ExecuteTime": {
     "end_time": "2024-03-20T02:07:02.370681Z",
     "start_time": "2024-03-20T02:07:02.364185Z"
    }
   },
   "outputs": [
    {
     "data": {
      "text/plain": [
       "array([1, 3, 5, 7, 9])"
      ]
     },
     "execution_count": 48,
     "metadata": {},
     "output_type": "execute_result"
    }
   ],
   "source": [
    "a"
   ]
  },
  {
   "cell_type": "code",
   "execution_count": 49,
   "id": "0cefdb78",
   "metadata": {
    "ExecuteTime": {
     "end_time": "2024-03-20T02:07:04.214622Z",
     "start_time": "2024-03-20T02:07:04.205637Z"
    }
   },
   "outputs": [
    {
     "data": {
      "text/plain": [
       "array([[1, 3],\n",
       "       [4, 2]])"
      ]
     },
     "execution_count": 49,
     "metadata": {},
     "output_type": "execute_result"
    }
   ],
   "source": [
    "# 행렬 구조로 인덱싱도 가능하다\n",
    "i = np.array([[1,3], [4,2]])\n",
    "i"
   ]
  },
  {
   "cell_type": "code",
   "execution_count": 50,
   "id": "fa4a1a66",
   "metadata": {
    "ExecuteTime": {
     "end_time": "2024-03-20T02:09:23.619418Z",
     "start_time": "2024-03-20T02:09:23.612902Z"
    }
   },
   "outputs": [
    {
     "data": {
      "text/plain": [
       "array([[3, 7],\n",
       "       [9, 5]])"
      ]
     },
     "execution_count": 50,
     "metadata": {},
     "output_type": "execute_result"
    }
   ],
   "source": [
    "# 넘파이배열1을 넘파이배열2로 인덱싱하는 경우. 넘파이배열2는 인덱스 번호로 인식\n",
    "a[i]"
   ]
  },
  {
   "cell_type": "code",
   "execution_count": 51,
   "id": "b0ab72e5",
   "metadata": {
    "ExecuteTime": {
     "end_time": "2024-03-20T02:09:25.456200Z",
     "start_time": "2024-03-20T02:09:25.447930Z"
    }
   },
   "outputs": [
    {
     "data": {
      "text/plain": [
       "array([1, 3, 0, 7, 9])"
      ]
     },
     "execution_count": 51,
     "metadata": {},
     "output_type": "execute_result"
    }
   ],
   "source": [
    "a[2] = 0\n",
    "a"
   ]
  },
  {
   "cell_type": "code",
   "execution_count": 85,
   "id": "6cd43087",
   "metadata": {
    "ExecuteTime": {
     "end_time": "2023-11-01T06:31:48.824999Z",
     "start_time": "2023-11-01T06:31:48.820196Z"
    }
   },
   "outputs": [
    {
     "data": {
      "text/plain": [
       "array([1, 5, 0, 7, 9])"
      ]
     },
     "execution_count": 85,
     "metadata": {},
     "output_type": "execute_result"
    }
   ],
   "source": [
    "a[1] += 2\n",
    "a"
   ]
  },
  {
   "cell_type": "code",
   "execution_count": 86,
   "id": "f3d6e4c4",
   "metadata": {
    "ExecuteTime": {
     "end_time": "2023-11-01T06:31:50.677302Z",
     "start_time": "2023-11-01T06:31:50.670768Z"
    }
   },
   "outputs": [
    {
     "data": {
      "text/plain": [
       "array([6, 5, 0, 7, 9])"
      ]
     },
     "execution_count": 86,
     "metadata": {},
     "output_type": "execute_result"
    }
   ],
   "source": [
    "a[0] *= 6\n",
    "a"
   ]
  },
  {
   "cell_type": "markdown",
   "id": "7bc82abf",
   "metadata": {},
   "source": [
    "### 2D array"
   ]
  },
  {
   "cell_type": "code",
   "execution_count": 52,
   "id": "7e974684",
   "metadata": {
    "ExecuteTime": {
     "end_time": "2024-03-20T02:10:04.398092Z",
     "start_time": "2024-03-20T02:10:04.391633Z"
    }
   },
   "outputs": [
    {
     "data": {
      "text/plain": [
       "(array([[ 0,  1,  2,  3,  4],\n",
       "        [ 5,  6,  7,  8,  9],\n",
       "        [10, 11, 12, 13, 14]]),\n",
       " 2,\n",
       " (3, 5),\n",
       " 15)"
      ]
     },
     "execution_count": 52,
     "metadata": {},
     "output_type": "execute_result"
    }
   ],
   "source": [
    "a = np.arange(15).reshape(3, 5)\n",
    "a, a.ndim, a.shape, a.size"
   ]
  },
  {
   "cell_type": "code",
   "execution_count": 53,
   "id": "c210b8d4",
   "metadata": {
    "ExecuteTime": {
     "end_time": "2024-03-20T02:10:05.686965Z",
     "start_time": "2024-03-20T02:10:05.681666Z"
    }
   },
   "outputs": [
    {
     "data": {
      "text/plain": [
       "array([0, 1, 2, 3, 4])"
      ]
     },
     "execution_count": 53,
     "metadata": {},
     "output_type": "execute_result"
    }
   ],
   "source": [
    "a[0]"
   ]
  },
  {
   "cell_type": "code",
   "execution_count": 54,
   "id": "5a50b75c",
   "metadata": {
    "ExecuteTime": {
     "end_time": "2024-03-20T02:10:11.592390Z",
     "start_time": "2024-03-20T02:10:11.584909Z"
    }
   },
   "outputs": [
    {
     "data": {
      "text/plain": [
       "array([5, 6, 7, 8, 9])"
      ]
     },
     "execution_count": 54,
     "metadata": {},
     "output_type": "execute_result"
    }
   ],
   "source": [
    "a[1]"
   ]
  },
  {
   "cell_type": "code",
   "execution_count": 55,
   "id": "f82a99d4",
   "metadata": {
    "ExecuteTime": {
     "end_time": "2024-03-20T02:10:12.039371Z",
     "start_time": "2024-03-20T02:10:12.032812Z"
    }
   },
   "outputs": [
    {
     "data": {
      "text/plain": [
       "array([10, 11, 12, 13, 14])"
      ]
     },
     "execution_count": 55,
     "metadata": {},
     "output_type": "execute_result"
    }
   ],
   "source": [
    "a[2]"
   ]
  },
  {
   "cell_type": "code",
   "execution_count": 56,
   "id": "73425a2b",
   "metadata": {
    "ExecuteTime": {
     "end_time": "2024-03-20T02:10:13.901561Z",
     "start_time": "2024-03-20T02:10:13.896546Z"
    }
   },
   "outputs": [
    {
     "data": {
      "text/plain": [
       "array([10, 11, 12, 13, 14])"
      ]
     },
     "execution_count": 56,
     "metadata": {},
     "output_type": "execute_result"
    }
   ],
   "source": [
    "a[-1]"
   ]
  },
  {
   "cell_type": "code",
   "execution_count": 92,
   "id": "ce5035e2",
   "metadata": {
    "ExecuteTime": {
     "end_time": "2023-11-01T06:32:17.681573Z",
     "start_time": "2023-11-01T06:32:17.675686Z"
    }
   },
   "outputs": [
    {
     "data": {
      "text/plain": [
       "array([5, 6, 7, 8, 9])"
      ]
     },
     "execution_count": 92,
     "metadata": {},
     "output_type": "execute_result"
    }
   ],
   "source": [
    "a[-2]"
   ]
  },
  {
   "cell_type": "code",
   "execution_count": 93,
   "id": "fab8950d",
   "metadata": {
    "ExecuteTime": {
     "end_time": "2023-11-01T06:32:20.585407Z",
     "start_time": "2023-11-01T06:32:20.581042Z"
    }
   },
   "outputs": [
    {
     "data": {
      "text/plain": [
       "array([0, 1, 2, 3, 4])"
      ]
     },
     "execution_count": 93,
     "metadata": {},
     "output_type": "execute_result"
    }
   ],
   "source": [
    "a[-3]"
   ]
  },
  {
   "cell_type": "code",
   "execution_count": 89,
   "id": "49332741",
   "metadata": {
    "ExecuteTime": {
     "end_time": "2023-10-30T07:38:38.833886Z",
     "start_time": "2023-10-30T07:38:38.826994Z"
    }
   },
   "outputs": [
    {
     "data": {
      "text/plain": [
       "array([[ 0,  1,  2,  3,  4],\n",
       "       [ 5,  6,  7,  8,  9],\n",
       "       [10, 11, 12, 13, 14]])"
      ]
     },
     "execution_count": 89,
     "metadata": {},
     "output_type": "execute_result"
    }
   ],
   "source": [
    "a"
   ]
  },
  {
   "cell_type": "code",
   "execution_count": 94,
   "id": "848c5efd",
   "metadata": {
    "ExecuteTime": {
     "end_time": "2023-11-01T06:32:37.732166Z",
     "start_time": "2023-11-01T06:32:37.726756Z"
    }
   },
   "outputs": [
    {
     "data": {
      "text/plain": [
       "0"
      ]
     },
     "execution_count": 94,
     "metadata": {},
     "output_type": "execute_result"
    }
   ],
   "source": [
    "a[0, 0]"
   ]
  },
  {
   "cell_type": "code",
   "execution_count": 95,
   "id": "465fee3b",
   "metadata": {
    "ExecuteTime": {
     "end_time": "2023-11-01T06:32:42.023713Z",
     "start_time": "2023-11-01T06:32:42.018981Z"
    }
   },
   "outputs": [
    {
     "data": {
      "text/plain": [
       "1"
      ]
     },
     "execution_count": 95,
     "metadata": {},
     "output_type": "execute_result"
    }
   ],
   "source": [
    "a[0, 1]"
   ]
  },
  {
   "cell_type": "code",
   "execution_count": 96,
   "id": "de51e56c",
   "metadata": {
    "ExecuteTime": {
     "end_time": "2023-11-01T06:32:47.194221Z",
     "start_time": "2023-11-01T06:32:47.186987Z"
    }
   },
   "outputs": [
    {
     "data": {
      "text/plain": [
       "2"
      ]
     },
     "execution_count": 96,
     "metadata": {},
     "output_type": "execute_result"
    }
   ],
   "source": [
    "a[0, 2]"
   ]
  },
  {
   "cell_type": "code",
   "execution_count": 97,
   "id": "139d5857",
   "metadata": {
    "ExecuteTime": {
     "end_time": "2023-11-01T06:32:51.418668Z",
     "start_time": "2023-11-01T06:32:51.413680Z"
    }
   },
   "outputs": [
    {
     "data": {
      "text/plain": [
       "5"
      ]
     },
     "execution_count": 97,
     "metadata": {},
     "output_type": "execute_result"
    }
   ],
   "source": [
    "a[1, 0]"
   ]
  },
  {
   "cell_type": "code",
   "execution_count": 98,
   "id": "84607d9d",
   "metadata": {
    "ExecuteTime": {
     "end_time": "2023-11-01T06:32:54.953009Z",
     "start_time": "2023-11-01T06:32:54.945979Z"
    }
   },
   "outputs": [
    {
     "data": {
      "text/plain": [
       "6"
      ]
     },
     "execution_count": 98,
     "metadata": {},
     "output_type": "execute_result"
    }
   ],
   "source": [
    "a[1, 1]"
   ]
  },
  {
   "cell_type": "code",
   "execution_count": 99,
   "id": "d233ae33",
   "metadata": {
    "ExecuteTime": {
     "end_time": "2023-11-01T06:33:01.588043Z",
     "start_time": "2023-11-01T06:33:01.582063Z"
    }
   },
   "outputs": [
    {
     "data": {
      "text/plain": [
       "7"
      ]
     },
     "execution_count": 99,
     "metadata": {},
     "output_type": "execute_result"
    }
   ],
   "source": [
    "a[1, 2]"
   ]
  },
  {
   "cell_type": "code",
   "execution_count": 100,
   "id": "b138cd14",
   "metadata": {
    "ExecuteTime": {
     "end_time": "2023-11-01T06:33:02.537934Z",
     "start_time": "2023-11-01T06:33:02.530944Z"
    }
   },
   "outputs": [
    {
     "data": {
      "text/plain": [
       "10"
      ]
     },
     "execution_count": 100,
     "metadata": {},
     "output_type": "execute_result"
    }
   ],
   "source": [
    "a[2, 0]"
   ]
  },
  {
   "cell_type": "code",
   "execution_count": 101,
   "id": "52cb3360",
   "metadata": {
    "ExecuteTime": {
     "end_time": "2023-11-01T06:33:03.254620Z",
     "start_time": "2023-11-01T06:33:03.249529Z"
    }
   },
   "outputs": [
    {
     "data": {
      "text/plain": [
       "11"
      ]
     },
     "execution_count": 101,
     "metadata": {},
     "output_type": "execute_result"
    }
   ],
   "source": [
    "a[2, 1]"
   ]
  },
  {
   "cell_type": "code",
   "execution_count": 102,
   "id": "39280ee6",
   "metadata": {
    "ExecuteTime": {
     "end_time": "2023-11-01T06:33:03.812993Z",
     "start_time": "2023-11-01T06:33:03.808138Z"
    }
   },
   "outputs": [
    {
     "data": {
      "text/plain": [
       "12"
      ]
     },
     "execution_count": 102,
     "metadata": {},
     "output_type": "execute_result"
    }
   ],
   "source": [
    "a[2, 2]"
   ]
  },
  {
   "cell_type": "code",
   "execution_count": 103,
   "id": "87a59955",
   "metadata": {
    "ExecuteTime": {
     "end_time": "2023-11-01T06:33:19.023228Z",
     "start_time": "2023-11-01T06:33:19.016737Z"
    }
   },
   "outputs": [
    {
     "data": {
      "text/plain": [
       "10"
      ]
     },
     "execution_count": 103,
     "metadata": {},
     "output_type": "execute_result"
    }
   ],
   "source": [
    "a[-1, 0]"
   ]
  },
  {
   "cell_type": "code",
   "execution_count": 104,
   "id": "0858f3f2",
   "metadata": {
    "ExecuteTime": {
     "end_time": "2023-11-01T06:33:20.354388Z",
     "start_time": "2023-11-01T06:33:20.349658Z"
    }
   },
   "outputs": [
    {
     "data": {
      "text/plain": [
       "11"
      ]
     },
     "execution_count": 104,
     "metadata": {},
     "output_type": "execute_result"
    }
   ],
   "source": [
    "a[-1, 1]"
   ]
  },
  {
   "cell_type": "code",
   "execution_count": 105,
   "id": "6dcd9f42",
   "metadata": {
    "ExecuteTime": {
     "end_time": "2023-11-01T06:33:23.928382Z",
     "start_time": "2023-11-01T06:33:23.923389Z"
    }
   },
   "outputs": [
    {
     "data": {
      "text/plain": [
       "12"
      ]
     },
     "execution_count": 105,
     "metadata": {},
     "output_type": "execute_result"
    }
   ],
   "source": [
    "a[-1, 2]"
   ]
  },
  {
   "cell_type": "code",
   "execution_count": 106,
   "id": "97ae6eac",
   "metadata": {
    "ExecuteTime": {
     "end_time": "2023-11-01T06:33:26.306718Z",
     "start_time": "2023-11-01T06:33:26.299736Z"
    }
   },
   "outputs": [
    {
     "data": {
      "text/plain": [
       "array([[ 0,  1,  2,  3,  4],\n",
       "       [ 5,  6,  7,  8,  9],\n",
       "       [10, 11, 12, 13, 14]])"
      ]
     },
     "execution_count": 106,
     "metadata": {},
     "output_type": "execute_result"
    }
   ],
   "source": [
    "a = np.arange(15).reshape(3, -1)\n",
    "a"
   ]
  },
  {
   "cell_type": "code",
   "execution_count": 107,
   "id": "48c82072",
   "metadata": {
    "ExecuteTime": {
     "end_time": "2023-11-01T06:33:27.845075Z",
     "start_time": "2023-11-01T06:33:27.838787Z"
    }
   },
   "outputs": [
    {
     "data": {
      "text/plain": [
       "array([[ 0,  1,  2,  3,  4],\n",
       "       [ 1,  3,  5,  7,  9],\n",
       "       [10, 11, 12, 13, 14]])"
      ]
     },
     "execution_count": 107,
     "metadata": {},
     "output_type": "execute_result"
    }
   ],
   "source": [
    "a[1] = [1, 3, 5, 7, 9]\n",
    "a"
   ]
  },
  {
   "cell_type": "code",
   "execution_count": 108,
   "id": "701f6c94",
   "metadata": {
    "ExecuteTime": {
     "end_time": "2023-11-01T06:33:29.154040Z",
     "start_time": "2023-11-01T06:33:29.149882Z"
    }
   },
   "outputs": [
    {
     "data": {
      "text/plain": [
       "array([[ 0,  1,  2,  3,  4],\n",
       "       [ 1,  3,  5,  7,  9],\n",
       "       [10, 10, 10, 10, 10]])"
      ]
     },
     "execution_count": 108,
     "metadata": {},
     "output_type": "execute_result"
    }
   ],
   "source": [
    "a[-1] = 10\n",
    "a"
   ]
  },
  {
   "cell_type": "code",
   "execution_count": 109,
   "id": "67637b19",
   "metadata": {
    "ExecuteTime": {
     "end_time": "2023-11-01T06:33:32.286436Z",
     "start_time": "2023-11-01T06:33:32.280932Z"
    }
   },
   "outputs": [
    {
     "data": {
      "text/plain": [
       "array([[ 1,  3,  5,  7,  9],\n",
       "       [ 1,  3,  5,  7,  9],\n",
       "       [10, 10, 10, 10, 10]])"
      ]
     },
     "execution_count": 109,
     "metadata": {},
     "output_type": "execute_result"
    }
   ],
   "source": [
    "a[0] += [1, 2, 3, 4, 5]\n",
    "a"
   ]
  },
  {
   "cell_type": "code",
   "execution_count": 57,
   "id": "944e4c10",
   "metadata": {
    "ExecuteTime": {
     "end_time": "2024-03-20T02:13:48.216181Z",
     "start_time": "2024-03-20T02:13:48.204348Z"
    }
   },
   "outputs": [
    {
     "data": {
      "text/plain": [
       "(array([0, 1, 2, 3, 4, 5, 6, 7, 8, 9]),\n",
       " array([[ 0,  1,  2,  3],\n",
       "        [ 4,  5,  6,  7],\n",
       "        [ 8,  9, 10, 11]]))"
      ]
     },
     "execution_count": 57,
     "metadata": {},
     "output_type": "execute_result"
    }
   ],
   "source": [
    "matrix_a = np.arange(10)\n",
    "matrix_b = np.arange(12).reshape(3,4)\n",
    "\n",
    "matrix_a, matrix_b"
   ]
  },
  {
   "cell_type": "code",
   "execution_count": 112,
   "id": "bcb513db",
   "metadata": {
    "ExecuteTime": {
     "end_time": "2023-11-01T06:34:11.843346Z",
     "start_time": "2023-11-01T06:34:11.836738Z"
    }
   },
   "outputs": [
    {
     "data": {
      "text/plain": [
       "(0, 9)"
      ]
     },
     "execution_count": 112,
     "metadata": {},
     "output_type": "execute_result"
    }
   ],
   "source": [
    "# 1차원에서 첫 요소와 마지막 요소\n",
    "matrix_a[0], matrix_a[-1]"
   ]
  },
  {
   "cell_type": "code",
   "execution_count": 113,
   "id": "a10874ba",
   "metadata": {
    "ExecuteTime": {
     "end_time": "2023-11-01T06:34:13.017160Z",
     "start_time": "2023-11-01T06:34:13.012651Z"
    }
   },
   "outputs": [
    {
     "data": {
      "text/plain": [
       "0"
      ]
     },
     "execution_count": 113,
     "metadata": {},
     "output_type": "execute_result"
    }
   ],
   "source": [
    "# 2차원에서 1번째행 1번째열\n",
    "matrix_b[0, 0]"
   ]
  },
  {
   "cell_type": "code",
   "execution_count": 114,
   "id": "c18c1014",
   "metadata": {
    "ExecuteTime": {
     "end_time": "2023-11-01T06:34:15.574133Z",
     "start_time": "2023-11-01T06:34:15.566634Z"
    }
   },
   "outputs": [
    {
     "data": {
      "text/plain": [
       "0"
      ]
     },
     "execution_count": 114,
     "metadata": {},
     "output_type": "execute_result"
    }
   ],
   "source": [
    "matrix_b[0][0]"
   ]
  },
  {
   "cell_type": "code",
   "execution_count": 116,
   "id": "aedf33f7",
   "metadata": {
    "ExecuteTime": {
     "end_time": "2023-11-01T06:34:35.219789Z",
     "start_time": "2023-11-01T06:34:35.215243Z"
    }
   },
   "outputs": [
    {
     "data": {
      "text/plain": [
       "array([[ 0,  1,  2,  3],\n",
       "       [ 4,  5,  6,  7],\n",
       "       [ 8,  9, 10, 11]])"
      ]
     },
     "execution_count": 116,
     "metadata": {},
     "output_type": "execute_result"
    }
   ],
   "source": [
    "matrix_b"
   ]
  },
  {
   "cell_type": "code",
   "execution_count": 117,
   "id": "c3cc93b8",
   "metadata": {
    "ExecuteTime": {
     "end_time": "2023-11-01T06:34:39.118422Z",
     "start_time": "2023-11-01T06:34:39.114445Z"
    }
   },
   "outputs": [
    {
     "data": {
      "text/plain": [
       "11"
      ]
     },
     "execution_count": 117,
     "metadata": {},
     "output_type": "execute_result"
    }
   ],
   "source": [
    "# 2차원 마지막행 마지막열 -> 3행 4열\n",
    "matrix_b[-1,-1]"
   ]
  },
  {
   "cell_type": "code",
   "execution_count": 118,
   "id": "3962fd38",
   "metadata": {
    "ExecuteTime": {
     "end_time": "2023-11-01T06:34:42.128735Z",
     "start_time": "2023-11-01T06:34:42.122750Z"
    }
   },
   "outputs": [
    {
     "data": {
      "text/plain": [
       "11"
      ]
     },
     "execution_count": 118,
     "metadata": {},
     "output_type": "execute_result"
    }
   ],
   "source": [
    "matrix_b[-1][-1]"
   ]
  },
  {
   "cell_type": "code",
   "execution_count": 119,
   "id": "a9525e43",
   "metadata": {
    "ExecuteTime": {
     "end_time": "2023-11-01T06:34:43.201120Z",
     "start_time": "2023-11-01T06:34:43.192745Z"
    }
   },
   "outputs": [
    {
     "data": {
      "text/plain": [
       "11"
      ]
     },
     "execution_count": 119,
     "metadata": {},
     "output_type": "execute_result"
    }
   ],
   "source": [
    "matrix_b[2][3]"
   ]
  },
  {
   "cell_type": "code",
   "execution_count": 120,
   "id": "5b336fb4",
   "metadata": {
    "ExecuteTime": {
     "end_time": "2023-11-01T06:34:43.996972Z",
     "start_time": "2023-11-01T06:34:43.989019Z"
    }
   },
   "outputs": [
    {
     "data": {
      "text/plain": [
       "array([[  0,   1,   2,   3],\n",
       "       [  4,   5,   6,   7],\n",
       "       [100,   9,  10,  11]])"
      ]
     },
     "execution_count": 120,
     "metadata": {},
     "output_type": "execute_result"
    }
   ],
   "source": [
    "# matrix_b에서 3번째행 1번째열의값을 100으로 변경해보자\n",
    "matrix_b[2,0] = 100\n",
    "matrix_b"
   ]
  },
  {
   "cell_type": "markdown",
   "id": "12d7ceab",
   "metadata": {},
   "source": [
    "## 넘파이배열 슬라이싱\n",
    "\n",
    "\n",
    "* 1차원\n",
    "- 넘파이배열[:end]\n",
    "- 넘파이배열[start:]\n",
    "- 넘파이배열[start:end]\n",
    "- 넘파이배열[start:end:step]\n",
    "\n",
    "* 2차원\n",
    "- 넘파이배열[행, 열] = [start:end:step, start2:end2:step2]"
   ]
  },
  {
   "cell_type": "markdown",
   "id": "5dce032d",
   "metadata": {},
   "source": [
    "### 1D array"
   ]
  },
  {
   "cell_type": "code",
   "execution_count": 121,
   "id": "7e706da2",
   "metadata": {
    "ExecuteTime": {
     "end_time": "2023-11-01T06:34:55.351814Z",
     "start_time": "2023-11-01T06:34:55.346043Z"
    }
   },
   "outputs": [
    {
     "data": {
      "text/plain": [
       "(array([1, 3, 5, 7, 9]), 1, (5,), 5)"
      ]
     },
     "execution_count": 121,
     "metadata": {},
     "output_type": "execute_result"
    }
   ],
   "source": [
    "a = np.array([1, 3, 5, 7, 9])\n",
    "a, a.ndim, a.shape, a.size"
   ]
  },
  {
   "cell_type": "code",
   "execution_count": 122,
   "id": "05b04f54",
   "metadata": {
    "ExecuteTime": {
     "end_time": "2023-11-01T06:35:02.242323Z",
     "start_time": "2023-11-01T06:35:02.236646Z"
    }
   },
   "outputs": [
    {
     "data": {
      "text/plain": [
       "array([1, 3, 5, 7, 9])"
      ]
     },
     "execution_count": 122,
     "metadata": {},
     "output_type": "execute_result"
    }
   ],
   "source": [
    "a[:]"
   ]
  },
  {
   "cell_type": "code",
   "execution_count": 123,
   "id": "d3dce03b",
   "metadata": {
    "ExecuteTime": {
     "end_time": "2023-11-01T06:35:15.533323Z",
     "start_time": "2023-11-01T06:35:15.528129Z"
    }
   },
   "outputs": [
    {
     "data": {
      "text/plain": [
       "array([3, 5, 7, 9])"
      ]
     },
     "execution_count": 123,
     "metadata": {},
     "output_type": "execute_result"
    }
   ],
   "source": [
    " a[1:]"
   ]
  },
  {
   "cell_type": "code",
   "execution_count": 124,
   "id": "3802a7e6",
   "metadata": {
    "ExecuteTime": {
     "end_time": "2023-11-01T06:35:16.887748Z",
     "start_time": "2023-11-01T06:35:16.882764Z"
    }
   },
   "outputs": [
    {
     "data": {
      "text/plain": [
       "array([9])"
      ]
     },
     "execution_count": 124,
     "metadata": {},
     "output_type": "execute_result"
    }
   ],
   "source": [
    "a[-1:]"
   ]
  },
  {
   "cell_type": "code",
   "execution_count": 126,
   "id": "31e644b0",
   "metadata": {
    "ExecuteTime": {
     "end_time": "2023-11-01T06:35:29.070768Z",
     "start_time": "2023-11-01T06:35:29.064309Z"
    }
   },
   "outputs": [
    {
     "data": {
      "text/plain": [
       "array([1, 3, 5])"
      ]
     },
     "execution_count": 126,
     "metadata": {},
     "output_type": "execute_result"
    }
   ],
   "source": [
    "a[:3]"
   ]
  },
  {
   "cell_type": "code",
   "execution_count": 120,
   "id": "4d367888",
   "metadata": {
    "ExecuteTime": {
     "end_time": "2023-10-30T08:02:25.954526Z",
     "start_time": "2023-10-30T08:02:25.948025Z"
    }
   },
   "outputs": [
    {
     "data": {
      "text/plain": [
       "array([1, 3, 5, 7])"
      ]
     },
     "execution_count": 120,
     "metadata": {},
     "output_type": "execute_result"
    }
   ],
   "source": [
    "a[:-1]"
   ]
  },
  {
   "cell_type": "code",
   "execution_count": 127,
   "id": "6696dc1f",
   "metadata": {
    "ExecuteTime": {
     "end_time": "2023-11-01T06:35:41.078024Z",
     "start_time": "2023-11-01T06:35:41.073038Z"
    }
   },
   "outputs": [
    {
     "data": {
      "text/plain": [
       "array([3, 5, 7])"
      ]
     },
     "execution_count": 127,
     "metadata": {},
     "output_type": "execute_result"
    }
   ],
   "source": [
    "a[1:4]"
   ]
  },
  {
   "cell_type": "code",
   "execution_count": 128,
   "id": "1ee359c8",
   "metadata": {
    "ExecuteTime": {
     "end_time": "2023-11-01T06:35:46.823062Z",
     "start_time": "2023-11-01T06:35:46.816128Z"
    }
   },
   "outputs": [
    {
     "data": {
      "text/plain": [
       "array([3, 5, 7])"
      ]
     },
     "execution_count": 128,
     "metadata": {},
     "output_type": "execute_result"
    }
   ],
   "source": [
    "a[1:-1]"
   ]
  },
  {
   "cell_type": "code",
   "execution_count": 129,
   "id": "80fa6ca9",
   "metadata": {
    "ExecuteTime": {
     "end_time": "2023-11-01T06:35:48.259375Z",
     "start_time": "2023-11-01T06:35:48.254868Z"
    }
   },
   "outputs": [
    {
     "data": {
      "text/plain": [
       "array([0, 1, 2, 3, 4, 5, 6, 7, 8, 9])"
      ]
     },
     "execution_count": 129,
     "metadata": {},
     "output_type": "execute_result"
    }
   ],
   "source": [
    "a = np.arange(10)\n",
    "a"
   ]
  },
  {
   "cell_type": "code",
   "execution_count": 130,
   "id": "ffc28261",
   "metadata": {
    "ExecuteTime": {
     "end_time": "2023-11-01T06:35:48.684286Z",
     "start_time": "2023-11-01T06:35:48.679774Z"
    }
   },
   "outputs": [
    {
     "data": {
      "text/plain": [
       "array([0, 2, 4, 6, 8])"
      ]
     },
     "execution_count": 130,
     "metadata": {},
     "output_type": "execute_result"
    }
   ],
   "source": [
    "a[::2]"
   ]
  },
  {
   "cell_type": "code",
   "execution_count": 131,
   "id": "db827b3b",
   "metadata": {
    "ExecuteTime": {
     "end_time": "2023-11-01T06:35:53.765066Z",
     "start_time": "2023-11-01T06:35:53.759480Z"
    }
   },
   "outputs": [
    {
     "data": {
      "text/plain": [
       "array([0, 5])"
      ]
     },
     "execution_count": 131,
     "metadata": {},
     "output_type": "execute_result"
    }
   ],
   "source": [
    "a[::5]"
   ]
  },
  {
   "cell_type": "code",
   "execution_count": 132,
   "id": "24f47c7d",
   "metadata": {
    "ExecuteTime": {
     "end_time": "2023-11-01T06:35:54.962005Z",
     "start_time": "2023-11-01T06:35:54.953100Z"
    }
   },
   "outputs": [
    {
     "data": {
      "text/plain": [
       "array([9, 8, 7, 6, 5, 4, 3, 2, 1, 0])"
      ]
     },
     "execution_count": 132,
     "metadata": {},
     "output_type": "execute_result"
    }
   ],
   "source": [
    "a[::-1]"
   ]
  },
  {
   "cell_type": "code",
   "execution_count": 133,
   "id": "a6c6c090",
   "metadata": {
    "ExecuteTime": {
     "end_time": "2023-11-01T06:36:01.153571Z",
     "start_time": "2023-11-01T06:36:01.148118Z"
    }
   },
   "outputs": [
    {
     "data": {
      "text/plain": [
       "array([1, 3, 5, 7, 9])"
      ]
     },
     "execution_count": 133,
     "metadata": {},
     "output_type": "execute_result"
    }
   ],
   "source": [
    "# 홀수\n",
    "a[1::2]"
   ]
  },
  {
   "cell_type": "code",
   "execution_count": 134,
   "id": "be63fc52",
   "metadata": {
    "ExecuteTime": {
     "end_time": "2023-11-01T06:36:03.054573Z",
     "start_time": "2023-11-01T06:36:03.048543Z"
    }
   },
   "outputs": [
    {
     "data": {
      "text/plain": [
       "array([3, 5, 7, 9])"
      ]
     },
     "execution_count": 134,
     "metadata": {},
     "output_type": "execute_result"
    }
   ],
   "source": [
    "a[3::2]"
   ]
  },
  {
   "cell_type": "code",
   "execution_count": 135,
   "id": "49d86d7c",
   "metadata": {
    "ExecuteTime": {
     "end_time": "2023-11-01T06:36:23.147168Z",
     "start_time": "2023-11-01T06:36:23.140675Z"
    }
   },
   "outputs": [
    {
     "data": {
      "text/plain": [
       "array([0, 2, 4, 6])"
      ]
     },
     "execution_count": 135,
     "metadata": {},
     "output_type": "execute_result"
    }
   ],
   "source": [
    "a[:-2:2]"
   ]
  },
  {
   "cell_type": "code",
   "execution_count": 136,
   "id": "d8aabbbb",
   "metadata": {
    "ExecuteTime": {
     "end_time": "2023-11-01T06:36:24.942745Z",
     "start_time": "2023-11-01T06:36:24.938479Z"
    }
   },
   "outputs": [
    {
     "data": {
      "text/plain": [
       "array([0, 2])"
      ]
     },
     "execution_count": 136,
     "metadata": {},
     "output_type": "execute_result"
    }
   ],
   "source": [
    "a[:-6:2]"
   ]
  },
  {
   "cell_type": "code",
   "execution_count": 137,
   "id": "dbb93626",
   "metadata": {
    "ExecuteTime": {
     "end_time": "2023-11-01T06:36:25.614539Z",
     "start_time": "2023-11-01T06:36:25.607594Z"
    }
   },
   "outputs": [
    {
     "data": {
      "text/plain": [
       "array([2, 4, 6])"
      ]
     },
     "execution_count": 137,
     "metadata": {},
     "output_type": "execute_result"
    }
   ],
   "source": [
    "a[2:-2:2]"
   ]
  },
  {
   "cell_type": "markdown",
   "id": "d0e0e527",
   "metadata": {},
   "source": [
    "### 2D array"
   ]
  },
  {
   "cell_type": "code",
   "execution_count": 58,
   "id": "60efd861",
   "metadata": {
    "ExecuteTime": {
     "end_time": "2024-03-20T02:19:24.663748Z",
     "start_time": "2024-03-20T02:19:24.656173Z"
    }
   },
   "outputs": [
    {
     "data": {
      "text/plain": [
       "(array([[10, 11, 12, 13, 14],\n",
       "        [15, 16, 17, 18, 19],\n",
       "        [20, 21, 22, 23, 24]]),\n",
       " 2,\n",
       " (3, 5),\n",
       " 15)"
      ]
     },
     "execution_count": 58,
     "metadata": {},
     "output_type": "execute_result"
    }
   ],
   "source": [
    "a = np.arange(10, 25).reshape(3, 5)\n",
    "a, a.ndim, a.shape, a.size"
   ]
  },
  {
   "cell_type": "code",
   "execution_count": 139,
   "id": "e553c0dd",
   "metadata": {
    "ExecuteTime": {
     "end_time": "2023-11-01T06:36:36.248349Z",
     "start_time": "2023-11-01T06:36:36.243362Z"
    }
   },
   "outputs": [
    {
     "data": {
      "text/plain": [
       "array([[10, 11, 12, 13, 14],\n",
       "       [15, 16, 17, 18, 19],\n",
       "       [20, 21, 22, 23, 24]])"
      ]
     },
     "execution_count": 139,
     "metadata": {},
     "output_type": "execute_result"
    }
   ],
   "source": [
    "a[:]"
   ]
  },
  {
   "cell_type": "code",
   "execution_count": 140,
   "id": "d7a2861b",
   "metadata": {
    "ExecuteTime": {
     "end_time": "2023-11-01T06:36:38.443825Z",
     "start_time": "2023-11-01T06:36:38.439031Z"
    }
   },
   "outputs": [
    {
     "data": {
      "text/plain": [
       "array([[15, 16, 17, 18, 19],\n",
       "       [20, 21, 22, 23, 24]])"
      ]
     },
     "execution_count": 140,
     "metadata": {},
     "output_type": "execute_result"
    }
   ],
   "source": [
    "a[1:]"
   ]
  },
  {
   "cell_type": "code",
   "execution_count": 141,
   "id": "5de389fe",
   "metadata": {
    "ExecuteTime": {
     "end_time": "2023-11-01T06:36:44.943103Z",
     "start_time": "2023-11-01T06:36:44.937981Z"
    }
   },
   "outputs": [
    {
     "data": {
      "text/plain": [
       "array([], shape=(0, 5), dtype=int32)"
      ]
     },
     "execution_count": 141,
     "metadata": {},
     "output_type": "execute_result"
    }
   ],
   "source": [
    "a[3:]"
   ]
  },
  {
   "cell_type": "code",
   "execution_count": 142,
   "id": "d9d7a97c",
   "metadata": {
    "ExecuteTime": {
     "end_time": "2023-11-01T06:36:48.571603Z",
     "start_time": "2023-11-01T06:36:48.564469Z"
    }
   },
   "outputs": [
    {
     "data": {
      "text/plain": [
       "array([[20, 21, 22, 23, 24]])"
      ]
     },
     "execution_count": 142,
     "metadata": {},
     "output_type": "execute_result"
    }
   ],
   "source": [
    "a[-1:]"
   ]
  },
  {
   "cell_type": "code",
   "execution_count": 143,
   "id": "3e239d56",
   "metadata": {
    "ExecuteTime": {
     "end_time": "2023-11-01T06:36:51.191236Z",
     "start_time": "2023-11-01T06:36:51.183363Z"
    }
   },
   "outputs": [
    {
     "data": {
      "text/plain": [
       "array([[10, 11, 12, 13, 14],\n",
       "       [15, 16, 17, 18, 19],\n",
       "       [20, 21, 22, 23, 24]])"
      ]
     },
     "execution_count": 143,
     "metadata": {},
     "output_type": "execute_result"
    }
   ],
   "source": [
    "a[-3:]"
   ]
  },
  {
   "cell_type": "code",
   "execution_count": 144,
   "id": "cecaed17",
   "metadata": {
    "ExecuteTime": {
     "end_time": "2023-11-01T06:36:55.218785Z",
     "start_time": "2023-11-01T06:36:55.212806Z"
    }
   },
   "outputs": [
    {
     "data": {
      "text/plain": [
       "array([], shape=(0, 5), dtype=int32)"
      ]
     },
     "execution_count": 144,
     "metadata": {},
     "output_type": "execute_result"
    }
   ],
   "source": [
    "a[:0]"
   ]
  },
  {
   "cell_type": "code",
   "execution_count": 145,
   "id": "2429f089",
   "metadata": {
    "ExecuteTime": {
     "end_time": "2023-11-01T06:36:57.750844Z",
     "start_time": "2023-11-01T06:36:57.742862Z"
    }
   },
   "outputs": [
    {
     "data": {
      "text/plain": [
       "array([[10, 11, 12, 13, 14],\n",
       "       [15, 16, 17, 18, 19]])"
      ]
     },
     "execution_count": 145,
     "metadata": {},
     "output_type": "execute_result"
    }
   ],
   "source": [
    "a[:2]"
   ]
  },
  {
   "cell_type": "code",
   "execution_count": 146,
   "id": "95a5da0f",
   "metadata": {
    "ExecuteTime": {
     "end_time": "2023-11-01T06:37:02.535858Z",
     "start_time": "2023-11-01T06:37:02.531261Z"
    }
   },
   "outputs": [
    {
     "data": {
      "text/plain": [
       "array([[10, 11, 12, 13, 14],\n",
       "       [15, 16, 17, 18, 19]])"
      ]
     },
     "execution_count": 146,
     "metadata": {},
     "output_type": "execute_result"
    }
   ],
   "source": [
    "a[:-1]"
   ]
  },
  {
   "cell_type": "code",
   "execution_count": 147,
   "id": "2a5b7f53",
   "metadata": {
    "ExecuteTime": {
     "end_time": "2023-11-01T06:37:03.651191Z",
     "start_time": "2023-11-01T06:37:03.644680Z"
    }
   },
   "outputs": [
    {
     "data": {
      "text/plain": [
       "array([], shape=(0, 5), dtype=int32)"
      ]
     },
     "execution_count": 147,
     "metadata": {},
     "output_type": "execute_result"
    }
   ],
   "source": [
    "a[:-3]"
   ]
  },
  {
   "cell_type": "code",
   "execution_count": 148,
   "id": "52d3f129",
   "metadata": {
    "ExecuteTime": {
     "end_time": "2023-11-01T06:37:16.166190Z",
     "start_time": "2023-11-01T06:37:16.160362Z"
    }
   },
   "outputs": [
    {
     "data": {
      "text/plain": [
       "array([[15, 16, 17, 18, 19]])"
      ]
     },
     "execution_count": 148,
     "metadata": {},
     "output_type": "execute_result"
    }
   ],
   "source": [
    "a[1:-1]"
   ]
  },
  {
   "cell_type": "code",
   "execution_count": 150,
   "id": "e9d5c88a",
   "metadata": {
    "ExecuteTime": {
     "end_time": "2023-11-01T06:37:41.279140Z",
     "start_time": "2023-11-01T06:37:41.271633Z"
    }
   },
   "outputs": [
    {
     "data": {
      "text/plain": [
       "array([[10, 11, 12, 13, 14],\n",
       "       [15, 16, 17, 18, 19],\n",
       "       [20, 21, 22, 23, 24]])"
      ]
     },
     "execution_count": 150,
     "metadata": {},
     "output_type": "execute_result"
    }
   ],
   "source": [
    "a[:, :]"
   ]
  },
  {
   "cell_type": "code",
   "execution_count": 152,
   "id": "1fd1d129",
   "metadata": {
    "ExecuteTime": {
     "end_time": "2023-11-01T06:37:49.720626Z",
     "start_time": "2023-11-01T06:37:49.715547Z"
    }
   },
   "outputs": [
    {
     "data": {
      "text/plain": [
       "array([[11, 12, 13, 14],\n",
       "       [16, 17, 18, 19],\n",
       "       [21, 22, 23, 24]])"
      ]
     },
     "execution_count": 152,
     "metadata": {},
     "output_type": "execute_result"
    }
   ],
   "source": [
    "a[:, 1:]"
   ]
  },
  {
   "cell_type": "code",
   "execution_count": 144,
   "id": "cfea8d2d",
   "metadata": {
    "ExecuteTime": {
     "end_time": "2023-10-30T08:10:38.483734Z",
     "start_time": "2023-10-30T08:10:38.478747Z"
    }
   },
   "outputs": [
    {
     "data": {
      "text/plain": [
       "array([[13, 14],\n",
       "       [18, 19],\n",
       "       [23, 24]])"
      ]
     },
     "execution_count": 144,
     "metadata": {},
     "output_type": "execute_result"
    }
   ],
   "source": [
    "a[:, 3:]"
   ]
  },
  {
   "cell_type": "code",
   "execution_count": 146,
   "id": "d9ec202c",
   "metadata": {
    "ExecuteTime": {
     "end_time": "2023-10-30T08:11:01.880571Z",
     "start_time": "2023-10-30T08:11:01.875532Z"
    }
   },
   "outputs": [
    {
     "data": {
      "text/plain": [
       "array([[14],\n",
       "       [19],\n",
       "       [24]])"
      ]
     },
     "execution_count": 146,
     "metadata": {},
     "output_type": "execute_result"
    }
   ],
   "source": [
    "a[:, -1:]"
   ]
  },
  {
   "cell_type": "code",
   "execution_count": 147,
   "id": "cd97d343",
   "metadata": {
    "ExecuteTime": {
     "end_time": "2023-10-30T08:11:28.569925Z",
     "start_time": "2023-10-30T08:11:28.565165Z"
    }
   },
   "outputs": [
    {
     "data": {
      "text/plain": [
       "array([[11, 12, 13, 14],\n",
       "       [16, 17, 18, 19],\n",
       "       [21, 22, 23, 24]])"
      ]
     },
     "execution_count": 147,
     "metadata": {},
     "output_type": "execute_result"
    }
   ],
   "source": [
    "a[:, -4:]"
   ]
  },
  {
   "cell_type": "code",
   "execution_count": 148,
   "id": "fcc74961",
   "metadata": {
    "ExecuteTime": {
     "end_time": "2023-10-30T08:11:57.136020Z",
     "start_time": "2023-10-30T08:11:57.131371Z"
    }
   },
   "outputs": [
    {
     "data": {
      "text/plain": [
       "array([[10],\n",
       "       [15],\n",
       "       [20]])"
      ]
     },
     "execution_count": 148,
     "metadata": {},
     "output_type": "execute_result"
    }
   ],
   "source": [
    "a[:, :1]"
   ]
  },
  {
   "cell_type": "code",
   "execution_count": 149,
   "id": "49959545",
   "metadata": {
    "ExecuteTime": {
     "end_time": "2023-10-30T08:12:03.263696Z",
     "start_time": "2023-10-30T08:12:03.257662Z"
    }
   },
   "outputs": [
    {
     "data": {
      "text/plain": [
       "array([[10, 11, 12, 13, 14],\n",
       "       [15, 16, 17, 18, 19],\n",
       "       [20, 21, 22, 23, 24]])"
      ]
     },
     "execution_count": 149,
     "metadata": {},
     "output_type": "execute_result"
    }
   ],
   "source": [
    "a[:, :5]"
   ]
  },
  {
   "cell_type": "code",
   "execution_count": 150,
   "id": "7cdb0957",
   "metadata": {
    "ExecuteTime": {
     "end_time": "2023-10-30T08:12:35.052291Z",
     "start_time": "2023-10-30T08:12:35.047306Z"
    }
   },
   "outputs": [
    {
     "data": {
      "text/plain": [
       "array([[10, 11, 12, 13, 14],\n",
       "       [15, 16, 17, 18, 19],\n",
       "       [20, 21, 22, 23, 24]])"
      ]
     },
     "execution_count": 150,
     "metadata": {},
     "output_type": "execute_result"
    }
   ],
   "source": [
    "a"
   ]
  },
  {
   "cell_type": "code",
   "execution_count": 281,
   "id": "6352b54e",
   "metadata": {
    "ExecuteTime": {
     "end_time": "2023-10-29T15:36:16.067278Z",
     "start_time": "2023-10-29T15:36:16.062993Z"
    }
   },
   "outputs": [
    {
     "data": {
      "text/plain": [
       "array([[10, 11, 12, 13],\n",
       "       [15, 16, 17, 18],\n",
       "       [20, 21, 22, 23]])"
      ]
     },
     "execution_count": 281,
     "metadata": {},
     "output_type": "execute_result"
    }
   ],
   "source": [
    "a[:, :-1]"
   ]
  },
  {
   "cell_type": "code",
   "execution_count": 282,
   "id": "50d0aea9",
   "metadata": {
    "ExecuteTime": {
     "end_time": "2023-10-29T15:36:25.835431Z",
     "start_time": "2023-10-29T15:36:25.830376Z"
    }
   },
   "outputs": [
    {
     "data": {
      "text/plain": [
       "array([[10, 11, 12],\n",
       "       [15, 16, 17],\n",
       "       [20, 21, 22]])"
      ]
     },
     "execution_count": 282,
     "metadata": {},
     "output_type": "execute_result"
    }
   ],
   "source": [
    "a[:, :-2]"
   ]
  },
  {
   "cell_type": "code",
   "execution_count": 283,
   "id": "8b591c46",
   "metadata": {
    "ExecuteTime": {
     "end_time": "2023-10-29T15:36:32.580435Z",
     "start_time": "2023-10-29T15:36:32.575425Z"
    }
   },
   "outputs": [
    {
     "data": {
      "text/plain": [
       "array([[10],\n",
       "       [15],\n",
       "       [20]])"
      ]
     },
     "execution_count": 283,
     "metadata": {},
     "output_type": "execute_result"
    }
   ],
   "source": [
    "a[:, 0:1]"
   ]
  },
  {
   "cell_type": "code",
   "execution_count": 284,
   "id": "d878794a",
   "metadata": {
    "ExecuteTime": {
     "end_time": "2023-10-29T15:36:39.043465Z",
     "start_time": "2023-10-29T15:36:39.038823Z"
    }
   },
   "outputs": [
    {
     "data": {
      "text/plain": [
       "array([[12],\n",
       "       [17],\n",
       "       [22]])"
      ]
     },
     "execution_count": 284,
     "metadata": {},
     "output_type": "execute_result"
    }
   ],
   "source": [
    "a[:, 2:3]"
   ]
  },
  {
   "cell_type": "code",
   "execution_count": 151,
   "id": "c24fdf8d",
   "metadata": {
    "ExecuteTime": {
     "end_time": "2023-10-30T08:14:05.313948Z",
     "start_time": "2023-10-30T08:14:05.308308Z"
    }
   },
   "outputs": [
    {
     "data": {
      "text/plain": [
       "array([[11, 12, 13],\n",
       "       [16, 17, 18],\n",
       "       [21, 22, 23]])"
      ]
     },
     "execution_count": 151,
     "metadata": {},
     "output_type": "execute_result"
    }
   ],
   "source": [
    "a[:, 1:-1]"
   ]
  },
  {
   "cell_type": "code",
   "execution_count": 60,
   "id": "8c748723",
   "metadata": {
    "ExecuteTime": {
     "end_time": "2024-03-20T02:26:09.955312Z",
     "start_time": "2024-03-20T02:26:09.946299Z"
    }
   },
   "outputs": [
    {
     "data": {
      "text/plain": [
       "array([[17, 18, 19],\n",
       "       [22, 23, 24]])"
      ]
     },
     "execution_count": 60,
     "metadata": {},
     "output_type": "execute_result"
    }
   ],
   "source": [
    "a[1:,2:]"
   ]
  },
  {
   "cell_type": "code",
   "execution_count": 153,
   "id": "b989269c",
   "metadata": {
    "ExecuteTime": {
     "end_time": "2023-11-01T06:38:26.817181Z",
     "start_time": "2023-11-01T06:38:26.811195Z"
    }
   },
   "outputs": [
    {
     "data": {
      "text/plain": [
       "array([[10, 11, 12, 13, 14, 15, 16, 17, 18, 19],\n",
       "       [20, 21, 22, 23, 24, 25, 26, 27, 28, 29],\n",
       "       [30, 31, 32, 33, 34, 35, 36, 37, 38, 39],\n",
       "       [40, 41, 42, 43, 44, 45, 46, 47, 48, 49],\n",
       "       [50, 51, 52, 53, 54, 55, 56, 57, 58, 59],\n",
       "       [60, 61, 62, 63, 64, 65, 66, 67, 68, 69],\n",
       "       [70, 71, 72, 73, 74, 75, 76, 77, 78, 79],\n",
       "       [80, 81, 82, 83, 84, 85, 86, 87, 88, 89],\n",
       "       [90, 91, 92, 93, 94, 95, 96, 97, 98, 99]])"
      ]
     },
     "execution_count": 153,
     "metadata": {},
     "output_type": "execute_result"
    }
   ],
   "source": [
    "a = np.arange(10, 100).reshape(9, 10)\n",
    "a"
   ]
  },
  {
   "cell_type": "code",
   "execution_count": 153,
   "id": "20ce159f",
   "metadata": {
    "ExecuteTime": {
     "end_time": "2023-10-30T08:14:31.025988Z",
     "start_time": "2023-10-30T08:14:31.019351Z"
    }
   },
   "outputs": [
    {
     "data": {
      "text/plain": [
       "array([[30, 31, 32, 33, 34, 35, 36, 37, 38, 39],\n",
       "       [40, 41, 42, 43, 44, 45, 46, 47, 48, 49],\n",
       "       [50, 51, 52, 53, 54, 55, 56, 57, 58, 59]])"
      ]
     },
     "execution_count": 153,
     "metadata": {},
     "output_type": "execute_result"
    }
   ],
   "source": [
    "a[2:5, :]"
   ]
  },
  {
   "cell_type": "code",
   "execution_count": 288,
   "id": "bc83c807",
   "metadata": {
    "ExecuteTime": {
     "end_time": "2023-10-29T15:37:09.211589Z",
     "start_time": "2023-10-29T15:37:09.206975Z"
    }
   },
   "outputs": [
    {
     "data": {
      "text/plain": [
       "array([[12, 13, 14],\n",
       "       [22, 23, 24],\n",
       "       [32, 33, 34],\n",
       "       [42, 43, 44],\n",
       "       [52, 53, 54],\n",
       "       [62, 63, 64],\n",
       "       [72, 73, 74],\n",
       "       [82, 83, 84],\n",
       "       [92, 93, 94]])"
      ]
     },
     "execution_count": 288,
     "metadata": {},
     "output_type": "execute_result"
    }
   ],
   "source": [
    "a[:, 2:5]"
   ]
  },
  {
   "cell_type": "code",
   "execution_count": 154,
   "id": "733eeee3",
   "metadata": {
    "ExecuteTime": {
     "end_time": "2023-11-01T06:39:56.140217Z",
     "start_time": "2023-11-01T06:39:56.133611Z"
    }
   },
   "outputs": [
    {
     "data": {
      "text/plain": [
       "array([[32, 33, 34],\n",
       "       [42, 43, 44],\n",
       "       [52, 53, 54]])"
      ]
     },
     "execution_count": 154,
     "metadata": {},
     "output_type": "execute_result"
    }
   ],
   "source": [
    "a[2:5, 2:5]"
   ]
  },
  {
   "cell_type": "code",
   "execution_count": 155,
   "id": "3bc33f84",
   "metadata": {
    "ExecuteTime": {
     "end_time": "2023-11-01T06:39:56.531555Z",
     "start_time": "2023-11-01T06:39:56.523760Z"
    }
   },
   "outputs": [
    {
     "data": {
      "text/plain": [
       "array([[10, 12, 14, 16, 18],\n",
       "       [30, 32, 34, 36, 38],\n",
       "       [50, 52, 54, 56, 58],\n",
       "       [70, 72, 74, 76, 78],\n",
       "       [90, 92, 94, 96, 98]])"
      ]
     },
     "execution_count": 155,
     "metadata": {},
     "output_type": "execute_result"
    }
   ],
   "source": [
    "a[::2, ::2]"
   ]
  },
  {
   "cell_type": "code",
   "execution_count": 156,
   "id": "3fc867dd",
   "metadata": {
    "ExecuteTime": {
     "end_time": "2023-11-01T06:39:59.403005Z",
     "start_time": "2023-11-01T06:39:59.395427Z"
    }
   },
   "outputs": [
    {
     "data": {
      "text/plain": [
       "array([[10, 11, 12, 13, 14, 15, 16, 17, 18, 19],\n",
       "       [20, 21, 22, 23, 24, 25, 26, 27, 28, 29],\n",
       "       [30, 31, 32, 33, 34, 35, 36, 37, 38, 39],\n",
       "       [40, 41, 42, 43, 44, 45, 46, 47, 48, 49],\n",
       "       [50, 51, 52, 53, 54, 55, 56, 57, 58, 59],\n",
       "       [60, 61, 62, 63, 64, 65, 66, 67, 68, 69],\n",
       "       [70, 71, 72, 73, 74, 75, 76, 77, 78, 79],\n",
       "       [80, 81, 82, 83, 84, 85, 86, 87, 88, 89],\n",
       "       [90, 91, 92, 93, 94, 95, 96, 97, 98, 99]])"
      ]
     },
     "execution_count": 156,
     "metadata": {},
     "output_type": "execute_result"
    }
   ],
   "source": [
    "a"
   ]
  },
  {
   "cell_type": "code",
   "execution_count": 157,
   "id": "846f0649",
   "metadata": {
    "ExecuteTime": {
     "end_time": "2023-11-01T06:39:59.946231Z",
     "start_time": "2023-11-01T06:39:59.940241Z"
    }
   },
   "outputs": [
    {
     "data": {
      "text/plain": [
       "array([[99, 98, 97, 96, 95, 94, 93, 92, 91, 90],\n",
       "       [89, 88, 87, 86, 85, 84, 83, 82, 81, 80],\n",
       "       [79, 78, 77, 76, 75, 74, 73, 72, 71, 70],\n",
       "       [69, 68, 67, 66, 65, 64, 63, 62, 61, 60],\n",
       "       [59, 58, 57, 56, 55, 54, 53, 52, 51, 50],\n",
       "       [49, 48, 47, 46, 45, 44, 43, 42, 41, 40],\n",
       "       [39, 38, 37, 36, 35, 34, 33, 32, 31, 30],\n",
       "       [29, 28, 27, 26, 25, 24, 23, 22, 21, 20],\n",
       "       [19, 18, 17, 16, 15, 14, 13, 12, 11, 10]])"
      ]
     },
     "execution_count": 157,
     "metadata": {},
     "output_type": "execute_result"
    }
   ],
   "source": [
    "a[::-1, ::-1]"
   ]
  },
  {
   "cell_type": "code",
   "execution_count": 158,
   "id": "62ddaf2c",
   "metadata": {
    "ExecuteTime": {
     "end_time": "2023-11-01T06:40:17.555163Z",
     "start_time": "2023-11-01T06:40:17.549982Z"
    }
   },
   "outputs": [
    {
     "data": {
      "text/plain": [
       "(array([[ 1,  2,  3,  4,  5],\n",
       "        [ 6,  7,  8,  9, 10],\n",
       "        [11, 12, 13, 14, 15],\n",
       "        [16, 17, 18, 19, 20],\n",
       "        [21, 22, 23, 24, 25]]),\n",
       " numpy.ndarray,\n",
       " 2)"
      ]
     },
     "execution_count": 158,
     "metadata": {},
     "output_type": "execute_result"
    }
   ],
   "source": [
    "matrix_c = np.arange(1, 26).reshape(5,5)\n",
    "matrix_c, type(matrix_c), matrix_c.ndim"
   ]
  },
  {
   "cell_type": "code",
   "execution_count": 159,
   "id": "b3b07a2a",
   "metadata": {
    "ExecuteTime": {
     "end_time": "2023-11-01T06:40:18.027637Z",
     "start_time": "2023-11-01T06:40:18.021654Z"
    }
   },
   "outputs": [
    {
     "data": {
      "text/plain": [
       "(array([1, 2, 3, 4, 5]), array([1, 2, 3, 4, 5]))"
      ]
     },
     "execution_count": 159,
     "metadata": {},
     "output_type": "execute_result"
    }
   ],
   "source": [
    "# 1차원 슬라이싱, 1행만 출력\n",
    "matrix_c[0, :], matrix_c[0]"
   ]
  },
  {
   "cell_type": "code",
   "execution_count": 160,
   "id": "cc2558e5",
   "metadata": {
    "ExecuteTime": {
     "end_time": "2023-11-01T06:40:18.336006Z",
     "start_time": "2023-11-01T06:40:18.329008Z"
    },
    "scrolled": true
   },
   "outputs": [
    {
     "data": {
      "text/plain": [
       "(array([[ 1,  2,  3,  4,  5],\n",
       "        [ 6,  7,  8,  9, 10]]),\n",
       " array([[ 1,  2,  3,  4,  5],\n",
       "        [ 6,  7,  8,  9, 10]]))"
      ]
     },
     "execution_count": 160,
     "metadata": {},
     "output_type": "execute_result"
    }
   ],
   "source": [
    "# 2차원 슬라이싱, 1번째행 2번째행 출력\n",
    "matrix_c[0:2, :], matrix_c[0:2]"
   ]
  },
  {
   "cell_type": "code",
   "execution_count": null,
   "id": "979e8da8",
   "metadata": {
    "ExecuteTime": {
     "end_time": "2023-11-01T06:40:18.629220Z",
     "start_time": "2023-11-01T06:40:18.629220Z"
    }
   },
   "outputs": [],
   "source": [
    "# 1번째열만 출력\n",
    "matrix_c[:, 0]"
   ]
  },
  {
   "cell_type": "code",
   "execution_count": 161,
   "id": "6efd7554",
   "metadata": {
    "ExecuteTime": {
     "end_time": "2023-11-01T06:40:18.927089Z",
     "start_time": "2023-11-01T06:40:18.921106Z"
    }
   },
   "outputs": [
    {
     "data": {
      "text/plain": [
       "array([[ 3,  4],\n",
       "       [ 8,  9],\n",
       "       [13, 14],\n",
       "       [18, 19],\n",
       "       [23, 24]])"
      ]
     },
     "execution_count": 161,
     "metadata": {},
     "output_type": "execute_result"
    }
   ],
   "source": [
    "# 3,4 번째열만 출력\n",
    "matrix_c[:, 2:4]"
   ]
  },
  {
   "cell_type": "code",
   "execution_count": 162,
   "id": "a59f39a1",
   "metadata": {
    "ExecuteTime": {
     "end_time": "2023-11-01T06:40:19.530162Z",
     "start_time": "2023-11-01T06:40:19.520657Z"
    }
   },
   "outputs": [
    {
     "data": {
      "text/plain": [
       "array([[ 1,  2],\n",
       "       [ 6,  7],\n",
       "       [11, 12]])"
      ]
     },
     "execution_count": 162,
     "metadata": {},
     "output_type": "execute_result"
    }
   ],
   "source": [
    "# 특정행의 특정열 슬라이싱\n",
    "matrix_c[0:3, 0:2]"
   ]
  },
  {
   "cell_type": "code",
   "execution_count": 163,
   "id": "0c5392bb",
   "metadata": {
    "ExecuteTime": {
     "end_time": "2023-11-01T06:40:20.042137Z",
     "start_time": "2023-11-01T06:40:20.036942Z"
    }
   },
   "outputs": [
    {
     "data": {
      "text/plain": [
       "array([[ 1,  2,  3,  4,  5],\n",
       "       [11, 12, 13, 14, 15],\n",
       "       [21, 22, 23, 24, 25]])"
      ]
     },
     "execution_count": 163,
     "metadata": {},
     "output_type": "execute_result"
    }
   ],
   "source": [
    "# 홀수번째 행만 출력\n",
    "matrix_c[::2, ::]"
   ]
  },
  {
   "cell_type": "code",
   "execution_count": 164,
   "id": "6993d59a",
   "metadata": {
    "ExecuteTime": {
     "end_time": "2023-11-01T06:40:20.834303Z",
     "start_time": "2023-11-01T06:40:20.828749Z"
    }
   },
   "outputs": [
    {
     "data": {
      "text/plain": [
       "array([[ 6,  8, 10],\n",
       "       [16, 18, 20]])"
      ]
     },
     "execution_count": 164,
     "metadata": {},
     "output_type": "execute_result"
    }
   ],
   "source": [
    "# 짝수번쨰행 + 홀수번째열\n",
    "matrix_c[1::2, ::2]"
   ]
  },
  {
   "cell_type": "code",
   "execution_count": 165,
   "id": "172eb84c",
   "metadata": {
    "ExecuteTime": {
     "end_time": "2023-11-01T06:40:21.628405Z",
     "start_time": "2023-11-01T06:40:21.622905Z"
    }
   },
   "outputs": [
    {
     "name": "stdout",
     "output_type": "stream",
     "text": [
      "[[21 22 23 24 25]\n",
      " [16 17 18 19 20]\n",
      " [11 12 13 14 15]\n",
      " [ 6  7  8  9 10]\n",
      " [ 1  2  3  4  5]]\n",
      "[[ 5  4  3  2  1]\n",
      " [10  9  8  7  6]\n",
      " [15 14 13 12 11]\n",
      " [20 19 18 17 16]\n",
      " [25 24 23 22 21]]\n"
     ]
    }
   ],
   "source": [
    "# 리버스 인덱싱\n",
    "print(matrix_c[::-1, ::]) # 행 뒤집기\n",
    "print(matrix_c[::, ::-1]) # 열 뒤집기"
   ]
  },
  {
   "attachments": {
    "image-2.png": {
     "image/png": "[encoded data removed]"
    }
   },
   "cell_type": "markdown",
   "id": "90a3bc09",
   "metadata": {},
   "source": [
    "### 전치행렬\n",
    "넘파이배열.T : 행과 열 구조 변경\n",
    "![image-2.png](attachment:image-2.png)"
   ]
  },
  {
   "cell_type": "code",
   "execution_count": 166,
   "id": "91c920ea",
   "metadata": {
    "ExecuteTime": {
     "end_time": "2023-11-01T06:41:01.002236Z",
     "start_time": "2023-11-01T06:41:00.996878Z"
    }
   },
   "outputs": [
    {
     "data": {
      "text/plain": [
       "array([[1, 2],\n",
       "       [3, 4],\n",
       "       [5, 6]])"
      ]
     },
     "execution_count": 166,
     "metadata": {},
     "output_type": "execute_result"
    }
   ],
   "source": [
    "# 3행 2열\n",
    "matrix_d = np.arange(1,7).reshape(3,2)\n",
    "matrix_d"
   ]
  },
  {
   "cell_type": "code",
   "execution_count": 167,
   "id": "e1717d41",
   "metadata": {
    "ExecuteTime": {
     "end_time": "2023-11-01T06:41:04.054145Z",
     "start_time": "2023-11-01T06:41:04.049697Z"
    }
   },
   "outputs": [
    {
     "name": "stdout",
     "output_type": "stream",
     "text": [
      "[[1 3 5]\n",
      " [2 4 6]]\n"
     ]
    }
   ],
   "source": [
    "# 2행 3열로 변환\n",
    "print(matrix_d.T)"
   ]
  },
  {
   "cell_type": "code",
   "execution_count": 168,
   "id": "a8f3e36d",
   "metadata": {
    "ExecuteTime": {
     "end_time": "2023-11-01T06:41:18.957877Z",
     "start_time": "2023-11-01T06:41:18.952891Z"
    }
   },
   "outputs": [
    {
     "name": "stdout",
     "output_type": "stream",
     "text": [
      "[[1 2 3]\n",
      " [4 5 6]]\n"
     ]
    }
   ],
   "source": [
    "# reshape과 transpose은 값이 다름을 유의\n",
    "print(matrix_d.reshape(2,3)) "
   ]
  },
  {
   "cell_type": "markdown",
   "id": "eec36d56",
   "metadata": {},
   "source": [
    "### 난수로 구성된 넘파이 배열\n",
    "\n",
    "np.random.randint(start, end, n) : 정수 난수   \n",
    "np.random.randint(start, end, (i, j)) \n"
   ]
  },
  {
   "cell_type": "code",
   "execution_count": 18,
   "id": "cc220160",
   "metadata": {
    "ExecuteTime": {
     "end_time": "2021-11-23T06:41:32.431161Z",
     "start_time": "2021-11-23T06:41:32.421187Z"
    }
   },
   "outputs": [],
   "source": [
    "np.random?"
   ]
  },
  {
   "cell_type": "code",
   "execution_count": 62,
   "id": "b3a92885",
   "metadata": {
    "ExecuteTime": {
     "end_time": "2024-03-20T02:35:39.088048Z",
     "start_time": "2024-03-20T02:35:39.081901Z"
    }
   },
   "outputs": [
    {
     "data": {
      "text/plain": [
       "array([7, 9, 9, 6, 4, 7, 7, 2, 4, 1])"
      ]
     },
     "execution_count": 62,
     "metadata": {},
     "output_type": "execute_result"
    }
   ],
   "source": [
    "# 1~10 사이의 숫자중에서 10개 출력\n",
    "np.random.randint(1, 10, 10)"
   ]
  },
  {
   "cell_type": "code",
   "execution_count": 63,
   "id": "dc0374ab",
   "metadata": {
    "ExecuteTime": {
     "end_time": "2024-03-20T02:35:39.776006Z",
     "start_time": "2024-03-20T02:35:39.768225Z"
    }
   },
   "outputs": [
    {
     "data": {
      "text/plain": [
       "array([[4, 2, 1, 3, 5],\n",
       "       [8, 7, 3, 5, 2]])"
      ]
     },
     "execution_count": 63,
     "metadata": {},
     "output_type": "execute_result"
    }
   ],
   "source": [
    "# 2행 5열로 츨력\n",
    "np.random.randint(1, 10, (2,5))"
   ]
  },
  {
   "cell_type": "markdown",
   "id": "9a5f3276",
   "metadata": {},
   "source": [
    "### 섞기\n",
    "np.random.shuffle(넘파이배열)\n",
    "원본에 바로 적용"
   ]
  },
  {
   "cell_type": "code",
   "execution_count": 172,
   "id": "393a4b75",
   "metadata": {
    "ExecuteTime": {
     "end_time": "2023-10-30T08:26:20.506121Z",
     "start_time": "2023-10-30T08:26:20.500296Z"
    }
   },
   "outputs": [],
   "source": [
    "np.random.shuffle?"
   ]
  },
  {
   "cell_type": "code",
   "execution_count": 64,
   "id": "6209e4d1",
   "metadata": {
    "ExecuteTime": {
     "end_time": "2024-03-20T02:35:43.786299Z",
     "start_time": "2024-03-20T02:35:43.778559Z"
    }
   },
   "outputs": [
    {
     "data": {
      "text/plain": [
       "array([ 1,  2,  3,  4,  5,  6,  7,  8,  9, 10])"
      ]
     },
     "execution_count": 64,
     "metadata": {},
     "output_type": "execute_result"
    }
   ],
   "source": [
    "# 10개 무작위 값 만들기\n",
    "matrix_e = np.arange(1,11)\n",
    "matrix_e"
   ]
  },
  {
   "cell_type": "code",
   "execution_count": 65,
   "id": "cdf05dc1",
   "metadata": {
    "ExecuteTime": {
     "end_time": "2024-03-20T02:35:51.917662Z",
     "start_time": "2024-03-20T02:35:51.912300Z"
    }
   },
   "outputs": [
    {
     "data": {
      "text/plain": [
       "array([ 7,  3,  9, 10,  6,  2,  4,  8,  5,  1])"
      ]
     },
     "execution_count": 65,
     "metadata": {},
     "output_type": "execute_result"
    }
   ],
   "source": [
    "np.random.shuffle(matrix_e)\n",
    "matrix_e"
   ]
  },
  {
   "cell_type": "markdown",
   "id": "d1478720",
   "metadata": {},
   "source": [
    "#### Quiz : 1~46까지 구성된 숫자 중에서 6개를 뽑아서 로또 번호를 생성하라"
   ]
  },
  {
   "cell_type": "code",
   "execution_count": 69,
   "id": "d9d7b04e",
   "metadata": {
    "ExecuteTime": {
     "end_time": "2024-03-20T02:36:48.679261Z",
     "start_time": "2024-03-20T02:36:48.674542Z"
    }
   },
   "outputs": [
    {
     "ename": "SyntaxError",
     "evalue": "invalid syntax (566121511.py, line 3)",
     "output_type": "error",
     "traceback": [
      "\u001b[1;36m  Cell \u001b[1;32mIn[69], line 3\u001b[1;36m\u001b[0m\n\u001b[1;33m    num([:6])\u001b[0m\n\u001b[1;37m         ^\u001b[0m\n\u001b[1;31mSyntaxError\u001b[0m\u001b[1;31m:\u001b[0m invalid syntax\n"
     ]
    }
   ],
   "source": [
    "num= np.arange(1,47)\n",
    "np.random.shuffle(num)\n",
    "num[:6]"
   ]
  },
  {
   "cell_type": "code",
   "execution_count": 70,
   "id": "cc8caa92",
   "metadata": {
    "ExecuteTime": {
     "end_time": "2024-03-20T02:37:05.796260Z",
     "start_time": "2024-03-20T02:37:05.790626Z"
    }
   },
   "outputs": [
    {
     "data": {
      "text/plain": [
       "array([ 4, 27, 41, 41,  7, 14])"
      ]
     },
     "execution_count": 70,
     "metadata": {},
     "output_type": "execute_result"
    }
   ],
   "source": [
    "np.random.randint(1,47,6)"
   ]
  },
  {
   "cell_type": "markdown",
   "id": "accf5036",
   "metadata": {},
   "source": [
    "### 실수 난수\n",
    " np.random.randn(n)\n",
    " np.random.randn(i, j)"
   ]
  },
  {
   "cell_type": "code",
   "execution_count": 180,
   "id": "ee5709cd",
   "metadata": {
    "ExecuteTime": {
     "end_time": "2023-10-30T08:29:07.101008Z",
     "start_time": "2023-10-30T08:29:07.094517Z"
    }
   },
   "outputs": [],
   "source": [
    "np.random.randn?"
   ]
  },
  {
   "cell_type": "code",
   "execution_count": 71,
   "id": "a9d94157",
   "metadata": {
    "ExecuteTime": {
     "end_time": "2024-03-20T02:39:06.709113Z",
     "start_time": "2024-03-20T02:39:06.700629Z"
    }
   },
   "outputs": [
    {
     "data": {
      "text/plain": [
       "array([ 1.39671046, -0.25408319, -0.34372473,  1.39838933, -0.08535657,\n",
       "       -0.05347346, -1.21470598,  1.62563142,  0.65423896,  0.62148132])"
      ]
     },
     "execution_count": 71,
     "metadata": {},
     "output_type": "execute_result"
    }
   ],
   "source": [
    "matrix1 = np.random.randn(10) # 표준정규분포 0 ~ 분산1\n",
    "matrix1"
   ]
  },
  {
   "cell_type": "code",
   "execution_count": 72,
   "id": "a913e4ad",
   "metadata": {
    "ExecuteTime": {
     "end_time": "2024-03-20T02:39:07.311660Z",
     "start_time": "2024-03-20T02:39:07.306648Z"
    }
   },
   "outputs": [
    {
     "data": {
      "text/plain": [
       "array([[ 0.97087438, -0.30342333, -0.49858352, -1.35613121],\n",
       "       [ 2.21007034,  0.45372486,  0.49080686, -1.54472867],\n",
       "       [ 0.88711407,  0.54096644, -0.96948792, -0.50383653],\n",
       "       [-0.22474351, -0.02248362, -0.4753975 ,  1.76164914]])"
      ]
     },
     "execution_count": 72,
     "metadata": {},
     "output_type": "execute_result"
    }
   ],
   "source": [
    "matrix2 = np.random.randn(4, 4)\n",
    "matrix2"
   ]
  },
  {
   "cell_type": "code",
   "execution_count": 73,
   "id": "7e45a359",
   "metadata": {
    "ExecuteTime": {
     "end_time": "2024-03-20T02:39:07.988424Z",
     "start_time": "2024-03-20T02:39:07.982401Z"
    }
   },
   "outputs": [
    {
     "data": {
      "text/plain": [
       "(1.6256314184802043, -1.214705982769445)"
      ]
     },
     "execution_count": 73,
     "metadata": {},
     "output_type": "execute_result"
    }
   ],
   "source": [
    "matrix1.max(), matrix1.min()"
   ]
  },
  {
   "cell_type": "markdown",
   "id": "ecea3c77",
   "metadata": {},
   "source": [
    "### 집계함수에서의 축\n",
    "\n",
    "- 2차원에서의 집계합수(sum, mean)\n",
    "- axis = 0, 1\n",
    "- np.sum(넘파이배열, axis=0/1)\n",
    "- np.mean(넘파이배열, axis=0/1)\n",
    "- np.sort(넘파이배열, axis=0/1)"
   ]
  },
  {
   "cell_type": "code",
   "execution_count": 74,
   "id": "6d250f4b",
   "metadata": {
    "ExecuteTime": {
     "end_time": "2024-03-20T02:39:47.804930Z",
     "start_time": "2024-03-20T02:39:47.793816Z"
    }
   },
   "outputs": [
    {
     "data": {
      "text/plain": [
       "array([[48, 13, 24, 28,  1],\n",
       "       [28, 49,  2,  5,  4],\n",
       "       [33, 49, 46, 31,  8],\n",
       "       [12,  4, 34, 23, 43],\n",
       "       [10, 17, 26,  5, 31]])"
      ]
     },
     "execution_count": 74,
     "metadata": {},
     "output_type": "execute_result"
    }
   ],
   "source": [
    "m1 = np.random.randint(1, 50, (5,5))\n",
    "m1"
   ]
  },
  {
   "cell_type": "code",
   "execution_count": 75,
   "id": "f3cc0bab",
   "metadata": {
    "ExecuteTime": {
     "end_time": "2024-03-20T02:39:48.480584Z",
     "start_time": "2024-03-20T02:39:48.474325Z"
    }
   },
   "outputs": [
    {
     "data": {
      "text/plain": [
       "array([131, 132, 132,  92,  87])"
      ]
     },
     "execution_count": 75,
     "metadata": {},
     "output_type": "execute_result"
    }
   ],
   "source": [
    "np.sum(m1, axis=0) # (x)행 합계"
   ]
  },
  {
   "cell_type": "code",
   "execution_count": 76,
   "id": "ef048056",
   "metadata": {
    "ExecuteTime": {
     "end_time": "2024-03-20T02:39:48.928795Z",
     "start_time": "2024-03-20T02:39:48.922567Z"
    }
   },
   "outputs": [
    {
     "data": {
      "text/plain": [
       "array([114,  88, 167, 116,  89])"
      ]
     },
     "execution_count": 76,
     "metadata": {},
     "output_type": "execute_result"
    }
   ],
   "source": [
    "np.sum(m1, axis=1) # 열(y) 합계"
   ]
  },
  {
   "cell_type": "code",
   "execution_count": 77,
   "id": "e1ffc1cc",
   "metadata": {
    "ExecuteTime": {
     "end_time": "2024-03-20T02:39:49.263186Z",
     "start_time": "2024-03-20T02:39:49.257426Z"
    }
   },
   "outputs": [
    {
     "data": {
      "text/plain": [
       "114"
      ]
     },
     "execution_count": 77,
     "metadata": {},
     "output_type": "execute_result"
    }
   ],
   "source": [
    "# 1번째행의 합계는\n",
    "np.sum(m1[0,:], axis=0) # x축(행 방향) 합계"
   ]
  },
  {
   "cell_type": "markdown",
   "id": "9ea3fc08",
   "metadata": {},
   "source": [
    "### np.sort()"
   ]
  },
  {
   "cell_type": "code",
   "execution_count": 171,
   "id": "d47ee692",
   "metadata": {
    "ExecuteTime": {
     "end_time": "2023-11-01T06:47:46.590985Z",
     "start_time": "2023-11-01T06:47:46.585039Z"
    }
   },
   "outputs": [
    {
     "data": {
      "text/plain": [
       "array([[13, 18, 24],\n",
       "       [47, 35, 18],\n",
       "       [43, 46, 32],\n",
       "       [ 8,  9, 12]])"
      ]
     },
     "execution_count": 171,
     "metadata": {},
     "output_type": "execute_result"
    }
   ],
   "source": [
    "# 정수 난수로 구성된 4x3\n",
    "m2 = np.random.randint(1, 50,(4,3))\n",
    "m2"
   ]
  },
  {
   "cell_type": "code",
   "execution_count": 186,
   "id": "6fd22334",
   "metadata": {
    "ExecuteTime": {
     "end_time": "2023-10-30T08:36:35.167372Z",
     "start_time": "2023-10-30T08:36:35.160160Z"
    }
   },
   "outputs": [],
   "source": [
    "np.sort?"
   ]
  },
  {
   "cell_type": "code",
   "execution_count": 173,
   "id": "e25a4930",
   "metadata": {
    "ExecuteTime": {
     "end_time": "2023-11-01T06:48:19.482795Z",
     "start_time": "2023-11-01T06:48:19.476423Z"
    }
   },
   "outputs": [
    {
     "data": {
      "text/plain": [
       "array([[ 8,  9, 12],\n",
       "       [13, 18, 18],\n",
       "       [43, 35, 24],\n",
       "       [47, 46, 32]])"
      ]
     },
     "execution_count": 173,
     "metadata": {},
     "output_type": "execute_result"
    }
   ],
   "source": [
    "np.sort(m2, axis=0) # 행방향 오름차순(요소별로)"
   ]
  },
  {
   "cell_type": "code",
   "execution_count": 174,
   "id": "421c577b",
   "metadata": {
    "ExecuteTime": {
     "end_time": "2023-11-01T06:48:21.822729Z",
     "start_time": "2023-11-01T06:48:21.817876Z"
    }
   },
   "outputs": [
    {
     "data": {
      "text/plain": [
       "array([[ 8,  9, 12],\n",
       "       [43, 46, 32],\n",
       "       [47, 35, 18],\n",
       "       [13, 18, 24]])"
      ]
     },
     "execution_count": 174,
     "metadata": {},
     "output_type": "execute_result"
    }
   ],
   "source": [
    "m2[::-1, ::] # 행전체가 역순으로 바뀌는 것과는 다르다"
   ]
  },
  {
   "cell_type": "code",
   "execution_count": 175,
   "id": "393f6c65",
   "metadata": {
    "ExecuteTime": {
     "end_time": "2023-11-01T06:48:25.894892Z",
     "start_time": "2023-11-01T06:48:25.887161Z"
    }
   },
   "outputs": [
    {
     "data": {
      "text/plain": [
       "array([[13, 18, 24],\n",
       "       [18, 35, 47],\n",
       "       [32, 43, 46],\n",
       "       [ 8,  9, 12]])"
      ]
     },
     "execution_count": 175,
     "metadata": {},
     "output_type": "execute_result"
    }
   ],
   "source": [
    "np.sort(m2, axis=1) # 열방향 오름차순"
   ]
  },
  {
   "cell_type": "markdown",
   "id": "4c465969",
   "metadata": {},
   "source": [
    "### 인덱스 소팅\n",
    "\n",
    "np.argsort(넘파이배열, axis=0,1)\n",
    "\n",
    "정렬값을 인덱스로 반환 (np.sort()를 인덱스로)"
   ]
  },
  {
   "cell_type": "code",
   "execution_count": 81,
   "id": "60a97865",
   "metadata": {
    "ExecuteTime": {
     "end_time": "2024-03-20T04:12:20.660796Z",
     "start_time": "2024-03-20T04:12:20.655506Z"
    }
   },
   "outputs": [
    {
     "data": {
      "text/plain": [
       "array([0, 2, 1], dtype=int64)"
      ]
     },
     "execution_count": 81,
     "metadata": {},
     "output_type": "execute_result"
    }
   ],
   "source": [
    "x = np.array([4,9,5])\n",
    "np.argsort(x) # 오름차순 정렬 4 5 9 의 인덱스 값 "
   ]
  },
  {
   "cell_type": "code",
   "execution_count": 178,
   "id": "93fff270",
   "metadata": {
    "ExecuteTime": {
     "end_time": "2023-11-01T06:48:43.922423Z",
     "start_time": "2023-11-01T06:48:43.916549Z"
    }
   },
   "outputs": [
    {
     "data": {
      "text/plain": [
       "array([4, 5, 9])"
      ]
     },
     "execution_count": 178,
     "metadata": {},
     "output_type": "execute_result"
    }
   ],
   "source": [
    "x[np.argsort(x)] # 인덱스값으로 실제 값 출력"
   ]
  },
  {
   "cell_type": "markdown",
   "id": "f1f6cd74",
   "metadata": {},
   "source": [
    "### 넘파이 배열 요소 추가와 삭제\n",
    "- 삽입\n",
    "    - np.insert(배열, 위치인덱스, 값, axis=0/1)\n",
    "    - 2차원인 경우 axis를 설정하지 않으면 1차원 배열로 변경되어 삽입출력\n",
    "\n",
    "- 삭제\n",
    "    - np.delete(배열명, 위치인덱스, axis=0/1)"
   ]
  },
  {
   "cell_type": "code",
   "execution_count": 179,
   "id": "a3240bf1",
   "metadata": {
    "ExecuteTime": {
     "end_time": "2023-11-01T06:48:53.433675Z",
     "start_time": "2023-11-01T06:48:53.428613Z"
    }
   },
   "outputs": [
    {
     "data": {
      "text/plain": [
       "array([ 1,  2,  3,  4,  5,  6,  7,  8,  9, 10])"
      ]
     },
     "execution_count": 179,
     "metadata": {},
     "output_type": "execute_result"
    }
   ],
   "source": [
    "m3 = np.arange(1,11)\n",
    "m3"
   ]
  },
  {
   "cell_type": "code",
   "execution_count": 180,
   "id": "8fd0200d",
   "metadata": {
    "ExecuteTime": {
     "end_time": "2023-11-01T06:48:59.248714Z",
     "start_time": "2023-11-01T06:48:59.243818Z"
    }
   },
   "outputs": [
    {
     "data": {
      "text/plain": [
       "array([100,   1,   2,   3,   4,   5,   6,   7,   8,   9,  10])"
      ]
     },
     "execution_count": 180,
     "metadata": {},
     "output_type": "execute_result"
    }
   ],
   "source": [
    "np.insert(m3, 0, 100)"
   ]
  },
  {
   "cell_type": "code",
   "execution_count": 181,
   "id": "c832f178",
   "metadata": {
    "ExecuteTime": {
     "end_time": "2023-11-01T06:49:00.001964Z",
     "start_time": "2023-11-01T06:48:59.996558Z"
    }
   },
   "outputs": [
    {
     "data": {
      "text/plain": [
       "10"
      ]
     },
     "execution_count": 181,
     "metadata": {},
     "output_type": "execute_result"
    }
   ],
   "source": [
    "m3[-1]"
   ]
  },
  {
   "cell_type": "code",
   "execution_count": 182,
   "id": "3af2197a",
   "metadata": {
    "ExecuteTime": {
     "end_time": "2023-11-01T06:49:00.873859Z",
     "start_time": "2023-11-01T06:49:00.867834Z"
    }
   },
   "outputs": [],
   "source": [
    "np.insert?"
   ]
  },
  {
   "cell_type": "code",
   "execution_count": 195,
   "id": "fc185348",
   "metadata": {
    "ExecuteTime": {
     "end_time": "2023-10-30T08:40:27.556558Z",
     "start_time": "2023-10-30T08:40:27.550196Z"
    }
   },
   "outputs": [
    {
     "data": {
      "text/plain": [
       "array([  1,   2,   3,   4,   5,   6,   7,   8,   9, 500,  10])"
      ]
     },
     "execution_count": 195,
     "metadata": {},
     "output_type": "execute_result"
    }
   ],
   "source": [
    "np.insert(m3, -1, 500)  # 인덱싱/슬라이싱 end처럼 인식"
   ]
  },
  {
   "cell_type": "code",
   "execution_count": 183,
   "id": "8ca9260f",
   "metadata": {
    "ExecuteTime": {
     "end_time": "2023-11-01T06:49:18.715018Z",
     "start_time": "2023-11-01T06:49:18.708965Z"
    }
   },
   "outputs": [
    {
     "data": {
      "text/plain": [
       "array([  1,   2,   3,   4,   5,   6,   7,   8,   9,  10, 500])"
      ]
     },
     "execution_count": 183,
     "metadata": {},
     "output_type": "execute_result"
    }
   ],
   "source": [
    "np.insert(m3, len(m3), 500) "
   ]
  },
  {
   "cell_type": "code",
   "execution_count": 82,
   "id": "051d1ae8",
   "metadata": {
    "ExecuteTime": {
     "end_time": "2024-03-20T04:17:05.022518Z",
     "start_time": "2024-03-20T04:17:05.014491Z"
    },
    "scrolled": true
   },
   "outputs": [
    {
     "data": {
      "text/plain": [
       "array([[1, 2, 3],\n",
       "       [4, 5, 6],\n",
       "       [7, 8, 9]])"
      ]
     },
     "execution_count": 82,
     "metadata": {},
     "output_type": "execute_result"
    }
   ],
   "source": [
    "m4 = np.arange(1,10).reshape(3,3)\n",
    "m4"
   ]
  },
  {
   "cell_type": "code",
   "execution_count": 83,
   "id": "16c1188a",
   "metadata": {
    "ExecuteTime": {
     "end_time": "2024-03-20T04:17:11.374583Z",
     "start_time": "2024-03-20T04:17:11.367530Z"
    }
   },
   "outputs": [
    {
     "data": {
      "text/plain": [
       "array([100,   1,   2,   3,   4,   5,   6,   7,   8,   9])"
      ]
     },
     "execution_count": 83,
     "metadata": {},
     "output_type": "execute_result"
    }
   ],
   "source": [
    "np.insert(m4, 0, 100) # 2차원배열의 경우 axis 미설정시 1차원으로 변경되어 삽입"
   ]
  },
  {
   "cell_type": "code",
   "execution_count": 84,
   "id": "b3f9b783",
   "metadata": {
    "ExecuteTime": {
     "end_time": "2024-03-20T04:17:12.165676Z",
     "start_time": "2024-03-20T04:17:12.161202Z"
    }
   },
   "outputs": [
    {
     "data": {
      "text/plain": [
       "array([[100,   1,   2,   3],\n",
       "       [100,   4,   5,   6],\n",
       "       [100,   7,   8,   9]])"
      ]
     },
     "execution_count": 84,
     "metadata": {},
     "output_type": "execute_result"
    }
   ],
   "source": [
    "# 1열으로 [100,100,100] 삽입\n",
    "np.insert(m4, 0, 100, axis=1)"
   ]
  },
  {
   "cell_type": "code",
   "execution_count": 85,
   "id": "d1bb7772",
   "metadata": {
    "ExecuteTime": {
     "end_time": "2024-03-20T04:17:24.282849Z",
     "start_time": "2024-03-20T04:17:24.276332Z"
    }
   },
   "outputs": [
    {
     "data": {
      "text/plain": [
       "array([[100,   1,   2,   3],\n",
       "       [200,   4,   5,   6],\n",
       "       [300,   7,   8,   9]])"
      ]
     },
     "execution_count": 85,
     "metadata": {},
     "output_type": "execute_result"
    }
   ],
   "source": [
    "# 리스트로 삽입\n",
    "np.insert(m4, 0, [100,200,300], axis=1)"
   ]
  },
  {
   "cell_type": "code",
   "execution_count": 86,
   "id": "4d1f4358",
   "metadata": {
    "ExecuteTime": {
     "end_time": "2024-03-20T04:17:35.996502Z",
     "start_time": "2024-03-20T04:17:35.990516Z"
    }
   },
   "outputs": [
    {
     "data": {
      "text/plain": [
       "((3, 3), 3, 3)"
      ]
     },
     "execution_count": 86,
     "metadata": {},
     "output_type": "execute_result"
    }
   ],
   "source": [
    "m4.shape, m4.shape[1], len(m4)"
   ]
  },
  {
   "cell_type": "code",
   "execution_count": 87,
   "id": "2e1540fe",
   "metadata": {
    "ExecuteTime": {
     "end_time": "2024-03-20T04:17:53.832546Z",
     "start_time": "2024-03-20T04:17:53.826511Z"
    }
   },
   "outputs": [
    {
     "data": {
      "text/plain": [
       "array([[  1,   2,   3, 100],\n",
       "       [  4,   5,   6, 200],\n",
       "       [  7,   8,   9, 300]])"
      ]
     },
     "execution_count": 87,
     "metadata": {},
     "output_type": "execute_result"
    }
   ],
   "source": [
    "# 마지막 컬럼으로 삽입\n",
    "# 배열명.shape[1] 칼럼 길이\n",
    "np.insert(m4, m4.shape[1], [100,200,300], axis=1)"
   ]
  },
  {
   "cell_type": "code",
   "execution_count": 88,
   "id": "3ca649d7",
   "metadata": {
    "ExecuteTime": {
     "end_time": "2024-03-20T04:17:58.967655Z",
     "start_time": "2024-03-20T04:17:58.961768Z"
    }
   },
   "outputs": [
    {
     "data": {
      "text/plain": [
       "array([[  1,   2,   3],\n",
       "       [  4,   5,   6],\n",
       "       [  7,   8,   9],\n",
       "       [100, 200, 300]])"
      ]
     },
     "execution_count": 88,
     "metadata": {},
     "output_type": "execute_result"
    }
   ],
   "source": [
    "# 마지막 행에 삽입\n",
    "np.insert(m4, m4.shape[0], [100,200,300], axis=0)"
   ]
  },
  {
   "cell_type": "code",
   "execution_count": 207,
   "id": "53e0d1ee",
   "metadata": {
    "ExecuteTime": {
     "end_time": "2023-10-30T08:44:37.373129Z",
     "start_time": "2023-10-30T08:44:37.368142Z"
    }
   },
   "outputs": [
    {
     "data": {
      "text/plain": [
       "array([[1, 2, 3],\n",
       "       [4, 5, 6],\n",
       "       [7, 8, 9]])"
      ]
     },
     "execution_count": 207,
     "metadata": {},
     "output_type": "execute_result"
    }
   ],
   "source": [
    "m4"
   ]
  },
  {
   "cell_type": "code",
   "execution_count": 191,
   "id": "86b4c176",
   "metadata": {
    "ExecuteTime": {
     "end_time": "2023-11-01T06:50:10.882435Z",
     "start_time": "2023-11-01T06:50:10.877203Z"
    }
   },
   "outputs": [
    {
     "data": {
      "text/plain": [
       "array([[4, 5, 6],\n",
       "       [7, 8, 9]])"
      ]
     },
     "execution_count": 191,
     "metadata": {},
     "output_type": "execute_result"
    }
   ],
   "source": [
    "np.delete(m4, 0, axis=0)"
   ]
  },
  {
   "cell_type": "markdown",
   "id": "46e9272b",
   "metadata": {
    "ExecuteTime": {
     "end_time": "2021-11-23T08:32:01.569448Z",
     "start_time": "2021-11-23T08:32:01.564462Z"
    }
   },
   "source": [
    "### 배열 합치기\n",
    "- np.vstack((배열1,배열2....)) : 세로 합치기\n",
    "- np.hstack((배열1,배열2....)) : 가로 합치기\n",
    "- np.concatenate((배열1, 배열2), axis=0/1 ) 2차원만 가능"
   ]
  },
  {
   "cell_type": "code",
   "execution_count": 192,
   "id": "f082ba85",
   "metadata": {
    "ExecuteTime": {
     "end_time": "2023-11-01T07:00:21.537897Z",
     "start_time": "2023-11-01T07:00:21.528921Z"
    }
   },
   "outputs": [
    {
     "data": {
      "text/plain": [
       "array([[1, 2, 3],\n",
       "       [4, 5, 6]])"
      ]
     },
     "execution_count": 192,
     "metadata": {},
     "output_type": "execute_result"
    }
   ],
   "source": [
    "a = np.array([1,2,3])\n",
    "b = np.array([4,5,6])\n",
    "np.vstack((a,b))"
   ]
  },
  {
   "cell_type": "code",
   "execution_count": 193,
   "id": "a10fa0db",
   "metadata": {
    "ExecuteTime": {
     "end_time": "2023-11-01T07:00:32.807172Z",
     "start_time": "2023-11-01T07:00:32.802184Z"
    }
   },
   "outputs": [
    {
     "data": {
      "text/plain": [
       "array([1, 2, 3, 4, 5, 6])"
      ]
     },
     "execution_count": 193,
     "metadata": {},
     "output_type": "execute_result"
    }
   ],
   "source": [
    "np.hstack((a,b))"
   ]
  },
  {
   "cell_type": "code",
   "execution_count": 194,
   "id": "2651503e",
   "metadata": {
    "ExecuteTime": {
     "end_time": "2023-11-01T07:00:38.010571Z",
     "start_time": "2023-11-01T07:00:38.005214Z"
    }
   },
   "outputs": [
    {
     "data": {
      "text/plain": [
       "(array([[1, 2, 3]]), 2, (1, 3))"
      ]
     },
     "execution_count": 194,
     "metadata": {},
     "output_type": "execute_result"
    }
   ],
   "source": [
    "c = np.array([[1,2,3]]) # 2차원\n",
    "c, c.ndim, c.shape"
   ]
  },
  {
   "cell_type": "code",
   "execution_count": 195,
   "id": "3c85fe91",
   "metadata": {
    "ExecuteTime": {
     "end_time": "2023-11-01T07:00:55.120980Z",
     "start_time": "2023-11-01T07:00:55.114531Z"
    }
   },
   "outputs": [
    {
     "data": {
      "text/plain": [
       "(array([[4, 5, 6]]), 2, (1, 3))"
      ]
     },
     "execution_count": 195,
     "metadata": {},
     "output_type": "execute_result"
    }
   ],
   "source": [
    "d = np.array([[4,5,6]]) # 2차원\n",
    "d, d.ndim, d.shape"
   ]
  },
  {
   "cell_type": "code",
   "execution_count": 196,
   "id": "88299ac3",
   "metadata": {
    "ExecuteTime": {
     "end_time": "2023-11-01T07:01:00.372837Z",
     "start_time": "2023-11-01T07:01:00.364342Z"
    }
   },
   "outputs": [
    {
     "data": {
      "text/plain": [
       "(array([[1, 2, 3],\n",
       "        [4, 5, 6]]),\n",
       " 2,\n",
       " (2, 3))"
      ]
     },
     "execution_count": 196,
     "metadata": {},
     "output_type": "execute_result"
    }
   ],
   "source": [
    "f = np.concatenate((c,d), axis=0) #\n",
    "f, f.ndim, f.shape"
   ]
  },
  {
   "cell_type": "code",
   "execution_count": 197,
   "id": "ddd1dc6c",
   "metadata": {
    "ExecuteTime": {
     "end_time": "2023-11-01T07:01:22.122712Z",
     "start_time": "2023-11-01T07:01:22.117309Z"
    }
   },
   "outputs": [
    {
     "data": {
      "text/plain": [
       "(array([[1, 2, 3, 4, 5, 6]]), 2, (1, 6))"
      ]
     },
     "execution_count": 197,
     "metadata": {},
     "output_type": "execute_result"
    }
   ],
   "source": [
    "f = np.concatenate((c,d), axis=1) #\n",
    "f, f.ndim, f.shape"
   ]
  },
  {
   "cell_type": "markdown",
   "id": "97aca633",
   "metadata": {},
   "source": [
    "### boolean indexing, mask\n",
    "- 조건절의 결과는 True, False로 반환\n",
    "- True인 결과의 데이터 반환\n",
    "- 넘파이배열[조건절] : ==, !=, <=, >=, &, |, ~"
   ]
  },
  {
   "cell_type": "code",
   "execution_count": 198,
   "id": "634a23aa",
   "metadata": {
    "ExecuteTime": {
     "end_time": "2023-11-01T07:01:37.369280Z",
     "start_time": "2023-11-01T07:01:37.364848Z"
    }
   },
   "outputs": [
    {
     "data": {
      "text/plain": [
       "array([ 1,  2,  3,  4,  5,  6,  7,  8,  9, 10, 11, 12, 13, 14, 15, 16, 17,\n",
       "       18, 19, 20])"
      ]
     },
     "execution_count": 198,
     "metadata": {},
     "output_type": "execute_result"
    }
   ],
   "source": [
    "matrix = np.arange(1, 21)\n",
    "matrix"
   ]
  },
  {
   "cell_type": "code",
   "execution_count": 199,
   "id": "78f29de6",
   "metadata": {
    "ExecuteTime": {
     "end_time": "2023-11-01T07:01:42.000879Z",
     "start_time": "2023-11-01T07:01:41.995455Z"
    }
   },
   "outputs": [
    {
     "data": {
      "text/plain": [
       "array([False, False, False, False, False, False, False, False, False,\n",
       "       False,  True,  True,  True,  True,  True,  True,  True,  True,\n",
       "        True,  True])"
      ]
     },
     "execution_count": 199,
     "metadata": {},
     "output_type": "execute_result"
    }
   ],
   "source": [
    "matrix > 10"
   ]
  },
  {
   "cell_type": "code",
   "execution_count": 200,
   "id": "7b33d11e",
   "metadata": {
    "ExecuteTime": {
     "end_time": "2023-11-01T07:01:49.126406Z",
     "start_time": "2023-11-01T07:01:49.121896Z"
    }
   },
   "outputs": [
    {
     "data": {
      "text/plain": [
       "array([11, 12, 13, 14, 15, 16, 17, 18, 19, 20])"
      ]
     },
     "execution_count": 200,
     "metadata": {},
     "output_type": "execute_result"
    }
   ],
   "source": [
    "matrix[matrix > 10]"
   ]
  },
  {
   "cell_type": "code",
   "execution_count": 201,
   "id": "42aa1d77",
   "metadata": {
    "ExecuteTime": {
     "end_time": "2023-11-01T07:01:54.852421Z",
     "start_time": "2023-11-01T07:01:54.845922Z"
    }
   },
   "outputs": [
    {
     "data": {
      "text/plain": [
       "10"
      ]
     },
     "execution_count": 201,
     "metadata": {},
     "output_type": "execute_result"
    }
   ],
   "source": [
    "(matrix > 10).sum()"
   ]
  },
  {
   "cell_type": "markdown",
   "id": "37ddd187",
   "metadata": {},
   "source": [
    "#### Quiz : 1~100사이 난수 30개를 추출하여 넘파이 배열을 생성하고, 30보다 크거나 70보다 작은 수를 출력하라"
   ]
  },
  {
   "cell_type": "code",
   "execution_count": 202,
   "id": "dffa7bd3",
   "metadata": {
    "ExecuteTime": {
     "end_time": "2023-11-01T07:02:38.971936Z",
     "start_time": "2023-11-01T07:02:38.965072Z"
    }
   },
   "outputs": [
    {
     "data": {
      "text/plain": [
       "array([False,  True, False, False, False, False, False,  True, False,\n",
       "       False,  True,  True,  True, False, False, False, False, False,\n",
       "        True, False,  True, False, False, False,  True,  True, False,\n",
       "       False,  True,  True])"
      ]
     },
     "execution_count": 202,
     "metadata": {},
     "output_type": "execute_result"
    }
   ],
   "source": [
    "num = np.random.randint(1,100,30)\n",
    "(num > 30) & (num < 70)"
   ]
  },
  {
   "cell_type": "code",
   "execution_count": 120,
   "id": "b212d2d1",
   "metadata": {
    "ExecuteTime": {
     "end_time": "2023-10-29T12:46:35.498446Z",
     "start_time": "2023-10-29T12:46:35.492462Z"
    }
   },
   "outputs": [
    {
     "data": {
      "text/plain": [
       "(array([34, 83, 81, 96, 69,  8, 88, 19,  5,  9, 54,  9, 68, 29, 59, 51, 17,\n",
       "        91, 82, 98, 29, 16, 64, 34, 67, 25, 13, 74, 70, 82]),\n",
       " array([34, 69, 54, 68, 59, 51, 64, 34, 67]))"
      ]
     },
     "execution_count": 120,
     "metadata": {},
     "output_type": "execute_result"
    }
   ],
   "source": [
    "num = np.random.randint(1,100,30)\n",
    "num, num[(num > 30) & (num < 70)]"
   ]
  },
  {
   "cell_type": "code",
   "execution_count": 203,
   "id": "541661ff",
   "metadata": {
    "ExecuteTime": {
     "end_time": "2023-11-01T07:02:58.735259Z",
     "start_time": "2023-11-01T07:02:58.730326Z"
    }
   },
   "outputs": [
    {
     "data": {
      "text/plain": [
       "array([18, 25,  8, 18, 21, 26, 19, 12, 29, 18])"
      ]
     },
     "execution_count": 203,
     "metadata": {},
     "output_type": "execute_result"
    }
   ],
   "source": [
    "# ~ 은 reverse를 의미\n",
    "num[~(num > 30) & (num < 70)]"
   ]
  },
  {
   "cell_type": "code",
   "execution_count": 204,
   "id": "3c2b6115",
   "metadata": {
    "ExecuteTime": {
     "end_time": "2023-11-01T07:03:23.603870Z",
     "start_time": "2023-11-01T07:03:23.597718Z"
    },
    "scrolled": true
   },
   "outputs": [
    {
     "data": {
      "text/plain": [
       "array([97,  8, 98, 98, 97])"
      ]
     },
     "execution_count": 204,
     "metadata": {},
     "output_type": "execute_result"
    }
   ],
   "source": [
    "# 10보다 작거나 90보다 큰 수,\n",
    "num[(num < 10) | (num > 90)]"
   ]
  },
  {
   "cell_type": "code",
   "execution_count": 205,
   "id": "1fa32e42",
   "metadata": {
    "ExecuteTime": {
     "end_time": "2023-11-01T07:03:24.112381Z",
     "start_time": "2023-11-01T07:03:24.105400Z"
    }
   },
   "outputs": [
    {
     "data": {
      "text/plain": [
       "array([71, 64, 18, 97, 78, 25, 69, 98, 18, 44, 58, 32, 21, 26, 19, 98, 12,\n",
       "       60, 89, 31, 29, 18, 97, 66, 60, 85, 84, 47, 54])"
      ]
     },
     "execution_count": 205,
     "metadata": {},
     "output_type": "execute_result"
    }
   ],
   "source": [
    " num[~(num < 10) | (num > 90)]"
   ]
  },
  {
   "cell_type": "markdown",
   "id": "085f5f7c",
   "metadata": {},
   "source": [
    "### fancy indexing(filtering)\n",
    "넘파이 배열에 배열로 인덱싱하면 인덱스 번호로 인식한다.\n",
    "- 넘파이배열1[넘파이배열2]\n",
    "- 넘파이배열2 : 인덱스 역할 (only 정수형)"
   ]
  },
  {
   "cell_type": "code",
   "execution_count": 206,
   "id": "4be9b4a4",
   "metadata": {
    "ExecuteTime": {
     "end_time": "2023-11-01T07:04:03.895105Z",
     "start_time": "2023-11-01T07:04:03.888199Z"
    }
   },
   "outputs": [
    {
     "data": {
      "text/plain": [
       "(array([53, 54, 38, 12, 48, 31, 68, 76,  8,  9, 15, 89, 47, 86, 66, 83, 31,\n",
       "        70, 53, 10, 35,  1, 79, 77, 33, 22, 32, 78, 26, 55]),\n",
       " array([53, 38, 12, 15, 35]))"
      ]
     },
     "execution_count": 206,
     "metadata": {},
     "output_type": "execute_result"
    }
   ],
   "source": [
    "n = np.random.randint(1,100,30)\n",
    "i = np.array([0, 2, 3, 10, 20])\n",
    "n, n[i]"
   ]
  },
  {
   "cell_type": "markdown",
   "id": "ceb5a8b3",
   "metadata": {},
   "source": [
    "### np.where()를 이용한 필터링\n",
    "- np.where(조건식) : 조건식 만족하는 인덱스 반환\n",
    "- np.where(조건식, T, F) : 조건식 만족하면 T값, 아니면F값\n",
    "- 배열[np.where(조건식)] : 조건식 만족하는 실제 배열값 \n"
   ]
  },
  {
   "cell_type": "code",
   "execution_count": 135,
   "id": "d8c9260b",
   "metadata": {
    "ExecuteTime": {
     "end_time": "2023-10-29T13:10:52.263220Z",
     "start_time": "2023-10-29T13:10:52.258500Z"
    }
   },
   "outputs": [],
   "source": [
    "np.where?"
   ]
  },
  {
   "cell_type": "code",
   "execution_count": 207,
   "id": "fe43982f",
   "metadata": {
    "ExecuteTime": {
     "end_time": "2023-11-01T07:04:35.874990Z",
     "start_time": "2023-11-01T07:04:35.869065Z"
    }
   },
   "outputs": [
    {
     "data": {
      "text/plain": [
       "(array([0, 1, 2, 3, 4, 5, 6, 7, 8, 9]),\n",
       " array([ 0,  1,  2,  3,  4, 50, 60, 70, 80, 90]))"
      ]
     },
     "execution_count": 207,
     "metadata": {},
     "output_type": "execute_result"
    }
   ],
   "source": [
    "a = np.arange(10)\n",
    "a, np.where(a < 5, a, 10*a)\n",
    "# a가 5보다 작으면 a를, 아니면 10을 곱하여 출력"
   ]
  },
  {
   "cell_type": "code",
   "execution_count": 208,
   "id": "03e51f35",
   "metadata": {
    "ExecuteTime": {
     "end_time": "2023-11-01T07:04:49.453219Z",
     "start_time": "2023-11-01T07:04:49.446004Z"
    },
    "scrolled": true
   },
   "outputs": [
    {
     "data": {
      "text/plain": [
       "(array([20, 21, 22, 23, 24, 25, 26, 27, 28, 29, 30]),\n",
       " (array([0, 1, 2, 3, 4], dtype=int64),))"
      ]
     },
     "execution_count": 208,
     "metadata": {},
     "output_type": "execute_result"
    }
   ],
   "source": [
    "b = np.arange(20, 31)\n",
    "b, np.where(b<25) # 조건을 하나만 주면 인덱스를 반환함"
   ]
  }
 ],
 "metadata": {
  "kernelspec": {
   "display_name": "Python 3 (ipykernel)",
   "language": "python",
   "name": "python3"
  },
  "language_info": {
   "codemirror_mode": {
    "name": "ipython",
    "version": 3
   },
   "file_extension": ".py",
   "mimetype": "text/x-python",
   "name": "python",
   "nbconvert_exporter": "python",
   "pygments_lexer": "ipython3",
   "version": "3.11.5"
  },
  "toc": {
   "base_numbering": 1,
   "nav_menu": {},
   "number_sections": true,
   "sideBar": true,
   "skip_h1_title": false,
   "title_cell": "Table of Contents",
   "title_sidebar": "Contents",
   "toc_cell": false,
   "toc_position": {
    "height": "calc(100% - 180px)",
    "left": "10px",
    "top": "150px",
    "width": "232px"
   },
   "toc_section_display": true,
   "toc_window_display": true
  },
  "varInspector": {
   "cols": {
    "lenName": 16,
    "lenType": 16,
    "lenVar": 40
   },
   "kernels_config": {
    "python": {
     "delete_cmd_postfix": "",
     "delete_cmd_prefix": "del ",
     "library": "var_list.py",
     "varRefreshCmd": "print(var_dic_list())"
    },
    "r": {
     "delete_cmd_postfix": ") ",
     "delete_cmd_prefix": "rm(",
     "library": "var_list.r",
     "varRefreshCmd": "cat(var_dic_list()) "
    }
   },
   "types_to_exclude": [
    "module",
    "function",
    "builtin_function_or_method",
    "instance",
    "_Feature"
   ],
   "window_display": false
  }
 },
 "nbformat": 4,
 "nbformat_minor": 5
}
