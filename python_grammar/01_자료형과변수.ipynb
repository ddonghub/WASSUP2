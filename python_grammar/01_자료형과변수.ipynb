{
 "cells": [
  {
   "cell_type": "code",
   "execution_count": 13,
   "id": "e965f0c9",
   "metadata": {
    "ExecuteTime": {
     "end_time": "2024-02-27T02:19:39.568553Z",
     "start_time": "2024-02-27T02:19:39.563562Z"
    }
   },
   "outputs": [],
   "source": [
    "a= 123"
   ]
  },
  {
   "cell_type": "code",
   "execution_count": 9,
   "id": "2d9c118b",
   "metadata": {
    "ExecuteTime": {
     "end_time": "2024-02-27T02:18:45.104964Z",
     "start_time": "2024-02-27T02:18:45.101885Z"
    }
   },
   "outputs": [],
   "source": [
    "a= -1788"
   ]
  },
  {
   "cell_type": "code",
   "execution_count": 7,
   "id": "d962c1be",
   "metadata": {
    "ExecuteTime": {
     "end_time": "2024-02-27T02:18:40.546430Z",
     "start_time": "2024-02-27T02:18:40.542075Z"
    }
   },
   "outputs": [],
   "source": [
    "a= 0"
   ]
  },
  {
   "cell_type": "code",
   "execution_count": 14,
   "id": "e4a307bc",
   "metadata": {
    "ExecuteTime": {
     "end_time": "2024-02-27T02:19:44.529742Z",
     "start_time": "2024-02-27T02:19:44.522185Z"
    }
   },
   "outputs": [
    {
     "data": {
      "text/plain": [
       "123"
      ]
     },
     "execution_count": 14,
     "metadata": {},
     "output_type": "execute_result"
    }
   ],
   "source": [
    "a"
   ]
  },
  {
   "cell_type": "code",
   "execution_count": 15,
   "id": "8d60aaf1",
   "metadata": {
    "ExecuteTime": {
     "end_time": "2024-02-27T02:20:05.596250Z",
     "start_time": "2024-02-27T02:20:05.588678Z"
    }
   },
   "outputs": [
    {
     "data": {
      "text/plain": [
       "1.1"
      ]
     },
     "execution_count": 15,
     "metadata": {},
     "output_type": "execute_result"
    }
   ],
   "source": [
    "a=1.1\n",
    "a"
   ]
  },
  {
   "cell_type": "code",
   "execution_count": 16,
   "id": "2d07429c",
   "metadata": {
    "ExecuteTime": {
     "end_time": "2024-02-27T02:20:14.410675Z",
     "start_time": "2024-02-27T02:20:14.405199Z"
    }
   },
   "outputs": [
    {
     "data": {
      "text/plain": [
       "3.45"
      ]
     },
     "execution_count": 16,
     "metadata": {},
     "output_type": "execute_result"
    }
   ],
   "source": [
    "a= 3.45\n",
    "a"
   ]
  },
  {
   "cell_type": "code",
   "execution_count": 17,
   "id": "cc6165a9",
   "metadata": {
    "ExecuteTime": {
     "end_time": "2024-02-27T02:20:33.840399Z",
     "start_time": "2024-02-27T02:20:33.833736Z"
    }
   },
   "outputs": [
    {
     "data": {
      "text/plain": [
       "42400000000.0"
      ]
     },
     "execution_count": 17,
     "metadata": {},
     "output_type": "execute_result"
    }
   ],
   "source": [
    "a= 4.24E10\n",
    "a"
   ]
  },
  {
   "cell_type": "code",
   "execution_count": 18,
   "id": "5bc17079",
   "metadata": {
    "ExecuteTime": {
     "end_time": "2024-02-27T02:28:20.237642Z",
     "start_time": "2024-02-27T02:28:20.231958Z"
    }
   },
   "outputs": [
    {
     "data": {
      "text/plain": [
       "81"
      ]
     },
     "execution_count": 18,
     "metadata": {},
     "output_type": "execute_result"
    }
   ],
   "source": [
    "a=3\n",
    "b=4\n",
    "a ** b"
   ]
  },
  {
   "cell_type": "code",
   "execution_count": 19,
   "id": "5f65f2d5",
   "metadata": {
    "ExecuteTime": {
     "end_time": "2024-02-27T02:28:26.355127Z",
     "start_time": "2024-02-27T02:28:26.349238Z"
    }
   },
   "outputs": [
    {
     "data": {
      "text/plain": [
       "1"
      ]
     },
     "execution_count": 19,
     "metadata": {},
     "output_type": "execute_result"
    }
   ],
   "source": [
    "7%3"
   ]
  },
  {
   "cell_type": "code",
   "execution_count": 20,
   "id": "0067a01a",
   "metadata": {
    "ExecuteTime": {
     "end_time": "2024-02-27T02:28:32.081249Z",
     "start_time": "2024-02-27T02:28:32.076269Z"
    }
   },
   "outputs": [
    {
     "data": {
      "text/plain": [
       "2.3333333333333335"
      ]
     },
     "execution_count": 20,
     "metadata": {},
     "output_type": "execute_result"
    }
   ],
   "source": [
    "7/3"
   ]
  },
  {
   "cell_type": "code",
   "execution_count": 21,
   "id": "41a339a8",
   "metadata": {
    "ExecuteTime": {
     "end_time": "2024-02-27T02:38:55.036708Z",
     "start_time": "2024-02-27T02:38:55.027246Z"
    }
   },
   "outputs": [
    {
     "data": {
      "text/plain": [
       "'Hello World'"
      ]
     },
     "execution_count": 21,
     "metadata": {},
     "output_type": "execute_result"
    }
   ],
   "source": [
    "'Hello World'"
   ]
  },
  {
   "cell_type": "code",
   "execution_count": 22,
   "id": "82360e34",
   "metadata": {
    "ExecuteTime": {
     "end_time": "2024-02-27T02:39:13.292694Z",
     "start_time": "2024-02-27T02:39:13.283949Z"
    }
   },
   "outputs": [
    {
     "data": {
      "text/plain": [
       "' Hello World '"
      ]
     },
     "execution_count": 22,
     "metadata": {},
     "output_type": "execute_result"
    }
   ],
   "source": [
    "\"\"\" Hello World \"\"\""
   ]
  },
  {
   "cell_type": "code",
   "execution_count": 24,
   "id": "4d6ca6e0",
   "metadata": {
    "ExecuteTime": {
     "end_time": "2024-02-27T02:41:03.507237Z",
     "start_time": "2024-02-27T02:41:03.502033Z"
    }
   },
   "outputs": [
    {
     "data": {
      "text/plain": [
       "\"Python's favorite food is perl\""
      ]
     },
     "execution_count": 24,
     "metadata": {},
     "output_type": "execute_result"
    }
   ],
   "source": [
    "\"Python's favorite food is perl\""
   ]
  },
  {
   "cell_type": "code",
   "execution_count": null,
   "id": "175f3594",
   "metadata": {},
   "outputs": [],
   "source": []
  },
  {
   "cell_type": "code",
   "execution_count": null,
   "id": "f6568e71",
   "metadata": {},
   "outputs": [],
   "source": []
  },
  {
   "cell_type": "code",
   "execution_count": null,
   "id": "79410ef7",
   "metadata": {},
   "outputs": [],
   "source": []
  },
  {
   "cell_type": "code",
   "execution_count": null,
   "id": "80e0ba43",
   "metadata": {},
   "outputs": [],
   "source": []
  },
  {
   "cell_type": "code",
   "execution_count": null,
   "id": "41447ce1",
   "metadata": {},
   "outputs": [],
   "source": []
  },
  {
   "cell_type": "code",
   "execution_count": null,
   "id": "1f425c8d",
   "metadata": {},
   "outputs": [],
   "source": []
  }
 ],
 "metadata": {
  "kernelspec": {
   "display_name": "Python 3 (ipykernel)",
   "language": "python",
   "name": "python3"
  },
  "language_info": {
   "codemirror_mode": {
    "name": "ipython",
    "version": 3
   },
   "file_extension": ".py",
   "mimetype": "text/x-python",
   "name": "python",
   "nbconvert_exporter": "python",
   "pygments_lexer": "ipython3",
   "version": "3.11.5"
  },
  "toc": {
   "base_numbering": 1,
   "nav_menu": {},
   "number_sections": true,
   "sideBar": true,
   "skip_h1_title": false,
   "title_cell": "Table of Contents",
   "title_sidebar": "Contents",
   "toc_cell": false,
   "toc_position": {},
   "toc_section_display": true,
   "toc_window_display": false
  }
 },
 "nbformat": 4,
 "nbformat_minor": 5
}
