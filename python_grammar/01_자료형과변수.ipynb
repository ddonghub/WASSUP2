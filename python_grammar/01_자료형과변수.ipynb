{
 "cells": [
  {
   "cell_type": "code",
   "execution_count": 13,
   "id": "1bce7e3c",
   "metadata": {
    "ExecuteTime": {
     "end_time": "2024-02-27T02:19:39.568553Z",
     "start_time": "2024-02-27T02:19:39.563562Z"
    }
   },
   "outputs": [],
   "source": [
    "a= 123"
   ]
  },
  {
   "cell_type": "code",
   "execution_count": 9,
   "id": "0eb7b593",
   "metadata": {
    "ExecuteTime": {
     "end_time": "2024-02-27T02:18:45.104964Z",
     "start_time": "2024-02-27T02:18:45.101885Z"
    }
   },
   "outputs": [],
   "source": [
    "a= -1788"
   ]
  },
  {
   "cell_type": "code",
   "execution_count": 7,
   "id": "f574d3df",
   "metadata": {
    "ExecuteTime": {
     "end_time": "2024-02-27T02:18:40.546430Z",
     "start_time": "2024-02-27T02:18:40.542075Z"
    }
   },
   "outputs": [],
   "source": [
    "a= 0"
   ]
  },
  {
   "cell_type": "code",
   "execution_count": 14,
   "id": "4f14bce5",
   "metadata": {
    "ExecuteTime": {
     "end_time": "2024-02-27T02:19:44.529742Z",
     "start_time": "2024-02-27T02:19:44.522185Z"
    }
   },
   "outputs": [
    {
     "data": {
      "text/plain": [
       "123"
      ]
     },
     "execution_count": 14,
     "metadata": {},
     "output_type": "execute_result"
    }
   ],
   "source": [
    "a"
   ]
  },
  {
   "cell_type": "code",
   "execution_count": 15,
   "id": "586001b3",
   "metadata": {
    "ExecuteTime": {
     "end_time": "2024-02-27T02:20:05.596250Z",
     "start_time": "2024-02-27T02:20:05.588678Z"
    }
   },
   "outputs": [
    {
     "data": {
      "text/plain": [
       "1.1"
      ]
     },
     "execution_count": 15,
     "metadata": {},
     "output_type": "execute_result"
    }
   ],
   "source": [
    "a=1.1\n",
    "a"
   ]
  },
  {
   "cell_type": "code",
   "execution_count": 16,
   "id": "2cda800d",
   "metadata": {
    "ExecuteTime": {
     "end_time": "2024-02-27T02:20:14.410675Z",
     "start_time": "2024-02-27T02:20:14.405199Z"
    }
   },
   "outputs": [
    {
     "data": {
      "text/plain": [
       "3.45"
      ]
     },
     "execution_count": 16,
     "metadata": {},
     "output_type": "execute_result"
    }
   ],
   "source": [
    "a= 3.45\n",
    "a"
   ]
  },
  {
   "cell_type": "code",
   "execution_count": 17,
   "id": "fcc5f8a4",
   "metadata": {
    "ExecuteTime": {
     "end_time": "2024-02-27T02:20:33.840399Z",
     "start_time": "2024-02-27T02:20:33.833736Z"
    }
   },
   "outputs": [
    {
     "data": {
      "text/plain": [
       "42400000000.0"
      ]
     },
     "execution_count": 17,
     "metadata": {},
     "output_type": "execute_result"
    }
   ],
   "source": [
    "a= 4.24E10\n",
    "a"
   ]
  },
  {
   "cell_type": "code",
   "execution_count": 18,
   "id": "0102106c",
   "metadata": {
    "ExecuteTime": {
     "end_time": "2024-02-27T02:28:20.237642Z",
     "start_time": "2024-02-27T02:28:20.231958Z"
    }
   },
   "outputs": [
    {
     "data": {
      "text/plain": [
       "81"
      ]
     },
     "execution_count": 18,
     "metadata": {},
     "output_type": "execute_result"
    }
   ],
   "source": [
    "a=3\n",
    "b=4\n",
    "a ** b"
   ]
  },
  {
   "cell_type": "code",
   "execution_count": 19,
   "id": "fb323e1c",
   "metadata": {
    "ExecuteTime": {
     "end_time": "2024-02-27T02:28:26.355127Z",
     "start_time": "2024-02-27T02:28:26.349238Z"
    }
   },
   "outputs": [
    {
     "data": {
      "text/plain": [
       "1"
      ]
     },
     "execution_count": 19,
     "metadata": {},
     "output_type": "execute_result"
    }
   ],
   "source": [
    "7%3"
   ]
  },
  {
   "cell_type": "code",
   "execution_count": 20,
   "id": "8e83a24c",
   "metadata": {
    "ExecuteTime": {
     "end_time": "2024-02-27T02:28:32.081249Z",
     "start_time": "2024-02-27T02:28:32.076269Z"
    }
   },
   "outputs": [
    {
     "data": {
      "text/plain": [
       "2.3333333333333335"
      ]
     },
     "execution_count": 20,
     "metadata": {},
     "output_type": "execute_result"
    }
   ],
   "source": [
    "7/3"
   ]
  },
  {
   "cell_type": "code",
   "execution_count": 21,
   "id": "5cad8d57",
   "metadata": {
    "ExecuteTime": {
     "end_time": "2024-02-27T02:38:55.036708Z",
     "start_time": "2024-02-27T02:38:55.027246Z"
    }
   },
   "outputs": [
    {
     "data": {
      "text/plain": [
       "'Hello World'"
      ]
     },
     "execution_count": 21,
     "metadata": {},
     "output_type": "execute_result"
    }
   ],
   "source": [
    "'Hello World'"
   ]
  },
  {
   "cell_type": "code",
   "execution_count": 22,
   "id": "d1e04511",
   "metadata": {
    "ExecuteTime": {
     "end_time": "2024-02-27T02:39:13.292694Z",
     "start_time": "2024-02-27T02:39:13.283949Z"
    }
   },
   "outputs": [
    {
     "data": {
      "text/plain": [
       "' Hello World '"
      ]
     },
     "execution_count": 22,
     "metadata": {},
     "output_type": "execute_result"
    }
   ],
   "source": [
    "\"\"\" Hello World \"\"\""
   ]
  },
  {
   "cell_type": "code",
   "execution_count": 24,
   "id": "0aa5da78",
   "metadata": {
    "ExecuteTime": {
     "end_time": "2024-02-27T02:41:03.507237Z",
     "start_time": "2024-02-27T02:41:03.502033Z"
    }
   },
   "outputs": [
    {
     "data": {
      "text/plain": [
       "\"Python's favorite food is perl\""
      ]
     },
     "execution_count": 24,
     "metadata": {},
     "output_type": "execute_result"
    }
   ],
   "source": [
    "\"Python's favorite food is perl\""
   ]
  },
  {
   "cell_type": "code",
   "execution_count": 1,
   "id": "7151c0a2",
   "metadata": {
    "ExecuteTime": {
     "end_time": "2024-02-28T01:39:16.180372Z",
     "start_time": "2024-02-28T01:39:16.173660Z"
    }
   },
   "outputs": [],
   "source": [
    " a = \"Life is too short\""
   ]
  },
  {
   "cell_type": "code",
   "execution_count": 2,
   "id": "05dd397d",
   "metadata": {
    "ExecuteTime": {
     "end_time": "2024-02-28T01:39:22.096677Z",
     "start_time": "2024-02-28T01:39:22.085103Z"
    }
   },
   "outputs": [
    {
     "data": {
      "text/plain": [
       "17"
      ]
     },
     "execution_count": 2,
     "metadata": {},
     "output_type": "execute_result"
    }
   ],
   "source": [
    "len(a)"
   ]
  },
  {
   "cell_type": "code",
   "execution_count": 6,
   "id": "230acb19",
   "metadata": {
    "ExecuteTime": {
     "end_time": "2024-02-28T01:49:02.381263Z",
     "start_time": "2024-02-28T01:49:02.374929Z"
    }
   },
   "outputs": [
    {
     "data": {
      "text/plain": [
       "'too short'"
      ]
     },
     "execution_count": 6,
     "metadata": {},
     "output_type": "execute_result"
    }
   ],
   "source": [
    "a[8:17]"
   ]
  },
  {
   "cell_type": "code",
   "execution_count": 7,
   "id": "5ce1c0d4",
   "metadata": {
    "ExecuteTime": {
     "end_time": "2024-02-28T02:08:36.952502Z",
     "start_time": "2024-02-28T02:08:36.946912Z"
    }
   },
   "outputs": [],
   "source": [
    "a = \"20230331Rainy\"\n",
    "year = a[:4]\n",
    "day = a[4:8]\n",
    "weather = a[8:]"
   ]
  },
  {
   "cell_type": "code",
   "execution_count": 9,
   "id": "f62191db",
   "metadata": {
    "ExecuteTime": {
     "end_time": "2024-02-28T02:08:49.556982Z",
     "start_time": "2024-02-28T02:08:49.550781Z"
    }
   },
   "outputs": [
    {
     "data": {
      "text/plain": [
       "'2023'"
      ]
     },
     "execution_count": 9,
     "metadata": {},
     "output_type": "execute_result"
    }
   ],
   "source": [
    "year"
   ]
  },
  {
   "cell_type": "code",
   "execution_count": 10,
   "id": "e37a272d",
   "metadata": {
    "ExecuteTime": {
     "end_time": "2024-02-28T02:08:52.530295Z",
     "start_time": "2024-02-28T02:08:52.523111Z"
    }
   },
   "outputs": [
    {
     "data": {
      "text/plain": [
       "'0331'"
      ]
     },
     "execution_count": 10,
     "metadata": {},
     "output_type": "execute_result"
    }
   ],
   "source": [
    "day"
   ]
  },
  {
   "cell_type": "code",
   "execution_count": 11,
   "id": "512b761e",
   "metadata": {
    "ExecuteTime": {
     "end_time": "2024-02-28T02:08:55.640512Z",
     "start_time": "2024-02-28T02:08:55.634229Z"
    }
   },
   "outputs": [
    {
     "data": {
      "text/plain": [
       "'Rainy'"
      ]
     },
     "execution_count": 11,
     "metadata": {},
     "output_type": "execute_result"
    }
   ],
   "source": [
    "weather"
   ]
  },
  {
   "cell_type": "code",
   "execution_count": 16,
   "id": "045fcbe2",
   "metadata": {
    "ExecuteTime": {
     "end_time": "2024-02-28T02:18:34.722280Z",
     "start_time": "2024-02-28T02:18:34.712517Z"
    }
   },
   "outputs": [
    {
     "data": {
      "text/plain": [
       "'I eat 3 apples.'"
      ]
     },
     "execution_count": 16,
     "metadata": {},
     "output_type": "execute_result"
    }
   ],
   "source": [
    " \"I eat %s apples.\" % 3"
   ]
  },
  {
   "cell_type": "code",
   "execution_count": 15,
   "id": "fdd70cdd",
   "metadata": {
    "ExecuteTime": {
     "end_time": "2024-02-28T02:18:17.218529Z",
     "start_time": "2024-02-28T02:18:17.206909Z"
    }
   },
   "outputs": [
    {
     "data": {
      "text/plain": [
       "'I eat five apples.'"
      ]
     },
     "execution_count": 15,
     "metadata": {},
     "output_type": "execute_result"
    }
   ],
   "source": [
    " \"I eat %s apples.\" % \"five\""
   ]
  },
  {
   "cell_type": "code",
   "execution_count": 17,
   "id": "924480d9",
   "metadata": {
    "ExecuteTime": {
     "end_time": "2024-02-28T02:19:34.146252Z",
     "start_time": "2024-02-28T02:19:34.139758Z"
    }
   },
   "outputs": [],
   "source": [
    "number = 3"
   ]
  },
  {
   "cell_type": "code",
   "execution_count": 18,
   "id": "ca8c4d7d",
   "metadata": {
    "ExecuteTime": {
     "end_time": "2024-02-28T02:19:35.429671Z",
     "start_time": "2024-02-28T02:19:35.420421Z"
    }
   },
   "outputs": [
    {
     "data": {
      "text/plain": [
       "'I eat 3 apples.'"
      ]
     },
     "execution_count": 18,
     "metadata": {},
     "output_type": "execute_result"
    }
   ],
   "source": [
    " \"I eat %d apples.\" % number"
   ]
  },
  {
   "cell_type": "code",
   "execution_count": 19,
   "id": "02581504",
   "metadata": {
    "ExecuteTime": {
     "end_time": "2024-02-28T02:21:00.419048Z",
     "start_time": "2024-02-28T02:21:00.414313Z"
    }
   },
   "outputs": [],
   "source": [
    "number = 10"
   ]
  },
  {
   "cell_type": "code",
   "execution_count": 20,
   "id": "2f3174e1",
   "metadata": {
    "ExecuteTime": {
     "end_time": "2024-02-28T02:21:06.044238Z",
     "start_time": "2024-02-28T02:21:06.040247Z"
    }
   },
   "outputs": [],
   "source": [
    "day = \"three\""
   ]
  },
  {
   "cell_type": "code",
   "execution_count": 22,
   "id": "c39ab565",
   "metadata": {
    "ExecuteTime": {
     "end_time": "2024-02-28T02:21:26.052344Z",
     "start_time": "2024-02-28T02:21:26.021523Z"
    }
   },
   "outputs": [
    {
     "ename": "TypeError",
     "evalue": "%d format: a real number is required, not str",
     "output_type": "error",
     "traceback": [
      "\u001b[1;31m---------------------------------------------------------------------------\u001b[0m",
      "\u001b[1;31mTypeError\u001b[0m                                 Traceback (most recent call last)",
      "Cell \u001b[1;32mIn[22], line 1\u001b[0m\n\u001b[1;32m----> 1\u001b[0m \u001b[38;5;124m\"\u001b[39m\u001b[38;5;124mI ate \u001b[39m\u001b[38;5;132;01m%d\u001b[39;00m\u001b[38;5;124m apples. so I was sick for \u001b[39m\u001b[38;5;132;01m%s\u001b[39;00m\u001b[38;5;124m days.\u001b[39m\u001b[38;5;124m\"\u001b[39m \u001b[38;5;241m%\u001b[39m (day,number)\n",
      "\u001b[1;31mTypeError\u001b[0m: %d format: a real number is required, not str"
     ]
    }
   ],
   "source": [
    "\"I ate %d apples. so I was sick for %s days.\" % (day,number)"
   ]
  },
  {
   "cell_type": "code",
   "execution_count": 23,
   "id": "f2a91211",
   "metadata": {
    "ExecuteTime": {
     "end_time": "2024-02-28T04:48:30.105950Z",
     "start_time": "2024-02-28T04:48:30.097820Z"
    }
   },
   "outputs": [],
   "source": [
    "num1=10"
   ]
  },
  {
   "cell_type": "code",
   "execution_count": 24,
   "id": "f9d25fb4",
   "metadata": {
    "ExecuteTime": {
     "end_time": "2024-02-28T04:48:36.068985Z",
     "start_time": "2024-02-28T04:48:36.065995Z"
    }
   },
   "outputs": [],
   "source": [
    "num2=num1"
   ]
  },
  {
   "cell_type": "code",
   "execution_count": 25,
   "id": "a82f1594",
   "metadata": {
    "ExecuteTime": {
     "end_time": "2024-02-28T04:48:40.226261Z",
     "start_time": "2024-02-28T04:48:40.221079Z"
    }
   },
   "outputs": [],
   "source": [
    "num1=11"
   ]
  },
  {
   "cell_type": "code",
   "execution_count": 26,
   "id": "79eba76e",
   "metadata": {
    "ExecuteTime": {
     "end_time": "2024-02-28T04:48:42.088490Z",
     "start_time": "2024-02-28T04:48:42.078438Z"
    }
   },
   "outputs": [
    {
     "data": {
      "text/plain": [
       "10"
      ]
     },
     "execution_count": 26,
     "metadata": {},
     "output_type": "execute_result"
    }
   ],
   "source": [
    "num2"
   ]
  },
  {
   "cell_type": "code",
   "execution_count": 27,
   "id": "5d31c5ad",
   "metadata": {
    "ExecuteTime": {
     "end_time": "2024-02-28T04:48:46.345603Z",
     "start_time": "2024-02-28T04:48:46.335361Z"
    }
   },
   "outputs": [
    {
     "data": {
      "text/plain": [
       "11"
      ]
     },
     "execution_count": 27,
     "metadata": {},
     "output_type": "execute_result"
    }
   ],
   "source": [
    "num1"
   ]
  },
  {
   "cell_type": "code",
   "execution_count": 28,
   "id": "6b1588d6",
   "metadata": {
    "ExecuteTime": {
     "end_time": "2024-02-28T04:48:54.517248Z",
     "start_time": "2024-02-28T04:48:54.508480Z"
    }
   },
   "outputs": [
    {
     "data": {
      "text/plain": [
       "140725620020328"
      ]
     },
     "execution_count": 28,
     "metadata": {},
     "output_type": "execute_result"
    }
   ],
   "source": [
    "id(num1)"
   ]
  },
  {
   "cell_type": "code",
   "execution_count": 29,
   "id": "a18dc982",
   "metadata": {
    "ExecuteTime": {
     "end_time": "2024-02-28T04:48:57.867601Z",
     "start_time": "2024-02-28T04:48:57.858321Z"
    }
   },
   "outputs": [
    {
     "data": {
      "text/plain": [
       "140725620020296"
      ]
     },
     "execution_count": 29,
     "metadata": {},
     "output_type": "execute_result"
    }
   ],
   "source": [
    "id(num2)"
   ]
  },
  {
   "cell_type": "code",
   "execution_count": 30,
   "id": "299330d4",
   "metadata": {
    "ExecuteTime": {
     "end_time": "2024-02-28T04:49:13.424741Z",
     "start_time": "2024-02-28T04:49:13.420211Z"
    }
   },
   "outputs": [],
   "source": [
    "a1=10"
   ]
  },
  {
   "cell_type": "code",
   "execution_count": 31,
   "id": "9144fc0e",
   "metadata": {
    "ExecuteTime": {
     "end_time": "2024-02-28T04:49:26.253324Z",
     "start_time": "2024-02-28T04:49:26.246925Z"
    }
   },
   "outputs": [
    {
     "data": {
      "text/plain": [
       "140725620020296"
      ]
     },
     "execution_count": 31,
     "metadata": {},
     "output_type": "execute_result"
    }
   ],
   "source": [
    "id(a1)"
   ]
  },
  {
   "cell_type": "code",
   "execution_count": 32,
   "id": "e1ba555d",
   "metadata": {
    "ExecuteTime": {
     "end_time": "2024-02-28T04:49:30.358276Z",
     "start_time": "2024-02-28T04:49:30.354735Z"
    }
   },
   "outputs": [],
   "source": [
    "a2=a1"
   ]
  },
  {
   "cell_type": "code",
   "execution_count": 33,
   "id": "a1bb3ab8",
   "metadata": {
    "ExecuteTime": {
     "end_time": "2024-02-28T04:49:34.667885Z",
     "start_time": "2024-02-28T04:49:34.661358Z"
    }
   },
   "outputs": [
    {
     "data": {
      "text/plain": [
       "140725620020296"
      ]
     },
     "execution_count": 33,
     "metadata": {},
     "output_type": "execute_result"
    }
   ],
   "source": [
    "id(a2)"
   ]
  },
  {
   "cell_type": "code",
   "execution_count": 34,
   "id": "1cb5dd3d",
   "metadata": {
    "ExecuteTime": {
     "end_time": "2024-02-28T04:49:43.724485Z",
     "start_time": "2024-02-28T04:49:43.720409Z"
    }
   },
   "outputs": [],
   "source": [
    "a1=11"
   ]
  },
  {
   "cell_type": "code",
   "execution_count": 35,
   "id": "2d4b9483",
   "metadata": {
    "ExecuteTime": {
     "end_time": "2024-02-28T04:49:46.259896Z",
     "start_time": "2024-02-28T04:49:46.253911Z"
    }
   },
   "outputs": [
    {
     "data": {
      "text/plain": [
       "140725620020328"
      ]
     },
     "execution_count": 35,
     "metadata": {},
     "output_type": "execute_result"
    }
   ],
   "source": [
    "id(a1)"
   ]
  },
  {
   "cell_type": "code",
   "execution_count": 36,
   "id": "1055c7d2",
   "metadata": {
    "ExecuteTime": {
     "end_time": "2024-02-28T04:49:49.142190Z",
     "start_time": "2024-02-28T04:49:49.136392Z"
    }
   },
   "outputs": [
    {
     "data": {
      "text/plain": [
       "140725620020296"
      ]
     },
     "execution_count": 36,
     "metadata": {},
     "output_type": "execute_result"
    }
   ],
   "source": [
    "id(a2)"
   ]
  },
  {
   "cell_type": "markdown",
   "id": "917a7ab6",
   "metadata": {},
   "source": [
    "# 리스트 객체"
   ]
  },
  {
   "cell_type": "code",
   "execution_count": 3,
   "id": "2e10f451",
   "metadata": {
    "ExecuteTime": {
     "end_time": "2024-03-04T00:36:02.562385Z",
     "start_time": "2024-03-04T00:36:02.556948Z"
    }
   },
   "outputs": [
    {
     "data": {
      "text/plain": [
       "list"
      ]
     },
     "execution_count": 3,
     "metadata": {},
     "output_type": "execute_result"
    }
   ],
   "source": [
    "odd = [1, 3, 5, 7, 9]\n",
    "type(odd)"
   ]
  },
  {
   "cell_type": "code",
   "execution_count": 4,
   "id": "284f7f90",
   "metadata": {
    "ExecuteTime": {
     "end_time": "2024-03-04T00:36:43.257600Z",
     "start_time": "2024-03-04T00:36:43.253245Z"
    }
   },
   "outputs": [],
   "source": [
    "a = []\n",
    "b = [1, 2, 3]\n",
    "c = ['Life', 'is', 'too', 'short']\n",
    "d = [1, 2, 'Life', 'is']\n",
    "e = [1, 2, ['Life', 'is']]"
   ]
  },
  {
   "cell_type": "code",
   "execution_count": 6,
   "id": "7df7c6e9",
   "metadata": {
    "ExecuteTime": {
     "end_time": "2024-03-04T00:37:34.659187Z",
     "start_time": "2024-03-04T00:37:34.651539Z"
    }
   },
   "outputs": [
    {
     "data": {
      "text/plain": [
       "([],\n",
       " [1, 2, 3],\n",
       " ['Life', 'is', 'too', 'short'],\n",
       " [1, 2, 'Life', 'is'],\n",
       " [1, 2, ['Life', 'is']])"
      ]
     },
     "execution_count": 6,
     "metadata": {},
     "output_type": "execute_result"
    }
   ],
   "source": [
    "a,b,c,d,e"
   ]
  },
  {
   "cell_type": "code",
   "execution_count": 7,
   "id": "d9ec4a00",
   "metadata": {
    "ExecuteTime": {
     "end_time": "2024-03-04T00:39:14.957257Z",
     "start_time": "2024-03-04T00:39:14.953436Z"
    }
   },
   "outputs": [],
   "source": [
    "a = [1, 2, 3]"
   ]
  },
  {
   "cell_type": "code",
   "execution_count": 8,
   "id": "9123c7b6",
   "metadata": {
    "ExecuteTime": {
     "end_time": "2024-03-04T00:39:29.870870Z",
     "start_time": "2024-03-04T00:39:29.866091Z"
    }
   },
   "outputs": [
    {
     "data": {
      "text/plain": [
       "1"
      ]
     },
     "execution_count": 8,
     "metadata": {},
     "output_type": "execute_result"
    }
   ],
   "source": [
    "a[0]"
   ]
  },
  {
   "cell_type": "code",
   "execution_count": 9,
   "id": "d5c86395",
   "metadata": {
    "ExecuteTime": {
     "end_time": "2024-03-04T00:39:38.350892Z",
     "start_time": "2024-03-04T00:39:38.346390Z"
    }
   },
   "outputs": [
    {
     "data": {
      "text/plain": [
       "4"
      ]
     },
     "execution_count": 9,
     "metadata": {},
     "output_type": "execute_result"
    }
   ],
   "source": [
    "a[0]+a[2]"
   ]
  },
  {
   "cell_type": "code",
   "execution_count": 10,
   "id": "db4e5798",
   "metadata": {
    "ExecuteTime": {
     "end_time": "2024-03-04T00:39:46.955589Z",
     "start_time": "2024-03-04T00:39:46.950622Z"
    }
   },
   "outputs": [],
   "source": [
    "a = [1, 2, 3, ['a', 'b', 'c']]"
   ]
  },
  {
   "cell_type": "code",
   "execution_count": 11,
   "id": "9a577f82",
   "metadata": {
    "ExecuteTime": {
     "end_time": "2024-03-04T00:39:57.174467Z",
     "start_time": "2024-03-04T00:39:57.168442Z"
    }
   },
   "outputs": [
    {
     "data": {
      "text/plain": [
       "['a', 'b', 'c']"
      ]
     },
     "execution_count": 11,
     "metadata": {},
     "output_type": "execute_result"
    }
   ],
   "source": [
    "a[3]"
   ]
  },
  {
   "cell_type": "code",
   "execution_count": 12,
   "id": "2f0d92e6",
   "metadata": {
    "ExecuteTime": {
     "end_time": "2024-03-04T00:40:09.028736Z",
     "start_time": "2024-03-04T00:40:09.023688Z"
    }
   },
   "outputs": [
    {
     "data": {
      "text/plain": [
       "'a'"
      ]
     },
     "execution_count": 12,
     "metadata": {},
     "output_type": "execute_result"
    }
   ],
   "source": [
    "a[-1][0]"
   ]
  },
  {
   "cell_type": "code",
   "execution_count": 13,
   "id": "1284c0a2",
   "metadata": {
    "ExecuteTime": {
     "end_time": "2024-03-04T00:44:28.109773Z",
     "start_time": "2024-03-04T00:44:28.103144Z"
    }
   },
   "outputs": [
    {
     "data": {
      "text/plain": [
       "'c'"
      ]
     },
     "execution_count": 13,
     "metadata": {},
     "output_type": "execute_result"
    }
   ],
   "source": [
    "a[3][2]"
   ]
  },
  {
   "cell_type": "code",
   "execution_count": 14,
   "id": "83a5ab9f",
   "metadata": {
    "ExecuteTime": {
     "end_time": "2024-03-04T00:46:07.679492Z",
     "start_time": "2024-03-04T00:46:07.673205Z"
    }
   },
   "outputs": [],
   "source": [
    "a = [1, 2, 3, 4, 5]"
   ]
  },
  {
   "cell_type": "code",
   "execution_count": 15,
   "id": "77678769",
   "metadata": {
    "ExecuteTime": {
     "end_time": "2024-03-04T00:46:14.142866Z",
     "start_time": "2024-03-04T00:46:14.135884Z"
    }
   },
   "outputs": [
    {
     "data": {
      "text/plain": [
       "[1, 2]"
      ]
     },
     "execution_count": 15,
     "metadata": {},
     "output_type": "execute_result"
    }
   ],
   "source": [
    "a[0:2]"
   ]
  },
  {
   "cell_type": "code",
   "execution_count": 17,
   "id": "c94b5a0b",
   "metadata": {
    "ExecuteTime": {
     "end_time": "2024-03-04T00:46:38.192839Z",
     "start_time": "2024-03-04T00:46:38.187357Z"
    }
   },
   "outputs": [
    {
     "data": {
      "text/plain": [
       "[1, 2]"
      ]
     },
     "execution_count": 17,
     "metadata": {},
     "output_type": "execute_result"
    }
   ],
   "source": [
    "b = a[:2]\n",
    "b"
   ]
  },
  {
   "cell_type": "code",
   "execution_count": 18,
   "id": "85930a75",
   "metadata": {
    "ExecuteTime": {
     "end_time": "2024-03-04T00:46:45.819842Z",
     "start_time": "2024-03-04T00:46:45.813721Z"
    }
   },
   "outputs": [
    {
     "data": {
      "text/plain": [
       "[3, 4, 5]"
      ]
     },
     "execution_count": 18,
     "metadata": {},
     "output_type": "execute_result"
    }
   ],
   "source": [
    "c = a[2:]\n",
    "c"
   ]
  },
  {
   "cell_type": "code",
   "execution_count": 19,
   "id": "4ddebbfc",
   "metadata": {
    "ExecuteTime": {
     "end_time": "2024-03-04T01:02:38.439661Z",
     "start_time": "2024-03-04T01:02:38.436083Z"
    }
   },
   "outputs": [],
   "source": [
    "a2=['1','2','3']"
   ]
  },
  {
   "cell_type": "code",
   "execution_count": 20,
   "id": "4820b3e2",
   "metadata": {
    "ExecuteTime": {
     "end_time": "2024-03-04T01:02:48.926802Z",
     "start_time": "2024-03-04T01:02:48.921815Z"
    }
   },
   "outputs": [
    {
     "data": {
      "text/plain": [
       "'12'"
      ]
     },
     "execution_count": 20,
     "metadata": {},
     "output_type": "execute_result"
    }
   ],
   "source": [
    "a2[0]+a2[1]"
   ]
  },
  {
   "cell_type": "markdown",
   "id": "8fc9986a",
   "metadata": {},
   "source": [
    "# 튜플"
   ]
  },
  {
   "cell_type": "code",
   "execution_count": 21,
   "id": "f3b110c0",
   "metadata": {
    "ExecuteTime": {
     "end_time": "2024-03-04T01:25:29.696020Z",
     "start_time": "2024-03-04T01:25:29.686592Z"
    }
   },
   "outputs": [],
   "source": [
    "t1 = ()\n",
    "t2 = (1,)\n",
    "t3 = (1, 2, 3)\n",
    "t4 = 1, 2, 3\n",
    "t5 = ('a', 'b', ('ab', 'cd'))"
   ]
  },
  {
   "cell_type": "markdown",
   "id": "a2b664ea",
   "metadata": {},
   "source": [
    "# 딕셔너리"
   ]
  },
  {
   "cell_type": "code",
   "execution_count": 23,
   "id": "94c475f0",
   "metadata": {
    "ExecuteTime": {
     "end_time": "2024-03-04T01:50:35.174369Z",
     "start_time": "2024-03-04T01:50:35.166919Z"
    }
   },
   "outputs": [],
   "source": [
    "dic = {'name': 'pey', 'phone': '010-9999-1234', 'birth': '1118'}"
   ]
  },
  {
   "cell_type": "code",
   "execution_count": 24,
   "id": "c20079e3",
   "metadata": {
    "ExecuteTime": {
     "end_time": "2024-03-04T01:50:49.995082Z",
     "start_time": "2024-03-04T01:50:49.989022Z"
    }
   },
   "outputs": [
    {
     "name": "stdout",
     "output_type": "stream",
     "text": [
      "{'name': 'pey', 'phone': '010-9999-1234', 'birth': '1118'}\n"
     ]
    }
   ],
   "source": [
    "print(dic)"
   ]
  },
  {
   "cell_type": "code",
   "execution_count": 25,
   "id": "21d90eda",
   "metadata": {
    "ExecuteTime": {
     "end_time": "2024-03-04T02:09:03.685942Z",
     "start_time": "2024-03-04T02:09:03.678393Z"
    }
   },
   "outputs": [
    {
     "data": {
      "text/plain": [
       "'pey'"
      ]
     },
     "execution_count": 25,
     "metadata": {},
     "output_type": "execute_result"
    }
   ],
   "source": [
    "dic[\"name\"]"
   ]
  },
  {
   "cell_type": "code",
   "execution_count": 26,
   "id": "498a043f",
   "metadata": {
    "ExecuteTime": {
     "end_time": "2024-03-04T02:11:55.013666Z",
     "start_time": "2024-03-04T02:11:55.008086Z"
    },
    "scrolled": true
   },
   "outputs": [
    {
     "data": {
      "text/plain": [
       "dict_keys(['name', 'phone', 'birth'])"
      ]
     },
     "execution_count": 26,
     "metadata": {},
     "output_type": "execute_result"
    }
   ],
   "source": [
    "dic.keys()"
   ]
  },
  {
   "cell_type": "code",
   "execution_count": 28,
   "id": "0c94d666",
   "metadata": {
    "ExecuteTime": {
     "end_time": "2024-03-04T02:14:03.688676Z",
     "start_time": "2024-03-04T02:14:03.679758Z"
    }
   },
   "outputs": [
    {
     "data": {
      "text/plain": [
       "dict_values(['pey', '010-9999-1234', '1118'])"
      ]
     },
     "execution_count": 28,
     "metadata": {},
     "output_type": "execute_result"
    }
   ],
   "source": [
    "dic.values()"
   ]
  },
  {
   "cell_type": "code",
   "execution_count": 27,
   "id": "3c5f5cef",
   "metadata": {
    "ExecuteTime": {
     "end_time": "2024-03-04T02:12:20.381037Z",
     "start_time": "2024-03-04T02:12:20.374547Z"
    }
   },
   "outputs": [
    {
     "data": {
      "text/plain": [
       "dict_items([('name', 'pey'), ('phone', '010-9999-1234'), ('birth', '1118')])"
      ]
     },
     "execution_count": 27,
     "metadata": {},
     "output_type": "execute_result"
    }
   ],
   "source": [
    "dic.items()"
   ]
  },
  {
   "cell_type": "code",
   "execution_count": null,
   "id": "b1f24843",
   "metadata": {},
   "outputs": [],
   "source": []
  },
  {
   "cell_type": "code",
   "execution_count": null,
   "id": "118f3b1e",
   "metadata": {},
   "outputs": [],
   "source": []
  },
  {
   "cell_type": "code",
   "execution_count": null,
   "id": "9786e134",
   "metadata": {},
   "outputs": [],
   "source": []
  },
  {
   "cell_type": "code",
   "execution_count": null,
   "id": "244d5b87",
   "metadata": {},
   "outputs": [],
   "source": []
  },
  {
   "cell_type": "code",
   "execution_count": null,
   "id": "92fb7405",
   "metadata": {},
   "outputs": [],
   "source": []
  },
  {
   "cell_type": "code",
   "execution_count": null,
   "id": "f34e63fd",
   "metadata": {},
   "outputs": [],
   "source": []
  },
  {
   "cell_type": "code",
   "execution_count": null,
   "id": "2f540dd2",
   "metadata": {},
   "outputs": [],
   "source": []
  },
  {
   "cell_type": "code",
   "execution_count": null,
   "id": "ec8f2301",
   "metadata": {},
   "outputs": [],
   "source": []
  },
  {
   "cell_type": "code",
   "execution_count": null,
   "id": "5f716d4d",
   "metadata": {},
   "outputs": [],
   "source": []
  },
  {
   "cell_type": "code",
   "execution_count": null,
   "id": "9e49f565",
   "metadata": {},
   "outputs": [],
   "source": []
  },
  {
   "cell_type": "code",
   "execution_count": null,
   "id": "abd075e1",
   "metadata": {},
   "outputs": [],
   "source": []
  },
  {
   "cell_type": "code",
   "execution_count": null,
   "id": "85c243a5",
   "metadata": {},
   "outputs": [],
   "source": []
  },
  {
   "cell_type": "code",
   "execution_count": null,
   "id": "af0fa3fe",
   "metadata": {},
   "outputs": [],
   "source": []
  },
  {
   "cell_type": "code",
   "execution_count": null,
   "id": "a7c91a1c",
   "metadata": {},
   "outputs": [],
   "source": []
  },
  {
   "cell_type": "code",
   "execution_count": null,
   "id": "6a567f4d",
   "metadata": {},
   "outputs": [],
   "source": []
  },
  {
   "cell_type": "code",
   "execution_count": null,
   "id": "0f38fa3c",
   "metadata": {},
   "outputs": [],
   "source": []
  },
  {
   "cell_type": "code",
   "execution_count": null,
   "id": "0a129011",
   "metadata": {},
   "outputs": [],
   "source": []
  },
  {
   "cell_type": "code",
   "execution_count": null,
   "id": "eb971126",
   "metadata": {},
   "outputs": [],
   "source": []
  }
 ],
 "metadata": {
  "kernelspec": {
   "display_name": "Python 3 (ipykernel)",
   "language": "python",
   "name": "python3"
  },
  "language_info": {
   "codemirror_mode": {
    "name": "ipython",
    "version": 3
   },
   "file_extension": ".py",
   "mimetype": "text/x-python",
   "name": "python",
   "nbconvert_exporter": "python",
   "pygments_lexer": "ipython3",
   "version": "3.11.5"
  },
  "toc": {
   "base_numbering": 1,
   "nav_menu": {},
   "number_sections": true,
   "sideBar": true,
   "skip_h1_title": false,
   "title_cell": "Table of Contents",
   "title_sidebar": "Contents",
   "toc_cell": false,
   "toc_position": {},
   "toc_section_display": true,
   "toc_window_display": false
  }
 },
 "nbformat": 4,
 "nbformat_minor": 5
}
