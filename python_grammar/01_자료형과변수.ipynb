{
 "cells": [
  {
   "cell_type": "code",
   "execution_count": 13,
   "id": "1bce7e3c",
   "metadata": {
    "ExecuteTime": {
     "end_time": "2024-02-27T02:19:39.568553Z",
     "start_time": "2024-02-27T02:19:39.563562Z"
    }
   },
   "outputs": [],
   "source": [
    "a= 123"
   ]
  },
  {
   "cell_type": "code",
   "execution_count": 9,
   "id": "0eb7b593",
   "metadata": {
    "ExecuteTime": {
     "end_time": "2024-02-27T02:18:45.104964Z",
     "start_time": "2024-02-27T02:18:45.101885Z"
    }
   },
   "outputs": [],
   "source": [
    "a= -1788"
   ]
  },
  {
   "cell_type": "code",
   "execution_count": 7,
   "id": "f574d3df",
   "metadata": {
    "ExecuteTime": {
     "end_time": "2024-02-27T02:18:40.546430Z",
     "start_time": "2024-02-27T02:18:40.542075Z"
    }
   },
   "outputs": [],
   "source": [
    "a= 0"
   ]
  },
  {
   "cell_type": "code",
   "execution_count": 14,
   "id": "4f14bce5",
   "metadata": {
    "ExecuteTime": {
     "end_time": "2024-02-27T02:19:44.529742Z",
     "start_time": "2024-02-27T02:19:44.522185Z"
    }
   },
   "outputs": [
    {
     "data": {
      "text/plain": [
       "123"
      ]
     },
     "execution_count": 14,
     "metadata": {},
     "output_type": "execute_result"
    }
   ],
   "source": [
    "a"
   ]
  },
  {
   "cell_type": "code",
   "execution_count": 15,
   "id": "586001b3",
   "metadata": {
    "ExecuteTime": {
     "end_time": "2024-02-27T02:20:05.596250Z",
     "start_time": "2024-02-27T02:20:05.588678Z"
    }
   },
   "outputs": [
    {
     "data": {
      "text/plain": [
       "1.1"
      ]
     },
     "execution_count": 15,
     "metadata": {},
     "output_type": "execute_result"
    }
   ],
   "source": [
    "a=1.1\n",
    "a"
   ]
  },
  {
   "cell_type": "code",
   "execution_count": 16,
   "id": "2cda800d",
   "metadata": {
    "ExecuteTime": {
     "end_time": "2024-02-27T02:20:14.410675Z",
     "start_time": "2024-02-27T02:20:14.405199Z"
    }
   },
   "outputs": [
    {
     "data": {
      "text/plain": [
       "3.45"
      ]
     },
     "execution_count": 16,
     "metadata": {},
     "output_type": "execute_result"
    }
   ],
   "source": [
    "a= 3.45\n",
    "a"
   ]
  },
  {
   "cell_type": "code",
   "execution_count": 17,
   "id": "fcc5f8a4",
   "metadata": {
    "ExecuteTime": {
     "end_time": "2024-02-27T02:20:33.840399Z",
     "start_time": "2024-02-27T02:20:33.833736Z"
    }
   },
   "outputs": [
    {
     "data": {
      "text/plain": [
       "42400000000.0"
      ]
     },
     "execution_count": 17,
     "metadata": {},
     "output_type": "execute_result"
    }
   ],
   "source": [
    "a= 4.24E10\n",
    "a"
   ]
  },
  {
   "cell_type": "code",
   "execution_count": 18,
   "id": "0102106c",
   "metadata": {
    "ExecuteTime": {
     "end_time": "2024-02-27T02:28:20.237642Z",
     "start_time": "2024-02-27T02:28:20.231958Z"
    }
   },
   "outputs": [
    {
     "data": {
      "text/plain": [
       "81"
      ]
     },
     "execution_count": 18,
     "metadata": {},
     "output_type": "execute_result"
    }
   ],
   "source": [
    "a=3\n",
    "b=4\n",
    "a ** b"
   ]
  },
  {
   "cell_type": "code",
   "execution_count": 19,
   "id": "fb323e1c",
   "metadata": {
    "ExecuteTime": {
     "end_time": "2024-02-27T02:28:26.355127Z",
     "start_time": "2024-02-27T02:28:26.349238Z"
    }
   },
   "outputs": [
    {
     "data": {
      "text/plain": [
       "1"
      ]
     },
     "execution_count": 19,
     "metadata": {},
     "output_type": "execute_result"
    }
   ],
   "source": [
    "7%3"
   ]
  },
  {
   "cell_type": "code",
   "execution_count": 20,
   "id": "8e83a24c",
   "metadata": {
    "ExecuteTime": {
     "end_time": "2024-02-27T02:28:32.081249Z",
     "start_time": "2024-02-27T02:28:32.076269Z"
    }
   },
   "outputs": [
    {
     "data": {
      "text/plain": [
       "2.3333333333333335"
      ]
     },
     "execution_count": 20,
     "metadata": {},
     "output_type": "execute_result"
    }
   ],
   "source": [
    "7/3"
   ]
  },
  {
   "cell_type": "code",
   "execution_count": 21,
   "id": "5cad8d57",
   "metadata": {
    "ExecuteTime": {
     "end_time": "2024-02-27T02:38:55.036708Z",
     "start_time": "2024-02-27T02:38:55.027246Z"
    }
   },
   "outputs": [
    {
     "data": {
      "text/plain": [
       "'Hello World'"
      ]
     },
     "execution_count": 21,
     "metadata": {},
     "output_type": "execute_result"
    }
   ],
   "source": [
    "'Hello World'"
   ]
  },
  {
   "cell_type": "code",
   "execution_count": 22,
   "id": "d1e04511",
   "metadata": {
    "ExecuteTime": {
     "end_time": "2024-02-27T02:39:13.292694Z",
     "start_time": "2024-02-27T02:39:13.283949Z"
    }
   },
   "outputs": [
    {
     "data": {
      "text/plain": [
       "' Hello World '"
      ]
     },
     "execution_count": 22,
     "metadata": {},
     "output_type": "execute_result"
    }
   ],
   "source": [
    "\"\"\" Hello World \"\"\""
   ]
  },
  {
   "cell_type": "code",
   "execution_count": 24,
   "id": "0aa5da78",
   "metadata": {
    "ExecuteTime": {
     "end_time": "2024-02-27T02:41:03.507237Z",
     "start_time": "2024-02-27T02:41:03.502033Z"
    }
   },
   "outputs": [
    {
     "data": {
      "text/plain": [
       "\"Python's favorite food is perl\""
      ]
     },
     "execution_count": 24,
     "metadata": {},
     "output_type": "execute_result"
    }
   ],
   "source": [
    "\"Python's favorite food is perl\""
   ]
  },
  {
   "cell_type": "code",
   "execution_count": null,
   "id": "7151c0a2",
   "metadata": {},
   "outputs": [],
   "source": []
  },
  {
   "cell_type": "code",
   "execution_count": null,
   "id": "05dd397d",
   "metadata": {},
   "outputs": [],
   "source": []
  },
  {
   "cell_type": "code",
   "execution_count": null,
   "id": "230acb19",
   "metadata": {},
   "outputs": [],
   "source": []
  },
  {
   "cell_type": "code",
   "execution_count": null,
   "id": "5ce1c0d4",
   "metadata": {},
   "outputs": [],
   "source": []
  },
  {
   "cell_type": "code",
   "execution_count": null,
   "id": "f62191db",
   "metadata": {},
   "outputs": [],
   "source": []
  },
  {
   "cell_type": "code",
   "execution_count": null,
   "id": "e37a272d",
   "metadata": {},
   "outputs": [],
   "source": []
  }
 ],
 "metadata": {
  "kernelspec": {
   "display_name": "Python 3 (ipykernel)",
   "language": "python",
   "name": "python3"
  },
  "language_info": {
   "codemirror_mode": {
    "name": "ipython",
    "version": 3
   },
   "file_extension": ".py",
   "mimetype": "text/x-python",
   "name": "python",
   "nbconvert_exporter": "python",
   "pygments_lexer": "ipython3",
   "version": "3.11.5"
  },
  "toc": {
   "base_numbering": 1,
   "nav_menu": {},
   "number_sections": true,
   "sideBar": true,
   "skip_h1_title": false,
   "title_cell": "Table of Contents",
   "title_sidebar": "Contents",
   "toc_cell": false,
   "toc_position": {},
   "toc_section_display": true,
   "toc_window_display": false
  }
 },
 "nbformat": 4,
 "nbformat_minor": 5
}
