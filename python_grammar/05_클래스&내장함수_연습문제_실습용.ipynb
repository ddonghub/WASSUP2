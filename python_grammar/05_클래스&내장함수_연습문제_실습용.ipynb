{
 "cells": [
  {
   "cell_type": "markdown",
   "id": "f1fdca32",
   "metadata": {
    "id": "f1fdca32"
   },
   "source": [
    "# Q1. 다음은 Calculator 클래스이다.\n",
    "```python\n",
    "class Calculator:\n",
    "    def __init__(self):\n",
    "        self.value = 0\n",
    "    def add(self, val):\n",
    "        self.value += val\n",
    "```\n",
    "위 클래스를 상속하는 UpgradeCalculator를 만들고 값을 뺄 수 잇는 minus 메서드를 추가해보자.   \n",
    "즉 다음과 같이 동작하는 클래스를 만들어야 한다.\n",
    "```python\n",
    "cal = UpgradeCalculator()\n",
    "cal.add(10)\n",
    "cal.minus(7)\n",
    "print(cal.calue) # 10에서 7을 뺀 3을 출력\n",
    "```"
   ]
  },
  {
   "cell_type": "code",
   "execution_count": null,
   "id": "f3345c8c",
   "metadata": {
    "id": "f3345c8c"
   },
   "outputs": [],
   "source": []
  },
  {
   "cell_type": "markdown",
   "id": "75806738",
   "metadata": {
    "id": "75806738"
   },
   "source": [
    "# Q2. 객체 변수 value가 100 이상의 값은 가질 수 없도록 제한하는 MaxLimitCalculator 클래스를 만들어 보자. 즉 다음과 같이 동작해야 한다.\n",
    "```python\n",
    "cal = MaxLimitCalculator()\n",
    "cal.add(50) # 50 더하기\n",
    "cal.add(60) # 60 더하기\n",
    "\n",
    "print(cal.value) # 100 출력\n",
    "```\n",
    "\n",
    "단 반드시 다음과 같은 calculator 클래스를 상속해서 만들어야 한다.\n",
    "```python\n",
    "class Calculator:\n",
    "    def __init__(self):\n",
    "        self.value = 0\n",
    "    def add(self, val):\n",
    "        self.value += val\n",
    "```"
   ]
  },
  {
   "cell_type": "code",
   "execution_count": 1,
   "id": "d5bc73e1",
   "metadata": {
    "ExecuteTime": {
     "end_time": "2024-03-12T15:21:54.733410Z",
     "start_time": "2024-03-12T15:21:54.728957Z"
    },
    "id": "d5bc73e1"
   },
   "outputs": [],
   "source": [
    "class Calculator:\n",
    "    def __init__(self):\n",
    "        self.value = 0\n",
    "    def add(self, val):\n",
    "        self.value += val"
   ]
  },
  {
   "cell_type": "code",
   "execution_count": 17,
   "id": "5fde94aa",
   "metadata": {
    "ExecuteTime": {
     "end_time": "2024-03-12T15:28:29.241426Z",
     "start_time": "2024-03-12T15:28:29.236864Z"
    }
   },
   "outputs": [],
   "source": [
    "class MaxLimitCalculator(Calculator):\n",
    "    def add(self, val):\n",
    "        self.value += val\n",
    "        if self.value > 100:\n",
    "            print(\"너무커 그만\")"
   ]
  },
  {
   "cell_type": "code",
   "execution_count": 18,
   "id": "2b9df7c6",
   "metadata": {
    "ExecuteTime": {
     "end_time": "2024-03-12T15:28:31.270116Z",
     "start_time": "2024-03-12T15:28:31.266584Z"
    }
   },
   "outputs": [],
   "source": [
    "a=MaxLimitCalculator()"
   ]
  },
  {
   "cell_type": "code",
   "execution_count": 21,
   "id": "1c1e22f2",
   "metadata": {
    "ExecuteTime": {
     "end_time": "2024-03-12T15:28:56.274865Z",
     "start_time": "2024-03-12T15:28:56.271979Z"
    }
   },
   "outputs": [
    {
     "name": "stdout",
     "output_type": "stream",
     "text": [
      "너무커 그만\n"
     ]
    }
   ],
   "source": [
    "a.add(100)"
   ]
  },
  {
   "cell_type": "markdown",
   "id": "7286e434",
   "metadata": {
    "id": "7286e434"
   },
   "source": [
    "# Q3. 다음 결과를 예측해 보자.\n",
    "```python\n",
    "# 1.\n",
    ">>> all({1, 2, abs(-3)-3})\n",
    "\n",
    "# 2.\n",
    ">>> chr(ord('a')) == 'a'\n",
    "```"
   ]
  },
  {
   "cell_type": "code",
   "execution_count": null,
   "id": "b686ab29",
   "metadata": {
    "id": "b686ab29"
   },
   "outputs": [],
   "source": []
  },
  {
   "cell_type": "markdown",
   "id": "ff058604",
   "metadata": {
    "id": "ff058604"
   },
   "source": [
    "# Q4. filter와 lambda를 사용하여 리스트 [1, -2, 3, -5, 8, -3]에서 음수를 모두 제거해 보자."
   ]
  },
  {
   "cell_type": "code",
   "execution_count": null,
   "id": "4da2f202",
   "metadata": {
    "id": "4da2f202"
   },
   "outputs": [],
   "source": []
  },
  {
   "cell_type": "markdown",
   "id": "3810c0b8",
   "metadata": {
    "id": "3810c0b8"
   },
   "source": [
    "# Q5. 234라는 10진수의 16진수는 다음과 같이 구할 수 있다.\n",
    "```python\n",
    ">>> hex(234)\n",
    "'0xea'\n",
    "```\n",
    "이번에는 반대로 16진수 문자열 0xea를 10진수로 변경해 보자."
   ]
  },
  {
   "cell_type": "code",
   "execution_count": null,
   "id": "c94be636",
   "metadata": {
    "id": "c94be636"
   },
   "outputs": [],
   "source": []
  },
  {
   "cell_type": "markdown",
   "id": "6c563fc7",
   "metadata": {
    "id": "6c563fc7"
   },
   "source": [
    "# Q6. map과 lambda를 사용하여 [1, 2, 3, 4] 리스트의 각 요솟값에 3이 곱해진 리스트 [3, 6, 9, 12]를 만들어 보자."
   ]
  },
  {
   "cell_type": "code",
   "execution_count": null,
   "id": "f303e800",
   "metadata": {
    "id": "f303e800"
   },
   "outputs": [],
   "source": []
  },
  {
   "cell_type": "markdown",
   "id": "5abd78a0",
   "metadata": {
    "id": "5abd78a0"
   },
   "source": [
    "# Q7. 다음 리스트의 최댓값과 최솟값의 합을 구해 보자.\n",
    "[-8, 2, 7, 5, -3, 5, 0, 1]"
   ]
  },
  {
   "cell_type": "code",
   "execution_count": null,
   "id": "4527968b",
   "metadata": {
    "id": "4527968b"
   },
   "outputs": [],
   "source": []
  },
  {
   "cell_type": "markdown",
   "id": "b64ed240",
   "metadata": {
    "id": "b64ed240"
   },
   "source": [
    "# Q8. 17 / 3의 결과는 다음과 같다.\n",
    "```python\n",
    ">>> 17 / 3\n",
    "5.666666666667\n",
    "```\n",
    "위와 같은 결괏값 5.6666666666667을 소숫점 4자리까지만 반올림하여 표시해 보자."
   ]
  },
  {
   "cell_type": "code",
   "execution_count": null,
   "id": "730d116a",
   "metadata": {
    "id": "730d116a"
   },
   "outputs": [],
   "source": []
  },
  {
   "cell_type": "markdown",
   "id": "6ae88f19",
   "metadata": {
    "id": "6ae88f19"
   },
   "source": [
    "# Q9. 다음과 같이 실행할 때 입력값을 모두 더하여 출력하는 스크립트(C:\\doit\\myargv.py)를 작성해 보자.\n",
    "```\n",
    "C:\\> cd doit\n",
    "C:\\dodit> python myargv.py 1 2 3 4 5 6 7 8 9 10\n",
    "```"
   ]
  },
  {
   "cell_type": "code",
   "execution_count": null,
   "id": "93068ed8",
   "metadata": {
    "id": "93068ed8"
   },
   "outputs": [],
   "source": []
  },
  {
   "cell_type": "markdown",
   "id": "ac41096a",
   "metadata": {
    "id": "ac41096a"
   },
   "source": [
    "# Q10. OS 모듈을 사용하여 다음과 같이 동작하도록 코드를 작성해 보자.\n",
    "1. C:\\doit 디렉터리로 이동한다.\n",
    "2. dir 명령을 실행하고 그 결과를 변수에 담는다.\n",
    "3. dir 명령의 결과를 출력한다."
   ]
  },
  {
   "cell_type": "code",
   "execution_count": null,
   "id": "6cef3623",
   "metadata": {
    "id": "6cef3623"
   },
   "outputs": [],
   "source": []
  },
  {
   "cell_type": "markdown",
   "id": "e1df445d",
   "metadata": {
    "id": "e1df445d"
   },
   "source": [
    "# Q11. glob 모듈을 사용하여 C:\\doit 디렉터리의 파일 중 확장자가 .ipynb인 파일만 출력하는 프로그램을 작성해 보자."
   ]
  },
  {
   "cell_type": "code",
   "execution_count": null,
   "id": "b69ab522",
   "metadata": {
    "id": "b69ab522"
   },
   "outputs": [],
   "source": []
  },
  {
   "cell_type": "markdown",
   "id": "d7b91fea",
   "metadata": {
    "id": "d7b91fea"
   },
   "source": [
    "# Q12. time 모듈을 사용하여 현재 날짜와 시간을 다음과 같은 형식으로 출력해 보자.\n",
    "2018/04/03 17:20:32"
   ]
  },
  {
   "cell_type": "code",
   "execution_count": null,
   "id": "e2a5f482",
   "metadata": {
    "id": "e2a5f482"
   },
   "outputs": [],
   "source": []
  },
  {
   "cell_type": "markdown",
   "id": "393cd834",
   "metadata": {
    "id": "393cd834"
   },
   "source": [
    "# Q13. random 모듈을 사용하여 로또 번호 (1~45 사이의 숫자 6개)를 생성해보자(단 중복된 숫자가 있으면 안됨)."
   ]
  },
  {
   "cell_type": "code",
   "execution_count": null,
   "id": "c4b093dc",
   "metadata": {
    "id": "c4b093dc"
   },
   "outputs": [],
   "source": []
  },
  {
   "cell_type": "markdown",
   "id": "ee89ff74",
   "metadata": {
    "id": "ee89ff74"
   },
   "source": [
    "\"성공은 매일 반복한 작은 노력들의 합이다.\"\n",
    "- 로버트 콜리어"
   ]
  }
 ],
 "metadata": {
  "colab": {
   "provenance": []
  },
  "kernelspec": {
   "display_name": "Python 3 (ipykernel)",
   "language": "python",
   "name": "python3"
  },
  "language_info": {
   "codemirror_mode": {
    "name": "ipython",
    "version": 3
   },
   "file_extension": ".py",
   "mimetype": "text/x-python",
   "name": "python",
   "nbconvert_exporter": "python",
   "pygments_lexer": "ipython3",
   "version": "3.11.5"
  },
  "toc": {
   "base_numbering": 1,
   "nav_menu": {},
   "number_sections": true,
   "sideBar": true,
   "skip_h1_title": false,
   "title_cell": "Table of Contents",
   "title_sidebar": "Contents",
   "toc_cell": false,
   "toc_position": {},
   "toc_section_display": true,
   "toc_window_display": false
  },
  "varInspector": {
   "cols": {
    "lenName": 16,
    "lenType": 16,
    "lenVar": 40
   },
   "kernels_config": {
    "python": {
     "delete_cmd_postfix": "",
     "delete_cmd_prefix": "del ",
     "library": "var_list.py",
     "varRefreshCmd": "print(var_dic_list())"
    },
    "r": {
     "delete_cmd_postfix": ") ",
     "delete_cmd_prefix": "rm(",
     "library": "var_list.r",
     "varRefreshCmd": "cat(var_dic_list()) "
    }
   },
   "types_to_exclude": [
    "module",
    "function",
    "builtin_function_or_method",
    "instance",
    "_Feature"
   ],
   "window_display": false
  }
 },
 "nbformat": 4,
 "nbformat_minor": 5
}
