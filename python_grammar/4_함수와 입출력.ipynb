{
 "cells": [
  {
   "cell_type": "code",
   "execution_count": 1,
   "id": "ef9415e2",
   "metadata": {
    "ExecuteTime": {
     "end_time": "2024-03-07T00:26:56.535207Z",
     "start_time": "2024-03-07T00:26:56.530217Z"
    }
   },
   "outputs": [],
   "source": [
    "def add(a, b): \n",
    "    result = a + b \n",
    "    return result"
   ]
  },
  {
   "cell_type": "code",
   "execution_count": 8,
   "id": "fa929ff2",
   "metadata": {
    "ExecuteTime": {
     "end_time": "2024-03-07T01:44:52.720876Z",
     "start_time": "2024-03-07T01:44:52.712269Z"
    }
   },
   "outputs": [
    {
     "data": {
      "text/plain": [
       "4"
      ]
     },
     "execution_count": 8,
     "metadata": {},
     "output_type": "execute_result"
    }
   ],
   "source": [
    "add(1,3)"
   ]
  },
  {
   "cell_type": "code",
   "execution_count": 9,
   "id": "d0dc7875",
   "metadata": {
    "ExecuteTime": {
     "end_time": "2024-03-07T01:45:07.422718Z",
     "start_time": "2024-03-07T01:45:07.415021Z"
    }
   },
   "outputs": [
    {
     "data": {
      "text/plain": [
       "'민동현'"
      ]
     },
     "execution_count": 9,
     "metadata": {},
     "output_type": "execute_result"
    }
   ],
   "source": [
    "add('민','동현')"
   ]
  },
  {
   "cell_type": "code",
   "execution_count": 3,
   "id": "af21aa71",
   "metadata": {
    "ExecuteTime": {
     "end_time": "2024-03-07T01:16:17.946257Z",
     "start_time": "2024-03-07T01:16:17.930490Z"
    }
   },
   "outputs": [],
   "source": [
    "def add_many(*args): \n",
    "    result = 0 \n",
    "    for i in args: \n",
    "        result = result + i   # *args에 입력받은 모든 값을 더한다.\n",
    "    return result "
   ]
  },
  {
   "cell_type": "code",
   "execution_count": 4,
   "id": "8425cf07",
   "metadata": {
    "ExecuteTime": {
     "end_time": "2024-03-07T01:16:34.071492Z",
     "start_time": "2024-03-07T01:16:34.062567Z"
    }
   },
   "outputs": [
    {
     "data": {
      "text/plain": [
       "122"
      ]
     },
     "execution_count": 4,
     "metadata": {},
     "output_type": "execute_result"
    }
   ],
   "source": [
    "add_many(5,6,79,2,14,16)"
   ]
  },
  {
   "cell_type": "code",
   "execution_count": 5,
   "id": "ec85526c",
   "metadata": {
    "ExecuteTime": {
     "end_time": "2024-03-07T01:21:03.617480Z",
     "start_time": "2024-03-07T01:21:03.609350Z"
    }
   },
   "outputs": [],
   "source": [
    "def add_mul(choice, *args): \n",
    "    if choice == \"add\":   # 매개변수 choice에 \"add\"를 입력받았을 때\n",
    "        result = 0 \n",
    "        for i in args: \n",
    "            result = result + i \n",
    "    elif choice == \"mul\":   # 매개변수 choice에 \"mul\"을 입력받았을 때\n",
    "        result = 1 \n",
    "        for i in args: \n",
    "            result = result * i \n",
    "    return result \n"
   ]
  },
  {
   "cell_type": "code",
   "execution_count": 7,
   "id": "c096e4c0",
   "metadata": {
    "ExecuteTime": {
     "end_time": "2024-03-07T01:21:58.709374Z",
     "start_time": "2024-03-07T01:21:58.702538Z"
    }
   },
   "outputs": [
    {
     "data": {
      "text/plain": [
       "2832"
      ]
     },
     "execution_count": 7,
     "metadata": {},
     "output_type": "execute_result"
    }
   ],
   "source": [
    "add_mul('mul', 3,4,59,4)"
   ]
  },
  {
   "cell_type": "code",
   "execution_count": 12,
   "id": "30c23ae8",
   "metadata": {
    "ExecuteTime": {
     "end_time": "2024-03-07T02:10:06.770034Z",
     "start_time": "2024-03-07T02:10:06.757357Z"
    }
   },
   "outputs": [],
   "source": [
    "f = open(\"파일생성하기실습.txt\", 'w')\n",
    "f.close()"
   ]
  },
  {
   "cell_type": "code",
   "execution_count": 13,
   "id": "1b2440c8",
   "metadata": {
    "ExecuteTime": {
     "end_time": "2024-03-07T02:16:39.866843Z",
     "start_time": "2024-03-07T02:16:39.851687Z"
    }
   },
   "outputs": [],
   "source": [
    "f = open(\"새파일.txt\", 'w')\n",
    "for i in range(1, 11):\n",
    "    data = \"%d번째 줄입니다.\\n\" % i\n",
    "    f.write(data)\n",
    "f.close()"
   ]
  },
  {
   "cell_type": "code",
   "execution_count": 14,
   "id": "5096fef4",
   "metadata": {
    "ExecuteTime": {
     "end_time": "2024-03-07T02:17:18.797407Z",
     "start_time": "2024-03-07T02:17:18.783255Z"
    }
   },
   "outputs": [
    {
     "name": "stdout",
     "output_type": "stream",
     "text": [
      "1번째 줄입니다.\n",
      "\n",
      "2번째 줄입니다.\n",
      "\n",
      "3번째 줄입니다.\n",
      "\n",
      "4번째 줄입니다.\n",
      "\n",
      "5번째 줄입니다.\n",
      "\n",
      "6번째 줄입니다.\n",
      "\n",
      "7번째 줄입니다.\n",
      "\n",
      "8번째 줄입니다.\n",
      "\n",
      "9번째 줄입니다.\n",
      "\n",
      "10번째 줄입니다.\n",
      "\n"
     ]
    }
   ],
   "source": [
    "for i in range(1, 11):\n",
    "    data = \"%d번째 줄입니다.\\n\" % i\n",
    "    print(data)"
   ]
  },
  {
   "cell_type": "code",
   "execution_count": 15,
   "id": "6631baf8",
   "metadata": {
    "ExecuteTime": {
     "end_time": "2024-03-07T02:18:07.842832Z",
     "start_time": "2024-03-07T02:18:07.832404Z"
    }
   },
   "outputs": [
    {
     "name": "stdout",
     "output_type": "stream",
     "text": [
      "1번째 줄입니다.\n",
      "\n"
     ]
    }
   ],
   "source": [
    "f = open(\"새파일.txt\", 'r')\n",
    "line = f.readline()\n",
    "print(line)\n",
    "f.close()"
   ]
  },
  {
   "cell_type": "code",
   "execution_count": 16,
   "id": "565b60ff",
   "metadata": {
    "ExecuteTime": {
     "end_time": "2024-03-07T02:30:17.840057Z",
     "start_time": "2024-03-07T02:30:17.827098Z"
    }
   },
   "outputs": [],
   "source": [
    "f = open(\"새파일.txt\",'a')\n",
    "for i in range(11, 20):\n",
    "    data = \"%d번째 줄입니다.\\n\" % i\n",
    "    f.write(data)\n",
    "f.close()"
   ]
  },
  {
   "cell_type": "code",
   "execution_count": 17,
   "id": "fd9ede98",
   "metadata": {
    "ExecuteTime": {
     "end_time": "2024-03-07T02:33:15.483578Z",
     "start_time": "2024-03-07T02:33:15.478256Z"
    }
   },
   "outputs": [],
   "source": [
    "with open(\"foo.txt\", \"w\") as f:\n",
    "    f.write(\"Life is too short, you need python\")"
   ]
  },
  {
   "cell_type": "code",
   "execution_count": null,
   "id": "b831e6eb",
   "metadata": {},
   "outputs": [],
   "source": []
  }
 ],
 "metadata": {
  "kernelspec": {
   "display_name": "Python 3 (ipykernel)",
   "language": "python",
   "name": "python3"
  },
  "language_info": {
   "codemirror_mode": {
    "name": "ipython",
    "version": 3
   },
   "file_extension": ".py",
   "mimetype": "text/x-python",
   "name": "python",
   "nbconvert_exporter": "python",
   "pygments_lexer": "ipython3",
   "version": "3.11.5"
  },
  "toc": {
   "base_numbering": 1,
   "nav_menu": {},
   "number_sections": true,
   "sideBar": true,
   "skip_h1_title": false,
   "title_cell": "Table of Contents",
   "title_sidebar": "Contents",
   "toc_cell": false,
   "toc_position": {},
   "toc_section_display": true,
   "toc_window_display": false
  }
 },
 "nbformat": 4,
 "nbformat_minor": 5
}
