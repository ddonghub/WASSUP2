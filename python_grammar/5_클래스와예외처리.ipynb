{
 "cells": [
  {
   "cell_type": "code",
   "execution_count": 1,
   "id": "617aa655",
   "metadata": {
    "ExecuteTime": {
     "end_time": "2024-03-11T01:19:47.538100Z",
     "start_time": "2024-03-11T01:19:47.509815Z"
    }
   },
   "outputs": [],
   "source": [
    "class Calculator:\n",
    "    def __init__(self):\n",
    "        self.result = 0\n",
    "\n",
    "    def add(self, num):\n",
    "        self.result += num\n",
    "        return self.result\n",
    "\n",
    "    def sub(self, num):\n",
    "        self.result -= num\n",
    "        return self.result"
   ]
  },
  {
   "cell_type": "code",
   "execution_count": 3,
   "id": "247312a1",
   "metadata": {
    "ExecuteTime": {
     "end_time": "2024-03-11T01:20:15.966325Z",
     "start_time": "2024-03-11T01:20:15.961657Z"
    }
   },
   "outputs": [],
   "source": [
    "a=Calculator()\n",
    "b=Calculator()"
   ]
  },
  {
   "cell_type": "code",
   "execution_count": 5,
   "id": "ea821d15",
   "metadata": {
    "ExecuteTime": {
     "end_time": "2024-03-11T01:20:36.310417Z",
     "start_time": "2024-03-11T01:20:36.302551Z"
    }
   },
   "outputs": [
    {
     "data": {
      "text/plain": [
       "3"
      ]
     },
     "execution_count": 5,
     "metadata": {},
     "output_type": "execute_result"
    }
   ],
   "source": [
    "a.add(3)"
   ]
  },
  {
   "cell_type": "code",
   "execution_count": 6,
   "id": "b01981ab",
   "metadata": {
    "ExecuteTime": {
     "end_time": "2024-03-11T01:20:43.700897Z",
     "start_time": "2024-03-11T01:20:43.691737Z"
    }
   },
   "outputs": [
    {
     "data": {
      "text/plain": [
       "9"
      ]
     },
     "execution_count": 6,
     "metadata": {},
     "output_type": "execute_result"
    }
   ],
   "source": [
    "a.add(6)"
   ]
  },
  {
   "cell_type": "code",
   "execution_count": 7,
   "id": "e63d4db3",
   "metadata": {
    "ExecuteTime": {
     "end_time": "2024-03-11T01:20:48.005385Z",
     "start_time": "2024-03-11T01:20:47.999936Z"
    }
   },
   "outputs": [
    {
     "data": {
      "text/plain": [
       "5"
      ]
     },
     "execution_count": 7,
     "metadata": {},
     "output_type": "execute_result"
    }
   ],
   "source": [
    "b.add(5)"
   ]
  },
  {
   "cell_type": "code",
   "execution_count": 18,
   "id": "796a6fad",
   "metadata": {
    "ExecuteTime": {
     "end_time": "2024-03-11T02:08:11.676968Z",
     "start_time": "2024-03-11T02:08:11.669969Z"
    }
   },
   "outputs": [],
   "source": [
    "class FourCal:\n",
    "    def __init__(self, first, second):\n",
    "        self.first = first\n",
    "        self.second = second\n",
    "    def add(self):\n",
    "        result = self.first + self.second\n",
    "        return result\n",
    "    def mul(self):\n",
    "        result = self.first * self.second\n",
    "        return result\n",
    "    def sub(self):\n",
    "        result = self.first - self.second\n",
    "        return result\n",
    "    def div(self):\n",
    "        result = self.first / self.second\n",
    "        return result"
   ]
  },
  {
   "cell_type": "code",
   "execution_count": 19,
   "id": "492a856c",
   "metadata": {
    "ExecuteTime": {
     "end_time": "2024-03-11T02:08:18.623229Z",
     "start_time": "2024-03-11T02:08:18.618130Z"
    }
   },
   "outputs": [],
   "source": [
    "a=FourCal(4,2)"
   ]
  },
  {
   "cell_type": "code",
   "execution_count": 20,
   "id": "964b6459",
   "metadata": {
    "ExecuteTime": {
     "end_time": "2024-03-11T02:08:20.812126Z",
     "start_time": "2024-03-11T02:08:20.805635Z"
    }
   },
   "outputs": [
    {
     "data": {
      "text/plain": [
       "2.0"
      ]
     },
     "execution_count": 20,
     "metadata": {},
     "output_type": "execute_result"
    }
   ],
   "source": [
    "a.div()"
   ]
  },
  {
   "cell_type": "code",
   "execution_count": 22,
   "id": "f5e02f20",
   "metadata": {
    "ExecuteTime": {
     "end_time": "2024-03-11T02:13:01.949485Z",
     "start_time": "2024-03-11T02:13:01.943395Z"
    }
   },
   "outputs": [],
   "source": [
    "class MoreFourCal(FourCal):\n",
    "    def pow(self):\n",
    "        result = self.first ** self.second\n",
    "        return result"
   ]
  },
  {
   "cell_type": "code",
   "execution_count": 26,
   "id": "6a6024b4",
   "metadata": {
    "ExecuteTime": {
     "end_time": "2024-03-11T02:14:27.888902Z",
     "start_time": "2024-03-11T02:14:27.884204Z"
    }
   },
   "outputs": [],
   "source": [
    "a=MoreFourCal(4,2)"
   ]
  },
  {
   "cell_type": "code",
   "execution_count": 27,
   "id": "d1aae8c5",
   "metadata": {
    "ExecuteTime": {
     "end_time": "2024-03-11T02:14:29.669334Z",
     "start_time": "2024-03-11T02:14:29.662115Z"
    }
   },
   "outputs": [
    {
     "data": {
      "text/plain": [
       "16"
      ]
     },
     "execution_count": 27,
     "metadata": {},
     "output_type": "execute_result"
    }
   ],
   "source": [
    "a.pow()"
   ]
  },
  {
   "cell_type": "code",
   "execution_count": 7,
   "id": "5ceff798",
   "metadata": {
    "ExecuteTime": {
     "end_time": "2024-03-12T00:20:27.529927Z",
     "start_time": "2024-03-12T00:20:27.524438Z"
    }
   },
   "outputs": [
    {
     "name": "stdout",
     "output_type": "stream",
     "text": [
      "division by zero\n"
     ]
    }
   ],
   "source": [
    "try:\n",
    "    4 / 0\n",
    "except ZeroDivisionError as e:\n",
    "    print(e)"
   ]
  },
  {
   "cell_type": "code",
   "execution_count": 2,
   "id": "92017bcc",
   "metadata": {
    "ExecuteTime": {
     "end_time": "2024-03-12T00:19:20.735514Z",
     "start_time": "2024-03-12T00:19:20.724908Z"
    }
   },
   "outputs": [
    {
     "data": {
      "text/plain": [
       "3.0"
      ]
     },
     "execution_count": 2,
     "metadata": {},
     "output_type": "execute_result"
    }
   ],
   "source": [
    "3/1"
   ]
  },
  {
   "cell_type": "code",
   "execution_count": 8,
   "id": "adac7a6e",
   "metadata": {
    "ExecuteTime": {
     "end_time": "2024-03-12T00:20:29.212935Z",
     "start_time": "2024-03-12T00:20:29.182397Z"
    }
   },
   "outputs": [
    {
     "ename": "ZeroDivisionError",
     "evalue": "division by zero",
     "output_type": "error",
     "traceback": [
      "\u001b[1;31m---------------------------------------------------------------------------\u001b[0m",
      "\u001b[1;31mZeroDivisionError\u001b[0m                         Traceback (most recent call last)",
      "Cell \u001b[1;32mIn[8], line 1\u001b[0m\n\u001b[1;32m----> 1\u001b[0m \u001b[38;5;241m2\u001b[39m\u001b[38;5;241m/\u001b[39m\u001b[38;5;241m0\u001b[39m\n",
      "\u001b[1;31mZeroDivisionError\u001b[0m: division by zero"
     ]
    }
   ],
   "source": [
    "2/0"
   ]
  },
  {
   "cell_type": "code",
   "execution_count": null,
   "id": "f59ad974",
   "metadata": {},
   "outputs": [],
   "source": []
  }
 ],
 "metadata": {
  "kernelspec": {
   "display_name": "Python 3 (ipykernel)",
   "language": "python",
   "name": "python3"
  },
  "language_info": {
   "codemirror_mode": {
    "name": "ipython",
    "version": 3
   },
   "file_extension": ".py",
   "mimetype": "text/x-python",
   "name": "python",
   "nbconvert_exporter": "python",
   "pygments_lexer": "ipython3",
   "version": "3.11.5"
  },
  "toc": {
   "base_numbering": 1,
   "nav_menu": {},
   "number_sections": true,
   "sideBar": true,
   "skip_h1_title": false,
   "title_cell": "Table of Contents",
   "title_sidebar": "Contents",
   "toc_cell": false,
   "toc_position": {},
   "toc_section_display": true,
   "toc_window_display": false
  }
 },
 "nbformat": 4,
 "nbformat_minor": 5
}
