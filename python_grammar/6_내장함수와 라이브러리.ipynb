{
 "cells": [
  {
   "cell_type": "code",
   "execution_count": 1,
   "id": "5cd4f5cb",
   "metadata": {
    "ExecuteTime": {
     "end_time": "2024-03-12T02:10:14.477820Z",
     "start_time": "2024-03-12T02:10:14.461462Z"
    }
   },
   "outputs": [],
   "source": [
    "import datetime\n",
    "day1 = datetime.date(2021, 12, 14)\n",
    "day2 = datetime.date(2023, 4, 5)\n"
   ]
  },
  {
   "cell_type": "code",
   "execution_count": 2,
   "id": "5978d96f",
   "metadata": {
    "ExecuteTime": {
     "end_time": "2024-03-12T02:10:30.873808Z",
     "start_time": "2024-03-12T02:10:30.859438Z"
    }
   },
   "outputs": [
    {
     "data": {
      "text/plain": [
       "477"
      ]
     },
     "execution_count": 2,
     "metadata": {},
     "output_type": "execute_result"
    }
   ],
   "source": [
    "diff = day2 - day1\n",
    "diff.days"
   ]
  },
  {
   "cell_type": "code",
   "execution_count": 8,
   "id": "c3903fed",
   "metadata": {
    "ExecuteTime": {
     "end_time": "2024-03-12T02:13:45.863783Z",
     "start_time": "2024-03-12T02:13:45.854981Z"
    }
   },
   "outputs": [
    {
     "data": {
      "text/plain": [
       "0"
      ]
     },
     "execution_count": 8,
     "metadata": {},
     "output_type": "execute_result"
    }
   ],
   "source": [
    "diff.seconds"
   ]
  },
  {
   "cell_type": "code",
   "execution_count": 9,
   "id": "a7fb3a1a",
   "metadata": {
    "ExecuteTime": {
     "end_time": "2024-03-12T02:16:54.033181Z",
     "start_time": "2024-03-12T02:16:54.021743Z"
    }
   },
   "outputs": [
    {
     "data": {
      "text/plain": [
       "'Tue Mar 12 11:16:54 2024'"
      ]
     },
     "execution_count": 9,
     "metadata": {},
     "output_type": "execute_result"
    }
   ],
   "source": [
    "import time\n",
    "time.asctime(time.localtime(time.time()))"
   ]
  },
  {
   "cell_type": "code",
   "execution_count": 10,
   "id": "0c6ea6ff",
   "metadata": {
    "ExecuteTime": {
     "end_time": "2024-03-12T02:17:09.705425Z",
     "start_time": "2024-03-12T02:17:09.695534Z"
    }
   },
   "outputs": [
    {
     "data": {
      "text/plain": [
       "'Tue Mar 12 11:17:09 2024'"
      ]
     },
     "execution_count": 10,
     "metadata": {},
     "output_type": "execute_result"
    }
   ],
   "source": [
    "time.ctime()"
   ]
  },
  {
   "cell_type": "code",
   "execution_count": 12,
   "id": "087d05a9",
   "metadata": {
    "ExecuteTime": {
     "end_time": "2024-03-12T02:19:20.150656Z",
     "start_time": "2024-03-12T02:19:20.144641Z"
    }
   },
   "outputs": [
    {
     "data": {
      "text/plain": [
       "'Tue Mar 12 11:19:20 2024'"
      ]
     },
     "execution_count": 12,
     "metadata": {},
     "output_type": "execute_result"
    }
   ],
   "source": [
    "time.strftime('%c')"
   ]
  },
  {
   "cell_type": "code",
   "execution_count": 13,
   "id": "9a465df5",
   "metadata": {
    "ExecuteTime": {
     "end_time": "2024-03-12T02:20:33.927007Z",
     "start_time": "2024-03-12T02:20:33.921712Z"
    }
   },
   "outputs": [
    {
     "data": {
      "text/plain": [
       "'03/12/24'"
      ]
     },
     "execution_count": 13,
     "metadata": {},
     "output_type": "execute_result"
    }
   ],
   "source": [
    "time.strftime('%x')"
   ]
  },
  {
   "cell_type": "code",
   "execution_count": 14,
   "id": "cbbc3a3d",
   "metadata": {
    "ExecuteTime": {
     "end_time": "2024-03-12T02:40:10.437699Z",
     "start_time": "2024-03-12T02:40:10.433328Z"
    }
   },
   "outputs": [],
   "source": [
    "import glob"
   ]
  },
  {
   "cell_type": "code",
   "execution_count": 19,
   "id": "f6572942",
   "metadata": {
    "ExecuteTime": {
     "end_time": "2024-03-12T02:42:40.717756Z",
     "start_time": "2024-03-12T02:42:40.710611Z"
    }
   },
   "outputs": [
    {
     "data": {
      "text/plain": [
       "['C:\\\\workspace\\\\WASSUP\\\\WASSUP2\\\\python_grammar\\\\00_마크다운.ipynb',\n",
       " 'C:\\\\workspace\\\\WASSUP\\\\WASSUP2\\\\python_grammar\\\\01_자료형&변수_연습문제_실습용.ipynb',\n",
       " 'C:\\\\workspace\\\\WASSUP\\\\WASSUP2\\\\python_grammar\\\\01_자료형과변수.ipynb',\n",
       " 'C:\\\\workspace\\\\WASSUP\\\\WASSUP2\\\\python_grammar\\\\02_제어문.ipynb',\n",
       " 'C:\\\\workspace\\\\WASSUP\\\\WASSUP2\\\\python_grammar\\\\02_제어문_연습문제_실습용.ipynb',\n",
       " 'C:\\\\workspace\\\\WASSUP\\\\WASSUP2\\\\python_grammar\\\\03_코딩연습_전화번호프로그램_실습용.ipynb',\n",
       " 'C:\\\\workspace\\\\WASSUP\\\\WASSUP2\\\\python_grammar\\\\04_함수&입출력_연습문제_실습용.ipynb',\n",
       " 'C:\\\\workspace\\\\WASSUP\\\\WASSUP2\\\\python_grammar\\\\4_함수와 입출력.ipynb',\n",
       " 'C:\\\\workspace\\\\WASSUP\\\\WASSUP2\\\\python_grammar\\\\5_클래스와예외처리.ipynb',\n",
       " 'C:\\\\workspace\\\\WASSUP\\\\WASSUP2\\\\python_grammar\\\\6_내장함수와 라이브러리.ipynb',\n",
       " 'C:\\\\workspace\\\\WASSUP\\\\WASSUP2\\\\python_grammar\\\\test.ipynb',\n",
       " 'C:\\\\workspace\\\\WASSUP\\\\WASSUP2\\\\python_grammar\\\\test.txt',\n",
       " 'C:\\\\workspace\\\\WASSUP\\\\WASSUP2\\\\python_grammar\\\\Untitled.ipynb',\n",
       " 'C:\\\\workspace\\\\WASSUP\\\\WASSUP2\\\\python_grammar\\\\Wikidocs 251-290.ipynb',\n",
       " 'C:\\\\workspace\\\\WASSUP\\\\WASSUP2\\\\python_grammar\\\\Wikidocs_0150_문제풀이.ipynb',\n",
       " 'C:\\\\workspace\\\\WASSUP\\\\WASSUP2\\\\python_grammar\\\\Wikidocs_101150.ipynb',\n",
       " 'C:\\\\workspace\\\\WASSUP\\\\WASSUP2\\\\python_grammar\\\\Wikidocs_151_200.ipynb',\n",
       " 'C:\\\\workspace\\\\WASSUP\\\\WASSUP2\\\\python_grammar\\\\wikidocs_201240.ipynb',\n",
       " 'C:\\\\workspace\\\\WASSUP\\\\WASSUP2\\\\python_grammar\\\\Wikidocs_51100_문제풀이.ipynb']"
      ]
     },
     "execution_count": 19,
     "metadata": {},
     "output_type": "execute_result"
    }
   ],
   "source": [
    "glob.glob('C:\\\\workspace\\\\WASSUP\\\\WASSUP2\\\\python_grammar\\*')"
   ]
  },
  {
   "cell_type": "code",
   "execution_count": 24,
   "id": "f357727b",
   "metadata": {
    "ExecuteTime": {
     "end_time": "2024-03-12T02:46:37.696837Z",
     "start_time": "2024-03-12T02:46:37.689313Z"
    }
   },
   "outputs": [
    {
     "name": "stdout",
     "output_type": "stream",
     "text": [
      "python_grammar\n",
      "python_grammar\n",
      "python_grammar\n",
      "python_grammar\n",
      "python_grammar\n",
      "python_grammar\n",
      "python_grammar\n",
      "python_grammar\n",
      "python_grammar\n",
      "python_grammar\n",
      "python_grammar\n",
      "python_grammar\n",
      "python_grammar\n",
      "python_grammar\n",
      "python_grammar\n",
      "python_grammar\n",
      "python_grammar\n",
      "python_grammar\n",
      "python_grammar\n"
     ]
    }
   ],
   "source": [
    "import glob\n",
    "glob.glob(\"C:\\\\workspace\\\\WASSUP\\\\WASSUP2\\\\python_grammar\\*\")\n",
    "\n",
    "data=glob.glob(\"C:\\\\workspace\\\\WASSUP\\\\WASSUP2\\\\python_grammar\\*\")\n",
    "\n",
    "for i in data:\n",
    "    file=i.split('\\\\')\n",
    "    print(file[4])"
   ]
  },
  {
   "cell_type": "code",
   "execution_count": null,
   "id": "411e0a6a",
   "metadata": {},
   "outputs": [],
   "source": []
  }
 ],
 "metadata": {
  "kernelspec": {
   "display_name": "Python 3 (ipykernel)",
   "language": "python",
   "name": "python3"
  },
  "language_info": {
   "codemirror_mode": {
    "name": "ipython",
    "version": 3
   },
   "file_extension": ".py",
   "mimetype": "text/x-python",
   "name": "python",
   "nbconvert_exporter": "python",
   "pygments_lexer": "ipython3",
   "version": "3.11.5"
  },
  "toc": {
   "base_numbering": 1,
   "nav_menu": {},
   "number_sections": true,
   "sideBar": true,
   "skip_h1_title": false,
   "title_cell": "Table of Contents",
   "title_sidebar": "Contents",
   "toc_cell": false,
   "toc_position": {},
   "toc_section_display": true,
   "toc_window_display": false
  }
 },
 "nbformat": 4,
 "nbformat_minor": 5
}
