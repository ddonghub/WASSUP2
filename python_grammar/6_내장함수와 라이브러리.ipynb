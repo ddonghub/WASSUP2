{
 "cells": [
  {
   "cell_type": "code",
   "execution_count": 1,
   "id": "5cd4f5cb",
   "metadata": {
    "ExecuteTime": {
     "end_time": "2024-03-12T02:10:14.477820Z",
     "start_time": "2024-03-12T02:10:14.461462Z"
    }
   },
   "outputs": [],
   "source": [
    "import datetime\n",
    "day1 = datetime.date(2021, 12, 14)\n",
    "day2 = datetime.date(2023, 4, 5)\n"
   ]
  },
  {
   "cell_type": "code",
   "execution_count": 2,
   "id": "5978d96f",
   "metadata": {
    "ExecuteTime": {
     "end_time": "2024-03-12T02:10:30.873808Z",
     "start_time": "2024-03-12T02:10:30.859438Z"
    }
   },
   "outputs": [
    {
     "data": {
      "text/plain": [
       "477"
      ]
     },
     "execution_count": 2,
     "metadata": {},
     "output_type": "execute_result"
    }
   ],
   "source": [
    "diff = day2 - day1\n",
    "diff.days"
   ]
  },
  {
   "cell_type": "code",
   "execution_count": 8,
   "id": "c3903fed",
   "metadata": {
    "ExecuteTime": {
     "end_time": "2024-03-12T02:13:45.863783Z",
     "start_time": "2024-03-12T02:13:45.854981Z"
    }
   },
   "outputs": [
    {
     "data": {
      "text/plain": [
       "0"
      ]
     },
     "execution_count": 8,
     "metadata": {},
     "output_type": "execute_result"
    }
   ],
   "source": [
    "diff.seconds"
   ]
  },
  {
   "cell_type": "code",
   "execution_count": 9,
   "id": "a7fb3a1a",
   "metadata": {
    "ExecuteTime": {
     "end_time": "2024-03-12T02:16:54.033181Z",
     "start_time": "2024-03-12T02:16:54.021743Z"
    }
   },
   "outputs": [
    {
     "data": {
      "text/plain": [
       "'Tue Mar 12 11:16:54 2024'"
      ]
     },
     "execution_count": 9,
     "metadata": {},
     "output_type": "execute_result"
    }
   ],
   "source": [
    "import time\n",
    "time.asctime(time.localtime(time.time()))"
   ]
  },
  {
   "cell_type": "code",
   "execution_count": 10,
   "id": "0c6ea6ff",
   "metadata": {
    "ExecuteTime": {
     "end_time": "2024-03-12T02:17:09.705425Z",
     "start_time": "2024-03-12T02:17:09.695534Z"
    }
   },
   "outputs": [
    {
     "data": {
      "text/plain": [
       "'Tue Mar 12 11:17:09 2024'"
      ]
     },
     "execution_count": 10,
     "metadata": {},
     "output_type": "execute_result"
    }
   ],
   "source": [
    "time.ctime()"
   ]
  },
  {
   "cell_type": "code",
   "execution_count": 12,
   "id": "087d05a9",
   "metadata": {
    "ExecuteTime": {
     "end_time": "2024-03-12T02:19:20.150656Z",
     "start_time": "2024-03-12T02:19:20.144641Z"
    }
   },
   "outputs": [
    {
     "data": {
      "text/plain": [
       "'Tue Mar 12 11:19:20 2024'"
      ]
     },
     "execution_count": 12,
     "metadata": {},
     "output_type": "execute_result"
    }
   ],
   "source": [
    "time.strftime('%c')"
   ]
  },
  {
   "cell_type": "code",
   "execution_count": 13,
   "id": "9a465df5",
   "metadata": {
    "ExecuteTime": {
     "end_time": "2024-03-12T02:20:33.927007Z",
     "start_time": "2024-03-12T02:20:33.921712Z"
    }
   },
   "outputs": [
    {
     "data": {
      "text/plain": [
       "'03/12/24'"
      ]
     },
     "execution_count": 13,
     "metadata": {},
     "output_type": "execute_result"
    }
   ],
   "source": [
    "time.strftime('%x')"
   ]
  },
  {
   "cell_type": "code",
   "execution_count": 14,
   "id": "cbbc3a3d",
   "metadata": {
    "ExecuteTime": {
     "end_time": "2024-03-12T02:40:10.437699Z",
     "start_time": "2024-03-12T02:40:10.433328Z"
    }
   },
   "outputs": [],
   "source": [
    "import glob"
   ]
  },
  {
   "cell_type": "code",
   "execution_count": 19,
   "id": "f6572942",
   "metadata": {
    "ExecuteTime": {
     "end_time": "2024-03-12T02:42:40.717756Z",
     "start_time": "2024-03-12T02:42:40.710611Z"
    }
   },
   "outputs": [
    {
     "data": {
      "text/plain": [
       "['C:\\\\workspace\\\\WASSUP\\\\WASSUP2\\\\python_grammar\\\\00_마크다운.ipynb',\n",
       " 'C:\\\\workspace\\\\WASSUP\\\\WASSUP2\\\\python_grammar\\\\01_자료형&변수_연습문제_실습용.ipynb',\n",
       " 'C:\\\\workspace\\\\WASSUP\\\\WASSUP2\\\\python_grammar\\\\01_자료형과변수.ipynb',\n",
       " 'C:\\\\workspace\\\\WASSUP\\\\WASSUP2\\\\python_grammar\\\\02_제어문.ipynb',\n",
       " 'C:\\\\workspace\\\\WASSUP\\\\WASSUP2\\\\python_grammar\\\\02_제어문_연습문제_실습용.ipynb',\n",
       " 'C:\\\\workspace\\\\WASSUP\\\\WASSUP2\\\\python_grammar\\\\03_코딩연습_전화번호프로그램_실습용.ipynb',\n",
       " 'C:\\\\workspace\\\\WASSUP\\\\WASSUP2\\\\python_grammar\\\\04_함수&입출력_연습문제_실습용.ipynb',\n",
       " 'C:\\\\workspace\\\\WASSUP\\\\WASSUP2\\\\python_grammar\\\\4_함수와 입출력.ipynb',\n",
       " 'C:\\\\workspace\\\\WASSUP\\\\WASSUP2\\\\python_grammar\\\\5_클래스와예외처리.ipynb',\n",
       " 'C:\\\\workspace\\\\WASSUP\\\\WASSUP2\\\\python_grammar\\\\6_내장함수와 라이브러리.ipynb',\n",
       " 'C:\\\\workspace\\\\WASSUP\\\\WASSUP2\\\\python_grammar\\\\test.ipynb',\n",
       " 'C:\\\\workspace\\\\WASSUP\\\\WASSUP2\\\\python_grammar\\\\test.txt',\n",
       " 'C:\\\\workspace\\\\WASSUP\\\\WASSUP2\\\\python_grammar\\\\Untitled.ipynb',\n",
       " 'C:\\\\workspace\\\\WASSUP\\\\WASSUP2\\\\python_grammar\\\\Wikidocs 251-290.ipynb',\n",
       " 'C:\\\\workspace\\\\WASSUP\\\\WASSUP2\\\\python_grammar\\\\Wikidocs_0150_문제풀이.ipynb',\n",
       " 'C:\\\\workspace\\\\WASSUP\\\\WASSUP2\\\\python_grammar\\\\Wikidocs_101150.ipynb',\n",
       " 'C:\\\\workspace\\\\WASSUP\\\\WASSUP2\\\\python_grammar\\\\Wikidocs_151_200.ipynb',\n",
       " 'C:\\\\workspace\\\\WASSUP\\\\WASSUP2\\\\python_grammar\\\\wikidocs_201240.ipynb',\n",
       " 'C:\\\\workspace\\\\WASSUP\\\\WASSUP2\\\\python_grammar\\\\Wikidocs_51100_문제풀이.ipynb']"
      ]
     },
     "execution_count": 19,
     "metadata": {},
     "output_type": "execute_result"
    }
   ],
   "source": [
    "glob.glob('C:\\\\workspace\\\\WASSUP\\\\WASSUP2\\\\python_grammar\\*')"
   ]
  },
  {
   "cell_type": "code",
   "execution_count": 24,
   "id": "f357727b",
   "metadata": {
    "ExecuteTime": {
     "end_time": "2024-03-12T02:46:37.696837Z",
     "start_time": "2024-03-12T02:46:37.689313Z"
    }
   },
   "outputs": [
    {
     "name": "stdout",
     "output_type": "stream",
     "text": [
      "python_grammar\n",
      "python_grammar\n",
      "python_grammar\n",
      "python_grammar\n",
      "python_grammar\n",
      "python_grammar\n",
      "python_grammar\n",
      "python_grammar\n",
      "python_grammar\n",
      "python_grammar\n",
      "python_grammar\n",
      "python_grammar\n",
      "python_grammar\n",
      "python_grammar\n",
      "python_grammar\n",
      "python_grammar\n",
      "python_grammar\n",
      "python_grammar\n",
      "python_grammar\n"
     ]
    }
   ],
   "source": [
    "import glob\n",
    "glob.glob(\"C:\\\\workspace\\\\WASSUP\\\\WASSUP2\\\\python_grammar\\*\")\n",
    "\n",
    "data=glob.glob(\"C:\\\\workspace\\\\WASSUP\\\\WASSUP2\\\\python_grammar\\*\")\n",
    "\n",
    "for i in data:\n",
    "    file=i.split('\\\\')\n",
    "    print(file[4])"
   ]
  },
  {
   "cell_type": "code",
   "execution_count": 1,
   "id": "411e0a6a",
   "metadata": {
    "ExecuteTime": {
     "end_time": "2024-03-13T00:46:16.599525Z",
     "start_time": "2024-03-13T00:46:16.591369Z"
    }
   },
   "outputs": [
    {
     "data": {
      "text/plain": [
       "dict"
      ]
     },
     "execution_count": 1,
     "metadata": {},
     "output_type": "execute_result"
    }
   ],
   "source": [
    "import json\n",
    "with open('myinfo.json', encoding='utf8') as f:\n",
    "    data = json.load(f)\n",
    "\n",
    "type(data)"
   ]
  },
  {
   "cell_type": "code",
   "execution_count": 2,
   "id": "d7f0c375",
   "metadata": {
    "ExecuteTime": {
     "end_time": "2024-03-13T00:49:22.134452Z",
     "start_time": "2024-03-13T00:48:59.970203Z"
    }
   },
   "outputs": [
    {
     "name": "stdout",
     "output_type": "stream",
     "text": [
      "Collecting Faker\n",
      "  Obtaining dependency information for Faker from https://files.pythonhosted.org/packages/c5/ad/87c165d63be249db767227109d35e22cde75c9c941d69edc1b175f4928f0/Faker-24.1.0-py3-none-any.whl.metadata\n",
      "  Downloading Faker-24.1.0-py3-none-any.whl.metadata (15 kB)\n",
      "Requirement already satisfied: python-dateutil>=2.4 in c:\\users\\min\\anaconda3\\lib\\site-packages (from Faker) (2.8.2)\n",
      "Requirement already satisfied: six>=1.5 in c:\\users\\min\\anaconda3\\lib\\site-packages (from python-dateutil>=2.4->Faker) (1.16.0)\n",
      "Downloading Faker-24.1.0-py3-none-any.whl (1.8 MB)\n",
      "   ---------------------------------------- 0.0/1.8 MB ? eta -:--:--\n",
      "   ---------------------------------------- 0.0/1.8 MB ? eta -:--:--\n",
      "    --------------------------------------- 0.0/1.8 MB 435.7 kB/s eta 0:00:04\n",
      "   -- ------------------------------------- 0.1/1.8 MB 744.7 kB/s eta 0:00:03\n",
      "   -- ------------------------------------- 0.1/1.8 MB 722.1 kB/s eta 0:00:03\n",
      "   ---- ----------------------------------- 0.2/1.8 MB 908.0 kB/s eta 0:00:02\n",
      "   ----- ---------------------------------- 0.2/1.8 MB 958.6 kB/s eta 0:00:02\n",
      "   ------- -------------------------------- 0.3/1.8 MB 1.1 MB/s eta 0:00:02\n",
      "   -------- ------------------------------- 0.4/1.8 MB 1.1 MB/s eta 0:00:02\n",
      "   --------- ------------------------------ 0.4/1.8 MB 1.1 MB/s eta 0:00:02\n",
      "   ---------- ----------------------------- 0.5/1.8 MB 1.2 MB/s eta 0:00:02\n",
      "   ----------- ---------------------------- 0.5/1.8 MB 1.1 MB/s eta 0:00:02\n",
      "   ------------ --------------------------- 0.5/1.8 MB 1.1 MB/s eta 0:00:02\n",
      "   ------------- -------------------------- 0.6/1.8 MB 1.1 MB/s eta 0:00:02\n",
      "   -------------- ------------------------- 0.6/1.8 MB 1.1 MB/s eta 0:00:02\n",
      "   --------------- ------------------------ 0.7/1.8 MB 1.0 MB/s eta 0:00:02\n",
      "   ---------------- ----------------------- 0.7/1.8 MB 1.1 MB/s eta 0:00:01\n",
      "   ------------------ --------------------- 0.8/1.8 MB 1.1 MB/s eta 0:00:01\n",
      "   ------------------- -------------------- 0.9/1.8 MB 1.1 MB/s eta 0:00:01\n",
      "   -------------------- ------------------- 0.9/1.8 MB 1.1 MB/s eta 0:00:01\n",
      "   ---------------------- ----------------- 1.0/1.8 MB 1.1 MB/s eta 0:00:01\n",
      "   ----------------------- ---------------- 1.0/1.8 MB 1.1 MB/s eta 0:00:01\n",
      "   ------------------------ --------------- 1.1/1.8 MB 1.1 MB/s eta 0:00:01\n",
      "   ------------------------- -------------- 1.1/1.8 MB 1.1 MB/s eta 0:00:01\n",
      "   --------------------------- ------------ 1.2/1.8 MB 1.1 MB/s eta 0:00:01\n",
      "   ---------------------------- ----------- 1.2/1.8 MB 1.1 MB/s eta 0:00:01\n",
      "   ---------------------------- ----------- 1.2/1.8 MB 1.1 MB/s eta 0:00:01\n",
      "   ------------------------------- -------- 1.4/1.8 MB 1.1 MB/s eta 0:00:01\n",
      "   -------------------------------- ------- 1.4/1.8 MB 1.1 MB/s eta 0:00:01\n",
      "   -------------------------------- ------- 1.4/1.8 MB 1.1 MB/s eta 0:00:01\n",
      "   --------------------------------- ------ 1.5/1.8 MB 1.1 MB/s eta 0:00:01\n",
      "   ---------------------------------- ----- 1.5/1.8 MB 1.1 MB/s eta 0:00:01\n",
      "   ----------------------------------- ---- 1.6/1.8 MB 1.1 MB/s eta 0:00:01\n",
      "   ------------------------------------ --- 1.6/1.8 MB 1.1 MB/s eta 0:00:01\n",
      "   ------------------------------------- -- 1.7/1.8 MB 1.1 MB/s eta 0:00:01\n",
      "   -------------------------------------- - 1.7/1.8 MB 1.1 MB/s eta 0:00:01\n",
      "   ---------------------------------------  1.7/1.8 MB 1.1 MB/s eta 0:00:01\n",
      "   ---------------------------------------- 1.8/1.8 MB 1.0 MB/s eta 0:00:00\n",
      "Installing collected packages: Faker\n",
      "Successfully installed Faker-24.1.0\n",
      "Note: you may need to restart the kernel to use updated packages.\n"
     ]
    }
   ],
   "source": [
    "pip install Faker"
   ]
  },
  {
   "cell_type": "code",
   "execution_count": 3,
   "id": "900b73d6",
   "metadata": {
    "ExecuteTime": {
     "end_time": "2024-03-13T01:06:13.101452Z",
     "start_time": "2024-03-13T01:06:12.552425Z"
    }
   },
   "outputs": [
    {
     "data": {
      "text/plain": [
       "'Stacey Lewis'"
      ]
     },
     "execution_count": 3,
     "metadata": {},
     "output_type": "execute_result"
    }
   ],
   "source": [
    "from faker import Faker\n",
    "fake = Faker()\n",
    "fake.name()"
   ]
  },
  {
   "cell_type": "code",
   "execution_count": 5,
   "id": "f0a968c6",
   "metadata": {
    "ExecuteTime": {
     "end_time": "2024-03-13T01:06:52.143613Z",
     "start_time": "2024-03-13T01:06:51.966179Z"
    }
   },
   "outputs": [],
   "source": [
    "fake=Faker('ko-KR')"
   ]
  },
  {
   "cell_type": "code",
   "execution_count": 6,
   "id": "cb09166d",
   "metadata": {
    "ExecuteTime": {
     "end_time": "2024-03-13T01:06:57.439180Z",
     "start_time": "2024-03-13T01:06:57.431078Z"
    }
   },
   "outputs": [
    {
     "data": {
      "text/plain": [
       "'우민서'"
      ]
     },
     "execution_count": 6,
     "metadata": {},
     "output_type": "execute_result"
    }
   ],
   "source": [
    "fake.name()"
   ]
  },
  {
   "cell_type": "code",
   "execution_count": 7,
   "id": "a6cd56d1",
   "metadata": {
    "ExecuteTime": {
     "end_time": "2024-03-13T01:07:12.160331Z",
     "start_time": "2024-03-13T01:07:12.152259Z"
    }
   },
   "outputs": [
    {
     "data": {
      "text/plain": [
       "'울산광역시 동구 영동대가 (서영이동)'"
      ]
     },
     "execution_count": 7,
     "metadata": {},
     "output_type": "execute_result"
    }
   ],
   "source": [
    "fake.address()"
   ]
  },
  {
   "cell_type": "code",
   "execution_count": 8,
   "id": "58ded360",
   "metadata": {
    "ExecuteTime": {
     "end_time": "2024-03-13T01:07:29.384189Z",
     "start_time": "2024-03-13T01:07:29.373850Z"
    }
   },
   "outputs": [],
   "source": [
    " test_data = [(fake.name(), fake.address()) for i in range(30)]"
   ]
  },
  {
   "cell_type": "code",
   "execution_count": 9,
   "id": "f14740a1",
   "metadata": {
    "ExecuteTime": {
     "end_time": "2024-03-13T01:07:40.702536Z",
     "start_time": "2024-03-13T01:07:40.697154Z"
    }
   },
   "outputs": [
    {
     "data": {
      "text/plain": [
       "[('강지현', '광주광역시 동구 오금53로'),\n",
       " ('심지아', '경상남도 청주시 상당구 석촌호수길'),\n",
       " ('이순자', '전라북도 진천군 백제고분8가'),\n",
       " ('김상철', '세종특별자치시 동작구 잠실619로 (현숙오장마을)'),\n",
       " ('강성훈', '제주특별자치도 용인시 처인구 논현874로 (정남장면)'),\n",
       " ('신경숙', '대전광역시 서대문구 선릉가 (미숙최마을)'),\n",
       " ('허주원', '대전광역시 중랑구 양재천88거리'),\n",
       " ('권수민', '울산광역시 동구 서초대길 (도윤김엄리)'),\n",
       " ('윤지현', '전라북도 연천군 서초대295가 (성진김이마을)'),\n",
       " ('김지후', '경상남도 파주시 반포대806로'),\n",
       " ('김미정', '제주특별자치도 괴산군 봉은사3길 (숙자박김동)'),\n",
       " ('장수빈', '부산광역시 북구 학동거리 (은주한리)'),\n",
       " ('최서연', '충청남도 안양시 동안구 서초중앙로'),\n",
       " ('김서연', '전라북도 양양군 서초대가'),\n",
       " ('최도현', '제주특별자치도 남양주시 양재천4로'),\n",
       " ('안현정', '경기도 수원시 장안구 석촌호수로 (정수이동)'),\n",
       " ('신재현', '경상북도 광명시 개포34길'),\n",
       " ('박성현', '서울특별시 광진구 가락로'),\n",
       " ('홍영호', '경상남도 인제군 강남대133거리'),\n",
       " ('김성진', '대구광역시 성동구 언주로'),\n",
       " ('차상현', '경기도 영월군 논현5로 (상훈김김마을)'),\n",
       " ('이현지', '광주광역시 송파구 언주86거리 (현주김김리)'),\n",
       " ('최민수', '인천광역시 남구 학동거리'),\n",
       " ('이정순', '경상남도 단양군 영동대가 (승현이이마을)'),\n",
       " ('김민재', '경상북도 평창군 도산대3거리 (도현김마을)'),\n",
       " ('류현지', '서울특별시 광진구 도산대길 (정식이고리)'),\n",
       " ('김종수', '대구광역시 마포구 도산대782가'),\n",
       " ('김영희', '제주특별자치도 안산시 상록구 역삼412로 (재현백서읍)'),\n",
       " ('하수빈', '광주광역시 은평구 논현거리 (보람문장리)'),\n",
       " ('김성수', '울산광역시 중랑구 오금395거리 (정순오오면)')]"
      ]
     },
     "execution_count": 9,
     "metadata": {},
     "output_type": "execute_result"
    }
   ],
   "source": [
    "test_data"
   ]
  },
  {
   "cell_type": "code",
   "execution_count": 10,
   "id": "674bd523",
   "metadata": {
    "ExecuteTime": {
     "end_time": "2024-03-13T01:08:12.512096Z",
     "start_time": "2024-03-13T01:08:12.502681Z"
    }
   },
   "outputs": [
    {
     "data": {
      "text/plain": [
       "'박곽홍'"
      ]
     },
     "execution_count": 10,
     "metadata": {},
     "output_type": "execute_result"
    }
   ],
   "source": [
    "fake.company()"
   ]
  },
  {
   "cell_type": "code",
   "execution_count": 11,
   "id": "448c4ef9",
   "metadata": {
    "ExecuteTime": {
     "end_time": "2024-03-13T01:08:35.991038Z",
     "start_time": "2024-03-13T01:08:35.983854Z"
    }
   },
   "outputs": [
    {
     "data": {
      "text/plain": [
       "'관리된 국가적 프로토콜'"
      ]
     },
     "execution_count": 11,
     "metadata": {},
     "output_type": "execute_result"
    }
   ],
   "source": [
    "fake.catch_phrase()"
   ]
  },
  {
   "cell_type": "code",
   "execution_count": null,
   "id": "6503aa79",
   "metadata": {},
   "outputs": [],
   "source": []
  }
 ],
 "metadata": {
  "kernelspec": {
   "display_name": "Python 3 (ipykernel)",
   "language": "python",
   "name": "python3"
  },
  "language_info": {
   "codemirror_mode": {
    "name": "ipython",
    "version": 3
   },
   "file_extension": ".py",
   "mimetype": "text/x-python",
   "name": "python",
   "nbconvert_exporter": "python",
   "pygments_lexer": "ipython3",
   "version": "3.11.5"
  },
  "toc": {
   "base_numbering": 1,
   "nav_menu": {},
   "number_sections": true,
   "sideBar": true,
   "skip_h1_title": false,
   "title_cell": "Table of Contents",
   "title_sidebar": "Contents",
   "toc_cell": false,
   "toc_position": {},
   "toc_section_display": true,
   "toc_window_display": false
  }
 },
 "nbformat": 4,
 "nbformat_minor": 5
}
