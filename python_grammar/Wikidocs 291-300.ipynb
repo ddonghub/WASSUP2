{
 "cells": [
  {
   "cell_type": "code",
   "execution_count": 2,
   "id": "304b6c68",
   "metadata": {
    "ExecuteTime": {
     "end_time": "2024-03-12T14:19:28.655174Z",
     "start_time": "2024-03-12T14:19:28.645461Z"
    }
   },
   "outputs": [
    {
     "data": {
      "text/plain": [
       "'C:\\\\workspace\\\\WASSUP\\\\WASSUP2\\\\python_grammar'"
      ]
     },
     "execution_count": 2,
     "metadata": {},
     "output_type": "execute_result"
    }
   ],
   "source": [
    "pwd"
   ]
  },
  {
   "cell_type": "code",
   "execution_count": 3,
   "id": "09ff1273",
   "metadata": {
    "ExecuteTime": {
     "end_time": "2024-03-12T14:19:38.012484Z",
     "start_time": "2024-03-12T14:19:38.005943Z"
    }
   },
   "outputs": [],
   "source": [
    "#291\n",
    "f = open(\"C:\\\\workspace\\\\WASSUP\\\\WASSUP2\\\\python_grammar/매수종목1.txt\", mode=\"wt\", encoding=\"utf-8\")\n",
    "f.write(\"005930\\n\")\n",
    "f.write(\"005380\\n\")\n",
    "f.write(\"035420\")\n",
    "f.close()\n"
   ]
  },
  {
   "cell_type": "code",
   "execution_count": 4,
   "id": "cbf75355",
   "metadata": {
    "ExecuteTime": {
     "end_time": "2024-03-12T14:20:09.760561Z",
     "start_time": "2024-03-12T14:20:09.755683Z"
    }
   },
   "outputs": [],
   "source": [
    "#292\n",
    "f = open(\"C:\\\\workspace\\\\WASSUP\\\\WASSUP2\\\\python_grammar/매수종목2.txt\", mode=\"wt\", encoding=\"utf-8\")\n",
    "f.write(\"005930 삼성전자\\n\")\n",
    "f.write(\"005380 현대차\\n\")\n",
    "f.write(\"035420 NAVER\\n\")\n",
    "f.close()"
   ]
  },
  {
   "cell_type": "code",
   "execution_count": 7,
   "id": "88f5669e",
   "metadata": {
    "ExecuteTime": {
     "end_time": "2024-03-12T14:38:32.661221Z",
     "start_time": "2024-03-12T14:38:32.651409Z"
    }
   },
   "outputs": [],
   "source": [
    "#294\n",
    "f = open(\"C:\\\\workspace\\\\WASSUP\\\\WASSUP2\\\\python_grammar/매수종목1.txt\", encoding=\"utf-8\")\n",
    "lines = f.readlines()"
   ]
  },
  {
   "cell_type": "code",
   "execution_count": 8,
   "id": "910d189e",
   "metadata": {
    "ExecuteTime": {
     "end_time": "2024-03-12T14:39:36.727486Z",
     "start_time": "2024-03-12T14:39:36.721121Z"
    }
   },
   "outputs": [
    {
     "data": {
      "text/plain": [
       "['005930\\n', '005380\\n', '035420']"
      ]
     },
     "execution_count": 8,
     "metadata": {},
     "output_type": "execute_result"
    }
   ],
   "source": [
    "lines"
   ]
  },
  {
   "cell_type": "code",
   "execution_count": 12,
   "id": "65925600",
   "metadata": {
    "ExecuteTime": {
     "end_time": "2024-03-12T14:40:37.029455Z",
     "start_time": "2024-03-12T14:40:37.025452Z"
    }
   },
   "outputs": [],
   "source": [
    "stocks=[]\n",
    "for i in lines:\n",
    "    i.replace('\\n',' ')\n",
    "    stocks.append(i)"
   ]
  },
  {
   "cell_type": "code",
   "execution_count": 13,
   "id": "6ff55c78",
   "metadata": {
    "ExecuteTime": {
     "end_time": "2024-03-12T14:40:37.743363Z",
     "start_time": "2024-03-12T14:40:37.738379Z"
    }
   },
   "outputs": [
    {
     "name": "stdout",
     "output_type": "stream",
     "text": [
      "['005930\\n', '005380\\n', '035420']\n"
     ]
    }
   ],
   "source": [
    "print(stocks)"
   ]
  },
  {
   "cell_type": "code",
   "execution_count": 14,
   "id": "7fd442f4",
   "metadata": {
    "ExecuteTime": {
     "end_time": "2024-03-12T14:40:53.473485Z",
     "start_time": "2024-03-12T14:40:53.470493Z"
    }
   },
   "outputs": [],
   "source": [
    "f.close()"
   ]
  },
  {
   "cell_type": "code",
   "execution_count": 17,
   "id": "f3077f5c",
   "metadata": {
    "ExecuteTime": {
     "end_time": "2024-03-12T14:52:04.300963Z",
     "start_time": "2024-03-12T14:52:04.290411Z"
    }
   },
   "outputs": [
    {
     "name": "stdout",
     "output_type": "stream",
     "text": [
      "['005930 삼성전자\\n', '005380 현대차\\n', '035420 NAVER\\n']\n"
     ]
    }
   ],
   "source": [
    "#295\n",
    "f = open(\"C:\\\\workspace\\\\WASSUP\\\\WASSUP2\\\\python_grammar/매수종목2.txt\", encoding=\"utf-8\")\n",
    "lines = f.readlines()\n",
    "print(lines)"
   ]
  },
  {
   "cell_type": "code",
   "execution_count": 21,
   "id": "149bd6ad",
   "metadata": {
    "ExecuteTime": {
     "end_time": "2024-03-12T15:00:04.767882Z",
     "start_time": "2024-03-12T15:00:04.763460Z"
    }
   },
   "outputs": [],
   "source": [
    "stocks2={}\n",
    "for i in lines:\n",
    "    i=i.strip()\n",
    "    a, b = i.split()\n",
    "    stocks2[a]=b"
   ]
  },
  {
   "cell_type": "code",
   "execution_count": 23,
   "id": "850ff6c0",
   "metadata": {
    "ExecuteTime": {
     "end_time": "2024-03-12T15:00:18.437993Z",
     "start_time": "2024-03-12T15:00:18.434430Z"
    }
   },
   "outputs": [
    {
     "name": "stdout",
     "output_type": "stream",
     "text": [
      "{'005930': '삼성전자', '005380': '현대차', '035420': 'NAVER'}\n"
     ]
    }
   ],
   "source": [
    "print(stocks2)"
   ]
  },
  {
   "cell_type": "code",
   "execution_count": 15,
   "id": "be844d81",
   "metadata": {
    "ExecuteTime": {
     "end_time": "2024-03-12T14:41:37.891757Z",
     "start_time": "2024-03-12T14:41:37.888903Z"
    }
   },
   "outputs": [],
   "source": [
    "#296\n",
    "per = [\"10.31\", \"\", \"8.00\"]"
   ]
  },
  {
   "cell_type": "code",
   "execution_count": 16,
   "id": "a5f1af3d",
   "metadata": {
    "ExecuteTime": {
     "end_time": "2024-03-12T14:42:21.727588Z",
     "start_time": "2024-03-12T14:42:21.723570Z"
    }
   },
   "outputs": [
    {
     "name": "stdout",
     "output_type": "stream",
     "text": [
      "10.31\n",
      "0\n",
      "8.0\n"
     ]
    }
   ],
   "source": [
    "for i in per:\n",
    "    try:\n",
    "        print(float(i))\n",
    "    except:\n",
    "        print(0)"
   ]
  },
  {
   "cell_type": "code",
   "execution_count": 25,
   "id": "4786838d",
   "metadata": {
    "ExecuteTime": {
     "end_time": "2024-03-12T15:02:16.917601Z",
     "start_time": "2024-03-12T15:02:16.913485Z"
    }
   },
   "outputs": [],
   "source": [
    "#297\n",
    "per = [\"10.31\", \"\", \"8.00\"]\n",
    "per2 = []\n",
    "\n",
    "for i in per:\n",
    "    try:\n",
    "        a = float(i)\n",
    "    except:\n",
    "        a = 0\n",
    "    per2.append(a)"
   ]
  },
  {
   "cell_type": "code",
   "execution_count": 26,
   "id": "12c1e71d",
   "metadata": {
    "ExecuteTime": {
     "end_time": "2024-03-12T15:02:21.568266Z",
     "start_time": "2024-03-12T15:02:21.565304Z"
    }
   },
   "outputs": [
    {
     "name": "stdout",
     "output_type": "stream",
     "text": [
      "[10.31, 0, 8.0]\n"
     ]
    }
   ],
   "source": [
    "print(per2)"
   ]
  },
  {
   "cell_type": "code",
   "execution_count": 28,
   "id": "98fbda29",
   "metadata": {
    "ExecuteTime": {
     "end_time": "2024-03-12T15:07:29.081515Z",
     "start_time": "2024-03-12T15:07:29.076475Z"
    }
   },
   "outputs": [
    {
     "name": "stdout",
     "output_type": "stream",
     "text": [
      "삐빅\n"
     ]
    }
   ],
   "source": [
    "#298\n",
    "try:\n",
    "    a = 10/0\n",
    "except ZeroDivisionError:\n",
    "    print(\"삐빅\")"
   ]
  },
  {
   "cell_type": "code",
   "execution_count": 30,
   "id": "a7b6023c",
   "metadata": {
    "ExecuteTime": {
     "end_time": "2024-03-12T15:09:53.026370Z",
     "start_time": "2024-03-12T15:09:53.021346Z"
    }
   },
   "outputs": [
    {
     "name": "stdout",
     "output_type": "stream",
     "text": [
      "1\n",
      "2\n",
      "3\n",
      "list index out of range\n",
      "list index out of range\n",
      "list index out of range\n"
     ]
    }
   ],
   "source": [
    "#299\n",
    "data = [1, 2, 3]\n",
    "\n",
    "for i in range(6):\n",
    "    try:\n",
    "        print(data[i])\n",
    "    except IndexError as e:\n",
    "        print(e)"
   ]
  },
  {
   "cell_type": "code",
   "execution_count": 31,
   "id": "537e0a51",
   "metadata": {
    "ExecuteTime": {
     "end_time": "2024-03-12T15:11:08.204563Z",
     "start_time": "2024-03-12T15:11:08.199841Z"
    }
   },
   "outputs": [
    {
     "name": "stdout",
     "output_type": "stream",
     "text": [
      "10.31\n",
      "clean data\n",
      "변환 완료\n",
      "0\n",
      "변환 완료\n",
      "8.0\n",
      "clean data\n",
      "변환 완료\n"
     ]
    }
   ],
   "source": [
    "#300\n",
    "per = [\"10.31\", \"\", \"8.00\"]\n",
    "\n",
    "for i in per:\n",
    "    try:\n",
    "        print(float(i))\n",
    "    except:\n",
    "        print(0)\n",
    "    else:\n",
    "        print(\"clean data\")\n",
    "    finally:\n",
    "        print(\"변환 완료\")"
   ]
  },
  {
   "cell_type": "code",
   "execution_count": null,
   "id": "f4d31db0",
   "metadata": {},
   "outputs": [],
   "source": []
  }
 ],
 "metadata": {
  "kernelspec": {
   "display_name": "Python 3 (ipykernel)",
   "language": "python",
   "name": "python3"
  },
  "language_info": {
   "codemirror_mode": {
    "name": "ipython",
    "version": 3
   },
   "file_extension": ".py",
   "mimetype": "text/x-python",
   "name": "python",
   "nbconvert_exporter": "python",
   "pygments_lexer": "ipython3",
   "version": "3.11.5"
  },
  "toc": {
   "base_numbering": 1,
   "nav_menu": {},
   "number_sections": true,
   "sideBar": true,
   "skip_h1_title": false,
   "title_cell": "Table of Contents",
   "title_sidebar": "Contents",
   "toc_cell": false,
   "toc_position": {},
   "toc_section_display": true,
   "toc_window_display": false
  }
 },
 "nbformat": 4,
 "nbformat_minor": 5
}
