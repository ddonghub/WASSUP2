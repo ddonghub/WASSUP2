{
 "cells": [
  {
   "cell_type": "markdown",
   "id": "a02d0255",
   "metadata": {},
   "source": [
    "# 001 print 기초\n",
    "화면에 Hello World 문자열을 출력하세요."
   ]
  },
  {
   "cell_type": "code",
   "execution_count": 1,
   "id": "e3fb9940",
   "metadata": {
    "ExecuteTime": {
     "end_time": "2024-03-03T12:10:26.208637Z",
     "start_time": "2024-03-03T12:10:26.204145Z"
    }
   },
   "outputs": [
    {
     "name": "stdout",
     "output_type": "stream",
     "text": [
      "Hello World\n"
     ]
    }
   ],
   "source": [
    "print(\"Hello World\")"
   ]
  },
  {
   "cell_type": "markdown",
   "id": "c59ba2ca",
   "metadata": {},
   "source": [
    "# 002 print 기초\n",
    "화면에 Mary's cosmetics을 출력하세요. (중간에 '가 있음에 주의하세요)"
   ]
  },
  {
   "cell_type": "code",
   "execution_count": 2,
   "id": "f7a2a49f",
   "metadata": {
    "ExecuteTime": {
     "end_time": "2024-03-03T12:11:00.546431Z",
     "start_time": "2024-03-03T12:11:00.543438Z"
    }
   },
   "outputs": [
    {
     "name": "stdout",
     "output_type": "stream",
     "text": [
      "Mary's cosmetics\n"
     ]
    }
   ],
   "source": [
    "print(\"Mary's cosmetics\")"
   ]
  },
  {
   "cell_type": "markdown",
   "id": "0c86f80d",
   "metadata": {},
   "source": [
    "# 003 print 기초\n",
    "화면에 아래 문장을 출력하세요. (중간에 \"가 있음에 주의하세요.)  \n",
    "신씨가 소리질렀다. \"도둑이야\"."
   ]
  },
  {
   "cell_type": "code",
   "execution_count": 3,
   "id": "1f34d903",
   "metadata": {
    "ExecuteTime": {
     "end_time": "2024-03-03T12:11:29.964215Z",
     "start_time": "2024-03-03T12:11:29.961055Z"
    }
   },
   "outputs": [
    {
     "name": "stdout",
     "output_type": "stream",
     "text": [
      "신씨가 소리질렀다. \"도둑이야\"\n"
     ]
    }
   ],
   "source": [
    "print('신씨가 소리질렀다. \"도둑이야\"')"
   ]
  },
  {
   "cell_type": "markdown",
   "id": "ac55e2a7",
   "metadata": {},
   "source": [
    "# 004 print 기초\n",
    "화면에 C:\\Windows를 출력하세요."
   ]
  },
  {
   "cell_type": "code",
   "execution_count": 4,
   "id": "221febe8",
   "metadata": {
    "ExecuteTime": {
     "end_time": "2024-03-03T12:12:00.446958Z",
     "start_time": "2024-03-03T12:12:00.443194Z"
    }
   },
   "outputs": [
    {
     "name": "stdout",
     "output_type": "stream",
     "text": [
      "C:\\Windows\n"
     ]
    }
   ],
   "source": [
    "print(\"C:\\Windows\")"
   ]
  },
  {
   "cell_type": "markdown",
   "id": "86f72011",
   "metadata": {},
   "source": [
    "# 005 print 탭과 줄바꿈\n",
    "다음 코드를 실행해보고 \\t와 \\n의 역할을 설명해보세요.  \n",
    "print(\"안녕하세요.\\n만나서\\t\\t반갑습니다.\")"
   ]
  },
  {
   "cell_type": "code",
   "execution_count": 5,
   "id": "f2d5dc74",
   "metadata": {
    "ExecuteTime": {
     "end_time": "2024-03-03T12:13:35.348284Z",
     "start_time": "2024-03-03T12:13:35.343580Z"
    }
   },
   "outputs": [
    {
     "name": "stdout",
     "output_type": "stream",
     "text": [
      "안녕하세요.\n",
      "만나서\t\t반갑습니다.\n"
     ]
    }
   ],
   "source": [
    "print(\"안녕하세요.\\n만나서\\t\\t반갑습니다.\")"
   ]
  },
  {
   "cell_type": "markdown",
   "id": "321aedff",
   "metadata": {},
   "source": [
    "\\t는 한 칸 탭, \\n은 줄바꿈을 뜻함."
   ]
  },
  {
   "cell_type": "markdown",
   "id": "3e4a964d",
   "metadata": {},
   "source": [
    "# 006 print 여러 데이터 출력\n",
    "print 함수에 두 개의 단어를 입력한 예제입니다. 아래 코드의 출력 결과를 예상해봅시다.  \n",
    "print (\"오늘은\", \"일요일\")"
   ]
  },
  {
   "cell_type": "code",
   "execution_count": 6,
   "id": "79bed898",
   "metadata": {
    "ExecuteTime": {
     "end_time": "2024-03-03T12:15:44.620410Z",
     "start_time": "2024-03-03T12:15:44.616906Z"
    }
   },
   "outputs": [
    {
     "name": "stdout",
     "output_type": "stream",
     "text": [
      "오늘은 일요일\n"
     ]
    }
   ],
   "source": [
    "print (\"오늘은\", \"일요일\")"
   ]
  },
  {
   "cell_type": "markdown",
   "id": "97f12290",
   "metadata": {},
   "source": [
    "# 007 print 기초 \n",
    "print() 함수를 사용하여 다음과 같이 출력하세요.  \n",
    "naver;kakao;sk;samsung\n",
    "\n",
    "\n",
    "얘는 안배운건데....ㅠ"
   ]
  },
  {
   "cell_type": "code",
   "execution_count": 7,
   "id": "060f39f4",
   "metadata": {
    "ExecuteTime": {
     "end_time": "2024-03-03T13:26:06.112473Z",
     "start_time": "2024-03-03T13:26:06.102068Z"
    }
   },
   "outputs": [
    {
     "name": "stdout",
     "output_type": "stream",
     "text": [
      "naver;kakao;samsung\n"
     ]
    }
   ],
   "source": [
    "print(\"naver\", \"kakao\", \"samsung\", sep=\";\")"
   ]
  },
  {
   "cell_type": "markdown",
   "id": "55f578b0",
   "metadata": {},
   "source": [
    "# 008 print 기초\n",
    "print() 함수를 사용하여 다음과 같이 출력하세요.  \n",
    "naver/kakao/sk/samsung"
   ]
  },
  {
   "cell_type": "code",
   "execution_count": 8,
   "id": "bff18796",
   "metadata": {
    "ExecuteTime": {
     "end_time": "2024-03-03T13:26:47.743749Z",
     "start_time": "2024-03-03T13:26:47.738926Z"
    }
   },
   "outputs": [
    {
     "name": "stdout",
     "output_type": "stream",
     "text": [
      "naver/kakao/samsung\n"
     ]
    }
   ],
   "source": [
    "print(\"naver\", \"kakao\", \"samsung\", sep=\"/\")"
   ]
  },
  {
   "cell_type": "markdown",
   "id": "b7a2c0d0",
   "metadata": {},
   "source": [
    "# 009 print 줄바꿈\n",
    "다음 코드를 수정하여 줄바꿈이 없이 출력하세요. (힌트: end='') print 함수는 두 번 사용합니다. 세미콜론 (;)은 한줄에 여러 개의 명령을 작성하기 위해 사용합니다.\n",
    "\n",
    "print(\"first\");print(\"second\")"
   ]
  },
  {
   "cell_type": "code",
   "execution_count": 9,
   "id": "09d16826",
   "metadata": {
    "ExecuteTime": {
     "end_time": "2024-03-03T13:27:34.375265Z",
     "start_time": "2024-03-03T13:27:34.370744Z"
    }
   },
   "outputs": [
    {
     "name": "stdout",
     "output_type": "stream",
     "text": [
      "firstsecond\n"
     ]
    }
   ],
   "source": [
    "print(\"first\", end=\"\"); print(\"second\")"
   ]
  },
  {
   "cell_type": "markdown",
   "id": "c4f0c10d",
   "metadata": {},
   "source": [
    "# 010 연산 결과 출력\n",
    "5/3의 결과를 화면에 출력하세요."
   ]
  },
  {
   "cell_type": "code",
   "execution_count": 10,
   "id": "e0751062",
   "metadata": {
    "ExecuteTime": {
     "end_time": "2024-03-03T13:28:47.438636Z",
     "start_time": "2024-03-03T13:28:47.433597Z"
    }
   },
   "outputs": [
    {
     "name": "stdout",
     "output_type": "stream",
     "text": [
      "1.6666666666666667\n"
     ]
    }
   ],
   "source": [
    "print(5/3)"
   ]
  },
  {
   "cell_type": "markdown",
   "id": "f85b42bf",
   "metadata": {},
   "source": [
    "# 011 변수 사용하기\n",
    "삼성전자라는 변수로 50,000원을 바인딩해보세요. 삼성전자 주식 10주를 보유하고 있을 때 총 평가금액을 출력하세요."
   ]
  },
  {
   "cell_type": "code",
   "execution_count": 11,
   "id": "d4d5f4a8",
   "metadata": {
    "ExecuteTime": {
     "end_time": "2024-03-03T13:29:35.778748Z",
     "start_time": "2024-03-03T13:29:35.772194Z"
    }
   },
   "outputs": [
    {
     "name": "stdout",
     "output_type": "stream",
     "text": [
      "500000\n"
     ]
    }
   ],
   "source": [
    "삼성전자 = 50000\n",
    "총평가금액 = 삼성전자 * 10\n",
    "print(총평가금액)"
   ]
  },
  {
   "cell_type": "markdown",
   "id": "fa538597",
   "metadata": {},
   "source": [
    "# 012 변수 사용하기\n",
    "다음 표는 삼성전자의 일부 투자정보입니다. 변수를 사용해서 시가총액, 현재가, PER 등을 바인딩해보세요.\n",
    "\n",
    "항목\t값   \n",
    "시가총액\t298조   \n",
    "현재가\t50,000원  \n",
    "PER\t15.79  "
   ]
  },
  {
   "cell_type": "code",
   "execution_count": 12,
   "id": "102dfbc2",
   "metadata": {
    "ExecuteTime": {
     "end_time": "2024-03-03T13:30:33.298482Z",
     "start_time": "2024-03-03T13:30:33.294708Z"
    }
   },
   "outputs": [],
   "source": [
    "시가총액 = 298000000000000"
   ]
  },
  {
   "cell_type": "code",
   "execution_count": 13,
   "id": "222968d0",
   "metadata": {
    "ExecuteTime": {
     "end_time": "2024-03-03T13:30:40.210769Z",
     "start_time": "2024-03-03T13:30:40.207587Z"
    }
   },
   "outputs": [],
   "source": [
    "현재가 = 50000"
   ]
  },
  {
   "cell_type": "code",
   "execution_count": 14,
   "id": "357c8a04",
   "metadata": {
    "ExecuteTime": {
     "end_time": "2024-03-03T13:30:45.767011Z",
     "start_time": "2024-03-03T13:30:45.763215Z"
    }
   },
   "outputs": [],
   "source": [
    "PER = 15.79"
   ]
  },
  {
   "cell_type": "code",
   "execution_count": 15,
   "id": "e573dfcb",
   "metadata": {
    "ExecuteTime": {
     "end_time": "2024-03-03T13:30:53.721195Z",
     "start_time": "2024-03-03T13:30:53.717205Z"
    }
   },
   "outputs": [
    {
     "name": "stdout",
     "output_type": "stream",
     "text": [
      "298000000000000 <class 'int'>\n",
      "50000 <class 'int'>\n",
      "15.79 <class 'float'>\n"
     ]
    }
   ],
   "source": [
    "print(시가총액, type(시가총액))\n",
    "print(현재가, type(현재가))\n",
    "print(PER, type(PER))"
   ]
  },
  {
   "cell_type": "markdown",
   "id": "9e5a978a",
   "metadata": {},
   "source": [
    "# 013 문자열 출력\n",
    "변수 s와 t에는 각각 문자열이 바인딩 되어있습니다.\n",
    "\n",
    ">> s = \"hello\"\n",
    ">> t = \"python\"\n",
    "\n",
    "두 변수를 이용하여 아래와 같이 출력해보세요.  \n",
    "\n",
    "실행 예:  \n",
    "hello! python   "
   ]
  },
  {
   "cell_type": "code",
   "execution_count": 16,
   "id": "34c64011",
   "metadata": {
    "ExecuteTime": {
     "end_time": "2024-03-03T13:34:14.065758Z",
     "start_time": "2024-03-03T13:34:14.061436Z"
    }
   },
   "outputs": [],
   "source": [
    "s = \"hello\"\n",
    "t = \"python\""
   ]
  },
  {
   "cell_type": "code",
   "execution_count": 18,
   "id": "bbbc7481",
   "metadata": {
    "ExecuteTime": {
     "end_time": "2024-03-03T13:34:40.666654Z",
     "start_time": "2024-03-03T13:34:40.662432Z"
    }
   },
   "outputs": [
    {
     "name": "stdout",
     "output_type": "stream",
     "text": [
      "hello! python\n"
     ]
    }
   ],
   "source": [
    "print(s+\"!\",t)"
   ]
  },
  {
   "cell_type": "markdown",
   "id": "b3539c34",
   "metadata": {},
   "source": [
    "# 014 파이썬을 이용한 값 계산\n",
    "아래 코드의 실행 결과를 예상해보세요.\n",
    "\n",
    ">> 2 + 2 * 3 "
   ]
  },
  {
   "attachments": {
    "image.png": {
     "image/png": "[encoded data removed]"
    }
   },
   "cell_type": "markdown",
   "id": "36ad8bfd",
   "metadata": {},
   "source": [
    "![image.png](attachment:image.png)"
   ]
  },
  {
   "cell_type": "code",
   "execution_count": 19,
   "id": "2c1a5ce8",
   "metadata": {
    "ExecuteTime": {
     "end_time": "2024-03-03T13:35:06.250751Z",
     "start_time": "2024-03-03T13:35:06.236447Z"
    }
   },
   "outputs": [
    {
     "data": {
      "text/plain": [
       "8"
      ]
     },
     "execution_count": 19,
     "metadata": {},
     "output_type": "execute_result"
    }
   ],
   "source": [
    "2 + 2 * 3 "
   ]
  },
  {
   "cell_type": "markdown",
   "id": "59cb545e",
   "metadata": {},
   "source": [
    "# 015 type 함수\n",
    "type() 함수는 데이터 타입을 판별합니다. 변수 a에는 128 숫자가 바인딩돼 있어 type 함수가 int (정수)형임을 알려줍니다.  \n",
    "\n",
    ">> a = 128   \n",
    ">> print (type(a))   \n",
    "<class 'int'>  \n",
    "\n",
    "\n",
    "아래 변수에 바인딩된 값의 타입을 판별해보세요.    \n",
    "\n",
    ">> a = \"132\""
   ]
  },
  {
   "cell_type": "code",
   "execution_count": 20,
   "id": "40a43b5b",
   "metadata": {
    "ExecuteTime": {
     "end_time": "2024-03-03T13:36:50.990515Z",
     "start_time": "2024-03-03T13:36:50.987018Z"
    }
   },
   "outputs": [
    {
     "name": "stdout",
     "output_type": "stream",
     "text": [
      "<class 'str'>\n"
     ]
    }
   ],
   "source": [
    "a = \"132\"\n",
    "print(type(a))"
   ]
  },
  {
   "cell_type": "markdown",
   "id": "85d7d360",
   "metadata": {},
   "source": [
    "# 016 문자열을 정수로 변환\n",
    "문자열 '720'를 정수형으로 변환해보세요.  \n",
    ">> num_str = \"720\""
   ]
  },
  {
   "cell_type": "code",
   "execution_count": 25,
   "id": "cb31b19e",
   "metadata": {
    "ExecuteTime": {
     "end_time": "2024-03-03T13:38:10.871750Z",
     "start_time": "2024-03-03T13:38:10.867229Z"
    }
   },
   "outputs": [
    {
     "data": {
      "text/plain": [
       "str"
      ]
     },
     "execution_count": 25,
     "metadata": {},
     "output_type": "execute_result"
    }
   ],
   "source": [
    "num_str = \"720\"\n",
    "type(num_str)"
   ]
  },
  {
   "cell_type": "code",
   "execution_count": 22,
   "id": "a238799d",
   "metadata": {
    "ExecuteTime": {
     "end_time": "2024-03-03T13:37:47.580360Z",
     "start_time": "2024-03-03T13:37:47.575636Z"
    }
   },
   "outputs": [],
   "source": [
    "num_int = int(num_str)"
   ]
  },
  {
   "cell_type": "code",
   "execution_count": 24,
   "id": "91abd0b6",
   "metadata": {
    "ExecuteTime": {
     "end_time": "2024-03-03T13:37:58.915859Z",
     "start_time": "2024-03-03T13:37:58.911785Z"
    }
   },
   "outputs": [
    {
     "name": "stdout",
     "output_type": "stream",
     "text": [
      "720 <class 'int'>\n"
     ]
    }
   ],
   "source": [
    "print(num_int, type(num_int))"
   ]
  },
  {
   "cell_type": "markdown",
   "id": "b134eb9b",
   "metadata": {},
   "source": [
    "# 017 정수를 문자열 100으로 변환 \n",
    "정수 100을 문자열 '100'으로 변환해보세요.  "
   ]
  },
  {
   "cell_type": "code",
   "execution_count": 26,
   "id": "db807984",
   "metadata": {
    "ExecuteTime": {
     "end_time": "2024-03-03T13:38:35.683733Z",
     "start_time": "2024-03-03T13:38:35.677439Z"
    }
   },
   "outputs": [
    {
     "name": "stdout",
     "output_type": "stream",
     "text": [
      "100 <class 'str'>\n"
     ]
    }
   ],
   "source": [
    "num = 100\n",
    "result = str(num)\n",
    "print(result, type(result))"
   ]
  },
  {
   "cell_type": "markdown",
   "id": "ee9b3458",
   "metadata": {},
   "source": [
    "# 018 문자열을 실수로 변환\n",
    "문자열 \"15.79\"를 실수(float) 타입으로 변환해보세요."
   ]
  },
  {
   "cell_type": "code",
   "execution_count": 28,
   "id": "b1d51d95",
   "metadata": {
    "ExecuteTime": {
     "end_time": "2024-03-03T13:39:13.571075Z",
     "start_time": "2024-03-03T13:39:13.566793Z"
    }
   },
   "outputs": [
    {
     "name": "stdout",
     "output_type": "stream",
     "text": [
      "15.79 <class 'float'>\n"
     ]
    }
   ],
   "source": [
    "num = \"15.79\"\n",
    "num = float(num)\n",
    "print(num, type(num))"
   ]
  },
  {
   "cell_type": "markdown",
   "id": "0514bb10",
   "metadata": {},
   "source": [
    "# 019 문자열을 정수로 변환\n",
    "year라는 변수가 문자열 타입의 연도를 바인딩하고 있습니다. 이를 정수로 변환한 후 최근 3년의 연도를 화면에 출력해보세요."
   ]
  },
  {
   "cell_type": "code",
   "execution_count": 30,
   "id": "b0d493b1",
   "metadata": {
    "ExecuteTime": {
     "end_time": "2024-03-03T13:39:51.685186Z",
     "start_time": "2024-03-03T13:39:51.681337Z"
    }
   },
   "outputs": [
    {
     "name": "stdout",
     "output_type": "stream",
     "text": [
      "2017\n",
      "2018\n",
      "2019\n"
     ]
    }
   ],
   "source": [
    "year = \"2020\"\n",
    "print(int(year)-3)  \n",
    "print(int(year)-2)\n",
    "print(int(year)-1)"
   ]
  },
  {
   "cell_type": "markdown",
   "id": "c7ee3fb2",
   "metadata": {},
   "source": [
    "# 020 파이썬 계산\n",
    "에이컨이 월 48,584원에 무이자 36개월의 조건으로 홈쇼핑에서 판매되고 있습니다. 총 금액은 계산한 후 이를 화면에 출력해보세요. (변수사용하기)"
   ]
  },
  {
   "cell_type": "code",
   "execution_count": 31,
   "id": "c9bfd067",
   "metadata": {
    "ExecuteTime": {
     "end_time": "2024-03-03T13:40:19.578700Z",
     "start_time": "2024-03-03T13:40:19.576212Z"
    }
   },
   "outputs": [],
   "source": [
    "month_pay=48584"
   ]
  },
  {
   "cell_type": "code",
   "execution_count": 32,
   "id": "07071633",
   "metadata": {
    "ExecuteTime": {
     "end_time": "2024-03-03T13:40:41.026268Z",
     "start_time": "2024-03-03T13:40:41.022382Z"
    }
   },
   "outputs": [],
   "source": [
    "month=36"
   ]
  },
  {
   "cell_type": "code",
   "execution_count": 33,
   "id": "0c7b9796",
   "metadata": {
    "ExecuteTime": {
     "end_time": "2024-03-03T13:40:52.814752Z",
     "start_time": "2024-03-03T13:40:52.811859Z"
    }
   },
   "outputs": [],
   "source": [
    "total_pay=month_pay*month"
   ]
  },
  {
   "cell_type": "code",
   "execution_count": 34,
   "id": "3584b487",
   "metadata": {
    "ExecuteTime": {
     "end_time": "2024-03-03T13:40:57.729314Z",
     "start_time": "2024-03-03T13:40:57.723822Z"
    }
   },
   "outputs": [
    {
     "name": "stdout",
     "output_type": "stream",
     "text": [
      "1749024\n"
     ]
    }
   ],
   "source": [
    "print(total_pay)"
   ]
  },
  {
   "cell_type": "markdown",
   "id": "c4ad155c",
   "metadata": {},
   "source": [
    "# 021 문자열 인덱싱\n",
    "letters가 바인딩하는 문자열에서 첫번째와 세번째 문자를 출력하세요.   \n",
    "\n",
    ">> letters = 'python'"
   ]
  },
  {
   "cell_type": "code",
   "execution_count": 35,
   "id": "a55fe2ed",
   "metadata": {
    "ExecuteTime": {
     "end_time": "2024-03-03T13:41:47.289110Z",
     "start_time": "2024-03-03T13:41:47.284614Z"
    }
   },
   "outputs": [
    {
     "name": "stdout",
     "output_type": "stream",
     "text": [
      "p t\n"
     ]
    }
   ],
   "source": [
    "lang = 'python'\n",
    "print(lang[0], lang[2])"
   ]
  },
  {
   "cell_type": "markdown",
   "id": "2b3ce914",
   "metadata": {},
   "source": [
    "# 022 문자열 슬라이싱\n",
    "자동차 번호가 다음과 같을 때 뒤에 4자리만 출력하세요.  \n",
    ">> license_plate = \"24가 2210\""
   ]
  },
  {
   "cell_type": "code",
   "execution_count": 36,
   "id": "53c0989c",
   "metadata": {
    "ExecuteTime": {
     "end_time": "2024-03-03T13:42:21.482983Z",
     "start_time": "2024-03-03T13:42:21.478921Z"
    }
   },
   "outputs": [
    {
     "name": "stdout",
     "output_type": "stream",
     "text": [
      "2210\n"
     ]
    }
   ],
   "source": [
    "license_plate = \"24가 2210\"\n",
    "print(license_plate[-4:])"
   ]
  },
  {
   "cell_type": "markdown",
   "id": "104a9c8d",
   "metadata": {},
   "source": [
    "# 023 문자열 인덱싱\n",
    "아래의 문자열에서 '홀' 만 출력하세요.  \n",
    "\n",
    ">> string = \"홀짝홀짝홀짝\""
   ]
  },
  {
   "cell_type": "code",
   "execution_count": 37,
   "id": "05f2ce00",
   "metadata": {
    "ExecuteTime": {
     "end_time": "2024-03-03T13:45:22.915791Z",
     "start_time": "2024-03-03T13:45:22.912374Z"
    }
   },
   "outputs": [],
   "source": [
    "string = \"홀짝홀짝홀짝\""
   ]
  },
  {
   "cell_type": "code",
   "execution_count": 41,
   "id": "122bc3cd",
   "metadata": {
    "ExecuteTime": {
     "end_time": "2024-03-03T13:46:26.777536Z",
     "start_time": "2024-03-03T13:46:26.772466Z"
    }
   },
   "outputs": [
    {
     "name": "stdout",
     "output_type": "stream",
     "text": [
      "홀홀홀\n"
     ]
    }
   ],
   "source": [
    "string = \"홀짝홀짝홀짝\"\n",
    "print(string[::2])"
   ]
  },
  {
   "cell_type": "markdown",
   "id": "ab6897d2",
   "metadata": {},
   "source": [
    "# 024 문자열 슬라이싱\n",
    "문자열을 거꾸로 뒤집어 출력하세요.   \n",
    ">> string = \"PYTHON\""
   ]
  },
  {
   "cell_type": "code",
   "execution_count": 42,
   "id": "b5bd1bd4",
   "metadata": {
    "ExecuteTime": {
     "end_time": "2024-03-03T13:47:37.732638Z",
     "start_time": "2024-03-03T13:47:37.727582Z"
    }
   },
   "outputs": [
    {
     "name": "stdout",
     "output_type": "stream",
     "text": [
      "NOHTYP\n"
     ]
    }
   ],
   "source": [
    "string = \"PYTHON\"\n",
    "print(string[::-1])"
   ]
  },
  {
   "cell_type": "markdown",
   "id": "3b98e20f",
   "metadata": {},
   "source": [
    "# 025 문자열 치환\n",
    "아래의 전화번호에서 하이푼 ('-')을 제거하고 출력하세요.   \n",
    "\n",
    ">> phone_number = \"010-1111-2222\""
   ]
  },
  {
   "cell_type": "code",
   "execution_count": 43,
   "id": "aa7e24eb",
   "metadata": {
    "ExecuteTime": {
     "end_time": "2024-03-03T13:49:31.018167Z",
     "start_time": "2024-03-03T13:49:31.013731Z"
    }
   },
   "outputs": [
    {
     "name": "stdout",
     "output_type": "stream",
     "text": [
      "010 1111 2222\n"
     ]
    }
   ],
   "source": [
    "phone_number = \"010-1111-2222\"\n",
    "phone_number1 = phone_number.replace(\"-\", \" \")\n",
    "print(phone_number1)"
   ]
  },
  {
   "cell_type": "markdown",
   "id": "c1e7afd0",
   "metadata": {},
   "source": [
    "# 026 문자열 다루기\n",
    "25번 문제의 전화번호를 아래와 같이 모두 붙여 출력하세요."
   ]
  },
  {
   "cell_type": "code",
   "execution_count": 45,
   "id": "06c81bc3",
   "metadata": {
    "ExecuteTime": {
     "end_time": "2024-03-03T13:52:38.748824Z",
     "start_time": "2024-03-03T13:52:38.744994Z"
    }
   },
   "outputs": [],
   "source": [
    "phone_number2 = phone_number.replace('-', '')"
   ]
  },
  {
   "cell_type": "code",
   "execution_count": 46,
   "id": "c5361605",
   "metadata": {
    "ExecuteTime": {
     "end_time": "2024-03-03T13:52:45.726539Z",
     "start_time": "2024-03-03T13:52:45.721888Z"
    }
   },
   "outputs": [
    {
     "name": "stdout",
     "output_type": "stream",
     "text": [
      "01011112222\n"
     ]
    }
   ],
   "source": [
    "print(phone_number2)"
   ]
  },
  {
   "cell_type": "markdown",
   "id": "19fa1a29",
   "metadata": {},
   "source": [
    "# 027 문자열 다루기\n",
    "url 에 저장된 웹 페이지 주소에서 도메인을 출력하세요.  \n",
    ">> url = \"http://sharebook.kr\""
   ]
  },
  {
   "cell_type": "code",
   "execution_count": 44,
   "id": "5f10b96c",
   "metadata": {
    "ExecuteTime": {
     "end_time": "2024-03-03T13:50:07.781430Z",
     "start_time": "2024-03-03T13:50:07.778319Z"
    }
   },
   "outputs": [
    {
     "name": "stdout",
     "output_type": "stream",
     "text": [
      "kr\n"
     ]
    }
   ],
   "source": [
    "url = \"http://sharebook.kr\"\n",
    "url_split = url.split('.')\n",
    "print(url_split[-1])"
   ]
  },
  {
   "cell_type": "markdown",
   "id": "bf8f2ce5",
   "metadata": {},
   "source": [
    "# 028 문자열은 immutable\n",
    "아래 코드의 실행 결과를 예상해보세요.   \n",
    "\n",
    ">> lang = 'python'  \n",
    ">> lang[0] = 'P'  \n",
    ">> print(lang)  "
   ]
  },
  {
   "cell_type": "code",
   "execution_count": 47,
   "id": "cb6559e8",
   "metadata": {
    "ExecuteTime": {
     "end_time": "2024-03-03T13:53:30.336469Z",
     "start_time": "2024-03-03T13:53:30.318541Z"
    }
   },
   "outputs": [
    {
     "ename": "TypeError",
     "evalue": "'str' object does not support item assignment",
     "output_type": "error",
     "traceback": [
      "\u001b[1;31m---------------------------------------------------------------------------\u001b[0m",
      "\u001b[1;31mTypeError\u001b[0m                                 Traceback (most recent call last)",
      "Cell \u001b[1;32mIn[47], line 2\u001b[0m\n\u001b[0;32m      1\u001b[0m lang \u001b[38;5;241m=\u001b[39m \u001b[38;5;124m'\u001b[39m\u001b[38;5;124mpython\u001b[39m\u001b[38;5;124m'\u001b[39m\n\u001b[1;32m----> 2\u001b[0m lang[\u001b[38;5;241m0\u001b[39m] \u001b[38;5;241m=\u001b[39m \u001b[38;5;124m'\u001b[39m\u001b[38;5;124mP\u001b[39m\u001b[38;5;124m'\u001b[39m\n\u001b[0;32m      3\u001b[0m \u001b[38;5;28mprint\u001b[39m(lang)\n",
      "\u001b[1;31mTypeError\u001b[0m: 'str' object does not support item assignment"
     ]
    }
   ],
   "source": [
    "lang = 'python'\n",
    "lang[0] = 'P'\n",
    "print(lang)"
   ]
  },
  {
   "cell_type": "markdown",
   "id": "0606d1c6",
   "metadata": {},
   "source": [
    "# 029 replace 메서드\n",
    "아래 문자열에서 소문자 'a'를 대문자 'A'로 변경하세요.  \n",
    "\n",
    ">> string = 'abcdfe2a354a32a'"
   ]
  },
  {
   "cell_type": "code",
   "execution_count": 48,
   "id": "b668fa48",
   "metadata": {
    "ExecuteTime": {
     "end_time": "2024-03-03T13:53:58.230361Z",
     "start_time": "2024-03-03T13:53:58.224915Z"
    }
   },
   "outputs": [
    {
     "name": "stdout",
     "output_type": "stream",
     "text": [
      "Abcdfe2A354A32A\n"
     ]
    }
   ],
   "source": [
    "string = 'abcdfe2a354a32a'\n",
    "string = string.replace('a', 'A')\n",
    "print(string)"
   ]
  },
  {
   "cell_type": "markdown",
   "id": "e58fd1ae",
   "metadata": {},
   "source": [
    "# 030 replace 메서드\n",
    "아래 코드의 실행 결과를 예상해보세요.   \n",
    ">> string = 'abcd'  \n",
    ">> string.replace('b', 'B')  \n",
    ">> print(string)  "
   ]
  },
  {
   "cell_type": "code",
   "execution_count": 49,
   "id": "e3100c2f",
   "metadata": {
    "ExecuteTime": {
     "end_time": "2024-03-03T13:55:29.384024Z",
     "start_time": "2024-03-03T13:55:29.378842Z"
    }
   },
   "outputs": [
    {
     "name": "stdout",
     "output_type": "stream",
     "text": [
      "abcd\n"
     ]
    }
   ],
   "source": [
    "string = 'abcd'\n",
    "string.replace('b', 'B')\n",
    "print(string)"
   ]
  },
  {
   "cell_type": "markdown",
   "id": "9f85a203",
   "metadata": {},
   "source": [
    "# 031 문자열 합치기\n",
    "아래 코드의 실행 결과를 예상해보세요.\n",
    "\n",
    ">> a = \"3\"  \n",
    ">> b = \"4\"  \n",
    ">> print(a + b)   "
   ]
  },
  {
   "cell_type": "code",
   "execution_count": 50,
   "id": "f79cb084",
   "metadata": {
    "ExecuteTime": {
     "end_time": "2024-03-03T13:57:01.530539Z",
     "start_time": "2024-03-03T13:57:01.526173Z"
    }
   },
   "outputs": [
    {
     "name": "stdout",
     "output_type": "stream",
     "text": [
      "34\n"
     ]
    }
   ],
   "source": [
    "a = \"3\"\n",
    "b = \"4\"\n",
    "print(a + b)"
   ]
  },
  {
   "cell_type": "markdown",
   "id": "fa6ff4ec",
   "metadata": {},
   "source": [
    "# 032 문자열 곱하기\n",
    "아래 코드의 실행 결과를 예상해보세요.   \n",
    "\n",
    ">> print(\"Hi\" * 3) "
   ]
  },
  {
   "cell_type": "code",
   "execution_count": 51,
   "id": "0b553d46",
   "metadata": {
    "ExecuteTime": {
     "end_time": "2024-03-03T13:57:23.213508Z",
     "start_time": "2024-03-03T13:57:23.209422Z"
    }
   },
   "outputs": [
    {
     "name": "stdout",
     "output_type": "stream",
     "text": [
      "HiHiHi\n"
     ]
    }
   ],
   "source": [
    "print(\"Hi\" * 3)"
   ]
  },
  {
   "cell_type": "markdown",
   "id": "7a239373",
   "metadata": {},
   "source": [
    "# 033 문자열 곱하기\n",
    "화면에 '-'를 80개 출력하세요."
   ]
  },
  {
   "cell_type": "code",
   "execution_count": 52,
   "id": "4c308361",
   "metadata": {
    "ExecuteTime": {
     "end_time": "2024-03-03T13:57:44.814627Z",
     "start_time": "2024-03-03T13:57:44.811095Z"
    }
   },
   "outputs": [
    {
     "name": "stdout",
     "output_type": "stream",
     "text": [
      "--------------------------------------------------------------------------------\n"
     ]
    }
   ],
   "source": [
    "print(\"-\" * 80)"
   ]
  },
  {
   "cell_type": "markdown",
   "id": "80c486fd",
   "metadata": {},
   "source": [
    "# 034 문자열 곱하기\n",
    "변수에 다음과 같은 문자열이 바인딩되어 있습니다.  \n",
    ">>> t1 = 'python'   \n",
    ">>> t2 = 'java'\n",
    "\n",
    "변수에 문자열 더하기와 문자열 곱하기를 사용해서 아래와 같이 출력해보세요.   \n",
    "   \n",
    "실행 예:   \n",
    "python java python java python java python java  "
   ]
  },
  {
   "cell_type": "code",
   "execution_count": 53,
   "id": "2cf32d92",
   "metadata": {
    "ExecuteTime": {
     "end_time": "2024-03-03T13:59:40.143926Z",
     "start_time": "2024-03-03T13:59:40.140499Z"
    }
   },
   "outputs": [],
   "source": [
    "t1 = \"python\"\n",
    "t2 = \"java\""
   ]
  },
  {
   "cell_type": "code",
   "execution_count": 57,
   "id": "ad28690c",
   "metadata": {
    "ExecuteTime": {
     "end_time": "2024-03-03T14:00:20.815930Z",
     "start_time": "2024-03-03T14:00:20.811435Z"
    }
   },
   "outputs": [
    {
     "name": "stdout",
     "output_type": "stream",
     "text": [
      "python java \n"
     ]
    }
   ],
   "source": [
    "t3= t1+\" \"+t2+\" \"\n",
    "print(t3)"
   ]
  },
  {
   "cell_type": "code",
   "execution_count": 58,
   "id": "225ad9e5",
   "metadata": {
    "ExecuteTime": {
     "end_time": "2024-03-03T14:00:22.758906Z",
     "start_time": "2024-03-03T14:00:22.755483Z"
    }
   },
   "outputs": [
    {
     "name": "stdout",
     "output_type": "stream",
     "text": [
      "python java python java python java python java \n"
     ]
    }
   ],
   "source": [
    "print(t3*4)"
   ]
  },
  {
   "cell_type": "markdown",
   "id": "7bcaf914",
   "metadata": {},
   "source": [
    "# 035 문자열 출력   \n",
    "변수에 다음과 같이 문자열과 정수가 바인딩되어 있을 때 % formatting을 사용해서 다음과 같이 출력해보세요.   \n",
    "\n",
    "name1 = \"김민수\"   \n",
    "age1 = 10   \n",
    "name2 = \"이철희\"   \n",
    "age2 = 13   \n",
    "\n",
    "\n",
    "이름: 김민수 나이: 10   \n",
    "이름: 이철희 나이: 13   "
   ]
  },
  {
   "cell_type": "code",
   "execution_count": 59,
   "id": "61a1639c",
   "metadata": {
    "ExecuteTime": {
     "end_time": "2024-03-03T14:01:14.412427Z",
     "start_time": "2024-03-03T14:01:14.409069Z"
    }
   },
   "outputs": [],
   "source": [
    "name1 = \"김민수\" \n",
    "age1 = 10\n",
    "name2 = \"이철희\"\n",
    "age2 = 13"
   ]
  },
  {
   "cell_type": "code",
   "execution_count": 60,
   "id": "eea134ba",
   "metadata": {
    "ExecuteTime": {
     "end_time": "2024-03-03T14:01:21.514650Z",
     "start_time": "2024-03-03T14:01:21.510362Z"
    }
   },
   "outputs": [
    {
     "name": "stdout",
     "output_type": "stream",
     "text": [
      "이름: 김민수 나이: 10\n",
      "이름: 이철희 나이: 13\n"
     ]
    }
   ],
   "source": [
    "print(\"이름: %s 나이: %d\" % (name1, age1))\n",
    "print(\"이름: %s 나이: %d\" % (name2, age2))"
   ]
  },
  {
   "cell_type": "markdown",
   "id": "26b71841",
   "metadata": {},
   "source": [
    "# 036 문자열 출력\n",
    "문자열의 format( ) 메서드를 사용해서 035번 문제를 다시 풀어보세요."
   ]
  },
  {
   "cell_type": "code",
   "execution_count": 61,
   "id": "c1b7333c",
   "metadata": {
    "ExecuteTime": {
     "end_time": "2024-03-03T14:01:45.065662Z",
     "start_time": "2024-03-03T14:01:45.060876Z"
    }
   },
   "outputs": [
    {
     "name": "stdout",
     "output_type": "stream",
     "text": [
      "이름: 김민수 나이: 10\n",
      "이름: 이철희 나이: 13\n"
     ]
    }
   ],
   "source": [
    "name1 = \"김민수\" \n",
    "age1 = 10\n",
    "name2 = \"이철희\"\n",
    "age2 = 13\n",
    "print(\"이름: {} 나이: {}\".format(name1, age1))\n",
    "print(\"이름: {} 나이: {}\".format(name2, age2))"
   ]
  },
  {
   "cell_type": "markdown",
   "id": "8952c3f2",
   "metadata": {},
   "source": [
    "# 037 문자열 출력\n",
    "파이썬 3.6부터 지원하는 f-string을 사용해서 035번 문제를 다시 풀어보세요."
   ]
  },
  {
   "cell_type": "code",
   "execution_count": 62,
   "id": "28773941",
   "metadata": {
    "ExecuteTime": {
     "end_time": "2024-03-03T14:02:04.776468Z",
     "start_time": "2024-03-03T14:02:04.771229Z"
    }
   },
   "outputs": [
    {
     "name": "stdout",
     "output_type": "stream",
     "text": [
      "이름: 김민수 나이: 10\n",
      "이름: 이철희 나이: 13\n"
     ]
    }
   ],
   "source": [
    "name1 = \"김민수\" \n",
    "age1 = 10\n",
    "name2 = \"이철희\"\n",
    "age2 = 13\n",
    "print(f\"이름: {name1} 나이: {age1}\")\n",
    "print(f\"이름: {name2} 나이: {age2}\")"
   ]
  },
  {
   "cell_type": "markdown",
   "id": "d6d86f65",
   "metadata": {},
   "source": [
    "# 038 컴마 제거하기\n",
    "삼성전자의 상장주식수가 다음과 같습니다. 컴마를 제거한 후 이를 정수 타입으로 변환해보세요.   \n",
    "상장주식수 = \"5,969,782,550\""
   ]
  },
  {
   "cell_type": "code",
   "execution_count": 63,
   "id": "bbd66e64",
   "metadata": {
    "ExecuteTime": {
     "end_time": "2024-03-03T14:02:41.240465Z",
     "start_time": "2024-03-03T14:02:41.237347Z"
    }
   },
   "outputs": [],
   "source": [
    "상장주식수 = \"5,969,782,550\""
   ]
  },
  {
   "cell_type": "code",
   "execution_count": 65,
   "id": "3c7520ee",
   "metadata": {
    "ExecuteTime": {
     "end_time": "2024-03-03T14:03:10.813269Z",
     "start_time": "2024-03-03T14:03:10.809111Z"
    }
   },
   "outputs": [
    {
     "name": "stdout",
     "output_type": "stream",
     "text": [
      "5969782550\n"
     ]
    }
   ],
   "source": [
    "nocommas=상장주식수.replace(\",\",\"\")\n",
    "print(nocommas)"
   ]
  },
  {
   "cell_type": "code",
   "execution_count": 67,
   "id": "36040982",
   "metadata": {
    "ExecuteTime": {
     "end_time": "2024-03-03T14:03:55.343394Z",
     "start_time": "2024-03-03T14:03:55.339189Z"
    }
   },
   "outputs": [
    {
     "name": "stdout",
     "output_type": "stream",
     "text": [
      "5969782550 <class 'int'>\n"
     ]
    }
   ],
   "source": [
    "nocommas_int= int(nocommas)\n",
    "print(nocommas_int,type(nocommas_int))"
   ]
  },
  {
   "cell_type": "markdown",
   "id": "c854d86c",
   "metadata": {},
   "source": [
    "# 039 문자열 슬라이싱\n",
    "다음과 같은 문자열에서 '2020/03'만 출력하세요.  \n",
    "\n",
    "분기 = \"2020/03(E) (IFRS연결)\""
   ]
  },
  {
   "cell_type": "code",
   "execution_count": 68,
   "id": "8859195b",
   "metadata": {
    "ExecuteTime": {
     "end_time": "2024-03-03T14:04:27.217586Z",
     "start_time": "2024-03-03T14:04:27.213598Z"
    }
   },
   "outputs": [
    {
     "name": "stdout",
     "output_type": "stream",
     "text": [
      "2020/03\n"
     ]
    }
   ],
   "source": [
    "분기 = \"2020/03(E) (IFRS연결)\"\n",
    "print(분기[:7])"
   ]
  },
  {
   "cell_type": "markdown",
   "id": "92b23209",
   "metadata": {},
   "source": [
    "# 040 strip 메서드  \n",
    "문자열의 좌우의 공백이 있을 때 이를 제거해보세요.    \n",
    "\n",
    "data = \"   삼성전자    \""
   ]
  },
  {
   "cell_type": "code",
   "execution_count": 69,
   "id": "d8adf5cf",
   "metadata": {
    "ExecuteTime": {
     "end_time": "2024-03-03T14:04:48.465896Z",
     "start_time": "2024-03-03T14:04:48.461417Z"
    }
   },
   "outputs": [
    {
     "name": "stdout",
     "output_type": "stream",
     "text": [
      "삼성전자\n"
     ]
    }
   ],
   "source": [
    "data = \"   삼성전자    \"\n",
    "data1 = data.strip()\n",
    "print(data1)"
   ]
  },
  {
   "cell_type": "markdown",
   "id": "0c87ee6c",
   "metadata": {},
   "source": [
    "# 041 upper 메서드\n",
    "다음과 같은 문자열이 있을 때 이를 대문자 BTC_KRW로 변경하세요\n",
    "ticker = \"btc_krw\""
   ]
  },
  {
   "cell_type": "code",
   "execution_count": 1,
   "id": "090e05fa",
   "metadata": {
    "ExecuteTime": {
     "end_time": "2024-03-02T16:56:31.819312Z",
     "start_time": "2024-03-02T16:56:31.813241Z"
    }
   },
   "outputs": [],
   "source": [
    "ticker = \"btc_krw\""
   ]
  },
  {
   "cell_type": "code",
   "execution_count": 3,
   "id": "25a43abb",
   "metadata": {
    "ExecuteTime": {
     "end_time": "2024-03-02T16:57:15.638432Z",
     "start_time": "2024-03-02T16:57:15.632387Z"
    }
   },
   "outputs": [],
   "source": [
    "ticker2= ticker.upper()"
   ]
  },
  {
   "cell_type": "code",
   "execution_count": 4,
   "id": "b7d654cd",
   "metadata": {
    "ExecuteTime": {
     "end_time": "2024-03-02T16:57:32.948456Z",
     "start_time": "2024-03-02T16:57:32.939991Z"
    }
   },
   "outputs": [
    {
     "name": "stdout",
     "output_type": "stream",
     "text": [
      "BTC_KRW\n"
     ]
    }
   ],
   "source": [
    "print (ticker2)"
   ]
  },
  {
   "cell_type": "markdown",
   "id": "37493f1a",
   "metadata": {},
   "source": [
    "# 042 lower 메서드\n",
    "다음과 같은 문자열이 있을 때 이를 소문자 btc_krw로 변경하세요.  \n",
    "ticker = \"BTC_KRW\""
   ]
  },
  {
   "cell_type": "code",
   "execution_count": 5,
   "id": "e4cb5286",
   "metadata": {
    "ExecuteTime": {
     "end_time": "2024-03-02T16:58:19.753349Z",
     "start_time": "2024-03-02T16:58:19.747851Z"
    }
   },
   "outputs": [],
   "source": [
    "ticker = \"BTC_KRW\""
   ]
  },
  {
   "cell_type": "code",
   "execution_count": 6,
   "id": "2e9ffd1c",
   "metadata": {
    "ExecuteTime": {
     "end_time": "2024-03-02T16:58:33.674442Z",
     "start_time": "2024-03-02T16:58:33.668045Z"
    }
   },
   "outputs": [],
   "source": [
    "ticker2= ticker.lower()"
   ]
  },
  {
   "cell_type": "code",
   "execution_count": 7,
   "id": "919feca4",
   "metadata": {
    "ExecuteTime": {
     "end_time": "2024-03-02T16:58:38.183210Z",
     "start_time": "2024-03-02T16:58:38.175859Z"
    }
   },
   "outputs": [
    {
     "name": "stdout",
     "output_type": "stream",
     "text": [
      "btc_krw\n"
     ]
    }
   ],
   "source": [
    "print(ticker2)"
   ]
  },
  {
   "cell_type": "markdown",
   "id": "dbd7c047",
   "metadata": {},
   "source": [
    "# 043 capitalize 메서드\n",
    "문자열 'hello'가 있을 때 이를 'Hello'로 변경해보세요."
   ]
  },
  {
   "cell_type": "code",
   "execution_count": 8,
   "id": "37a35993",
   "metadata": {
    "ExecuteTime": {
     "end_time": "2024-03-02T16:59:08.486160Z",
     "start_time": "2024-03-02T16:59:08.479137Z"
    }
   },
   "outputs": [],
   "source": [
    "hello=\"hello\""
   ]
  },
  {
   "cell_type": "code",
   "execution_count": 9,
   "id": "35f83247",
   "metadata": {
    "ExecuteTime": {
     "end_time": "2024-03-02T16:59:26.545691Z",
     "start_time": "2024-03-02T16:59:26.539023Z"
    }
   },
   "outputs": [
    {
     "name": "stdout",
     "output_type": "stream",
     "text": [
      "Hello\n"
     ]
    }
   ],
   "source": [
    "print(hello.capitalize())"
   ]
  },
  {
   "cell_type": "markdown",
   "id": "3dc1e450",
   "metadata": {},
   "source": [
    "# 044 endswith 메서드\n",
    "파일 이름이 문자열로 저장되어 있을 때 endswith 메서드를 사용해서 파일 이름이 'xlsx'로 끝나는지 확인해보세요.  \n",
    "file_name = \"보고서.xlsx\""
   ]
  },
  {
   "cell_type": "code",
   "execution_count": 10,
   "id": "d3a782af",
   "metadata": {
    "ExecuteTime": {
     "end_time": "2024-03-02T16:59:56.922810Z",
     "start_time": "2024-03-02T16:59:56.905444Z"
    }
   },
   "outputs": [
    {
     "data": {
      "text/plain": [
       "True"
      ]
     },
     "execution_count": 10,
     "metadata": {},
     "output_type": "execute_result"
    }
   ],
   "source": [
    "file_name = \"보고서.xlsx\"\n",
    "file_name.endswith(\"xlsx\")"
   ]
  },
  {
   "cell_type": "markdown",
   "id": "e93138db",
   "metadata": {},
   "source": [
    "# 045 endswith 메서드\n",
    "파일 이름이 문자열로 저장되어 있을 때 endswith 메서드를 사용해서 파일 이름이 'xlsx' 또는 'xls'로 끝나는지 확인해보세요.  \n",
    "file_name = \"보고서.xlsx\""
   ]
  },
  {
   "cell_type": "code",
   "execution_count": 11,
   "id": "813728da",
   "metadata": {
    "ExecuteTime": {
     "end_time": "2024-03-02T17:01:21.879036Z",
     "start_time": "2024-03-02T17:01:21.867766Z"
    }
   },
   "outputs": [
    {
     "data": {
      "text/plain": [
       "True"
      ]
     },
     "execution_count": 11,
     "metadata": {},
     "output_type": "execute_result"
    }
   ],
   "source": [
    "file_name = \"보고서.xlsx\"\n",
    "file_name.endswith((\"xlsx\", \"xls\"))"
   ]
  },
  {
   "cell_type": "markdown",
   "id": "7a00ebcd",
   "metadata": {},
   "source": [
    "# 046  startswith 메서드\n",
    "파일 이름이 문자열로 저장되어 있을 때 startswith 메서드를 사용해서 파일 이름이 '2020'로 시작하는지 확인해보세요. \n",
    "file_name = \"2020_보고서.xlsx\""
   ]
  },
  {
   "cell_type": "code",
   "execution_count": 15,
   "id": "40d33695",
   "metadata": {
    "ExecuteTime": {
     "end_time": "2024-03-02T17:03:28.707332Z",
     "start_time": "2024-03-02T17:03:28.698307Z"
    }
   },
   "outputs": [
    {
     "data": {
      "text/plain": [
       "True"
      ]
     },
     "execution_count": 15,
     "metadata": {},
     "output_type": "execute_result"
    }
   ],
   "source": [
    "file_name = \"2020_보고서.xlsx\"\n",
    "file_name.startswith(\"2020\")"
   ]
  },
  {
   "cell_type": "markdown",
   "id": "fe6506c6",
   "metadata": {},
   "source": [
    "# 7 047 split 메서드\n",
    "다음과 같은 문자열이 있을 때 공백을 기준으로 문자열을 나눠보세요.  \n",
    "a = \"hello world\""
   ]
  },
  {
   "cell_type": "code",
   "execution_count": 13,
   "id": "38caef24",
   "metadata": {
    "ExecuteTime": {
     "end_time": "2024-03-02T17:02:45.928083Z",
     "start_time": "2024-03-02T17:02:45.917527Z"
    }
   },
   "outputs": [
    {
     "data": {
      "text/plain": [
       "['hello', 'world']"
      ]
     },
     "execution_count": 13,
     "metadata": {},
     "output_type": "execute_result"
    }
   ],
   "source": [
    "a = \"hello world\"\n",
    "a.split()"
   ]
  },
  {
   "cell_type": "markdown",
   "id": "ec1bdf37",
   "metadata": {},
   "source": [
    "# 048 split 메서드\n",
    "다음과 같이 문자열이 있을 때 btc와 krw로 나눠보세요.  \n",
    "ticker = \"btc_krw\""
   ]
  },
  {
   "cell_type": "code",
   "execution_count": 16,
   "id": "8badc068",
   "metadata": {
    "ExecuteTime": {
     "end_time": "2024-03-02T17:03:34.712689Z",
     "start_time": "2024-03-02T17:03:34.700622Z"
    }
   },
   "outputs": [
    {
     "data": {
      "text/plain": [
       "['btc', 'krw']"
      ]
     },
     "execution_count": 16,
     "metadata": {},
     "output_type": "execute_result"
    }
   ],
   "source": [
    "ticker = \"btc_krw\"\n",
    "ticker.split(\"_\")"
   ]
  },
  {
   "cell_type": "markdown",
   "id": "f9a292fb",
   "metadata": {},
   "source": [
    "# 049 split 메서드\n",
    "다음과 같이 날짜를 표현하는 문자열이 있을 때 연도, 월, 일로 나눠보세요.  \n",
    "date = \"2020-05-01\""
   ]
  },
  {
   "cell_type": "code",
   "execution_count": 17,
   "id": "1426374d",
   "metadata": {
    "ExecuteTime": {
     "end_time": "2024-03-02T17:04:07.220312Z",
     "start_time": "2024-03-02T17:04:07.211057Z"
    }
   },
   "outputs": [
    {
     "data": {
      "text/plain": [
       "['2020', '05', '01']"
      ]
     },
     "execution_count": 17,
     "metadata": {},
     "output_type": "execute_result"
    }
   ],
   "source": [
    "date = \"2020-05-01\"\n",
    "date.split(\"-\")"
   ]
  },
  {
   "cell_type": "markdown",
   "id": "1b138e2a",
   "metadata": {},
   "source": [
    "# 050 rstrip 메서드\n",
    "문자열의 오른쪽에 공백이 있을 때 이를 제거해보세요.  \n",
    "data = \"039490     \""
   ]
  },
  {
   "cell_type": "code",
   "execution_count": 18,
   "id": "e87d6d41",
   "metadata": {
    "ExecuteTime": {
     "end_time": "2024-03-02T17:04:36.789147Z",
     "start_time": "2024-03-02T17:04:36.783092Z"
    }
   },
   "outputs": [],
   "source": [
    "data = \"039490     \"\n",
    "data = data.rstrip()"
   ]
  },
  {
   "cell_type": "code",
   "execution_count": 19,
   "id": "2f63e744",
   "metadata": {
    "ExecuteTime": {
     "end_time": "2024-03-02T17:04:50.025024Z",
     "start_time": "2024-03-02T17:04:50.017297Z"
    }
   },
   "outputs": [
    {
     "name": "stdout",
     "output_type": "stream",
     "text": [
      "039490\n"
     ]
    }
   ],
   "source": [
    "print(data)"
   ]
  },
  {
   "cell_type": "code",
   "execution_count": null,
   "id": "95a3b1cb",
   "metadata": {},
   "outputs": [],
   "source": []
  }
 ],
 "metadata": {
  "kernelspec": {
   "display_name": "Python 3 (ipykernel)",
   "language": "python",
   "name": "python3"
  },
  "language_info": {
   "codemirror_mode": {
    "name": "ipython",
    "version": 3
   },
   "file_extension": ".py",
   "mimetype": "text/x-python",
   "name": "python",
   "nbconvert_exporter": "python",
   "pygments_lexer": "ipython3",
   "version": "3.11.5"
  },
  "toc": {
   "base_numbering": 1,
   "nav_menu": {},
   "number_sections": true,
   "sideBar": true,
   "skip_h1_title": false,
   "title_cell": "Table of Contents",
   "title_sidebar": "Contents",
   "toc_cell": false,
   "toc_position": {},
   "toc_section_display": true,
   "toc_window_display": false
  }
 },
 "nbformat": 4,
 "nbformat_minor": 5
}
