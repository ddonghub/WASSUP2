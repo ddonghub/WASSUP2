{
 "cells": [
  {
   "cell_type": "markdown",
   "id": "631e4891",
   "metadata": {},
   "source": [
    "101\n",
    "파이썬에서 True 혹은 False를 갖는 데이터 타입은 무엇인가?"
   ]
  },
  {
   "cell_type": "markdown",
   "id": "d9320b37",
   "metadata": {
    "ExecuteTime": {
     "end_time": "2024-03-05T17:47:13.249862Z",
     "start_time": "2024-03-05T17:47:12.329652Z"
    }
   },
   "source": [
    "boolean"
   ]
  },
  {
   "cell_type": "markdown",
   "id": "0dd940cf",
   "metadata": {},
   "source": [
    "102\n",
    "아래 코드의 출력 결과를 예상하라\n",
    "\n",
    "print(3 == 5)"
   ]
  },
  {
   "cell_type": "code",
   "execution_count": 2,
   "id": "a6d60d1d",
   "metadata": {
    "ExecuteTime": {
     "end_time": "2024-03-05T17:49:15.672387Z",
     "start_time": "2024-03-05T17:49:15.669340Z"
    }
   },
   "outputs": [
    {
     "name": "stdout",
     "output_type": "stream",
     "text": [
      "False\n"
     ]
    }
   ],
   "source": [
    "print(3 == 5)"
   ]
  },
  {
   "cell_type": "markdown",
   "id": "adc86340",
   "metadata": {},
   "source": [
    "103\n",
    "아래 코드의 출력 결과를 예상하라\n",
    "\n",
    "print(3 < 5)\n"
   ]
  },
  {
   "cell_type": "code",
   "execution_count": 3,
   "id": "d73746d4",
   "metadata": {
    "ExecuteTime": {
     "end_time": "2024-03-05T17:49:33.297388Z",
     "start_time": "2024-03-05T17:49:33.293387Z"
    }
   },
   "outputs": [
    {
     "name": "stdout",
     "output_type": "stream",
     "text": [
      "True\n"
     ]
    }
   ],
   "source": [
    "print(3 < 5)"
   ]
  },
  {
   "cell_type": "markdown",
   "id": "ab20df3a",
   "metadata": {
    "ExecuteTime": {
     "end_time": "2024-03-05T17:49:42.345082Z",
     "start_time": "2024-03-05T17:49:42.338452Z"
    }
   },
   "source": [
    "104  \n",
    "아래 코드의 결과를 예상하라.   \n",
    "\n",
    "x = 4   \n",
    "print(1 < x < 5)   "
   ]
  },
  {
   "cell_type": "code",
   "execution_count": 5,
   "id": "4e2d49bd",
   "metadata": {
    "ExecuteTime": {
     "end_time": "2024-03-05T17:49:57.494353Z",
     "start_time": "2024-03-05T17:49:57.490888Z"
    }
   },
   "outputs": [
    {
     "name": "stdout",
     "output_type": "stream",
     "text": [
      "True\n"
     ]
    }
   ],
   "source": [
    "x = 4\n",
    "print(1 < x < 5)"
   ]
  },
  {
   "cell_type": "markdown",
   "id": "cee7c163",
   "metadata": {},
   "source": [
    "105\n",
    "아래 코드의 결과를 예상하라.\n",
    "\n",
    "print ((3 == 3) and (4 != 3))"
   ]
  },
  {
   "cell_type": "code",
   "execution_count": 6,
   "id": "dac1dd8d",
   "metadata": {
    "ExecuteTime": {
     "end_time": "2024-03-05T17:50:16.630866Z",
     "start_time": "2024-03-05T17:50:16.627299Z"
    }
   },
   "outputs": [
    {
     "name": "stdout",
     "output_type": "stream",
     "text": [
      "True\n"
     ]
    }
   ],
   "source": [
    "print ((3 == 3) and (4 != 3))"
   ]
  },
  {
   "cell_type": "markdown",
   "id": "74c0fde0",
   "metadata": {},
   "source": [
    "106\n",
    "아래 코드에서 에러가 발생하는 원인에 대해 설명하라.\n",
    "\n",
    "print(3 => 4)"
   ]
  },
  {
   "cell_type": "code",
   "execution_count": 7,
   "id": "010c7e23",
   "metadata": {
    "ExecuteTime": {
     "end_time": "2024-03-05T17:50:34.551784Z",
     "start_time": "2024-03-05T17:50:34.544003Z"
    }
   },
   "outputs": [
    {
     "ename": "SyntaxError",
     "evalue": "expression cannot contain assignment, perhaps you meant \"==\"? (3612698823.py, line 1)",
     "output_type": "error",
     "traceback": [
      "\u001b[1;36m  Cell \u001b[1;32mIn[7], line 1\u001b[1;36m\u001b[0m\n\u001b[1;33m    print(3 => 4)\u001b[0m\n\u001b[1;37m          ^\u001b[0m\n\u001b[1;31mSyntaxError\u001b[0m\u001b[1;31m:\u001b[0m expression cannot contain assignment, perhaps you meant \"==\"?\n"
     ]
    }
   ],
   "source": [
    "print(3 => 4)"
   ]
  },
  {
   "cell_type": "markdown",
   "id": "d6558bc3",
   "metadata": {},
   "source": [
    "\">=\"라고 쓰던지 참.."
   ]
  },
  {
   "cell_type": "markdown",
   "id": "c3cb225c",
   "metadata": {},
   "source": [
    "107\n",
    "아래 코드의 출력 결과를 예상하라\n",
    "\n",
    "if 4 < 3:    \n",
    "    print(\"Hello World\")\n"
   ]
  },
  {
   "cell_type": "code",
   "execution_count": 8,
   "id": "9ae1a920",
   "metadata": {
    "ExecuteTime": {
     "end_time": "2024-03-05T17:51:37.467729Z",
     "start_time": "2024-03-05T17:51:37.464778Z"
    }
   },
   "outputs": [],
   "source": [
    "if 4 < 3:\n",
    "    print(\"Hello World\")"
   ]
  },
  {
   "cell_type": "markdown",
   "id": "b4025031",
   "metadata": {},
   "source": [
    "조건을 만족하지 않아서 프린트문은 실행되지않음"
   ]
  },
  {
   "cell_type": "markdown",
   "id": "dcc3d7f4",
   "metadata": {},
   "source": [
    "108\n",
    "아래 코드의 출력 결과를 예상하라    \n",
    "\n",
    "if 4 < 3:   \n",
    "    print(\"Hello World.\")    \n",
    "else:   \n",
    "    print(\"Hi, there.\")"
   ]
  },
  {
   "cell_type": "code",
   "execution_count": 9,
   "id": "bcc62b22",
   "metadata": {
    "ExecuteTime": {
     "end_time": "2024-03-05T17:52:15.493012Z",
     "start_time": "2024-03-05T17:52:15.489467Z"
    }
   },
   "outputs": [
    {
     "name": "stdout",
     "output_type": "stream",
     "text": [
      "Hi, there.\n"
     ]
    }
   ],
   "source": [
    "if 4 < 3:\n",
    "    print(\"Hello World.\")\n",
    "else:\n",
    "    print(\"Hi, there.\")\n"
   ]
  },
  {
   "cell_type": "markdown",
   "id": "7b8e82bc",
   "metadata": {},
   "source": [
    "109\n",
    "아래 코드의 출력 결과를 예상하라    \n",
    "   \n",
    "if True :    \n",
    "    print (\"1\")   \n",
    "    print (\"2\")  \n",
    "else :  \n",
    "    print(\"3\")  \n",
    "print(\"4\")   "
   ]
  },
  {
   "cell_type": "code",
   "execution_count": 10,
   "id": "92457a40",
   "metadata": {
    "ExecuteTime": {
     "end_time": "2024-03-05T17:52:41.063521Z",
     "start_time": "2024-03-05T17:52:41.059516Z"
    }
   },
   "outputs": [
    {
     "name": "stdout",
     "output_type": "stream",
     "text": [
      "1\n",
      "2\n",
      "4\n"
     ]
    }
   ],
   "source": [
    "if True :\n",
    "    print (\"1\")\n",
    "    print (\"2\")\n",
    "else :\n",
    "    print(\"3\")\n",
    "print(\"4\")"
   ]
  },
  {
   "cell_type": "markdown",
   "id": "71accfa4",
   "metadata": {},
   "source": [
    "110\n",
    "아래 코드의 출력 결과를 예상하라   \n",
    "\n",
    "if True :   \n",
    "    if False:   \n",
    "        print(\"1\")   \n",
    "        print(\"2\")   \n",
    "    else:   \n",
    "        print(\"3\")   \n",
    "else :   \n",
    "    print(\"4\")   \n",
    "print(\"5\")   "
   ]
  },
  {
   "cell_type": "code",
   "execution_count": 11,
   "id": "b0847a32",
   "metadata": {
    "ExecuteTime": {
     "end_time": "2024-03-05T17:53:20.889184Z",
     "start_time": "2024-03-05T17:53:20.884925Z"
    }
   },
   "outputs": [
    {
     "name": "stdout",
     "output_type": "stream",
     "text": [
      "3\n",
      "5\n"
     ]
    }
   ],
   "source": [
    "if True :\n",
    "    if False:\n",
    "        print(\"1\")\n",
    "        print(\"2\")\n",
    "    else:\n",
    "        print(\"3\")\n",
    "else :\n",
    "    print(\"4\")\n",
    "print(\"5\")"
   ]
  },
  {
   "cell_type": "markdown",
   "id": "dabadd4b",
   "metadata": {},
   "source": [
    "111\n",
    "사용자로부터 입력받은 문자열을 두 번 출력하라. 아래는 사용자가 \"안녕하세요\"를 입력한 경우의 출력 결과이다."
   ]
  },
  {
   "cell_type": "code",
   "execution_count": 15,
   "id": "559accfb",
   "metadata": {
    "ExecuteTime": {
     "end_time": "2024-03-05T18:11:00.796466Z",
     "start_time": "2024-03-05T18:10:58.496007Z"
    }
   },
   "outputs": [
    {
     "name": "stdout",
     "output_type": "stream",
     "text": [
      "입력:안녕하세요\n",
      "안녕하세요안녕하세요\n"
     ]
    }
   ],
   "source": [
    "user = input(\"입력:\")\n",
    "print(user * 2)"
   ]
  },
  {
   "cell_type": "markdown",
   "id": "5cc8e752",
   "metadata": {},
   "source": [
    "112\n",
    "사용자로부터 하나의 숫자를 입력받고, 입력 받은 숫자에 10을 더해 출력하라."
   ]
  },
  {
   "cell_type": "code",
   "execution_count": 16,
   "id": "d63267b7",
   "metadata": {
    "ExecuteTime": {
     "end_time": "2024-03-05T18:11:37.454551Z",
     "start_time": "2024-03-05T18:11:34.478080Z"
    }
   },
   "outputs": [
    {
     "name": "stdout",
     "output_type": "stream",
     "text": [
      "30\n",
      "40\n"
     ]
    }
   ],
   "source": [
    "number=int(input())\n",
    "print(number+10)"
   ]
  },
  {
   "cell_type": "markdown",
   "id": "f325a593",
   "metadata": {},
   "source": [
    "113\n",
    "사용자로부터 하나의 숫자를 입력 받고 짝수/홀수를 판별하라."
   ]
  },
  {
   "cell_type": "code",
   "execution_count": 18,
   "id": "2755b37a",
   "metadata": {
    "ExecuteTime": {
     "end_time": "2024-03-05T18:13:31.683919Z",
     "start_time": "2024-03-05T18:13:27.385668Z"
    }
   },
   "outputs": [
    {
     "name": "stdout",
     "output_type": "stream",
     "text": [
      "30\n",
      "짝수\n"
     ]
    }
   ],
   "source": [
    "is_odd=int(input())\n",
    "if is_odd %2==0:\n",
    "    print(\"짝수\")\n",
    "else:\n",
    "    print(\"홀수\")"
   ]
  },
  {
   "cell_type": "markdown",
   "id": "4187fb79",
   "metadata": {},
   "source": [
    "114\n",
    "사용자로부터 값을 입력받은 후 해당 값에 20을 더한 값을 출력하라.    \n",
    "단 사용자가 입력한 값과 20을 더한 계산 값이 255를 초과하는 경우 255를 출력해야 한다."
   ]
  },
  {
   "cell_type": "code",
   "execution_count": 21,
   "id": "7bd42d8c",
   "metadata": {
    "ExecuteTime": {
     "end_time": "2024-03-05T18:17:05.441494Z",
     "start_time": "2024-03-05T18:17:03.622389Z"
    }
   },
   "outputs": [
    {
     "name": "stdout",
     "output_type": "stream",
     "text": [
      "입력값:264\n",
      "255\n"
     ]
    }
   ],
   "source": [
    "num=input(\"입력값:\")\n",
    "plus20=int(num)+20\n",
    "\n",
    "if plus20 >255:\n",
    "    print(255)\n",
    "else:\n",
    "    print(plus20)"
   ]
  },
  {
   "cell_type": "markdown",
   "id": "c171f40c",
   "metadata": {},
   "source": [
    "115\n",
    "사용자로부터 하나의 값을 입력받은 후 해당 값에 20을 뺀 값을 출력하라.   \n",
    "단 출력 값의 범위는 0~255이다. 예를 들어 결괏값이 0보다 작은 값이되는 경우 0을 출력하고 255보다 큰 값이 되는 경우 255를 출력해야 한다."
   ]
  },
  {
   "cell_type": "code",
   "execution_count": 22,
   "id": "8f2cb8e3",
   "metadata": {
    "ExecuteTime": {
     "end_time": "2024-03-05T18:19:26.768795Z",
     "start_time": "2024-03-05T18:19:24.075743Z"
    }
   },
   "outputs": [
    {
     "name": "stdout",
     "output_type": "stream",
     "text": [
      "입력값:15\n",
      "0\n"
     ]
    }
   ],
   "source": [
    "num=input(\"입력값:\")\n",
    "minus20=int(num)-20\n",
    "\n",
    "if minus20<0:\n",
    "    print(0)\n",
    "elif minus20>255:\n",
    "    print(255)\n",
    "else:\n",
    "    print(minus20)"
   ]
  },
  {
   "cell_type": "markdown",
   "id": "bfea54fa",
   "metadata": {
    "ExecuteTime": {
     "end_time": "2024-03-05T18:19:45.472438Z",
     "start_time": "2024-03-05T18:19:45.466702Z"
    }
   },
   "source": [
    "116\n",
    "사용자로부터 입력 받은 시간이 정각인지 판별하라.\n",
    "\n",
    ">> 현재시간:02:00\n",
    "정각 입니다."
   ]
  },
  {
   "cell_type": "code",
   "execution_count": 25,
   "id": "7f8f3709",
   "metadata": {
    "ExecuteTime": {
     "end_time": "2024-03-05T18:21:10.045845Z",
     "start_time": "2024-03-05T18:21:06.574600Z"
    }
   },
   "outputs": [
    {
     "name": "stdout",
     "output_type": "stream",
     "text": [
      "현재시각:16:38\n",
      "정각이 아닙니다\n"
     ]
    }
   ],
   "source": [
    "time=input(\"현재시각:\")\n",
    "if time[3:]==\"00\":\n",
    "    print(\"정각입니다\")\n",
    "else:\n",
    "    print(\"정각이 아닙니다\")"
   ]
  },
  {
   "cell_type": "markdown",
   "id": "c351f791",
   "metadata": {},
   "source": [
    "117\n",
    "사용자로 입력받은 단어가 아래 fruit 리스트에 포함되어 있는지를 확인하라. 포함되었다면 \"정답입니다\"를 아닐 경우 \"오답입니다\" 출력하라.\n",
    "\n",
    "fruit = [\"사과\", \"포도\", \"홍시\"]"
   ]
  },
  {
   "cell_type": "code",
   "execution_count": 26,
   "id": "bdab0e1c",
   "metadata": {
    "ExecuteTime": {
     "end_time": "2024-03-05T18:22:40.534230Z",
     "start_time": "2024-03-05T18:22:37.544046Z"
    }
   },
   "outputs": [
    {
     "name": "stdout",
     "output_type": "stream",
     "text": [
      "종아하는 과일은?거봉\n",
      "오답입니다\n"
     ]
    }
   ],
   "source": [
    "fruit = [\"사과\", \"포도\", \"홍시\"]\n",
    "fav_fruit=input(\"종아하는 과일은?\")\n",
    "\n",
    "if fav_fruit in fruit:\n",
    "    print(\"정답입니다\")\n",
    "else:\n",
    "    print(\"오답입니다\")"
   ]
  },
  {
   "cell_type": "markdown",
   "id": "7e86acb6",
   "metadata": {},
   "source": [
    "118\n",
    "투자 경고 종목 리스트가 있을 때 사용자로부터 종목명을 입력 받은 후 해당 종목이 투자 경고 종목이라면 '투자 경고 종목입니다'를 아니면 \"투자 경고 종목이 아닙니다.\"를 출력하는 프로그램을 작성하라.\n",
    "\n",
    "warn_investment_list = [\"Microsoft\", \"Google\", \"Naver\", \"Kakao\", \"SAMSUNG\", \"LG\"]"
   ]
  },
  {
   "cell_type": "code",
   "execution_count": 28,
   "id": "1c59e753",
   "metadata": {
    "ExecuteTime": {
     "end_time": "2024-03-05T18:26:47.435473Z",
     "start_time": "2024-03-05T18:26:43.860238Z"
    }
   },
   "outputs": [
    {
     "name": "stdout",
     "output_type": "stream",
     "text": [
      "투자종목:EstSoft\n",
      "투자경고 종목이 아닙니다\n"
     ]
    }
   ],
   "source": [
    "warn_investment_list = [\"Microsoft\", \"Google\", \"Naver\", \"Kakao\", \"SAMSUNG\", \"LG\"]\n",
    "invest=input(\"투자종목:\")\n",
    "\n",
    "if invest in warn_investment_list:\n",
    "    print(\"투자경고 종목입니다.\")\n",
    "else:\n",
    "    print(\"투자경고 종목이 아닙니다\")"
   ]
  },
  {
   "cell_type": "markdown",
   "id": "813bda44",
   "metadata": {},
   "source": [
    "119\n",
    "아래와 같이 fruit 딕셔너리가 정의되어 있다. 사용자가 입력한 값이 딕셔너리 키 (key) 값에 포함되었다면 \"정답입니다\"를 아닐 경우 \"오답입니다\" 출력하라.\n",
    "\n",
    "fruit = {\"봄\" : \"딸기\", \"여름\" : \"토마토\", \"가을\" : \"사과\"}"
   ]
  },
  {
   "cell_type": "code",
   "execution_count": 31,
   "id": "cdd5fba0",
   "metadata": {
    "ExecuteTime": {
     "end_time": "2024-03-05T18:27:52.486249Z",
     "start_time": "2024-03-05T18:27:50.954602Z"
    }
   },
   "outputs": [
    {
     "name": "stdout",
     "output_type": "stream",
     "text": [
      "제가좋아하는계절은: 봄동\n",
      "오답입니다.\n"
     ]
    }
   ],
   "source": [
    "fruit = {\"봄\" : \"딸기\", \"여름\" : \"토마토\", \"가을\" : \"사과\"}\n",
    "user = input(\"제가좋아하는계절은: \")\n",
    "if user in fruit.keys():\n",
    "    print(\"정답입니다.\")\n",
    "else:\n",
    "    print(\"오답입니다.\")"
   ]
  },
  {
   "cell_type": "markdown",
   "id": "914e8d6b",
   "metadata": {
    "ExecuteTime": {
     "end_time": "2024-03-05T18:28:00.857473Z",
     "start_time": "2024-03-05T18:28:00.852797Z"
    }
   },
   "source": [
    "120\n",
    "아래와 같이 fruit 딕셔너리가 정의되어 있다. 사용자가 입력한 값이 딕셔너리 값 (value)에 포함되었다면 \"정답입니다\"를 아닐 경우 \"오답입니다\" 출력하라.\n",
    "\n",
    "fruit = {\"봄\" : \"딸기\", \"여름\" : \"토마토\", \"가을\" : \"사과\"}"
   ]
  },
  {
   "cell_type": "code",
   "execution_count": 33,
   "id": "4afb3b06",
   "metadata": {
    "ExecuteTime": {
     "end_time": "2024-03-05T18:28:15.856124Z",
     "start_time": "2024-03-05T18:28:11.832843Z"
    }
   },
   "outputs": [
    {
     "name": "stdout",
     "output_type": "stream",
     "text": [
      "좋아하는 과일은?도마도\n",
      "오답입니다.\n"
     ]
    }
   ],
   "source": [
    "fruit = {\"봄\" : \"딸기\", \"여름\" : \"토마토\", \"가을\" : \"사과\"}\n",
    "user = input(\"좋아하는 과일은?\")\n",
    "if user in fruit.values():\n",
    "    print(\"정답입니다.\")\n",
    "else:\n",
    "    print(\"오답입니다.\")"
   ]
  },
  {
   "cell_type": "markdown",
   "id": "7c757864",
   "metadata": {},
   "source": [
    "121\n",
    "사용자로부터 문자 한 개를 입력 받고, 소문자일 경우 대문자로, 대문자 일 경우, 소문자로 변경해서 출력하라.\n",
    "\n",
    ">> a\n",
    "A   \n",
    "\n",
    "\n",
    "힌트-1 : islower() 함수는 문자의 소문자 여부를 판별합니다. 만약 소문자일 경우 True, 대문자일 경우 False를 반환합니다.    \n",
    "힌트-2 : upper() 함수는 대문자로, lower() 함수는 소문자로 변경합니다."
   ]
  },
  {
   "cell_type": "code",
   "execution_count": 35,
   "id": "7337c263",
   "metadata": {
    "ExecuteTime": {
     "end_time": "2024-03-05T18:37:30.006598Z",
     "start_time": "2024-03-05T18:37:25.811049Z"
    }
   },
   "outputs": [
    {
     "name": "stdout",
     "output_type": "stream",
     "text": [
      "A\n",
      "a\n"
     ]
    }
   ],
   "source": [
    "alphabet=input()\n",
    "if alphabet.islower==True:\n",
    "    print(alphabet.upper())\n",
    "else:\n",
    "    print(alphabet.lower())"
   ]
  },
  {
   "cell_type": "markdown",
   "id": "fa98c8d9",
   "metadata": {},
   "source": [
    "122     \n",
    "점수 구간에 해당하는 학점이 아래와 같이 정의되어 있다. 사용자로부터 score를 입력받아 학점을 출력하라.     \n",
    "\n",
    "점수\t학점        \n",
    "81~100\tA          \n",
    "61~80\tB       \n",
    "41~60\tC        \n",
    "21~40\tD       \n",
    "0~20\tE       "
   ]
  },
  {
   "cell_type": "code",
   "execution_count": 37,
   "id": "6fcc8f76",
   "metadata": {
    "ExecuteTime": {
     "end_time": "2024-03-05T18:41:29.552051Z",
     "start_time": "2024-03-05T18:41:27.762431Z"
    }
   },
   "outputs": [
    {
     "name": "stdout",
     "output_type": "stream",
     "text": [
      "62\n",
      "grade is B\n"
     ]
    }
   ],
   "source": [
    "score=int(input())\n",
    "if score>=81:\n",
    "    print(\"grade is A\")\n",
    "elif 61<=score<=80:\n",
    "    print(\"grade is B\")\n",
    "elif 41<=score<=60:\n",
    "    print(\"grade is C\")\n",
    "elif 21<=score<=40:\n",
    "    print(\"grade is D\")\n",
    "else:\n",
    "    print(\"grade is E\")"
   ]
  },
  {
   "cell_type": "markdown",
   "id": "8ed7dee4",
   "metadata": {},
   "source": [
    "123      \n",
    "사용자로부터 달러, 엔, 유로, 또는 위안 금액을 입력받은 후 이를 원으로 변환하는 프로그램을 작성하라.     \n",
    "각 통화별 환율은 다음과 같다. 사용자는 100 달러, 1000 엔, 13 유로, 100 위안과 같이 금액과 통화명 사이에 공백을 넣어 입력한다고 가정한다.\n",
    "\n",
    "통화명\t환율        \n",
    "달러\t1167         \n",
    "엔\t1.096        \n",
    "유로\t1268        \n",
    "위안\t171      "
   ]
  },
  {
   "cell_type": "code",
   "execution_count": 38,
   "id": "a7ee8bf7",
   "metadata": {
    "ExecuteTime": {
     "end_time": "2024-03-05T18:43:24.373694Z",
     "start_time": "2024-03-05T18:43:24.369329Z"
    }
   },
   "outputs": [],
   "source": [
    "환율 = {\"달러\": 1167, \n",
    "        \"엔\": 1.096, \n",
    "        \"유로\": 1268, \n",
    "        \"위안\": 171}"
   ]
  },
  {
   "cell_type": "code",
   "execution_count": 46,
   "id": "106f99ae",
   "metadata": {
    "ExecuteTime": {
     "end_time": "2024-03-05T18:47:20.372930Z",
     "start_time": "2024-03-05T18:47:16.132656Z"
    }
   },
   "outputs": [
    {
     "name": "stdout",
     "output_type": "stream",
     "text": [
      "입력: 123 엔\n",
      "134.80800000000002 원\n"
     ]
    }
   ],
   "source": [
    "money=input(\"입력: \")\n",
    "num, currency = money.split() # 숫자와 단위 분할\n",
    "print(float(num)* 환율[currency], \"원\")"
   ]
  },
  {
   "cell_type": "markdown",
   "id": "0661033e",
   "metadata": {},
   "source": [
    "124\n",
    "사용자로부터 세 개의 숫자를 입력 받은 후 가장 큰 숫자를 출력하라.\n",
    "\n",
    ">> input number1: 10   \n",
    ">> input number2: 9   \n",
    ">> input number3: 20  \n",
    "20\n"
   ]
  },
  {
   "cell_type": "code",
   "execution_count": 50,
   "id": "ee792319",
   "metadata": {
    "ExecuteTime": {
     "end_time": "2024-03-05T18:51:55.236324Z",
     "start_time": "2024-03-05T18:51:51.460931Z"
    }
   },
   "outputs": [
    {
     "name": "stdout",
     "output_type": "stream",
     "text": [
      "num1:126\n",
      "num2:124\n",
      "num3:126\n",
      "126\n"
     ]
    }
   ],
   "source": [
    "num1=int(input(\"num1:\"))\n",
    "num2=int(input(\"num2:\"))\n",
    "num3=int(input(\"num3:\"))\n",
    "\n",
    "if num1>=num2 and num1>=num3:\n",
    "    print(num1)\n",
    "elif num2>=num1 and num2>=num3:\n",
    "    print(num2)\n",
    "elif num3>=num1 and num3>=num2:\n",
    "    print(num3)"
   ]
  },
  {
   "cell_type": "markdown",
   "id": "0db4e511",
   "metadata": {},
   "source": [
    "125\n",
    "휴대폰 번호 앞자리에 따라 통신사는 아래와 같이 구분된다. 사용자로부터 휴대전화 번호를 입력 받고, 통신사를 출력하는 프로그램을 작성하라.\n",
    "\n",
    "번호\t통신사    \n",
    "011\tSKT   \n",
    "016\tKT   \n",
    "019\tLGU   \n",
    "010\t알수없음  \n"
   ]
  },
  {
   "cell_type": "code",
   "execution_count": 56,
   "id": "592133bd",
   "metadata": {
    "ExecuteTime": {
     "end_time": "2024-03-05T18:58:25.923672Z",
     "start_time": "2024-03-05T18:58:21.733041Z"
    }
   },
   "outputs": [
    {
     "name": "stdout",
     "output_type": "stream",
     "text": [
      "010-1234-5678\n",
      "알수없음\n"
     ]
    }
   ],
   "source": [
    "phone=str(input())\n",
    "if phone[:3]==\"011\":\n",
    "    print(\"SKT\")\n",
    "elif phone[:3]==\"016\":\n",
    "    print(\"KT\")\n",
    "elif phone[:3]==\"019\":\n",
    "    print(\"LG\")\n",
    "elif phone[:3]==\"010\":\n",
    "    print(\"알수없음\")"
   ]
  },
  {
   "cell_type": "markdown",
   "id": "67b0067e",
   "metadata": {},
   "source": [
    "126\n",
    "우편번호는 5자리로 구성되는데, 앞의 세자리는 구를 나타낸다. 예를들어, 강북구의 경우 010, 011, 012 세 자리로 시작한다.\n",
    "\n",
    "-\t0\t1\t2\t3\t4\t5\t6\t7\t8\t9\n",
    "01\t강북구\t강북구\t강북구\t도봉구\t도봉구\t도봉구\t노원구\t노원구\t노원구\t노원구\n",
    "사용자로 부터 5자리 우편번호를 입력받고 구를 판별하라\n",
    "\n",
    ">> 우편번호: 01400\n",
    "도봉구"
   ]
  },
  {
   "cell_type": "code",
   "execution_count": 63,
   "id": "0755023c",
   "metadata": {
    "ExecuteTime": {
     "end_time": "2024-03-05T19:03:59.901909Z",
     "start_time": "2024-03-05T19:03:57.523115Z"
    }
   },
   "outputs": [
    {
     "name": "stdout",
     "output_type": "stream",
     "text": [
      "우편번호: 01345\n",
      "노원구\n"
     ]
    }
   ],
   "source": [
    "우편번호 = input(\"우편번호: \")\n",
    "우편번호 = 우편번호[:3]\n",
    "if 우편번호 in [\"010\", \"011\", \"012\"]:\n",
    "    print(\"강북구\")\n",
    "elif 우편번호 in [\"014\", \"015\", \"016\"]:\n",
    "    print(\"도봉구\")\n",
    "else:\n",
    "    print(\"노원구\")"
   ]
  },
  {
   "cell_type": "markdown",
   "id": "b3c1b9be",
   "metadata": {},
   "source": [
    "127\n",
    "주민등록번호 뒷 자리 7자리 중 첫째 자리는 성별을 나타내는데, 1, 3은 남자 2, 4는 여자를 의미한다. 사용자로부터 13자리의 주민등록번호를 입력 받은 후 성별 (남자, 여자)를 출력하는 프로그램을 작성하라.\n",
    "\n",
    ">> 주민등록번호: 821010-1635210\n",
    "남자"
   ]
  },
  {
   "cell_type": "code",
   "execution_count": 67,
   "id": "d590651b",
   "metadata": {
    "ExecuteTime": {
     "end_time": "2024-03-05T19:07:17.628624Z",
     "start_time": "2024-03-05T19:07:14.599800Z"
    }
   },
   "outputs": [
    {
     "name": "stdout",
     "output_type": "stream",
     "text": [
      "주민등록번호: 980423-202020\n",
      "여자\n"
     ]
    }
   ],
   "source": [
    "주민번호 =input(\"주민등록번호: \")\n",
    "주민등록번호 = 주민번호[8]\n",
    "if 주민등록번호== (\"1\" or \"3\"):\n",
    "    print(\"남자\")\n",
    "else:\n",
    "    print(\"여자\")"
   ]
  },
  {
   "cell_type": "markdown",
   "id": "16506143",
   "metadata": {},
   "source": [
    "128\n",
    "주민등록번호의 뒷 자리 7자리 중 두번째와 세번째는 지역코드를 의미한다.    \n",
    "주민 등록 번호를 입력 받은 후 출생지가 서울인지 아닌지 판단하는 코드를 작성하라       \n",
    "\n",
    "지역코드\t출생지          \n",
    "00 ~ 08\t서울         \n",
    "09 ~ 12\t부산"
   ]
  },
  {
   "cell_type": "code",
   "execution_count": 69,
   "id": "2f4d6d41",
   "metadata": {
    "ExecuteTime": {
     "end_time": "2024-03-05T19:10:15.096600Z",
     "start_time": "2024-03-05T19:09:55.724871Z"
    }
   },
   "outputs": [
    {
     "name": "stdout",
     "output_type": "stream",
     "text": [
      "주민등록번호: 980423-0091123\n",
      "부산\n"
     ]
    }
   ],
   "source": [
    "주민번호 = input(\"주민등록번호: \")\n",
    "출생지= 주민번호[9:11]\n",
    "if int(출생지)<=8:\n",
    "    print(\"서울\")\n",
    "else:\n",
    "    print(\"부산\")"
   ]
  },
  {
   "cell_type": "markdown",
   "id": "9d2ddceb",
   "metadata": {},
   "source": [
    "129\n",
    "주민등록번호는 13자리로 구성되는데 마지막 자리수는 주민등록번호의 유효성을 체크하는데 사용된다. 먼저 앞에서부터 12자리의 숫자에 2, 3, 4, 5, 6, 7, 8, 9, 2, 3, 4, 5를 차례로 곱한 뒤 그 값을 전부 더한다. 연산 결과 값을 11로 나누면 나머지가 나오는데 11에서 나머지를 뺀 값이 주민등록번호의 마지막 번호가 된다."
   ]
  },
  {
   "cell_type": "code",
   "execution_count": 73,
   "id": "b6882892",
   "metadata": {
    "ExecuteTime": {
     "end_time": "2024-03-05T19:15:29.261533Z",
     "start_time": "2024-03-05T19:15:25.254658Z"
    }
   },
   "outputs": [
    {
     "name": "stdout",
     "output_type": "stream",
     "text": [
      "주민등록번호: 821010-1635210\n",
      "유효하지 않은 주민번호입니다\n"
     ]
    }
   ],
   "source": [
    "num = input(\"주민등록번호: \")\n",
    "calc1 = int(num[0]) * 2 + int(num[1]) * 3 + int(num[2]) * 4 + int(num[3]) * 5 + int(num[4]) * 6 + \\\n",
    "        int(num[5]) * 7 + int(num[7]) * 8 + int(num[8]) * 9 + int(num[9]) * 2 + int(num[10])* 3 + \\\n",
    "        int(num[11])* 4 + int(num[12]) * 5\n",
    "calc2 = 11 - (calc1%11)\n",
    "calc3 = str(calc2)\n",
    "\n",
    "\n",
    "if num[-1]== calc3[-1]:\n",
    "    print(\"유효한 주민번호입니다.\")\n",
    "else:\n",
    "    print(\"유효하지 않은 주민번호입니다\")"
   ]
  },
  {
   "cell_type": "markdown",
   "id": "02e214d2",
   "metadata": {},
   "source": [
    "130\n",
    "아래 코드는 비트코인의 가격 정보를 딕셔너리로 가져오는 코드이다.       \n",
    "\n",
    "import requests      \n",
    "btc = requests.get(\"https://api.bithumb.com/public/ticker/\").json()['data']"
   ]
  },
  {
   "cell_type": "code",
   "execution_count": 74,
   "id": "d5800d38",
   "metadata": {
    "ExecuteTime": {
     "end_time": "2024-03-05T19:18:17.914768Z",
     "start_time": "2024-03-05T19:18:15.981899Z"
    }
   },
   "outputs": [],
   "source": [
    "import requests\n",
    "btc = requests.get(\"https://api.bithumb.com/public/ticker/\").json()['data']"
   ]
  },
  {
   "cell_type": "code",
   "execution_count": 78,
   "id": "cc421916",
   "metadata": {
    "ExecuteTime": {
     "end_time": "2024-03-05T19:21:26.900402Z",
     "start_time": "2024-03-05T19:21:26.895238Z"
    }
   },
   "outputs": [],
   "source": [
    "change= float(btc['max_price'])-float(btc['min_price'])\n",
    "open= float(btc['opening_price'])\n",
    "close= float(btc['closing_price'])\n",
    "max= float(btc['max_price'])"
   ]
  },
  {
   "cell_type": "code",
   "execution_count": 79,
   "id": "db7d2674",
   "metadata": {
    "ExecuteTime": {
     "end_time": "2024-03-05T19:21:47.373209Z",
     "start_time": "2024-03-05T19:21:47.369657Z"
    }
   },
   "outputs": [
    {
     "name": "stdout",
     "output_type": "stream",
     "text": [
      "상승장\n"
     ]
    }
   ],
   "source": [
    "if (open+change) > max:\n",
    "    print(\"상승장\")\n",
    "else:\n",
    "    print(\"하락장\")"
   ]
  },
  {
   "cell_type": "markdown",
   "id": "28ed04ea",
   "metadata": {},
   "source": [
    "131\n",
    "for문의 실행결과를 예측하라.\n",
    "\n",
    "과일 = [\"사과\", \"귤\", \"수박\"]\n",
    "for 변수 in 과일:\n",
    "    print(변수)"
   ]
  },
  {
   "cell_type": "code",
   "execution_count": 80,
   "id": "19a70c18",
   "metadata": {
    "ExecuteTime": {
     "end_time": "2024-03-05T19:22:41.400272Z",
     "start_time": "2024-03-05T19:22:41.396220Z"
    }
   },
   "outputs": [
    {
     "name": "stdout",
     "output_type": "stream",
     "text": [
      "사과\n",
      "귤\n",
      "수박\n"
     ]
    }
   ],
   "source": [
    "과일 = [\"사과\", \"귤\", \"수박\"]\n",
    "for 변수 in 과일:\n",
    "    print(변수)"
   ]
  },
  {
   "cell_type": "markdown",
   "id": "2c8ff0c7",
   "metadata": {},
   "source": [
    "132\n",
    "for문의 실행결과를 예측하라.\n",
    "\n",
    "과일 = [\"사과\", \"귤\", \"수박\"]\n",
    "for 변수 in 과일:\n",
    "  print(\"#####\")"
   ]
  },
  {
   "cell_type": "code",
   "execution_count": 81,
   "id": "ab314414",
   "metadata": {
    "ExecuteTime": {
     "end_time": "2024-03-05T19:22:53.475068Z",
     "start_time": "2024-03-05T19:22:53.471568Z"
    }
   },
   "outputs": [
    {
     "name": "stdout",
     "output_type": "stream",
     "text": [
      "#####\n",
      "#####\n",
      "#####\n"
     ]
    }
   ],
   "source": [
    "과일 = [\"사과\", \"귤\", \"수박\"]\n",
    "for 변수 in 과일:\n",
    "  print(\"#####\")"
   ]
  },
  {
   "cell_type": "markdown",
   "id": "699c2e43",
   "metadata": {},
   "source": [
    "133\n",
    "다음 for 문과 동일한 기능을 수행하는 코드를 작성하세요.\n",
    "\n",
    "for 변수 in [\"A\", \"B\", \"C\"]:\n",
    "  print(변수)"
   ]
  },
  {
   "cell_type": "code",
   "execution_count": 83,
   "id": "9c9428c4",
   "metadata": {
    "ExecuteTime": {
     "end_time": "2024-03-05T19:23:39.085620Z",
     "start_time": "2024-03-05T19:23:39.082113Z"
    }
   },
   "outputs": [
    {
     "name": "stdout",
     "output_type": "stream",
     "text": [
      "A\n",
      "B\n",
      "C\n"
     ]
    }
   ],
   "source": [
    "for 변수 in [\"A\", \"B\", \"C\"]:\n",
    "  print(변수)"
   ]
  },
  {
   "cell_type": "code",
   "execution_count": 82,
   "id": "50e9f5c5",
   "metadata": {
    "ExecuteTime": {
     "end_time": "2024-03-05T19:23:28.561368Z",
     "start_time": "2024-03-05T19:23:28.557345Z"
    }
   },
   "outputs": [
    {
     "name": "stdout",
     "output_type": "stream",
     "text": [
      "A\n",
      "B\n",
      "C\n"
     ]
    }
   ],
   "source": [
    "print(\"A\")\n",
    "print(\"B\")\n",
    "print(\"C\")"
   ]
  },
  {
   "cell_type": "markdown",
   "id": "89e08494",
   "metadata": {},
   "source": [
    "134\n",
    "for문을 풀어서 동일한 동작을하는 코드를 작성하라.\n",
    "\n",
    "for 변수 in [\"A\", \"B\", \"C\"]:\n",
    "  print(\"출력:\", 변수)"
   ]
  },
  {
   "cell_type": "code",
   "execution_count": 84,
   "id": "aba9a55a",
   "metadata": {
    "ExecuteTime": {
     "end_time": "2024-03-05T19:24:19.115031Z",
     "start_time": "2024-03-05T19:24:19.110407Z"
    }
   },
   "outputs": [
    {
     "name": "stdout",
     "output_type": "stream",
     "text": [
      "출력: A\n",
      "출력: B\n",
      "출력: C\n"
     ]
    }
   ],
   "source": [
    "for 변수 in [\"A\", \"B\", \"C\"]:\n",
    "  print(\"출력:\", 변수)"
   ]
  },
  {
   "cell_type": "code",
   "execution_count": 85,
   "id": "8d6643fb",
   "metadata": {
    "ExecuteTime": {
     "end_time": "2024-03-05T19:24:25.368595Z",
     "start_time": "2024-03-05T19:24:25.364796Z"
    }
   },
   "outputs": [
    {
     "name": "stdout",
     "output_type": "stream",
     "text": [
      "출력: A\n",
      "출력: B\n",
      "출력: C\n"
     ]
    }
   ],
   "source": [
    "print(\"출력:\", \"A\")\n",
    "print(\"출력:\", \"B\")\n",
    "print(\"출력:\", \"C\")"
   ]
  },
  {
   "cell_type": "markdown",
   "id": "49573a12",
   "metadata": {},
   "source": [
    "135\n",
    "for문을 풀어서 동일한 동작을 하는 코드를 작성하라.       \n",
    "\n",
    "for 변수 in [\"A\", \"B\", \"C\"]:     \n",
    "  b = 변수.lower()       \n",
    "  print(\"변환:\", b)      "
   ]
  },
  {
   "cell_type": "code",
   "execution_count": 88,
   "id": "4a707b6c",
   "metadata": {
    "ExecuteTime": {
     "end_time": "2024-03-05T19:25:10.246437Z",
     "start_time": "2024-03-05T19:25:10.241698Z"
    }
   },
   "outputs": [
    {
     "name": "stdout",
     "output_type": "stream",
     "text": [
      "변환: a\n",
      "변환: b\n",
      "변환: c\n"
     ]
    }
   ],
   "source": [
    "for 변수 in [\"A\", \"B\", \"C\"]:\n",
    "    b = 변수.lower()\n",
    "    print(\"변환:\", b)"
   ]
  },
  {
   "cell_type": "code",
   "execution_count": 86,
   "id": "3634032b",
   "metadata": {
    "ExecuteTime": {
     "end_time": "2024-03-05T19:24:50.589600Z",
     "start_time": "2024-03-05T19:24:50.583675Z"
    }
   },
   "outputs": [
    {
     "name": "stdout",
     "output_type": "stream",
     "text": [
      "변환: a\n",
      "변환: b\n",
      "변환: c\n"
     ]
    }
   ],
   "source": [
    "변수 = \"A\"\n",
    "b = 변수.lower()\n",
    "print(\"변환:\", b)\n",
    "변수 = \"B\"\n",
    "b = 변수.lower()\n",
    "print(\"변환:\", b)\n",
    "변수 = \"C\"\n",
    "b = 변수.lower()\n",
    "print(\"변환:\", b)"
   ]
  },
  {
   "cell_type": "markdown",
   "id": "ce7109bd",
   "metadata": {},
   "source": [
    "136  \n",
    "다음 코드를 for문으로 작성하라.       \n",
    "\n",
    "변수 = 10    \n",
    "print(변수)   \n",
    "변수 = 20    \n",
    "print(변수)  \n",
    "변수 = 30    \n",
    "print(변수)     "
   ]
  },
  {
   "cell_type": "code",
   "execution_count": 89,
   "id": "1e176793",
   "metadata": {
    "ExecuteTime": {
     "end_time": "2024-03-05T19:26:02.831071Z",
     "start_time": "2024-03-05T19:26:02.826883Z"
    }
   },
   "outputs": [
    {
     "name": "stdout",
     "output_type": "stream",
     "text": [
      "10\n",
      "20\n",
      "30\n"
     ]
    }
   ],
   "source": [
    "for 변수 in [10, 20, 30]:\n",
    "  print(변수)"
   ]
  },
  {
   "cell_type": "markdown",
   "id": "09c5bafe",
   "metadata": {},
   "source": [
    "137\n",
    "다음 코드를 for문으로 작성하라.\n",
    "\n",
    "print(10)\n",
    "print(20)\n",
    "print(30)"
   ]
  },
  {
   "cell_type": "code",
   "execution_count": 90,
   "id": "46b3914f",
   "metadata": {
    "ExecuteTime": {
     "end_time": "2024-03-05T19:26:27.216612Z",
     "start_time": "2024-03-05T19:26:27.213560Z"
    }
   },
   "outputs": [
    {
     "name": "stdout",
     "output_type": "stream",
     "text": [
      "10\n",
      "20\n",
      "30\n"
     ]
    }
   ],
   "source": [
    "for 변수 in [10, 20, 30]:\n",
    "  print(변수)"
   ]
  },
  {
   "cell_type": "markdown",
   "id": "2602e9b3",
   "metadata": {},
   "source": [
    "138\n",
    "다음 코드를 for문으로 작성하라.\n",
    "\n",
    "print(10)\n",
    "print(\"-------\")\n",
    "print(20)\n",
    "print(\"-------\")\n",
    "print(30)\n",
    "print(\"-------\")"
   ]
  },
  {
   "cell_type": "code",
   "execution_count": 91,
   "id": "9f842ec1",
   "metadata": {
    "ExecuteTime": {
     "end_time": "2024-03-05T19:26:47.153882Z",
     "start_time": "2024-03-05T19:26:47.149731Z"
    }
   },
   "outputs": [
    {
     "name": "stdout",
     "output_type": "stream",
     "text": [
      "10\n",
      "-------\n",
      "20\n",
      "-------\n",
      "30\n",
      "-------\n"
     ]
    }
   ],
   "source": [
    "for 변수 in [10, 20, 30]:\n",
    "  print(변수)\n",
    "  print(\"-------\")"
   ]
  },
  {
   "cell_type": "markdown",
   "id": "6750e535",
   "metadata": {},
   "source": [
    "139\n",
    "다음 코드를 for문으로 작성하라.\n",
    "\n",
    "print(\"++++\")\n",
    "print(10)\n",
    "print(20)\n",
    "print(30)"
   ]
  },
  {
   "cell_type": "code",
   "execution_count": 92,
   "id": "a34ac5e0",
   "metadata": {
    "ExecuteTime": {
     "end_time": "2024-03-05T19:27:04.255156Z",
     "start_time": "2024-03-05T19:27:04.250131Z"
    }
   },
   "outputs": [
    {
     "name": "stdout",
     "output_type": "stream",
     "text": [
      "++++\n",
      "10\n",
      "20\n",
      "30\n"
     ]
    }
   ],
   "source": [
    "print(\"++++\")\n",
    "for 변수 in [10, 20, 30]:\n",
    "  print(변수)"
   ]
  },
  {
   "cell_type": "markdown",
   "id": "aad2f4ee",
   "metadata": {
    "ExecuteTime": {
     "end_time": "2024-03-05T19:27:12.909158Z",
     "start_time": "2024-03-05T19:27:12.896382Z"
    }
   },
   "source": [
    "140\n",
    "다음 코드를 for문으로 작성하라.\n",
    "\n",
    "print(\"-------\")\n",
    "print(\"-------\")\n",
    "print(\"-------\")\n",
    "print(\"-------\")"
   ]
  },
  {
   "cell_type": "code",
   "execution_count": 94,
   "id": "5f99bb85",
   "metadata": {
    "ExecuteTime": {
     "end_time": "2024-03-05T19:27:33.821125Z",
     "start_time": "2024-03-05T19:27:33.817347Z"
    }
   },
   "outputs": [
    {
     "name": "stdout",
     "output_type": "stream",
     "text": [
      "--------\n",
      "--------\n",
      "--------\n",
      "--------\n"
     ]
    }
   ],
   "source": [
    "for i in range(4):\n",
    "    print(\"--------\")"
   ]
  },
  {
   "cell_type": "markdown",
   "id": "cfd1e7fc",
   "metadata": {},
   "source": [
    "141\n",
    "다음과 같이 판매가가 저장된 리스트가 있을 때 부가세가 포함된 가격을 for 문을 사용해서 화면에 출력하라. 단 부가세는 10원으로 가정한다.\n",
    "\n",
    "리스트 = [100, 200, 300]       \n",
    "110\n",
    "210\n",
    "310"
   ]
  },
  {
   "cell_type": "code",
   "execution_count": 1,
   "id": "f51457e4",
   "metadata": {
    "ExecuteTime": {
     "end_time": "2024-03-05T19:29:48.559277Z",
     "start_time": "2024-03-05T19:29:48.554743Z"
    }
   },
   "outputs": [
    {
     "name": "stdout",
     "output_type": "stream",
     "text": [
      "110\n",
      "210\n",
      "310\n"
     ]
    }
   ],
   "source": [
    "list= [100,200,300]\n",
    "for i in list:\n",
    "    print(i+10)"
   ]
  },
  {
   "cell_type": "markdown",
   "id": "d9f0a5fa",
   "metadata": {},
   "source": [
    "142  \n",
    "for 문을 사용해서 리스트에 저장된 값을 다음과 같이 출력하라.\n",
    "\n",
    "리스트 = [\"김밥\", \"라면\", \"튀김\"]        \n",
    "오늘의 메뉴: 김밥        \n",
    "오늘의 메뉴: 라면       \n",
    "오늘의 메뉴: 튀김       "
   ]
  },
  {
   "cell_type": "code",
   "execution_count": 3,
   "id": "d814e80c",
   "metadata": {
    "ExecuteTime": {
     "end_time": "2024-03-05T19:30:52.483289Z",
     "start_time": "2024-03-05T19:30:52.478829Z"
    }
   },
   "outputs": [
    {
     "name": "stdout",
     "output_type": "stream",
     "text": [
      "오늘의 메뉴:김밥\n",
      "오늘의 메뉴:라면\n",
      "오늘의 메뉴:튀김\n"
     ]
    }
   ],
   "source": [
    "menu = [\"김밥\", \"라면\", \"튀김\"]\n",
    "for i in menu:\n",
    "    print(\"오늘의 메뉴:\"+i)"
   ]
  },
  {
   "cell_type": "markdown",
   "id": "9b7f7d4b",
   "metadata": {},
   "source": [
    "143\n",
    "리스트에 주식 종목이름이 저장돼 있다.\n",
    "\n",
    "리스트 = [\"SK하이닉스\", \"삼성전자\", \"LG전자\"]       \n",
    "저장된 문자열의 길이를 다음과 같이 출력하라.  \n",
    "\n",
    "6    \n",
    "4     \n",
    "4      "
   ]
  },
  {
   "cell_type": "code",
   "execution_count": 4,
   "id": "bb04a471",
   "metadata": {
    "ExecuteTime": {
     "end_time": "2024-03-05T19:31:50.046324Z",
     "start_time": "2024-03-05T19:31:50.042402Z"
    }
   },
   "outputs": [
    {
     "name": "stdout",
     "output_type": "stream",
     "text": [
      "6\n",
      "4\n",
      "4\n"
     ]
    }
   ],
   "source": [
    "stock = [\"SK하이닉스\",\"삼성전자\",\"LG전자\"]\n",
    "for i in stock:\n",
    "    print(len(i))"
   ]
  },
  {
   "cell_type": "markdown",
   "id": "c45c5ad5",
   "metadata": {},
   "source": [
    "144\n",
    "리스트에는 동물이름이 문자열로 저장돼 있다.       \n",
    "\n",
    "리스트 = ['dog', 'cat', 'parrot']        \n",
    "동물 이름과 글자수를 다음과 같이 출력하라.\n",
    "\n",
    "dog 3\n",
    "cat 3\n",
    "parrot 6"
   ]
  },
  {
   "cell_type": "code",
   "execution_count": 5,
   "id": "75b24d65",
   "metadata": {
    "ExecuteTime": {
     "end_time": "2024-03-05T19:32:44.635657Z",
     "start_time": "2024-03-05T19:32:44.631210Z"
    }
   },
   "outputs": [
    {
     "name": "stdout",
     "output_type": "stream",
     "text": [
      "dog 3\n",
      "cat 3\n",
      "parrot 6\n"
     ]
    }
   ],
   "source": [
    "animal = ['dog', 'cat', 'parrot']\n",
    "for i in animal:\n",
    "    print(i,len(i))"
   ]
  },
  {
   "cell_type": "markdown",
   "id": "a469e07e",
   "metadata": {},
   "source": [
    "145\n",
    "리스트에 동물 이름 저장돼 있다.\n",
    "\n",
    "리스트 = ['dog', 'cat', 'parrot']       \n",
    "for문을 사용해서 동물 이름의 첫 글자만 출력하라.\n",
    "\n",
    "d\n",
    "c\n",
    "p"
   ]
  },
  {
   "cell_type": "code",
   "execution_count": 6,
   "id": "88e87ae0",
   "metadata": {
    "ExecuteTime": {
     "end_time": "2024-03-05T19:33:24.224142Z",
     "start_time": "2024-03-05T19:33:24.220638Z"
    }
   },
   "outputs": [
    {
     "name": "stdout",
     "output_type": "stream",
     "text": [
      "d\n",
      "c\n",
      "p\n"
     ]
    }
   ],
   "source": [
    "for i in animal:\n",
    "    print(i[0])"
   ]
  },
  {
   "cell_type": "markdown",
   "id": "e361db9d",
   "metadata": {},
   "source": [
    "146\n",
    "리스트에는 세 개의 숫자가 바인딩돼 있다.\n",
    "\n",
    "리스트 = [1, 2, 3]        \n",
    "for문을 사용해서 다음과 같이 출력하라.       \n",
    "\n",
    "3 x 1     \n",
    "3 x 2          \n",
    "3 x 3 "
   ]
  },
  {
   "cell_type": "code",
   "execution_count": 8,
   "id": "634bab41",
   "metadata": {
    "ExecuteTime": {
     "end_time": "2024-03-05T19:34:25.974594Z",
     "start_time": "2024-03-05T19:34:25.970102Z"
    }
   },
   "outputs": [
    {
     "name": "stdout",
     "output_type": "stream",
     "text": [
      "3 x 1\n",
      "3 x 2\n",
      "3 x 3\n"
     ]
    }
   ],
   "source": [
    "num=[1,2,3]\n",
    "for i in num:\n",
    "    print(\"3 x\", i)"
   ]
  },
  {
   "cell_type": "markdown",
   "id": "822c2631",
   "metadata": {},
   "source": [
    "147\n",
    "리스트에는 세 개의 숫자가 바인딩돼 있다.       \n",
    " \n",
    "리스트 = [1, 2, 3]      \n",
    "for문을 사용해서 다음과 같이 출력하라.        \n",
    "\n",
    "3 x 1 = 3       \n",
    "3 x 2 = 6       \n",
    "3 x 3 = 9       "
   ]
  },
  {
   "cell_type": "code",
   "execution_count": 9,
   "id": "053fc66c",
   "metadata": {
    "ExecuteTime": {
     "end_time": "2024-03-05T19:35:24.728379Z",
     "start_time": "2024-03-05T19:35:24.724469Z"
    }
   },
   "outputs": [
    {
     "name": "stdout",
     "output_type": "stream",
     "text": [
      "3 x 1 = 3\n",
      "3 x 2 = 6\n",
      "3 x 3 = 9\n"
     ]
    }
   ],
   "source": [
    "for i in num:\n",
    "    print(\"3 x\", i, \"=\", i*3)"
   ]
  },
  {
   "cell_type": "markdown",
   "id": "75e6ab3c",
   "metadata": {},
   "source": [
    "148   \n",
    "리스트에는 네 개의 문자열이 바인딩돼 있다.        \n",
    " \n",
    "리스트 = [\"가\", \"나\", \"다\", \"라\"]      \n",
    "for문을 사용해서 다음과 같이 출력하라.        \n",
    " \n",
    "나    \n",
    "다    \n",
    "라  "
   ]
  },
  {
   "cell_type": "code",
   "execution_count": 11,
   "id": "f72a844e",
   "metadata": {
    "ExecuteTime": {
     "end_time": "2024-03-05T19:36:53.009799Z",
     "start_time": "2024-03-05T19:36:53.005486Z"
    }
   },
   "outputs": [
    {
     "name": "stdout",
     "output_type": "stream",
     "text": [
      "나\n",
      "다\n",
      "라\n"
     ]
    }
   ],
   "source": [
    "kor= [\"가\", \"나\", \"다\", \"라\"]\n",
    "for i in kor[1:]:\n",
    "    print (i)"
   ]
  },
  {
   "cell_type": "markdown",
   "id": "6d09383f",
   "metadata": {},
   "source": [
    "149\n",
    "리스트에는 네 개의 문자열이 바인딩돼 있다.\n",
    "\n",
    "리스트 = [\"가\", \"나\", \"다\", \"라\"]\n",
    "for문을 사용해서 다음과 같이 출력하라.\n",
    "\n",
    "가\n",
    "다"
   ]
  },
  {
   "cell_type": "code",
   "execution_count": 12,
   "id": "5bbfa109",
   "metadata": {
    "ExecuteTime": {
     "end_time": "2024-03-05T19:37:27.174398Z",
     "start_time": "2024-03-05T19:37:27.169413Z"
    }
   },
   "outputs": [
    {
     "name": "stdout",
     "output_type": "stream",
     "text": [
      "가\n",
      "다\n"
     ]
    }
   ],
   "source": [
    "for i in kor[::2]:\n",
    "    print(i)"
   ]
  },
  {
   "cell_type": "markdown",
   "id": "3e6484cd",
   "metadata": {},
   "source": [
    "150\n",
    "리스트에는 네 개의 문자열이 바인딩돼 있다.\n",
    "\n",
    "리스트 = [\"가\", \"나\", \"다\", \"라\"]\n",
    "for문을 사용해서 다음과 같이 출력하라.\n",
    "\n",
    "라\n",
    "다\n",
    "나\n",
    "가"
   ]
  },
  {
   "cell_type": "code",
   "execution_count": 13,
   "id": "4444ea4a",
   "metadata": {
    "ExecuteTime": {
     "end_time": "2024-03-05T19:38:08.199051Z",
     "start_time": "2024-03-05T19:38:08.194833Z"
    }
   },
   "outputs": [
    {
     "name": "stdout",
     "output_type": "stream",
     "text": [
      "라\n",
      "다\n",
      "나\n",
      "가\n"
     ]
    }
   ],
   "source": [
    "for i in kor[::-1]:\n",
    "    print(i)"
   ]
  },
  {
   "cell_type": "code",
   "execution_count": null,
   "id": "f04a2a20",
   "metadata": {},
   "outputs": [],
   "source": []
  },
  {
   "cell_type": "code",
   "execution_count": null,
   "id": "47a74012",
   "metadata": {},
   "outputs": [],
   "source": []
  }
 ],
 "metadata": {
  "kernelspec": {
   "display_name": "Python 3 (ipykernel)",
   "language": "python",
   "name": "python3"
  },
  "language_info": {
   "codemirror_mode": {
    "name": "ipython",
    "version": 3
   },
   "file_extension": ".py",
   "mimetype": "text/x-python",
   "name": "python",
   "nbconvert_exporter": "python",
   "pygments_lexer": "ipython3",
   "version": "3.11.5"
  },
  "toc": {
   "base_numbering": 1,
   "nav_menu": {},
   "number_sections": true,
   "sideBar": true,
   "skip_h1_title": false,
   "title_cell": "Table of Contents",
   "title_sidebar": "Contents",
   "toc_cell": false,
   "toc_position": {},
   "toc_section_display": true,
   "toc_window_display": false
  }
 },
 "nbformat": 4,
 "nbformat_minor": 5
}
