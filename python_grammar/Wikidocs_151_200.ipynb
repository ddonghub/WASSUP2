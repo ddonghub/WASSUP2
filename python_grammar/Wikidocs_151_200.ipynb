{
 "cells": [
  {
   "cell_type": "markdown",
   "id": "13f86a19",
   "metadata": {},
   "source": [
    "151\n",
    "리스트에는 네 개의 정수가 저장돼 있다.\n",
    "\n",
    "리스트 = [3, -20, -3, 44]\n",
    "for문을 사용해서 리스트의 음수를 출력하라.\n",
    "\n",
    "-20\n",
    "-3"
   ]
  },
  {
   "cell_type": "code",
   "execution_count": 19,
   "id": "b87b166a",
   "metadata": {
    "ExecuteTime": {
     "end_time": "2024-03-06T08:42:28.452783Z",
     "start_time": "2024-03-06T08:42:28.446731Z"
    }
   },
   "outputs": [
    {
     "name": "stdout",
     "output_type": "stream",
     "text": [
      "-20\n",
      "-3\n"
     ]
    }
   ],
   "source": [
    "numlist=[3,-20,-3,44]\n",
    "for i in numlist:\n",
    "    if i<0:\n",
    "        print(i)"
   ]
  },
  {
   "cell_type": "markdown",
   "id": "3fc8782f",
   "metadata": {},
   "source": [
    "152\n",
    "for문을 사용해서 3의 배수만을 출력하라.\n",
    "\n",
    "리스트 = [3, 100, 23, 44]"
   ]
  },
  {
   "cell_type": "code",
   "execution_count": 20,
   "id": "66ec155f",
   "metadata": {
    "ExecuteTime": {
     "end_time": "2024-03-06T08:43:20.647999Z",
     "start_time": "2024-03-06T08:43:20.642937Z"
    }
   },
   "outputs": [
    {
     "name": "stdout",
     "output_type": "stream",
     "text": [
      "3\n"
     ]
    }
   ],
   "source": [
    "numlist=[3,100,23,44]\n",
    "for i in numlist:\n",
    "    if i%3==0:\n",
    "        print(i)"
   ]
  },
  {
   "cell_type": "markdown",
   "id": "aea378cf",
   "metadata": {},
   "source": [
    "153\n",
    "리스트에서 20 보다 작은 3의 배수를 출력하라\n",
    "\n",
    "리스트 = [13, 21, 12, 14, 30, 18]"
   ]
  },
  {
   "cell_type": "code",
   "execution_count": 21,
   "id": "5b49bab1",
   "metadata": {
    "ExecuteTime": {
     "end_time": "2024-03-06T08:44:46.623209Z",
     "start_time": "2024-03-06T08:44:46.617989Z"
    }
   },
   "outputs": [
    {
     "name": "stdout",
     "output_type": "stream",
     "text": [
      "12\n",
      "18\n"
     ]
    }
   ],
   "source": [
    "numnum = [13, 21, 12, 14, 30, 18]\n",
    "for i in numnum:\n",
    "    if i<20 and i%3==0:\n",
    "        print(i)"
   ]
  },
  {
   "cell_type": "markdown",
   "id": "d476acf2",
   "metadata": {},
   "source": [
    "154\n",
    "리스트에서 세 글자 이상의 문자를 화면에 출력하라\n",
    "\n",
    "리스트 = [\"I\", \"study\", \"python\", \"language\", \"!\"]"
   ]
  },
  {
   "cell_type": "code",
   "execution_count": 22,
   "id": "3f394522",
   "metadata": {
    "ExecuteTime": {
     "end_time": "2024-03-06T08:45:20.347777Z",
     "start_time": "2024-03-06T08:45:20.343086Z"
    }
   },
   "outputs": [
    {
     "name": "stdout",
     "output_type": "stream",
     "text": [
      "study\n",
      "python\n",
      "language\n"
     ]
    }
   ],
   "source": [
    "words = [\"I\", \"study\", \"python\", \"language\", \"!\"]\n",
    "for i in words:\n",
    "    if len(i)>=3:\n",
    "        print(i)"
   ]
  },
  {
   "cell_type": "markdown",
   "id": "d6cabbca",
   "metadata": {},
   "source": [
    "155 리스트에서 대문자만 화면에 출력하라.\n",
    "\n",
    "리스트 = [\"A\", \"b\", \"c\", \"D\"]"
   ]
  },
  {
   "cell_type": "code",
   "execution_count": 25,
   "id": "90b5b450",
   "metadata": {
    "ExecuteTime": {
     "end_time": "2024-03-06T08:46:54.001509Z",
     "start_time": "2024-03-06T08:46:53.994443Z"
    }
   },
   "outputs": [
    {
     "name": "stdout",
     "output_type": "stream",
     "text": [
      "A\n",
      "D\n"
     ]
    }
   ],
   "source": [
    "alphabet =[\"A\", \"b\", \"c\", \"D\"]\n",
    "for i in alphabet:\n",
    "    if i.isupper()==True:\n",
    "        print(i)"
   ]
  },
  {
   "cell_type": "markdown",
   "id": "5604a15b",
   "metadata": {},
   "source": [
    "156 리스트에서 소문자만 화면에 출력하라."
   ]
  },
  {
   "cell_type": "code",
   "execution_count": 26,
   "id": "0c9e68dd",
   "metadata": {
    "ExecuteTime": {
     "end_time": "2024-03-06T08:47:19.526146Z",
     "start_time": "2024-03-06T08:47:19.519037Z"
    }
   },
   "outputs": [
    {
     "name": "stdout",
     "output_type": "stream",
     "text": [
      "b\n",
      "c\n"
     ]
    }
   ],
   "source": [
    "alphabet =[\"A\", \"b\", \"c\", \"D\"]\n",
    "for i in alphabet:\n",
    "    if i.isupper()==False:\n",
    "        print(i)"
   ]
  },
  {
   "cell_type": "markdown",
   "id": "1b7cd7e8",
   "metadata": {},
   "source": [
    "157\n",
    "이름의 첫 글자를 대문자로 변경해서 출력하라.\n",
    "\n",
    "리스트 = ['dog', 'cat', 'parrot']"
   ]
  },
  {
   "cell_type": "code",
   "execution_count": 27,
   "id": "cadd9f91",
   "metadata": {
    "ExecuteTime": {
     "end_time": "2024-03-06T08:48:51.803794Z",
     "start_time": "2024-03-06T08:48:51.797084Z"
    }
   },
   "outputs": [
    {
     "name": "stdout",
     "output_type": "stream",
     "text": [
      "Dog\n",
      "Cat\n",
      "Parrot\n"
     ]
    }
   ],
   "source": [
    "animal = ['dog', 'cat', 'parrot']\n",
    "for i in animal:\n",
    "    capital=i[0];\n",
    "    rest=i[1:];\n",
    "    print(capital.upper()+rest)"
   ]
  },
  {
   "cell_type": "markdown",
   "id": "63f3f852",
   "metadata": {},
   "source": [
    "158 파일 이름이 저장된 리스트에서 확장자를 제거하고 파일 이름만 화면에 출력하라. (힌트: split() 메서드)\n",
    "\n",
    "리스트 = ['hello.py', 'ex01.py', 'intro.hwp']"
   ]
  },
  {
   "cell_type": "code",
   "execution_count": 30,
   "id": "a9c72eb4",
   "metadata": {
    "ExecuteTime": {
     "end_time": "2024-03-06T08:50:42.653450Z",
     "start_time": "2024-03-06T08:50:42.647529Z"
    }
   },
   "outputs": [
    {
     "name": "stdout",
     "output_type": "stream",
     "text": [
      "hello\n",
      "ex01\n",
      "intro\n"
     ]
    }
   ],
   "source": [
    "files = ['hello.py', 'ex01.py', 'intro.hwp']\n",
    "for i in files:\n",
    "    name=i.split(\".\")\n",
    "    print(name[0])"
   ]
  },
  {
   "cell_type": "markdown",
   "id": "b4698b75",
   "metadata": {},
   "source": [
    "159 파일 이름이 저장된 리스트에서 확장자가 .h인 파일 이름을 출력하라.\n",
    "\n",
    "리스트 = ['intra.h', 'intra.c', 'define.h', 'run.py']        \n",
    " \n",
    "intra.h\n",
    "define.h"
   ]
  },
  {
   "cell_type": "code",
   "execution_count": 34,
   "id": "0b9a9afd",
   "metadata": {
    "ExecuteTime": {
     "end_time": "2024-03-06T08:52:09.864758Z",
     "start_time": "2024-03-06T08:52:09.859814Z"
    }
   },
   "outputs": [
    {
     "name": "stdout",
     "output_type": "stream",
     "text": [
      "intra.h\n",
      "define.h\n"
     ]
    }
   ],
   "source": [
    "file= ['intra.h', 'intra.c', 'define.h', 'run.py']\n",
    "for i in file:\n",
    "    names=i.split(\".\")\n",
    "    if names[1]=='h':\n",
    "        print(i)"
   ]
  },
  {
   "cell_type": "code",
   "execution_count": null,
   "id": "1f733cb6",
   "metadata": {},
   "outputs": [],
   "source": [
    "160\n",
    "파일 이름이 저장된 리스트에서 확장자가 .h나 .c인 파일을 화면에 출력하라.\n",
    "\n",
    "리스트 = ['intra.h', 'intra.c', 'define.h', 'run.py']"
   ]
  },
  {
   "cell_type": "code",
   "execution_count": 37,
   "id": "c5ebe5c0",
   "metadata": {
    "ExecuteTime": {
     "end_time": "2024-03-06T08:53:17.661205Z",
     "start_time": "2024-03-06T08:53:17.656121Z"
    }
   },
   "outputs": [
    {
     "name": "stdout",
     "output_type": "stream",
     "text": [
      "intra.h\n",
      "intra.c\n",
      "define.h\n"
     ]
    }
   ],
   "source": [
    "file= ['intra.h', 'intra.c', 'define.h', 'run.py']\n",
    "for i in file:\n",
    "    names=i.split(\".\")\n",
    "    if names[1]=='h' or names[1]=='c':\n",
    "        print(i)"
   ]
  },
  {
   "attachments": {},
   "cell_type": "markdown",
   "id": "5dd064d0",
   "metadata": {},
   "source": [
    "161\n",
    "for문과 range 구문을 사용해서 0~99까지 한 라인에 하나씩 순차적으로 출력하는 프로그램을 작성하라."
   ]
  },
  {
   "cell_type": "code",
   "execution_count": 1,
   "id": "f8907f33",
   "metadata": {
    "ExecuteTime": {
     "end_time": "2024-03-06T08:30:59.022274Z",
     "start_time": "2024-03-06T08:30:59.013865Z"
    }
   },
   "outputs": [
    {
     "name": "stdout",
     "output_type": "stream",
     "text": [
      "0\n",
      "1\n",
      "2\n",
      "3\n",
      "4\n",
      "5\n",
      "6\n",
      "7\n",
      "8\n",
      "9\n",
      "10\n",
      "11\n",
      "12\n",
      "13\n",
      "14\n",
      "15\n",
      "16\n",
      "17\n",
      "18\n",
      "19\n",
      "20\n",
      "21\n",
      "22\n",
      "23\n",
      "24\n",
      "25\n",
      "26\n",
      "27\n",
      "28\n",
      "29\n",
      "30\n",
      "31\n",
      "32\n",
      "33\n",
      "34\n",
      "35\n",
      "36\n",
      "37\n",
      "38\n",
      "39\n",
      "40\n",
      "41\n",
      "42\n",
      "43\n",
      "44\n",
      "45\n",
      "46\n",
      "47\n",
      "48\n",
      "49\n",
      "50\n",
      "51\n",
      "52\n",
      "53\n",
      "54\n",
      "55\n",
      "56\n",
      "57\n",
      "58\n",
      "59\n",
      "60\n",
      "61\n",
      "62\n",
      "63\n",
      "64\n",
      "65\n",
      "66\n",
      "67\n",
      "68\n",
      "69\n",
      "70\n",
      "71\n",
      "72\n",
      "73\n",
      "74\n",
      "75\n",
      "76\n",
      "77\n",
      "78\n",
      "79\n",
      "80\n",
      "81\n",
      "82\n",
      "83\n",
      "84\n",
      "85\n",
      "86\n",
      "87\n",
      "88\n",
      "89\n",
      "90\n",
      "91\n",
      "92\n",
      "93\n",
      "94\n",
      "95\n",
      "96\n",
      "97\n",
      "98\n",
      "99\n"
     ]
    }
   ],
   "source": [
    "for i in range(100):\n",
    "    print(i)"
   ]
  },
  {
   "cell_type": "markdown",
   "id": "58c1c2c9",
   "metadata": {},
   "source": [
    "162\n",
    "월드컵은 4년에 한 번 개최된다. range()를 사용하여 2002~2050년까지 중 월드컵이 개최되는 연도를 출력하라."
   ]
  },
  {
   "cell_type": "code",
   "execution_count": 2,
   "id": "5a92227a",
   "metadata": {
    "ExecuteTime": {
     "end_time": "2024-03-06T08:31:59.736985Z",
     "start_time": "2024-03-06T08:31:59.731081Z"
    }
   },
   "outputs": [
    {
     "name": "stdout",
     "output_type": "stream",
     "text": [
      "2002\n",
      "2006\n",
      "2010\n",
      "2014\n",
      "2018\n",
      "2022\n",
      "2026\n",
      "2030\n",
      "2034\n",
      "2038\n",
      "2042\n",
      "2046\n",
      "2050\n"
     ]
    }
   ],
   "source": [
    "for i in range(2002,2051,4):\n",
    "        print(i)"
   ]
  },
  {
   "cell_type": "markdown",
   "id": "05a313bb",
   "metadata": {},
   "source": [
    "163\n",
    "1부터 30까지의 숫자 중 3의 배수를 출력하라."
   ]
  },
  {
   "cell_type": "code",
   "execution_count": 3,
   "id": "d5cea1d4",
   "metadata": {
    "ExecuteTime": {
     "end_time": "2024-03-06T08:32:37.907086Z",
     "start_time": "2024-03-06T08:32:37.902781Z"
    }
   },
   "outputs": [
    {
     "name": "stdout",
     "output_type": "stream",
     "text": [
      "3\n",
      "6\n",
      "9\n",
      "12\n",
      "15\n",
      "18\n",
      "21\n",
      "24\n",
      "27\n",
      "30\n"
     ]
    }
   ],
   "source": [
    "for i in range(3,31,3):\n",
    "    print(i)"
   ]
  },
  {
   "cell_type": "markdown",
   "id": "77695d2d",
   "metadata": {},
   "source": [
    "165\n",
    "for문을 사용해서 아래와 같이 출력하라.\n",
    "0.0\n",
    "0.1\n",
    "0.2\n",
    "0.3\n",
    "0.4\n",
    "0.5\n",
    "...\n",
    "0.9"
   ]
  },
  {
   "cell_type": "code",
   "execution_count": 4,
   "id": "a39228cc",
   "metadata": {
    "ExecuteTime": {
     "end_time": "2024-03-06T08:33:35.116947Z",
     "start_time": "2024-03-06T08:33:35.111136Z"
    }
   },
   "outputs": [
    {
     "name": "stdout",
     "output_type": "stream",
     "text": [
      "0.0\n",
      "0.1\n",
      "0.2\n",
      "0.3\n",
      "0.4\n",
      "0.5\n",
      "0.6\n",
      "0.7\n",
      "0.8\n",
      "0.9\n"
     ]
    }
   ],
   "source": [
    "for i in range(10):\n",
    "    print(i/10)"
   ]
  },
  {
   "cell_type": "markdown",
   "id": "8bb3411c",
   "metadata": {},
   "source": [
    "166\n",
    "구구단 3단을 출력하라.\n",
    "\n",
    "3x1 = 3\n",
    "3x2 = 6\n",
    "3x3 = 9\n",
    "3x4 = 12\n",
    "3x5 = 15\n",
    "3x6 = 18\n",
    "3x7 = 21\n",
    "3x8 = 24\n",
    "3x9 = 27"
   ]
  },
  {
   "cell_type": "code",
   "execution_count": 7,
   "id": "cf05f24c",
   "metadata": {
    "ExecuteTime": {
     "end_time": "2024-03-06T08:34:27.589210Z",
     "start_time": "2024-03-06T08:34:27.582614Z"
    }
   },
   "outputs": [
    {
     "name": "stdout",
     "output_type": "stream",
     "text": [
      "3x 1 = 3\n",
      "3x 2 = 6\n",
      "3x 3 = 9\n",
      "3x 4 = 12\n",
      "3x 5 = 15\n",
      "3x 6 = 18\n",
      "3x 7 = 21\n",
      "3x 8 = 24\n",
      "3x 9 = 27\n"
     ]
    }
   ],
   "source": [
    "for i in range(1,10):\n",
    "    print(\"3x\",i,\"=\",3*i)"
   ]
  },
  {
   "cell_type": "markdown",
   "id": "2c06f823",
   "metadata": {},
   "source": [
    "167\n",
    "구구단 3단을 출력하라. 단 홀수 번째만 출력한다."
   ]
  },
  {
   "cell_type": "code",
   "execution_count": 8,
   "id": "c97ef9d6",
   "metadata": {
    "ExecuteTime": {
     "end_time": "2024-03-06T08:35:13.249356Z",
     "start_time": "2024-03-06T08:35:13.244522Z"
    }
   },
   "outputs": [
    {
     "name": "stdout",
     "output_type": "stream",
     "text": [
      "3x 1 = 3\n",
      "3x 3 = 9\n",
      "3x 5 = 15\n",
      "3x 7 = 21\n",
      "3x 9 = 27\n"
     ]
    }
   ],
   "source": [
    "for i in range(1,10,2):\n",
    "    print(\"3x\",i,\"=\",3*i)"
   ]
  },
  {
   "cell_type": "markdown",
   "id": "3cb3c3c9",
   "metadata": {
    "ExecuteTime": {
     "end_time": "2024-03-06T08:35:25.448625Z",
     "start_time": "2024-03-06T08:35:25.444583Z"
    }
   },
   "source": [
    "168\n",
    "1~10까지의 숫자에 대해 모두 더한 값을 출력하는 프로그램을 for 문을 사용하여 작성하라."
   ]
  },
  {
   "cell_type": "code",
   "execution_count": 12,
   "id": "5692f259",
   "metadata": {
    "ExecuteTime": {
     "end_time": "2024-03-06T08:36:55.443011Z",
     "start_time": "2024-03-06T08:36:55.435031Z"
    }
   },
   "outputs": [
    {
     "name": "stdout",
     "output_type": "stream",
     "text": [
      "55\n"
     ]
    }
   ],
   "source": [
    "num=0;\n",
    "for i in range(1,11):\n",
    "    num+=i;\n",
    "print(num)"
   ]
  },
  {
   "cell_type": "markdown",
   "id": "fb263e57",
   "metadata": {
    "ExecuteTime": {
     "end_time": "2024-03-06T08:36:44.890152Z",
     "start_time": "2024-03-06T08:36:44.884422Z"
    }
   },
   "source": [
    "169\n",
    "1~10까지의 숫자 중 모든 홀수의 합을 출력하는 프로그램을 for 문을 사용하여 작성하라."
   ]
  },
  {
   "cell_type": "code",
   "execution_count": 14,
   "id": "dab1a706",
   "metadata": {
    "ExecuteTime": {
     "end_time": "2024-03-06T08:37:44.482718Z",
     "start_time": "2024-03-06T08:37:44.477295Z"
    }
   },
   "outputs": [
    {
     "name": "stdout",
     "output_type": "stream",
     "text": [
      "25\n"
     ]
    }
   ],
   "source": [
    "num=0;\n",
    "for i in range(1,11,2):\n",
    "    num+=i;\n",
    "print(num)"
   ]
  },
  {
   "cell_type": "markdown",
   "id": "a23119e1",
   "metadata": {},
   "source": [
    "170\n",
    "1~10까지의 숫자를 모두 곱한 값을 출력하는 프로그램을 for 문을 사용하여 작성하라."
   ]
  },
  {
   "cell_type": "code",
   "execution_count": 15,
   "id": "304c57ed",
   "metadata": {
    "ExecuteTime": {
     "end_time": "2024-03-06T08:39:44.618197Z",
     "start_time": "2024-03-06T08:39:44.613209Z"
    }
   },
   "outputs": [
    {
     "name": "stdout",
     "output_type": "stream",
     "text": [
      "3628800\n"
     ]
    }
   ],
   "source": [
    "gob=1;\n",
    "for i in range(1,11):\n",
    "    gob=gob*i\n",
    "print(gob)"
   ]
  },
  {
   "cell_type": "markdown",
   "id": "7b797c2f",
   "metadata": {},
   "source": [
    "171\n",
    "아래와 같이 리스트의 데이터를 출력하라. 단, for문과 range문을 사용하라.\n",
    "\n",
    "price_list = [32100, 32150, 32000, 32500]\n",
    "\n",
    "32100\n",
    "32150\n",
    "32000\n",
    "32500"
   ]
  },
  {
   "cell_type": "code",
   "execution_count": 38,
   "id": "1a8034a5",
   "metadata": {
    "ExecuteTime": {
     "end_time": "2024-03-06T08:56:03.809344Z",
     "start_time": "2024-03-06T08:56:03.804148Z"
    }
   },
   "outputs": [
    {
     "name": "stdout",
     "output_type": "stream",
     "text": [
      "32100\n",
      "32150\n",
      "32000\n",
      "32500\n"
     ]
    }
   ],
   "source": [
    "price_list = [32100, 32150, 32000, 32500]\n",
    "for i in range(4):\n",
    "    print (price_list[i])"
   ]
  },
  {
   "cell_type": "markdown",
   "id": "efcbd665",
   "metadata": {},
   "source": [
    "172\n",
    "아래와 같이 리스트의 데이터를 출력하라. 단, for문과 range문을 사용하라.\n",
    "\n",
    "price_list = [32100, 32150, 32000, 32500]           \n",
    "\n",
    " \n",
    "0 32100\n",
    "1 32150\n",
    "2 32000\n",
    "3 32500"
   ]
  },
  {
   "cell_type": "code",
   "execution_count": 39,
   "id": "15b8532c",
   "metadata": {
    "ExecuteTime": {
     "end_time": "2024-03-06T08:56:54.951978Z",
     "start_time": "2024-03-06T08:56:54.948111Z"
    }
   },
   "outputs": [
    {
     "name": "stdout",
     "output_type": "stream",
     "text": [
      "0 32100\n",
      "1 32150\n",
      "2 32000\n",
      "3 32500\n"
     ]
    }
   ],
   "source": [
    "for i in range(4):\n",
    "    print(i, price_list[i])"
   ]
  },
  {
   "cell_type": "markdown",
   "id": "dd1fa5a2",
   "metadata": {
    "ExecuteTime": {
     "end_time": "2024-03-06T08:57:11.856340Z",
     "start_time": "2024-03-06T08:57:11.840925Z"
    }
   },
   "source": [
    "아래와 같이 리스트의 데이터를 출력하라. 단, for문과 range문을 사용하라.\n",
    "\n",
    "price_list = [32100, 32150, 32000, 32500]         \n",
    "3 32100\n",
    "2 32150\n",
    "1 32000\n",
    "0 32500"
   ]
  },
  {
   "cell_type": "code",
   "execution_count": 41,
   "id": "02408d5b",
   "metadata": {
    "ExecuteTime": {
     "end_time": "2024-03-06T08:57:32.321794Z",
     "start_time": "2024-03-06T08:57:32.317938Z"
    }
   },
   "outputs": [
    {
     "name": "stdout",
     "output_type": "stream",
     "text": [
      "3 32100\n",
      "2 32150\n",
      "1 32000\n",
      "0 32500\n"
     ]
    }
   ],
   "source": [
    "for i in range(4):\n",
    "    print(3-i, price_list[i])"
   ]
  },
  {
   "cell_type": "markdown",
   "id": "86d079ee",
   "metadata": {},
   "source": [
    "174\n",
    "아래와 같이 리스트의 데이터를 출력하라. 단, for문과 range문을 사용하라.\n",
    "\n",
    "price_list = [32100, 32150, 32000, 32500]              \n",
    "100 32150     \n",
    "110 32000      \n",
    "120 32500       "
   ]
  },
  {
   "cell_type": "code",
   "execution_count": 42,
   "id": "a7c8e4bc",
   "metadata": {
    "ExecuteTime": {
     "end_time": "2024-03-06T08:58:34.053869Z",
     "start_time": "2024-03-06T08:58:34.050023Z"
    }
   },
   "outputs": [
    {
     "name": "stdout",
     "output_type": "stream",
     "text": [
      "100 32150\n",
      "110 32000\n",
      "120 32500\n"
     ]
    }
   ],
   "source": [
    "for i in range(1,4):\n",
    "    print(90+i*10,price_list[i])"
   ]
  },
  {
   "cell_type": "markdown",
   "id": "915b60af",
   "metadata": {},
   "source": [
    "175\n",
    "my_list를 아래와 같이 출력하라.\n",
    "\n",
    "my_list = [\"가\", \"나\", \"다\", \"라\"]           \n",
    "가 나      \n",
    "나 다       \n",
    "다 라      "
   ]
  },
  {
   "cell_type": "code",
   "execution_count": 43,
   "id": "b7f8fe0b",
   "metadata": {
    "ExecuteTime": {
     "end_time": "2024-03-06T08:59:45.456534Z",
     "start_time": "2024-03-06T08:59:45.452039Z"
    }
   },
   "outputs": [
    {
     "name": "stdout",
     "output_type": "stream",
     "text": [
      "가 나\n",
      "나 다\n",
      "다 라\n"
     ]
    }
   ],
   "source": [
    "my_list = [\"가\", \"나\", \"다\", \"라\"]\n",
    "for i in range(0,3):\n",
    "    print (my_list[i],my_list[i+1])"
   ]
  },
  {
   "cell_type": "markdown",
   "id": "8df9ddc6",
   "metadata": {},
   "source": [
    "176\n",
    "리스트를 아래와 같이 출력하라.\n",
    "\n",
    "my_list = [\"가\", \"나\", \"다\", \"라\", \"마\"]       \n",
    "가 나 다       \n",
    "나 다 라       \n",
    "다 라 마        "
   ]
  },
  {
   "cell_type": "code",
   "execution_count": 44,
   "id": "3ab43054",
   "metadata": {
    "ExecuteTime": {
     "end_time": "2024-03-06T09:00:42.791514Z",
     "start_time": "2024-03-06T09:00:42.788109Z"
    }
   },
   "outputs": [
    {
     "name": "stdout",
     "output_type": "stream",
     "text": [
      "가 나 다\n",
      "나 다 라\n",
      "다 라 마\n"
     ]
    }
   ],
   "source": [
    "my_list = [\"가\", \"나\", \"다\", \"라\", \"마\"]\n",
    "for i in range(0,3):\n",
    "    print(my_list[i],my_list[i+1],my_list[i+2])"
   ]
  },
  {
   "cell_type": "markdown",
   "id": "439eeec2",
   "metadata": {},
   "source": [
    "177 \n",
    "반복문과 range 함수를 사용해서 my_list를 아래와 같이 출력하라.     \n",
    "\n",
    "my_list = [\"가\", \"나\", \"다\", \"라\"]     \n",
    "\n",
    "라 다      \n",
    "다 나       \n",
    "나 가       "
   ]
  },
  {
   "cell_type": "code",
   "execution_count": 45,
   "id": "adbdc875",
   "metadata": {
    "ExecuteTime": {
     "end_time": "2024-03-06T09:01:43.801840Z",
     "start_time": "2024-03-06T09:01:43.796885Z"
    }
   },
   "outputs": [
    {
     "name": "stdout",
     "output_type": "stream",
     "text": [
      "라 다\n",
      "다 나\n",
      "나 가\n"
     ]
    }
   ],
   "source": [
    "my_list = [\"가\", \"나\", \"다\", \"라\"]\n",
    "for i in range(0,3):\n",
    "    print(my_list[3-i],my_list[2-i])"
   ]
  },
  {
   "cell_type": "markdown",
   "id": "3c3673da",
   "metadata": {},
   "source": [
    "178  \n",
    "리스트에는 네 개의 정수가 저장되어 있다. 각각의 데이터에 대해서 자신과 우측값과의 차분값을 화면에 출력하라.         \n",
    "\n",
    "my_list = [100, 200, 400, 800]     \n",
    "예를들어 100을 기준으로 우측에 위치한 200과의 차분 값를 화면에 출력하고, 200을 기준으로 우측에 위치한 400과의 차분값을 화면에 출력한다.   \n",
    "이어서 400을 기준으로 우측에 위치한 800과의 차분값을 화면에 출력한다.         \n",
    "       \n",
    "100       \n",
    "200        \n",
    "400       "
   ]
  },
  {
   "cell_type": "code",
   "execution_count": 46,
   "id": "9d3bf1eb",
   "metadata": {
    "ExecuteTime": {
     "end_time": "2024-03-06T09:03:08.293262Z",
     "start_time": "2024-03-06T09:03:08.288967Z"
    }
   },
   "outputs": [
    {
     "name": "stdout",
     "output_type": "stream",
     "text": [
      "100\n",
      "200\n",
      "400\n"
     ]
    }
   ],
   "source": [
    "my_list = [100, 200, 400, 800]\n",
    "for i in range(0,3):\n",
    "    print(my_list[i+1]-my_list[i])"
   ]
  },
  {
   "cell_type": "markdown",
   "id": "93080783",
   "metadata": {},
   "source": [
    "179\n",
    "리스트에는 6일 간의 종가 데이터가 저장되어 있다. 종가 데이터의 3일 이동 평균을 계산하고 이를 화면에 출력하라.       \n",
    "       \n",
    "my_list = [100, 200, 400, 800, 1000, 1300]           \n",
    "첫 번째 줄에는 100, 200, 400의 평균값이 출력된다.         \n",
    "두 번째 줄에는 200, 400, 800의 평균값이 출력된다. 같은 방식으로 나머지 데이터의 평균을 출력한다.     \n",
    "\n",
    "233.33333333333334      \n",
    "466.6666666666667      \n",
    "733.3333333333334      \n",
    "1033.3333333333333     "
   ]
  },
  {
   "cell_type": "code",
   "execution_count": 48,
   "id": "8e5ddb18",
   "metadata": {
    "ExecuteTime": {
     "end_time": "2024-03-06T09:04:39.659410Z",
     "start_time": "2024-03-06T09:04:39.654827Z"
    }
   },
   "outputs": [
    {
     "name": "stdout",
     "output_type": "stream",
     "text": [
      "233.33333333333334\n",
      "466.6666666666667\n",
      "733.3333333333334\n",
      "1033.3333333333333\n"
     ]
    }
   ],
   "source": [
    "my_list = [100, 200, 400, 800, 1000, 1300]\n",
    "for i in range(0,4):\n",
    "    print((my_list[i]+my_list[i+1]+my_list[i+2])/3)"
   ]
  },
  {
   "cell_type": "markdown",
   "id": "5e3669bf",
   "metadata": {},
   "source": [
    "180        \n",
    "리스트에 5일간의 저가, 고가 정보가 저장돼 있다. 고가와 저가의 차를 변동폭이라고 정의할 때, low, high 두 개의 리스트를 사용해서 5일간의 변동폭을 volatility 리스트에 저장하라.         \n",
    "\n",
    "low_prices  = [100, 200, 400, 800, 1000]         \n",
    "high_prices = [150, 300, 430, 880, 1000]    \n"
   ]
  },
  {
   "cell_type": "code",
   "execution_count": 52,
   "id": "b441ed8d",
   "metadata": {
    "ExecuteTime": {
     "end_time": "2024-03-06T09:07:14.035610Z",
     "start_time": "2024-03-06T09:07:14.028620Z"
    }
   },
   "outputs": [
    {
     "name": "stdout",
     "output_type": "stream",
     "text": [
      "[50, 100, 30, 80, 0]\n"
     ]
    }
   ],
   "source": [
    "low_prices = [100, 200, 400, 800, 1000]\n",
    "high_prices = [150, 300, 430, 880, 1000]\n",
    "\n",
    "volatility=[]\n",
    "for i in range(5):\n",
    "    volatility.append(high_prices[i]-low_prices[i])\n",
    "    \n",
    "print(volatility)    "
   ]
  },
  {
   "cell_type": "markdown",
   "id": "10742ab8",
   "metadata": {},
   "source": [
    "181\n",
    "아래 표에서 하나의 행을 하나의 리스트로, 총 3개의 리스트를 갖는 이차원 리스트 apart를 정의하라.\n",
    " \n",
    "101호\t102호      \n",
    "201호\t202호   \n",
    "301호\t302호      "
   ]
  },
  {
   "cell_type": "code",
   "execution_count": 53,
   "id": "64cc18a5",
   "metadata": {
    "ExecuteTime": {
     "end_time": "2024-03-06T09:07:47.606179Z",
     "start_time": "2024-03-06T09:07:47.603388Z"
    }
   },
   "outputs": [],
   "source": [
    "apart = [ [\"101호\", \"102호\"], [\"201호\", \"202호\"], [\"301호\", \"302호\"] ]"
   ]
  },
  {
   "cell_type": "markdown",
   "id": "bfb7b82b",
   "metadata": {},
   "source": [
    "182\n",
    "아래 표에서 하나의 열을 하나의 리스트로, 총 2개의 리스트를 갖는 이차원 리스트 stock을 정의하라.\n",
    "\n",
    "시가\t종가       \n",
    "100\t80       \n",
    "200\t210       \n",
    "300\t330       "
   ]
  },
  {
   "cell_type": "code",
   "execution_count": 54,
   "id": "a7e56b7d",
   "metadata": {
    "ExecuteTime": {
     "end_time": "2024-03-06T09:08:13.346599Z",
     "start_time": "2024-03-06T09:08:13.342882Z"
    }
   },
   "outputs": [],
   "source": [
    "stock = [ [\"시가\", 100, 200, 300], [\"종가\", 80, 210, 330] ]"
   ]
  },
  {
   "cell_type": "markdown",
   "id": "78ba2766",
   "metadata": {},
   "source": [
    "183\n",
    "아래 표를 stock 이름의 딕셔너리로 표현하라.시가를 key로 저장하고, 나머지 같은 열의 데이터를 리스트로 저장해서 value로 저장한다. 종가 역시 key로 저장하고 나머지 같은 열의 데이터를 리스트로 저장해서 value로 저장한다.\n",
    "\n",
    "시가\t종가    \n",
    "100\t80         \n",
    "200\t210    \n",
    "300\t330     "
   ]
  },
  {
   "cell_type": "code",
   "execution_count": 55,
   "id": "5350bbb6",
   "metadata": {
    "ExecuteTime": {
     "end_time": "2024-03-06T09:08:36.690035Z",
     "start_time": "2024-03-06T09:08:36.685912Z"
    }
   },
   "outputs": [],
   "source": [
    "stock = {\"시가\": [100, 200, 300], \"종가\": [80, 210, 330] }"
   ]
  },
  {
   "cell_type": "markdown",
   "id": "4d587d8e",
   "metadata": {},
   "source": [
    "185\n",
    "리스트에 저장된 데이터를 아래와 같이 출력하라.\n",
    "\n",
    "apart = [ [101, 102], [201, 202], [301, 302] ]           \n",
    "101 호         \n",
    "102 호       \n",
    "201 호         \n",
    "202 호        \n",
    "301 호       \n",
    "302 호        "
   ]
  },
  {
   "cell_type": "code",
   "execution_count": 57,
   "id": "7a32d217",
   "metadata": {
    "ExecuteTime": {
     "end_time": "2024-03-06T09:11:37.660098Z",
     "start_time": "2024-03-06T09:11:37.653071Z"
    }
   },
   "outputs": [
    {
     "name": "stdout",
     "output_type": "stream",
     "text": [
      "101 호\n",
      "102 호\n",
      "201 호\n",
      "202 호\n",
      "301 호\n",
      "302 호\n"
     ]
    }
   ],
   "source": [
    "apart = [ [101, 102], [201, 202], [301, 302] ]\n",
    "for i in apart:\n",
    "    for j in i:\n",
    "        print(j,\"호\")"
   ]
  },
  {
   "cell_type": "markdown",
   "id": "77461e20",
   "metadata": {},
   "source": [
    "186\n",
    "리스트에 저장된 데이터를 아래와 같이 출력하라.             \n",
    " \n",
    "apart = [ [101, 102], [201, 202], [301, 302] ]         \n",
    "301 호       \n",
    "302 호        \n",
    "201 호       \n",
    "202 호      \n",
    "101 호      \n",
    "102 호      "
   ]
  },
  {
   "cell_type": "code",
   "execution_count": 60,
   "id": "c1d49420",
   "metadata": {
    "ExecuteTime": {
     "end_time": "2024-03-06T09:13:11.534193Z",
     "start_time": "2024-03-06T09:13:11.527353Z"
    }
   },
   "outputs": [
    {
     "name": "stdout",
     "output_type": "stream",
     "text": [
      "301 호\n",
      "302 호\n",
      "201 호\n",
      "202 호\n",
      "101 호\n",
      "102 호\n"
     ]
    }
   ],
   "source": [
    "for i in apart[::-1]:\n",
    "    for j in i:\n",
    "        print(j,\"호\")"
   ]
  },
  {
   "cell_type": "markdown",
   "id": "4c83efe3",
   "metadata": {},
   "source": [
    "187\n",
    "리스트에 저장된 데이터를 아래와 같이 출력하라.          \n",
    "\n",
    "apart = [ [101, 102], [201, 202], [301, 302] ]        \n",
    "302 호       \n",
    "301 호        \n",
    "202 호       \n",
    "201 호      \n",
    "102 호        \n",
    "101 호      "
   ]
  },
  {
   "cell_type": "code",
   "execution_count": 61,
   "id": "ebd8603f",
   "metadata": {
    "ExecuteTime": {
     "end_time": "2024-03-06T09:13:59.185302Z",
     "start_time": "2024-03-06T09:13:59.176927Z"
    }
   },
   "outputs": [
    {
     "name": "stdout",
     "output_type": "stream",
     "text": [
      "302 호\n",
      "301 호\n",
      "202 호\n",
      "201 호\n",
      "102 호\n",
      "101 호\n"
     ]
    }
   ],
   "source": [
    "for i in apart[::-1]:\n",
    "    for j in i[::-1]:\n",
    "        print(j,\"호\")"
   ]
  },
  {
   "cell_type": "markdown",
   "id": "3d0ced5e",
   "metadata": {},
   "source": [
    "188\n",
    "리스트에 저장된 데이터를 아래와 같이 출력하라.\n",
    "\n",
    "apart = [ [101, 102], [201, 202], [301, 302] ]       \n",
    "\n",
    "       \n",
    "101 호\n",
    "-----\n",
    "102 호\n",
    "-----\n",
    "201 호\n",
    "-----\n",
    "202 호\n",
    "-----\n",
    "301 호\n",
    "-----\n",
    "302 호\n",
    "-----"
   ]
  },
  {
   "cell_type": "code",
   "execution_count": 63,
   "id": "3ae767a4",
   "metadata": {
    "ExecuteTime": {
     "end_time": "2024-03-06T09:14:55.342101Z",
     "start_time": "2024-03-06T09:14:55.333075Z"
    }
   },
   "outputs": [
    {
     "name": "stdout",
     "output_type": "stream",
     "text": [
      "101 호\n",
      "-----\n",
      "102 호\n",
      "-----\n",
      "201 호\n",
      "-----\n",
      "202 호\n",
      "-----\n",
      "301 호\n",
      "-----\n",
      "302 호\n",
      "-----\n"
     ]
    }
   ],
   "source": [
    "for i in apart:\n",
    "    for j in  i:\n",
    "        print(j, \"호\")\n",
    "        print(\"-\" * 5)"
   ]
  },
  {
   "cell_type": "markdown",
   "id": "edea3a66",
   "metadata": {},
   "source": [
    "189\n",
    "리스트에 저장된 데이터를 아래와 같이 출력하라.\n",
    "\n",
    "apart = [ [101, 102], [201, 202], [301, 302] ]\n",
    "\n",
    "\n",
    "101 호          \n",
    "102 호\n",
    "-----       \n",
    "201 호        \n",
    "202 호      \n",
    "-----       \n",
    "301 호       \n",
    "302 호\n",
    "-----"
   ]
  },
  {
   "cell_type": "code",
   "execution_count": 64,
   "id": "455b91cd",
   "metadata": {
    "ExecuteTime": {
     "end_time": "2024-03-06T09:16:03.782824Z",
     "start_time": "2024-03-06T09:16:03.774579Z"
    }
   },
   "outputs": [
    {
     "name": "stdout",
     "output_type": "stream",
     "text": [
      "101 호\n",
      "102 호\n",
      "-----\n",
      "201 호\n",
      "202 호\n",
      "-----\n",
      "301 호\n",
      "302 호\n",
      "-----\n"
     ]
    }
   ],
   "source": [
    "for i in apart:\n",
    "    for j in i:\n",
    "        print(j, \"호\")\n",
    "    print(\"-----\")"
   ]
  },
  {
   "cell_type": "markdown",
   "id": "e0dfc233",
   "metadata": {},
   "source": [
    "101 호       \n",
    "102 호       \n",
    "201 호      \n",
    "202 호      \n",
    "301 호     \n",
    "302 호      \n",
    "-----\n"
   ]
  },
  {
   "cell_type": "code",
   "execution_count": 66,
   "id": "7692188f",
   "metadata": {
    "ExecuteTime": {
     "end_time": "2024-03-06T09:16:53.117464Z",
     "start_time": "2024-03-06T09:16:53.109331Z"
    }
   },
   "outputs": [
    {
     "name": "stdout",
     "output_type": "stream",
     "text": [
      "101 호\n",
      "102 호\n",
      "201 호\n",
      "202 호\n",
      "301 호\n",
      "302 호\n",
      "-----\n"
     ]
    }
   ],
   "source": [
    "for i in apart:\n",
    "    for j in i:\n",
    "        print(j, \"호\")\n",
    "print(\"-\" * 5)"
   ]
  },
  {
   "cell_type": "markdown",
   "id": "b605f8fd",
   "metadata": {},
   "source": [
    "191\n",
    "data에는 매수한 종목들의 OHLC (open/high/low/close) 가격 정보가 바인딩 되어있다.                   \n",
    "\n",
    "data = [\n",
    "    [ 2000,  3050,  2050,  1980],\n",
    "    [ 7500,  2050,  2050,  1980],\n",
    "    [15450, 15050, 15550, 14900]\n",
    "]\n",
    "\n",
    "수수료를 0.014 %로 가정할 때, 각 가격에 수수료를 포함한 가격을 한라인에 하나씩 출력하라.          \n",
    "\n",
    "2000.28       \n",
    "3050.427           \n",
    "2050.2870000000003        \n",
    "...        "
   ]
  },
  {
   "cell_type": "code",
   "execution_count": 70,
   "id": "cbe79fc9",
   "metadata": {
    "ExecuteTime": {
     "end_time": "2024-03-06T09:19:29.906025Z",
     "start_time": "2024-03-06T09:19:29.895934Z"
    }
   },
   "outputs": [
    {
     "name": "stdout",
     "output_type": "stream",
     "text": [
      "2000.28\n",
      "3050.427\n",
      "2050.2870000000003\n",
      "1980.2772\n",
      "7501.05\n",
      "2050.2870000000003\n",
      "2050.2870000000003\n",
      "1980.2772\n",
      "15452.163\n",
      "15052.107\n",
      "15552.177\n",
      "14902.086000000001\n"
     ]
    }
   ],
   "source": [
    "data = [\n",
    "    [ 2000,  3050,  2050,  1980],\n",
    "    [ 7500,  2050,  2050,  1980],\n",
    "    [15450, 15050, 15550, 14900]\n",
    "]\n",
    "\n",
    "for i in data:\n",
    "    for j in i:\n",
    "        print(float(j*1.00014))"
   ]
  },
  {
   "cell_type": "markdown",
   "id": "710b6dcb",
   "metadata": {},
   "source": [
    "192\n",
    "191번의 출력 결과에 행단위로 \"----\" 구분자를 추가하라."
   ]
  },
  {
   "cell_type": "code",
   "execution_count": 71,
   "id": "a2f02e3e",
   "metadata": {
    "ExecuteTime": {
     "end_time": "2024-03-06T09:20:24.451067Z",
     "start_time": "2024-03-06T09:20:24.443254Z"
    }
   },
   "outputs": [
    {
     "name": "stdout",
     "output_type": "stream",
     "text": [
      "2000.28\n",
      "3050.427\n",
      "2050.2870000000003\n",
      "1980.2772\n",
      "----\n",
      "7501.05\n",
      "2050.2870000000003\n",
      "2050.2870000000003\n",
      "1980.2772\n",
      "----\n",
      "15452.163\n",
      "15052.107\n",
      "15552.177\n",
      "14902.086000000001\n",
      "----\n"
     ]
    }
   ],
   "source": [
    "for i in data:\n",
    "    for j in i:\n",
    "        print(float(j*1.00014))\n",
    "    print(\"----\")"
   ]
  },
  {
   "cell_type": "markdown",
   "id": "11cc248d",
   "metadata": {},
   "source": [
    "193\n",
    "192 번 문제의 결괏값을 result 이름의 리스트에 1차원 배열로 저장하라.\n",
    "\n"
   ]
  },
  {
   "cell_type": "code",
   "execution_count": 72,
   "id": "0c1ab2ee",
   "metadata": {
    "ExecuteTime": {
     "end_time": "2024-03-06T09:21:27.225889Z",
     "start_time": "2024-03-06T09:21:27.217795Z"
    }
   },
   "outputs": [
    {
     "name": "stdout",
     "output_type": "stream",
     "text": [
      "[2000.28, 3050.427, 2050.2870000000003, 1980.2772, 7501.05, 2050.2870000000003, 2050.2870000000003, 1980.2772, 15452.163, 15052.107, 15552.177, 14902.086000000001]\n"
     ]
    }
   ],
   "source": [
    "result=[]\n",
    "\n",
    "for i in data:\n",
    "    for j in i:\n",
    "        result.append(float(j*1.00014))\n",
    "\n",
    "print(result)"
   ]
  },
  {
   "cell_type": "markdown",
   "id": "fb99bb12",
   "metadata": {},
   "source": [
    "194\n",
    "191번 문제의 결괏값을 result 이름의 리스트에 2차원 배열로 저장하라. 저장 포맷은 아래와 같다. 각 행에 대한 데이터끼리 리스트에 저장되어야 한다.\n",
    "\n",
    "[ [2000.28, 3050.427, 2050.2870000000003, 1980.2772],\n",
    " [7501.05, 2050.2870000000003, 2050.2870000000003, 1980.2772],\n",
    " [15452.163, 15052.107, 15552.177, 14902.086000000001]]"
   ]
  },
  {
   "cell_type": "code",
   "execution_count": 73,
   "id": "9634e241",
   "metadata": {
    "ExecuteTime": {
     "end_time": "2024-03-06T09:23:19.852899Z",
     "start_time": "2024-03-06T09:23:19.843000Z"
    }
   },
   "outputs": [
    {
     "name": "stdout",
     "output_type": "stream",
     "text": [
      "[[2000.28, 3050.427, 2050.2870000000003, 1980.2772], [7501.05, 2050.2870000000003, 2050.2870000000003, 1980.2772], [15452.163, 15052.107, 15552.177, 14902.086000000001]]\n"
     ]
    }
   ],
   "source": [
    "result=[]\n",
    "\n",
    "for i in data:\n",
    "    result2 = []\n",
    "    for j in i:\n",
    "        result2.append(j * 1.00014)\n",
    "    result.append(result2)\n",
    "print(result)"
   ]
  },
  {
   "cell_type": "markdown",
   "id": "a08d7929",
   "metadata": {},
   "source": [
    "195 ohlc 리스트에는 시가(open), 고가 (high), 저가 (low) , 종가(close)가 날짜별로 저장돼 있다. 화면에 종가데이터를 출력하라.         \n",
    "       \n",
    "ohlc = [[\"open\", \"high\", \"low\", \"close\"],\n",
    "        [100, 110, 70, 100],\n",
    "        [200, 210, 180, 190],\n",
    "        [300, 310, 300, 310]]"
   ]
  },
  {
   "cell_type": "code",
   "execution_count": 75,
   "id": "8100a778",
   "metadata": {
    "ExecuteTime": {
     "end_time": "2024-03-06T09:24:38.508637Z",
     "start_time": "2024-03-06T09:24:38.499696Z"
    }
   },
   "outputs": [
    {
     "name": "stdout",
     "output_type": "stream",
     "text": [
      "100\n",
      "190\n",
      "310\n"
     ]
    }
   ],
   "source": [
    "ohlc = [[\"open\", \"high\", \"low\", \"close\"],\n",
    "        [100, 110, 70, 100],\n",
    "        [200, 210, 180, 190],\n",
    "        [300, 310, 300, 310]]\n",
    "\n",
    "for i in ohlc[1:]:\n",
    "    print(i[3])"
   ]
  },
  {
   "cell_type": "markdown",
   "id": "c9c8f5bc",
   "metadata": {},
   "source": [
    "196 종가가 150원보다 큰경우에만 종가를 출력하라."
   ]
  },
  {
   "cell_type": "code",
   "execution_count": 76,
   "id": "de470bb3",
   "metadata": {
    "ExecuteTime": {
     "end_time": "2024-03-06T09:25:35.285176Z",
     "start_time": "2024-03-06T09:25:35.277236Z"
    }
   },
   "outputs": [
    {
     "name": "stdout",
     "output_type": "stream",
     "text": [
      "190\n",
      "310\n"
     ]
    }
   ],
   "source": [
    "for i in ohlc[1:]:\n",
    "    if i[3]>150:\n",
    "        print(i[3])"
   ]
  },
  {
   "cell_type": "markdown",
   "id": "28eec018",
   "metadata": {},
   "source": [
    "197  종가가 시가 보다 크거나 같은 경우에만 종가를 출력하라."
   ]
  },
  {
   "cell_type": "code",
   "execution_count": 78,
   "id": "b79065f5",
   "metadata": {
    "ExecuteTime": {
     "end_time": "2024-03-06T09:26:22.703732Z",
     "start_time": "2024-03-06T09:26:22.696705Z"
    }
   },
   "outputs": [
    {
     "name": "stdout",
     "output_type": "stream",
     "text": [
      "100\n",
      "310\n"
     ]
    }
   ],
   "source": [
    "for i in ohlc[1:]:\n",
    "    if i[3]>=i[0]:\n",
    "        print(i[3])"
   ]
  },
  {
   "cell_type": "markdown",
   "id": "117e0fac",
   "metadata": {},
   "source": [
    "198 고가와 저가의 차이를 변동폭으로 정의할 때 변동폭을 volatility 이름의 리스트에 저장하라."
   ]
  },
  {
   "cell_type": "code",
   "execution_count": 79,
   "id": "ac7cc276",
   "metadata": {
    "ExecuteTime": {
     "end_time": "2024-03-06T09:28:10.550839Z",
     "start_time": "2024-03-06T09:28:10.542876Z"
    }
   },
   "outputs": [
    {
     "name": "stdout",
     "output_type": "stream",
     "text": [
      "[40, 30, 10]\n"
     ]
    }
   ],
   "source": [
    "volatility=[]\n",
    "\n",
    "\n",
    "for i in ohlc[1:]:\n",
    "    volatility.append(i[1]-i[2])\n",
    "    \n",
    "print(volatility)"
   ]
  },
  {
   "cell_type": "markdown",
   "id": "c055d9aa",
   "metadata": {},
   "source": [
    "199\n",
    "리스트에는 3일 간의 ohlc 데이터가 저장돼 있다. 종가가 시가보다 높은 날의 변동성 (고가 - 저가)을 화면에 출력하라."
   ]
  },
  {
   "cell_type": "code",
   "execution_count": 80,
   "id": "5137bf3f",
   "metadata": {
    "ExecuteTime": {
     "end_time": "2024-03-06T09:28:47.937260Z",
     "start_time": "2024-03-06T09:28:47.928838Z"
    }
   },
   "outputs": [
    {
     "name": "stdout",
     "output_type": "stream",
     "text": [
      "10\n"
     ]
    }
   ],
   "source": [
    "for i in ohlc[1:]:\n",
    "    if i[3] > i[0]:\n",
    "        print(i[1]-i[2])"
   ]
  },
  {
   "cell_type": "markdown",
   "id": "6abbab80",
   "metadata": {},
   "source": [
    "시가에 매수해서 종가에 매도 했을 경우 총 수익금을 계산하라."
   ]
  },
  {
   "cell_type": "code",
   "execution_count": 81,
   "id": "15f32a2f",
   "metadata": {
    "ExecuteTime": {
     "end_time": "2024-03-06T09:29:22.817798Z",
     "start_time": "2024-03-06T09:29:22.810917Z"
    }
   },
   "outputs": [],
   "source": [
    "money = 0\n",
    "for row in ohlc[1:]:\n",
    "    money += (row[3] - row[0])"
   ]
  },
  {
   "cell_type": "code",
   "execution_count": 82,
   "id": "1d559406",
   "metadata": {
    "ExecuteTime": {
     "end_time": "2024-03-06T09:29:26.134177Z",
     "start_time": "2024-03-06T09:29:26.127960Z"
    }
   },
   "outputs": [
    {
     "name": "stdout",
     "output_type": "stream",
     "text": [
      "0\n"
     ]
    }
   ],
   "source": [
    "print(money)"
   ]
  },
  {
   "cell_type": "code",
   "execution_count": null,
   "id": "40964fcc",
   "metadata": {},
   "outputs": [],
   "source": []
  }
 ],
 "metadata": {
  "kernelspec": {
   "display_name": "Python 3 (ipykernel)",
   "language": "python",
   "name": "python3"
  },
  "language_info": {
   "codemirror_mode": {
    "name": "ipython",
    "version": 3
   },
   "file_extension": ".py",
   "mimetype": "text/x-python",
   "name": "python",
   "nbconvert_exporter": "python",
   "pygments_lexer": "ipython3",
   "version": "3.11.5"
  },
  "toc": {
   "base_numbering": 1,
   "nav_menu": {},
   "number_sections": true,
   "sideBar": true,
   "skip_h1_title": false,
   "title_cell": "Table of Contents",
   "title_sidebar": "Contents",
   "toc_cell": false,
   "toc_position": {},
   "toc_section_display": true,
   "toc_window_display": false
  }
 },
 "nbformat": 4,
 "nbformat_minor": 5
}
