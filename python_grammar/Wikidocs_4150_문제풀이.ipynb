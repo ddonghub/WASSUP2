{
 "cells": [
  {
   "cell_type": "markdown",
   "id": "0c87ee6c",
   "metadata": {},
   "source": [
    "# 041 upper 메서드\n",
    "다음과 같은 문자열이 있을 때 이를 대문자 BTC_KRW로 변경하세요\n",
    "ticker = \"btc_krw\""
   ]
  },
  {
   "cell_type": "code",
   "execution_count": 1,
   "id": "090e05fa",
   "metadata": {
    "ExecuteTime": {
     "end_time": "2024-03-02T16:56:31.819312Z",
     "start_time": "2024-03-02T16:56:31.813241Z"
    }
   },
   "outputs": [],
   "source": [
    "ticker = \"btc_krw\""
   ]
  },
  {
   "cell_type": "code",
   "execution_count": 3,
   "id": "25a43abb",
   "metadata": {
    "ExecuteTime": {
     "end_time": "2024-03-02T16:57:15.638432Z",
     "start_time": "2024-03-02T16:57:15.632387Z"
    }
   },
   "outputs": [],
   "source": [
    "ticker2= ticker.upper()"
   ]
  },
  {
   "cell_type": "code",
   "execution_count": 4,
   "id": "b7d654cd",
   "metadata": {
    "ExecuteTime": {
     "end_time": "2024-03-02T16:57:32.948456Z",
     "start_time": "2024-03-02T16:57:32.939991Z"
    }
   },
   "outputs": [
    {
     "name": "stdout",
     "output_type": "stream",
     "text": [
      "BTC_KRW\n"
     ]
    }
   ],
   "source": [
    "print (ticker2)"
   ]
  },
  {
   "cell_type": "markdown",
   "id": "37493f1a",
   "metadata": {},
   "source": [
    "# 042 lower 메서드\n",
    "다음과 같은 문자열이 있을 때 이를 소문자 btc_krw로 변경하세요.  \n",
    "ticker = \"BTC_KRW\""
   ]
  },
  {
   "cell_type": "code",
   "execution_count": 5,
   "id": "e4cb5286",
   "metadata": {
    "ExecuteTime": {
     "end_time": "2024-03-02T16:58:19.753349Z",
     "start_time": "2024-03-02T16:58:19.747851Z"
    }
   },
   "outputs": [],
   "source": [
    "ticker = \"BTC_KRW\""
   ]
  },
  {
   "cell_type": "code",
   "execution_count": 6,
   "id": "2e9ffd1c",
   "metadata": {
    "ExecuteTime": {
     "end_time": "2024-03-02T16:58:33.674442Z",
     "start_time": "2024-03-02T16:58:33.668045Z"
    }
   },
   "outputs": [],
   "source": [
    "ticker2= ticker.lower()"
   ]
  },
  {
   "cell_type": "code",
   "execution_count": 7,
   "id": "919feca4",
   "metadata": {
    "ExecuteTime": {
     "end_time": "2024-03-02T16:58:38.183210Z",
     "start_time": "2024-03-02T16:58:38.175859Z"
    }
   },
   "outputs": [
    {
     "name": "stdout",
     "output_type": "stream",
     "text": [
      "btc_krw\n"
     ]
    }
   ],
   "source": [
    "print(ticker2)"
   ]
  },
  {
   "cell_type": "markdown",
   "id": "dbd7c047",
   "metadata": {},
   "source": [
    "# 043 capitalize 메서드\n",
    "문자열 'hello'가 있을 때 이를 'Hello'로 변경해보세요."
   ]
  },
  {
   "cell_type": "code",
   "execution_count": 8,
   "id": "37a35993",
   "metadata": {
    "ExecuteTime": {
     "end_time": "2024-03-02T16:59:08.486160Z",
     "start_time": "2024-03-02T16:59:08.479137Z"
    }
   },
   "outputs": [],
   "source": [
    "hello=\"hello\""
   ]
  },
  {
   "cell_type": "code",
   "execution_count": 9,
   "id": "35f83247",
   "metadata": {
    "ExecuteTime": {
     "end_time": "2024-03-02T16:59:26.545691Z",
     "start_time": "2024-03-02T16:59:26.539023Z"
    }
   },
   "outputs": [
    {
     "name": "stdout",
     "output_type": "stream",
     "text": [
      "Hello\n"
     ]
    }
   ],
   "source": [
    "print(hello.capitalize())"
   ]
  },
  {
   "cell_type": "markdown",
   "id": "3dc1e450",
   "metadata": {},
   "source": [
    "# 044 endswith 메서드\n",
    "파일 이름이 문자열로 저장되어 있을 때 endswith 메서드를 사용해서 파일 이름이 'xlsx'로 끝나는지 확인해보세요.  \n",
    "file_name = \"보고서.xlsx\""
   ]
  },
  {
   "cell_type": "code",
   "execution_count": 10,
   "id": "d3a782af",
   "metadata": {
    "ExecuteTime": {
     "end_time": "2024-03-02T16:59:56.922810Z",
     "start_time": "2024-03-02T16:59:56.905444Z"
    }
   },
   "outputs": [
    {
     "data": {
      "text/plain": [
       "True"
      ]
     },
     "execution_count": 10,
     "metadata": {},
     "output_type": "execute_result"
    }
   ],
   "source": [
    "file_name = \"보고서.xlsx\"\n",
    "file_name.endswith(\"xlsx\")"
   ]
  },
  {
   "cell_type": "markdown",
   "id": "e93138db",
   "metadata": {},
   "source": [
    "# 045 endswith 메서드\n",
    "파일 이름이 문자열로 저장되어 있을 때 endswith 메서드를 사용해서 파일 이름이 'xlsx' 또는 'xls'로 끝나는지 확인해보세요.  \n",
    "file_name = \"보고서.xlsx\""
   ]
  },
  {
   "cell_type": "code",
   "execution_count": 11,
   "id": "813728da",
   "metadata": {
    "ExecuteTime": {
     "end_time": "2024-03-02T17:01:21.879036Z",
     "start_time": "2024-03-02T17:01:21.867766Z"
    }
   },
   "outputs": [
    {
     "data": {
      "text/plain": [
       "True"
      ]
     },
     "execution_count": 11,
     "metadata": {},
     "output_type": "execute_result"
    }
   ],
   "source": [
    "file_name = \"보고서.xlsx\"\n",
    "file_name.endswith((\"xlsx\", \"xls\"))"
   ]
  },
  {
   "cell_type": "markdown",
   "id": "7a00ebcd",
   "metadata": {},
   "source": [
    "# 046  startswith 메서드\n",
    "파일 이름이 문자열로 저장되어 있을 때 startswith 메서드를 사용해서 파일 이름이 '2020'로 시작하는지 확인해보세요. \n",
    "file_name = \"2020_보고서.xlsx\""
   ]
  },
  {
   "cell_type": "code",
   "execution_count": 15,
   "id": "40d33695",
   "metadata": {
    "ExecuteTime": {
     "end_time": "2024-03-02T17:03:28.707332Z",
     "start_time": "2024-03-02T17:03:28.698307Z"
    }
   },
   "outputs": [
    {
     "data": {
      "text/plain": [
       "True"
      ]
     },
     "execution_count": 15,
     "metadata": {},
     "output_type": "execute_result"
    }
   ],
   "source": [
    "file_name = \"2020_보고서.xlsx\"\n",
    "file_name.startswith(\"2020\")"
   ]
  },
  {
   "cell_type": "markdown",
   "id": "fe6506c6",
   "metadata": {},
   "source": [
    "# 7 047 split 메서드\n",
    "다음과 같은 문자열이 있을 때 공백을 기준으로 문자열을 나눠보세요.  \n",
    "a = \"hello world\""
   ]
  },
  {
   "cell_type": "code",
   "execution_count": 13,
   "id": "38caef24",
   "metadata": {
    "ExecuteTime": {
     "end_time": "2024-03-02T17:02:45.928083Z",
     "start_time": "2024-03-02T17:02:45.917527Z"
    }
   },
   "outputs": [
    {
     "data": {
      "text/plain": [
       "['hello', 'world']"
      ]
     },
     "execution_count": 13,
     "metadata": {},
     "output_type": "execute_result"
    }
   ],
   "source": [
    "a = \"hello world\"\n",
    "a.split()"
   ]
  },
  {
   "cell_type": "markdown",
   "id": "ec1bdf37",
   "metadata": {},
   "source": [
    "# 048 split 메서드\n",
    "다음과 같이 문자열이 있을 때 btc와 krw로 나눠보세요.  \n",
    "ticker = \"btc_krw\""
   ]
  },
  {
   "cell_type": "code",
   "execution_count": 16,
   "id": "8badc068",
   "metadata": {
    "ExecuteTime": {
     "end_time": "2024-03-02T17:03:34.712689Z",
     "start_time": "2024-03-02T17:03:34.700622Z"
    }
   },
   "outputs": [
    {
     "data": {
      "text/plain": [
       "['btc', 'krw']"
      ]
     },
     "execution_count": 16,
     "metadata": {},
     "output_type": "execute_result"
    }
   ],
   "source": [
    "ticker = \"btc_krw\"\n",
    "ticker.split(\"_\")"
   ]
  },
  {
   "cell_type": "markdown",
   "id": "f9a292fb",
   "metadata": {},
   "source": [
    "# 049 split 메서드\n",
    "다음과 같이 날짜를 표현하는 문자열이 있을 때 연도, 월, 일로 나눠보세요.  \n",
    "date = \"2020-05-01\""
   ]
  },
  {
   "cell_type": "code",
   "execution_count": 17,
   "id": "1426374d",
   "metadata": {
    "ExecuteTime": {
     "end_time": "2024-03-02T17:04:07.220312Z",
     "start_time": "2024-03-02T17:04:07.211057Z"
    }
   },
   "outputs": [
    {
     "data": {
      "text/plain": [
       "['2020', '05', '01']"
      ]
     },
     "execution_count": 17,
     "metadata": {},
     "output_type": "execute_result"
    }
   ],
   "source": [
    "date = \"2020-05-01\"\n",
    "date.split(\"-\")"
   ]
  },
  {
   "cell_type": "markdown",
   "id": "1b138e2a",
   "metadata": {},
   "source": [
    "# 050 rstrip 메서드\n",
    "문자열의 오른쪽에 공백이 있을 때 이를 제거해보세요.  \n",
    "data = \"039490     \""
   ]
  },
  {
   "cell_type": "code",
   "execution_count": 18,
   "id": "e87d6d41",
   "metadata": {
    "ExecuteTime": {
     "end_time": "2024-03-02T17:04:36.789147Z",
     "start_time": "2024-03-02T17:04:36.783092Z"
    }
   },
   "outputs": [],
   "source": [
    "data = \"039490     \"\n",
    "data = data.rstrip()"
   ]
  },
  {
   "cell_type": "code",
   "execution_count": 19,
   "id": "2f63e744",
   "metadata": {
    "ExecuteTime": {
     "end_time": "2024-03-02T17:04:50.025024Z",
     "start_time": "2024-03-02T17:04:50.017297Z"
    }
   },
   "outputs": [
    {
     "name": "stdout",
     "output_type": "stream",
     "text": [
      "039490\n"
     ]
    }
   ],
   "source": [
    "print(data)"
   ]
  },
  {
   "cell_type": "code",
   "execution_count": null,
   "id": "95a3b1cb",
   "metadata": {},
   "outputs": [],
   "source": []
  }
 ],
 "metadata": {
  "kernelspec": {
   "display_name": "Python 3 (ipykernel)",
   "language": "python",
   "name": "python3"
  },
  "language_info": {
   "codemirror_mode": {
    "name": "ipython",
    "version": 3
   },
   "file_extension": ".py",
   "mimetype": "text/x-python",
   "name": "python",
   "nbconvert_exporter": "python",
   "pygments_lexer": "ipython3",
   "version": "3.11.5"
  },
  "toc": {
   "base_numbering": 1,
   "nav_menu": {},
   "number_sections": true,
   "sideBar": true,
   "skip_h1_title": false,
   "title_cell": "Table of Contents",
   "title_sidebar": "Contents",
   "toc_cell": false,
   "toc_position": {},
   "toc_section_display": true,
   "toc_window_display": false
  }
 },
 "nbformat": 4,
 "nbformat_minor": 5
}
