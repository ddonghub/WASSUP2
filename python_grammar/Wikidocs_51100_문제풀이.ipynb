{
 "cells": [
  {
   "cell_type": "markdown",
   "id": "f62e5109",
   "metadata": {},
   "source": [
    "# 051 리스트 생성\n",
    "2016년 11월 영화 예매 순위 기준 top3는 다음과 같습니다. 영화 제목을 movie_rank 이름의 리스트에 저장해보세요. (순위 정보는 저장하지 않습니다.)  \n",
    "\n",
    "\n",
    "순위\t영화   \n",
    "1\t닥터 스트레인지   \n",
    "2\t스플릿   \n",
    "3\t럭키   "
   ]
  },
  {
   "cell_type": "code",
   "execution_count": 7,
   "id": "8aa4de0a",
   "metadata": {
    "ExecuteTime": {
     "end_time": "2024-03-04T04:15:52.480913Z",
     "start_time": "2024-03-04T04:15:52.476441Z"
    }
   },
   "outputs": [
    {
     "name": "stdout",
     "output_type": "stream",
     "text": [
      "['닥터 스트레인지', '스플릿', ' 럭키']\n"
     ]
    }
   ],
   "source": [
    "movie_rank=[\"닥터 스트레인지\", \"스플릿\", \" 럭키\"]\n",
    "print(movie_rank)"
   ]
  },
  {
   "cell_type": "markdown",
   "id": "a26c38b7",
   "metadata": {},
   "source": [
    "# 052 리스트에 원소 추가\n",
    "051의 movie_rank 리스트에 \"배트맨\"을 추가하라."
   ]
  },
  {
   "cell_type": "code",
   "execution_count": 8,
   "id": "dcf6bcb0",
   "metadata": {
    "ExecuteTime": {
     "end_time": "2024-03-04T04:15:55.459436Z",
     "start_time": "2024-03-04T04:15:55.455368Z"
    }
   },
   "outputs": [
    {
     "name": "stdout",
     "output_type": "stream",
     "text": [
      "['닥터 스트레인지', '스플릿', ' 럭키', '배트맨']\n"
     ]
    }
   ],
   "source": [
    "movie_rank.append(\"배트맨\")\n",
    "print(movie_rank)"
   ]
  },
  {
   "cell_type": "markdown",
   "id": "a10e08d3",
   "metadata": {},
   "source": [
    "# 053\n",
    "movie_rank 리스트에는 아래와 같이 네 개의 영화 제목이 바인딩되어 있다. \"슈퍼맨\"을 \"닥터 스트레인지\"와 \"스플릿\" 사이에 추가하라.   \n",
    "movie_rank = ['닥터 스트레인지', '스플릿', '럭키', '배트맨']  "
   ]
  },
  {
   "cell_type": "code",
   "execution_count": 9,
   "id": "4a636bd3",
   "metadata": {
    "ExecuteTime": {
     "end_time": "2024-03-04T04:16:46.841731Z",
     "start_time": "2024-03-04T04:16:46.836291Z"
    }
   },
   "outputs": [],
   "source": [
    "movie_rank.insert(1, \"슈퍼맨\")"
   ]
  },
  {
   "cell_type": "code",
   "execution_count": 11,
   "id": "c9de2c5f",
   "metadata": {
    "ExecuteTime": {
     "end_time": "2024-03-04T04:16:58.144901Z",
     "start_time": "2024-03-04T04:16:58.138990Z"
    }
   },
   "outputs": [
    {
     "name": "stdout",
     "output_type": "stream",
     "text": [
      "['닥터 스트레인지', '슈퍼맨', '스플릿', ' 럭키', '배트맨']\n"
     ]
    }
   ],
   "source": [
    "print(movie_rank)"
   ]
  },
  {
   "cell_type": "markdown",
   "id": "c3c3d069",
   "metadata": {},
   "source": [
    "# 054\n",
    "movie_rank 리스트에서 '럭키'를 삭제하라.\n",
    "\n",
    "movie_rank = ['닥터 스트레인지', '슈퍼맨', '스플릿', '럭키', '배트맨']"
   ]
  },
  {
   "cell_type": "code",
   "execution_count": 13,
   "id": "ab1fe195",
   "metadata": {
    "ExecuteTime": {
     "end_time": "2024-03-04T04:17:52.093014Z",
     "start_time": "2024-03-04T04:17:52.087396Z"
    }
   },
   "outputs": [
    {
     "name": "stdout",
     "output_type": "stream",
     "text": [
      "['닥터 스트레인지', '슈퍼맨', '스플릿', '배트맨']\n"
     ]
    }
   ],
   "source": [
    "del movie_rank[3]\n",
    "print(movie_rank)"
   ]
  },
  {
   "cell_type": "markdown",
   "id": "5c03e57a",
   "metadata": {},
   "source": [
    "# 055\n",
    "movie_rank 리스트에서 '스플릿' 과 '배트맨'을 를 삭제하라.\n",
    "\n",
    "movie_rank = ['닥터 스트레인지', '슈퍼맨', '스플릿', '배트맨']"
   ]
  },
  {
   "cell_type": "code",
   "execution_count": 14,
   "id": "e7fb2d39",
   "metadata": {
    "ExecuteTime": {
     "end_time": "2024-03-04T04:18:30.166829Z",
     "start_time": "2024-03-04T04:18:30.160214Z"
    }
   },
   "outputs": [
    {
     "data": {
      "text/plain": [
       "['닥터 스트레인지', '슈퍼맨', '스플릿', '배트맨']"
      ]
     },
     "execution_count": 14,
     "metadata": {},
     "output_type": "execute_result"
    }
   ],
   "source": [
    "movie_rank"
   ]
  },
  {
   "cell_type": "code",
   "execution_count": 15,
   "id": "02263ae8",
   "metadata": {
    "ExecuteTime": {
     "end_time": "2024-03-04T04:18:51.628348Z",
     "start_time": "2024-03-04T04:18:51.621366Z"
    }
   },
   "outputs": [
    {
     "name": "stdout",
     "output_type": "stream",
     "text": [
      "['닥터 스트레인지', '슈퍼맨', '배트맨']\n"
     ]
    }
   ],
   "source": [
    "del movie_rank[2]\n",
    "print(movie_rank)"
   ]
  },
  {
   "cell_type": "code",
   "execution_count": 16,
   "id": "34ddbc7a",
   "metadata": {
    "ExecuteTime": {
     "end_time": "2024-03-04T04:18:56.270730Z",
     "start_time": "2024-03-04T04:18:56.262795Z"
    }
   },
   "outputs": [
    {
     "name": "stdout",
     "output_type": "stream",
     "text": [
      "['닥터 스트레인지', '슈퍼맨']\n"
     ]
    }
   ],
   "source": [
    "del movie_rank[2]\n",
    "print(movie_rank)"
   ]
  },
  {
   "cell_type": "markdown",
   "id": "24083aa2",
   "metadata": {},
   "source": [
    "# 056\n",
    "lang1과 lang2 리스트가 있을 때 lang1과 lang2의 원소를 모두 갖고 있는 langs 리스트를 만들어라.\n",
    "\n",
    ">> lang1 = [\"C\", \"C++\", \"JAVA\"]   \n",
    ">> lang2 = [\"Python\", \"Go\", \"C#\"]"
   ]
  },
  {
   "cell_type": "code",
   "execution_count": 17,
   "id": "29f4410b",
   "metadata": {
    "ExecuteTime": {
     "end_time": "2024-03-04T04:19:38.052311Z",
     "start_time": "2024-03-04T04:19:38.048173Z"
    }
   },
   "outputs": [],
   "source": [
    "lang1 = [\"C\", \"C++\", \"JAVA\"]\n",
    "lang2 = [\"Python\", \"Go\", \"C#\"]"
   ]
  },
  {
   "cell_type": "code",
   "execution_count": 20,
   "id": "f9187130",
   "metadata": {
    "ExecuteTime": {
     "end_time": "2024-03-04T04:20:08.372430Z",
     "start_time": "2024-03-04T04:20:08.368431Z"
    }
   },
   "outputs": [],
   "source": [
    "langs = lang1+lang2"
   ]
  },
  {
   "cell_type": "code",
   "execution_count": 21,
   "id": "a52b22c8",
   "metadata": {
    "ExecuteTime": {
     "end_time": "2024-03-04T04:20:09.389278Z",
     "start_time": "2024-03-04T04:20:09.384602Z"
    }
   },
   "outputs": [
    {
     "name": "stdout",
     "output_type": "stream",
     "text": [
      "['C', 'C++', 'JAVA', 'Python', 'Go', 'C#']\n"
     ]
    }
   ],
   "source": [
    "print(langs)"
   ]
  },
  {
   "cell_type": "markdown",
   "id": "0616be1d",
   "metadata": {},
   "source": [
    "# 057\n",
    "다음 리스트에서 최댓값과 최솟값을 출력하라. (힌트: min(), max() 함수 사용)   \n",
    "   \n",
    "nums = [1, 2, 3, 4, 5, 6, 7]\n",
    "\n",
    "\n",
    "실행 예:    \n",
    "max:  7    \n",
    "min:  1   "
   ]
  },
  {
   "cell_type": "code",
   "execution_count": 23,
   "id": "b3425cee",
   "metadata": {
    "ExecuteTime": {
     "end_time": "2024-03-04T04:20:46.777991Z",
     "start_time": "2024-03-04T04:20:46.774002Z"
    }
   },
   "outputs": [],
   "source": [
    "nums = [1, 2, 3, 4, 5, 6, 7]"
   ]
  },
  {
   "cell_type": "code",
   "execution_count": 28,
   "id": "1a3c10e3",
   "metadata": {
    "ExecuteTime": {
     "end_time": "2024-03-04T04:24:15.499171Z",
     "start_time": "2024-03-04T04:24:15.494157Z"
    }
   },
   "outputs": [
    {
     "name": "stdout",
     "output_type": "stream",
     "text": [
      "max: 7\n",
      "min: 1\n"
     ]
    }
   ],
   "source": [
    "print(\"max:\",max(nums))\n",
    "print(\"min:\",min(nums))"
   ]
  },
  {
   "cell_type": "markdown",
   "id": "3d45d7fe",
   "metadata": {},
   "source": [
    "# 58\n",
    "다음 리스트의 합을 출력하라.\n",
    "\n",
    "nums = [1, 2, 3, 4, 5]    \n",
    "실행 예:    \n",
    "15"
   ]
  },
  {
   "cell_type": "code",
   "execution_count": 29,
   "id": "418a7c92",
   "metadata": {
    "ExecuteTime": {
     "end_time": "2024-03-04T04:24:44.490321Z",
     "start_time": "2024-03-04T04:24:44.485180Z"
    }
   },
   "outputs": [],
   "source": [
    "nums = [1, 2, 3, 4, 5]"
   ]
  },
  {
   "cell_type": "code",
   "execution_count": 30,
   "id": "a59887a8",
   "metadata": {
    "ExecuteTime": {
     "end_time": "2024-03-04T04:24:50.146644Z",
     "start_time": "2024-03-04T04:24:50.139873Z"
    }
   },
   "outputs": [
    {
     "data": {
      "text/plain": [
       "15"
      ]
     },
     "execution_count": 30,
     "metadata": {},
     "output_type": "execute_result"
    }
   ],
   "source": [
    "sum(nums)"
   ]
  },
  {
   "cell_type": "markdown",
   "id": "fdac17b1",
   "metadata": {},
   "source": [
    "# 059\n",
    "다음 리스트에 저장된 데이터의 개수를 화면에 구하하라.     \n",
    "\n",
    "cook = [\"피자\", \"김밥\", \"만두\", \"양념치킨\", \"족발\", \"피자\", \"김치만두\", \"쫄면\", \"소시지\", \"라면\", \"팥빙수\", \"김치전\"]"
   ]
  },
  {
   "cell_type": "code",
   "execution_count": 31,
   "id": "97fe6f4a",
   "metadata": {
    "ExecuteTime": {
     "end_time": "2024-03-04T04:25:18.030710Z",
     "start_time": "2024-03-04T04:25:18.024298Z"
    }
   },
   "outputs": [
    {
     "data": {
      "text/plain": [
       "12"
      ]
     },
     "execution_count": 31,
     "metadata": {},
     "output_type": "execute_result"
    }
   ],
   "source": [
    "cook = [\"피자\", \"김밥\", \"만두\", \"양념치킨\", \"족발\", \"피자\", \"김치만두\", \"쫄면\", \"소시지\", \"라면\", \"팥빙수\", \"김치전\"]\n",
    "len(cook)"
   ]
  },
  {
   "cell_type": "markdown",
   "id": "08f5a1c7",
   "metadata": {},
   "source": [
    "# 060\n",
    "다음 리스트의 평균을 출력하라.   \n",
    "\n",
    "nums = [1, 2, 3, 4, 5]   \n",
    "실행 예:   \n",
    "3.0"
   ]
  },
  {
   "cell_type": "code",
   "execution_count": 33,
   "id": "ec764b65",
   "metadata": {
    "ExecuteTime": {
     "end_time": "2024-03-04T04:26:17.145479Z",
     "start_time": "2024-03-04T04:26:17.140091Z"
    }
   },
   "outputs": [
    {
     "name": "stdout",
     "output_type": "stream",
     "text": [
      "3.0\n"
     ]
    }
   ],
   "source": [
    "avg=sum(nums)/len(nums)\n",
    "print(avg)"
   ]
  },
  {
   "cell_type": "markdown",
   "id": "b3344430",
   "metadata": {},
   "source": [
    "# 061\n",
    "price 변수에는 날짜와 종가 정보가 저장돼 있다. 날짜 정보를 제외하고 가격 정보만을 출력하라. (힌트 : 슬라이싱)   \n",
    "\n",
    "price = ['20180728', 100, 130, 140, 150, 160, 170]   \n",
    "출력 예시:   \n",
    "[100, 130, 140, 150, 160, 170]   "
   ]
  },
  {
   "cell_type": "code",
   "execution_count": 34,
   "id": "cc1e6200",
   "metadata": {
    "ExecuteTime": {
     "end_time": "2024-03-04T04:32:03.627818Z",
     "start_time": "2024-03-04T04:32:03.623829Z"
    }
   },
   "outputs": [],
   "source": [
    "price = ['20180728', 100, 130, 140, 150, 160, 170]"
   ]
  },
  {
   "cell_type": "code",
   "execution_count": 35,
   "id": "1ef1ec54",
   "metadata": {
    "ExecuteTime": {
     "end_time": "2024-03-04T04:32:29.184644Z",
     "start_time": "2024-03-04T04:32:29.176451Z"
    }
   },
   "outputs": [
    {
     "name": "stdout",
     "output_type": "stream",
     "text": [
      "[100, 130, 140, 150, 160, 170]\n"
     ]
    }
   ],
   "source": [
    "print(price[1:])"
   ]
  },
  {
   "cell_type": "markdown",
   "id": "bb50b360",
   "metadata": {},
   "source": [
    "# 062\n",
    "슬라이싱을 사용해서 홀수만 출력하라.   \n",
    "\n",
    "nums = [1, 2, 3, 4, 5, 6, 7, 8, 9, 10]"
   ]
  },
  {
   "cell_type": "code",
   "execution_count": 36,
   "id": "e38f679f",
   "metadata": {
    "ExecuteTime": {
     "end_time": "2024-03-04T04:35:37.352881Z",
     "start_time": "2024-03-04T04:35:37.346460Z"
    }
   },
   "outputs": [],
   "source": [
    "nums = [1, 2, 3, 4, 5, 6, 7, 8, 9, 10]"
   ]
  },
  {
   "cell_type": "code",
   "execution_count": 37,
   "id": "e8054efb",
   "metadata": {
    "ExecuteTime": {
     "end_time": "2024-03-04T04:35:54.165847Z",
     "start_time": "2024-03-04T04:35:54.159774Z"
    }
   },
   "outputs": [
    {
     "name": "stdout",
     "output_type": "stream",
     "text": [
      "[1, 3, 5, 7, 9]\n"
     ]
    }
   ],
   "source": [
    "print(nums[::2])"
   ]
  },
  {
   "cell_type": "markdown",
   "id": "1fd772bb",
   "metadata": {},
   "source": [
    "# 063\n",
    "슬라이싱을 사용해서 짝수만 출력하라."
   ]
  },
  {
   "cell_type": "code",
   "execution_count": 38,
   "id": "c826993e",
   "metadata": {
    "ExecuteTime": {
     "end_time": "2024-03-04T04:36:18.187667Z",
     "start_time": "2024-03-04T04:36:18.182169Z"
    }
   },
   "outputs": [
    {
     "name": "stdout",
     "output_type": "stream",
     "text": [
      "[2, 4, 6, 8, 10]\n"
     ]
    }
   ],
   "source": [
    "nums = [1, 2, 3, 4, 5, 6, 7, 8, 9, 10]\n",
    "print(nums[1::2])"
   ]
  },
  {
   "cell_type": "markdown",
   "id": "3777f8bc",
   "metadata": {},
   "source": [
    "# 064\n",
    "슬라이싱을 사용해서 리스트의 숫자를 역 방향으로 출력하라.  \n",
    "nums = [1, 2, 3, 4, 5]"
   ]
  },
  {
   "cell_type": "code",
   "execution_count": 40,
   "id": "74e96136",
   "metadata": {
    "ExecuteTime": {
     "end_time": "2024-03-04T04:37:30.548714Z",
     "start_time": "2024-03-04T04:37:30.542716Z"
    }
   },
   "outputs": [
    {
     "name": "stdout",
     "output_type": "stream",
     "text": [
      "[5, 4, 3, 2, 1]\n"
     ]
    }
   ],
   "source": [
    "nums = [1, 2, 3, 4, 5]\n",
    "print(nums[::-1])"
   ]
  },
  {
   "cell_type": "markdown",
   "id": "82d2c822",
   "metadata": {},
   "source": [
    "# 065\n",
    "interest 리스트에는 아래의 데이터가 바인딩되어 있다.   \n",
    "\n",
    "interest = ['삼성전자', 'LG전자', 'Naver']  \n",
    "\n",
    "interest 리스트를 사용하여 아래와 같이 화면에 출력하라.\n",
    "\n",
    "출력 예시:\n",
    "삼성전자 Naver"
   ]
  },
  {
   "cell_type": "code",
   "execution_count": 41,
   "id": "b767ff0b",
   "metadata": {
    "ExecuteTime": {
     "end_time": "2024-03-04T04:38:29.305984Z",
     "start_time": "2024-03-04T04:38:29.299770Z"
    }
   },
   "outputs": [
    {
     "name": "stdout",
     "output_type": "stream",
     "text": [
      "삼성전자 Naver\n"
     ]
    }
   ],
   "source": [
    "interest = ['삼성전자', 'LG전자', 'Naver']\n",
    "print(interest[0],interest[2])"
   ]
  },
  {
   "cell_type": "markdown",
   "id": "37a0c2dc",
   "metadata": {},
   "source": [
    "# 066 join 메서드\n",
    "interest 리스트에는 아래의 데이터가 바인딩되어 있다.   \n",
    "\n",
    "interest = ['삼성전자', 'LG전자', 'Naver', 'SK하이닉스', '미래에셋대우']   \n",
    "interest 리스트를 사용하여 아래와 같이 화면에 출력하라.   \n",
    "\n",
    "출력 예시: \n",
    "삼성전자 LG전자 Naver SK하이닉스 미래에셋대우"
   ]
  },
  {
   "cell_type": "code",
   "execution_count": 42,
   "id": "d346afbd",
   "metadata": {
    "ExecuteTime": {
     "end_time": "2024-03-04T04:39:20.420928Z",
     "start_time": "2024-03-04T04:39:20.416194Z"
    }
   },
   "outputs": [
    {
     "name": "stdout",
     "output_type": "stream",
     "text": [
      "삼성전자 LG전자 Naver SK하이닉스 미래에셋대우\n"
     ]
    }
   ],
   "source": [
    "interest = ['삼성전자', 'LG전자', 'Naver', 'SK하이닉스', '미래에셋대우']\n",
    "print(\" \".join(interest))"
   ]
  },
  {
   "cell_type": "markdown",
   "id": "e0085618",
   "metadata": {},
   "source": [
    "# 067 join 메서드\n",
    "interest 리스트에는 아래의 데이터가 바인딩되어 있다.   \n",
    "\n",
    "interest = ['삼성전자', 'LG전자', 'Naver', 'SK하이닉스', '미래에셋대우']   \n",
    "interest 리스트를 사용하여 아래와 같이 화면에 출력하라.   \n",
    "\n",
    "출력 예시:    \n",
    "삼성전자/LG전자/Naver/SK하이닉스/미래에셋대우"
   ]
  },
  {
   "cell_type": "code",
   "execution_count": 43,
   "id": "6c672e17",
   "metadata": {
    "ExecuteTime": {
     "end_time": "2024-03-04T04:40:11.845524Z",
     "start_time": "2024-03-04T04:40:11.840445Z"
    }
   },
   "outputs": [
    {
     "name": "stdout",
     "output_type": "stream",
     "text": [
      "삼성전자/LG전자/Naver/SK하이닉스/미래에셋대우\n"
     ]
    }
   ],
   "source": [
    "print(\"/\".join(interest))"
   ]
  },
  {
   "cell_type": "markdown",
   "id": "6a280510",
   "metadata": {},
   "source": [
    "# 068 join 메서드\n",
    "interest 리스트에는 아래의 데이터가 바인딩되어 있다.   \n",
    "\n",
    "interest = ['삼성전자', 'LG전자', 'Naver', 'SK하이닉스', '미래에셋대우']   \n",
    "join() 메서드를 사용해서 interest 리스트를 아래와 같이 화면에 출력하라.   \n",
    "\n",
    "출력 예시:  \n",
    "삼성전자  \n",
    "LG전자  \n",
    "Naver  \n",
    "SK하이닉스  \n",
    "미래에셋대우  "
   ]
  },
  {
   "cell_type": "code",
   "execution_count": 44,
   "id": "e8cb1479",
   "metadata": {
    "ExecuteTime": {
     "end_time": "2024-03-04T04:40:48.809070Z",
     "start_time": "2024-03-04T04:40:48.801835Z"
    }
   },
   "outputs": [
    {
     "name": "stdout",
     "output_type": "stream",
     "text": [
      "삼성전자\n",
      "LG전자\n",
      "Naver\n",
      "SK하이닉스\n",
      "미래에셋대우\n"
     ]
    }
   ],
   "source": [
    "print(\"\\n\".join(interest))"
   ]
  },
  {
   "cell_type": "markdown",
   "id": "caa39b61",
   "metadata": {},
   "source": [
    "# 069 문자열 split 메서드\n",
    "회사 이름이 슬래시 ('/')로 구분되어 하나의 문자열로 저장되어 있다.   \n",
    "\n",
    "string = \"삼성전자/LG전자/Naver\"   \n",
    "이를 interest 이름의 리스트로 분리 저장하라.   \n",
    "\n",
    "실행 예시   \n",
    ">> print(interest)   \n",
    "['삼성전자', 'LG전자', 'Naver']"
   ]
  },
  {
   "cell_type": "code",
   "execution_count": 45,
   "id": "502b8920",
   "metadata": {
    "ExecuteTime": {
     "end_time": "2024-03-04T04:41:54.596267Z",
     "start_time": "2024-03-04T04:41:54.591218Z"
    }
   },
   "outputs": [
    {
     "name": "stdout",
     "output_type": "stream",
     "text": [
      "['삼성전자', 'LG전자', 'Naver']\n"
     ]
    }
   ],
   "source": [
    "string = \"삼성전자/LG전자/Naver\"\n",
    "interest = string.split(\"/\")\n",
    "print(interest)"
   ]
  },
  {
   "cell_type": "markdown",
   "id": "14d08a2e",
   "metadata": {},
   "source": [
    "# 070 리스트 정렬\n",
    "리스트에 있는 값을 오름차순으로 정렬하세요.    \n",
    "\n",
    "data = [2, 4, 3, 1, 5, 10, 9]"
   ]
  },
  {
   "cell_type": "code",
   "execution_count": 47,
   "id": "ea9f109e",
   "metadata": {
    "ExecuteTime": {
     "end_time": "2024-03-04T04:42:21.330298Z",
     "start_time": "2024-03-04T04:42:21.324270Z"
    }
   },
   "outputs": [
    {
     "name": "stdout",
     "output_type": "stream",
     "text": [
      "[1, 2, 3, 4, 5, 9, 10]\n"
     ]
    }
   ],
   "source": [
    "data = [2, 4, 3, 1, 5, 10, 9]\n",
    "data.sort()\n",
    "print(data)"
   ]
  },
  {
   "cell_type": "markdown",
   "id": "e70f009d",
   "metadata": {},
   "source": [
    "# 071\n",
    "my_variable 이름의 비어있는 튜플을 만들라."
   ]
  },
  {
   "cell_type": "code",
   "execution_count": 48,
   "id": "7626accf",
   "metadata": {
    "ExecuteTime": {
     "end_time": "2024-03-04T04:43:46.098348Z",
     "start_time": "2024-03-04T04:43:46.094324Z"
    }
   },
   "outputs": [
    {
     "name": "stdout",
     "output_type": "stream",
     "text": [
      "()\n"
     ]
    }
   ],
   "source": [
    "my_variable=()\n",
    "print(my_variable)"
   ]
  },
  {
   "cell_type": "markdown",
   "id": "5b686f1f",
   "metadata": {},
   "source": [
    "# 072\n",
    "2016년 11월 영화 예매 순위 기준 top3는 다음과 같다. 영화 제목을 movie_rank 이름의 튜플에 저장하라. (순위 정보는 저장하지 않는다.)   \n",
    "\n",
    "순위\t영화   \n",
    "1\t닥터 스트레인지   \n",
    "2\t스플릿   \n",
    "3\t럭키   "
   ]
  },
  {
   "cell_type": "code",
   "execution_count": 49,
   "id": "79b11064",
   "metadata": {
    "ExecuteTime": {
     "end_time": "2024-03-04T04:47:47.654245Z",
     "start_time": "2024-03-04T04:47:47.647806Z"
    }
   },
   "outputs": [
    {
     "name": "stdout",
     "output_type": "stream",
     "text": [
      "('닥터 스트레인지', '스플릿', '럭키')\n"
     ]
    }
   ],
   "source": [
    "movie_rank=(\"닥터 스트레인지\", \"스플릿\", \"럭키\")\n",
    "print(movie_rank)"
   ]
  },
  {
   "cell_type": "markdown",
   "id": "c8564ff8",
   "metadata": {},
   "source": [
    "# 073\n",
    "숫자 1 이 저장된 튜플을 생성하라."
   ]
  },
  {
   "cell_type": "code",
   "execution_count": null,
   "id": "75a1f0db",
   "metadata": {},
   "outputs": [],
   "source": []
  }
 ],
 "metadata": {
  "kernelspec": {
   "display_name": "Python 3 (ipykernel)",
   "language": "python",
   "name": "python3"
  },
  "language_info": {
   "codemirror_mode": {
    "name": "ipython",
    "version": 3
   },
   "file_extension": ".py",
   "mimetype": "text/x-python",
   "name": "python",
   "nbconvert_exporter": "python",
   "pygments_lexer": "ipython3",
   "version": "3.11.5"
  },
  "toc": {
   "base_numbering": 1,
   "nav_menu": {},
   "number_sections": true,
   "sideBar": true,
   "skip_h1_title": false,
   "title_cell": "Table of Contents",
   "title_sidebar": "Contents",
   "toc_cell": false,
   "toc_position": {},
   "toc_section_display": true,
   "toc_window_display": false
  }
 },
 "nbformat": 4,
 "nbformat_minor": 5
}
