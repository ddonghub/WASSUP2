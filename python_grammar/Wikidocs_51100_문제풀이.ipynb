{
 "cells": [
  {
   "cell_type": "markdown",
   "id": "f62e5109",
   "metadata": {},
   "source": [
    "# 051 리스트 생성\n",
    "2016년 11월 영화 예매 순위 기준 top3는 다음과 같습니다. 영화 제목을 movie_rank 이름의 리스트에 저장해보세요. (순위 정보는 저장하지 않습니다.)  \n",
    "\n",
    "\n",
    "순위\t영화   \n",
    "1\t닥터 스트레인지   \n",
    "2\t스플릿   \n",
    "3\t럭키   "
   ]
  },
  {
   "cell_type": "code",
   "execution_count": 7,
   "id": "8aa4de0a",
   "metadata": {
    "ExecuteTime": {
     "end_time": "2024-03-04T04:15:52.480913Z",
     "start_time": "2024-03-04T04:15:52.476441Z"
    }
   },
   "outputs": [
    {
     "name": "stdout",
     "output_type": "stream",
     "text": [
      "['닥터 스트레인지', '스플릿', ' 럭키']\n"
     ]
    }
   ],
   "source": [
    "movie_rank=[\"닥터 스트레인지\", \"스플릿\", \" 럭키\"]\n",
    "print(movie_rank)"
   ]
  },
  {
   "cell_type": "markdown",
   "id": "a26c38b7",
   "metadata": {},
   "source": [
    "# 052 리스트에 원소 추가\n",
    "051의 movie_rank 리스트에 \"배트맨\"을 추가하라."
   ]
  },
  {
   "cell_type": "code",
   "execution_count": 8,
   "id": "dcf6bcb0",
   "metadata": {
    "ExecuteTime": {
     "end_time": "2024-03-04T04:15:55.459436Z",
     "start_time": "2024-03-04T04:15:55.455368Z"
    }
   },
   "outputs": [
    {
     "name": "stdout",
     "output_type": "stream",
     "text": [
      "['닥터 스트레인지', '스플릿', ' 럭키', '배트맨']\n"
     ]
    }
   ],
   "source": [
    "movie_rank.append(\"배트맨\")\n",
    "print(movie_rank)"
   ]
  },
  {
   "cell_type": "markdown",
   "id": "a10e08d3",
   "metadata": {},
   "source": [
    "# 053\n",
    "movie_rank 리스트에는 아래와 같이 네 개의 영화 제목이 바인딩되어 있다. \"슈퍼맨\"을 \"닥터 스트레인지\"와 \"스플릿\" 사이에 추가하라.   \n",
    "movie_rank = ['닥터 스트레인지', '스플릿', '럭키', '배트맨']  "
   ]
  },
  {
   "cell_type": "code",
   "execution_count": 9,
   "id": "4a636bd3",
   "metadata": {
    "ExecuteTime": {
     "end_time": "2024-03-04T04:16:46.841731Z",
     "start_time": "2024-03-04T04:16:46.836291Z"
    }
   },
   "outputs": [],
   "source": [
    "movie_rank.insert(1, \"슈퍼맨\")"
   ]
  },
  {
   "cell_type": "code",
   "execution_count": 11,
   "id": "c9de2c5f",
   "metadata": {
    "ExecuteTime": {
     "end_time": "2024-03-04T04:16:58.144901Z",
     "start_time": "2024-03-04T04:16:58.138990Z"
    }
   },
   "outputs": [
    {
     "name": "stdout",
     "output_type": "stream",
     "text": [
      "['닥터 스트레인지', '슈퍼맨', '스플릿', ' 럭키', '배트맨']\n"
     ]
    }
   ],
   "source": [
    "print(movie_rank)"
   ]
  },
  {
   "cell_type": "markdown",
   "id": "c3c3d069",
   "metadata": {},
   "source": [
    "# 054\n",
    "movie_rank 리스트에서 '럭키'를 삭제하라.\n",
    "\n",
    "movie_rank = ['닥터 스트레인지', '슈퍼맨', '스플릿', '럭키', '배트맨']"
   ]
  },
  {
   "cell_type": "code",
   "execution_count": 13,
   "id": "ab1fe195",
   "metadata": {
    "ExecuteTime": {
     "end_time": "2024-03-04T04:17:52.093014Z",
     "start_time": "2024-03-04T04:17:52.087396Z"
    }
   },
   "outputs": [
    {
     "name": "stdout",
     "output_type": "stream",
     "text": [
      "['닥터 스트레인지', '슈퍼맨', '스플릿', '배트맨']\n"
     ]
    }
   ],
   "source": [
    "del movie_rank[3]\n",
    "print(movie_rank)"
   ]
  },
  {
   "cell_type": "markdown",
   "id": "5c03e57a",
   "metadata": {},
   "source": [
    "# 055\n",
    "movie_rank 리스트에서 '스플릿' 과 '배트맨'을 를 삭제하라.\n",
    "\n",
    "movie_rank = ['닥터 스트레인지', '슈퍼맨', '스플릿', '배트맨']"
   ]
  },
  {
   "cell_type": "code",
   "execution_count": 14,
   "id": "e7fb2d39",
   "metadata": {
    "ExecuteTime": {
     "end_time": "2024-03-04T04:18:30.166829Z",
     "start_time": "2024-03-04T04:18:30.160214Z"
    }
   },
   "outputs": [
    {
     "data": {
      "text/plain": [
       "['닥터 스트레인지', '슈퍼맨', '스플릿', '배트맨']"
      ]
     },
     "execution_count": 14,
     "metadata": {},
     "output_type": "execute_result"
    }
   ],
   "source": [
    "movie_rank"
   ]
  },
  {
   "cell_type": "code",
   "execution_count": 15,
   "id": "02263ae8",
   "metadata": {
    "ExecuteTime": {
     "end_time": "2024-03-04T04:18:51.628348Z",
     "start_time": "2024-03-04T04:18:51.621366Z"
    }
   },
   "outputs": [
    {
     "name": "stdout",
     "output_type": "stream",
     "text": [
      "['닥터 스트레인지', '슈퍼맨', '배트맨']\n"
     ]
    }
   ],
   "source": [
    "del movie_rank[2]\n",
    "print(movie_rank)"
   ]
  },
  {
   "cell_type": "code",
   "execution_count": 16,
   "id": "34ddbc7a",
   "metadata": {
    "ExecuteTime": {
     "end_time": "2024-03-04T04:18:56.270730Z",
     "start_time": "2024-03-04T04:18:56.262795Z"
    }
   },
   "outputs": [
    {
     "name": "stdout",
     "output_type": "stream",
     "text": [
      "['닥터 스트레인지', '슈퍼맨']\n"
     ]
    }
   ],
   "source": [
    "del movie_rank[2]\n",
    "print(movie_rank)"
   ]
  },
  {
   "cell_type": "markdown",
   "id": "24083aa2",
   "metadata": {},
   "source": [
    "# 056\n",
    "lang1과 lang2 리스트가 있을 때 lang1과 lang2의 원소를 모두 갖고 있는 langs 리스트를 만들어라.\n",
    "\n",
    ">> lang1 = [\"C\", \"C++\", \"JAVA\"]   \n",
    ">> lang2 = [\"Python\", \"Go\", \"C#\"]"
   ]
  },
  {
   "cell_type": "code",
   "execution_count": 17,
   "id": "29f4410b",
   "metadata": {
    "ExecuteTime": {
     "end_time": "2024-03-04T04:19:38.052311Z",
     "start_time": "2024-03-04T04:19:38.048173Z"
    }
   },
   "outputs": [],
   "source": [
    "lang1 = [\"C\", \"C++\", \"JAVA\"]\n",
    "lang2 = [\"Python\", \"Go\", \"C#\"]"
   ]
  },
  {
   "cell_type": "code",
   "execution_count": 20,
   "id": "f9187130",
   "metadata": {
    "ExecuteTime": {
     "end_time": "2024-03-04T04:20:08.372430Z",
     "start_time": "2024-03-04T04:20:08.368431Z"
    }
   },
   "outputs": [],
   "source": [
    "langs = lang1+lang2"
   ]
  },
  {
   "cell_type": "code",
   "execution_count": 21,
   "id": "a52b22c8",
   "metadata": {
    "ExecuteTime": {
     "end_time": "2024-03-04T04:20:09.389278Z",
     "start_time": "2024-03-04T04:20:09.384602Z"
    }
   },
   "outputs": [
    {
     "name": "stdout",
     "output_type": "stream",
     "text": [
      "['C', 'C++', 'JAVA', 'Python', 'Go', 'C#']\n"
     ]
    }
   ],
   "source": [
    "print(langs)"
   ]
  },
  {
   "cell_type": "markdown",
   "id": "0616be1d",
   "metadata": {},
   "source": [
    "# 057\n",
    "다음 리스트에서 최댓값과 최솟값을 출력하라. (힌트: min(), max() 함수 사용)   \n",
    "   \n",
    "nums = [1, 2, 3, 4, 5, 6, 7]\n",
    "\n",
    "\n",
    "실행 예:    \n",
    "max:  7    \n",
    "min:  1   "
   ]
  },
  {
   "cell_type": "code",
   "execution_count": 23,
   "id": "b3425cee",
   "metadata": {
    "ExecuteTime": {
     "end_time": "2024-03-04T04:20:46.777991Z",
     "start_time": "2024-03-04T04:20:46.774002Z"
    }
   },
   "outputs": [],
   "source": [
    "nums = [1, 2, 3, 4, 5, 6, 7]"
   ]
  },
  {
   "cell_type": "code",
   "execution_count": 28,
   "id": "1a3c10e3",
   "metadata": {
    "ExecuteTime": {
     "end_time": "2024-03-04T04:24:15.499171Z",
     "start_time": "2024-03-04T04:24:15.494157Z"
    }
   },
   "outputs": [
    {
     "name": "stdout",
     "output_type": "stream",
     "text": [
      "max: 7\n",
      "min: 1\n"
     ]
    }
   ],
   "source": [
    "print(\"max:\",max(nums))\n",
    "print(\"min:\",min(nums))"
   ]
  },
  {
   "cell_type": "markdown",
   "id": "3d45d7fe",
   "metadata": {},
   "source": [
    "# 58\n",
    "다음 리스트의 합을 출력하라.\n",
    "\n",
    "nums = [1, 2, 3, 4, 5]    \n",
    "실행 예:    \n",
    "15"
   ]
  },
  {
   "cell_type": "code",
   "execution_count": 29,
   "id": "418a7c92",
   "metadata": {
    "ExecuteTime": {
     "end_time": "2024-03-04T04:24:44.490321Z",
     "start_time": "2024-03-04T04:24:44.485180Z"
    }
   },
   "outputs": [],
   "source": [
    "nums = [1, 2, 3, 4, 5]"
   ]
  },
  {
   "cell_type": "code",
   "execution_count": 30,
   "id": "a59887a8",
   "metadata": {
    "ExecuteTime": {
     "end_time": "2024-03-04T04:24:50.146644Z",
     "start_time": "2024-03-04T04:24:50.139873Z"
    }
   },
   "outputs": [
    {
     "data": {
      "text/plain": [
       "15"
      ]
     },
     "execution_count": 30,
     "metadata": {},
     "output_type": "execute_result"
    }
   ],
   "source": [
    "sum(nums)"
   ]
  },
  {
   "cell_type": "markdown",
   "id": "fdac17b1",
   "metadata": {},
   "source": [
    "# 059\n",
    "다음 리스트에 저장된 데이터의 개수를 화면에 구하하라.     \n",
    "\n",
    "cook = [\"피자\", \"김밥\", \"만두\", \"양념치킨\", \"족발\", \"피자\", \"김치만두\", \"쫄면\", \"소시지\", \"라면\", \"팥빙수\", \"김치전\"]"
   ]
  },
  {
   "cell_type": "code",
   "execution_count": 31,
   "id": "97fe6f4a",
   "metadata": {
    "ExecuteTime": {
     "end_time": "2024-03-04T04:25:18.030710Z",
     "start_time": "2024-03-04T04:25:18.024298Z"
    }
   },
   "outputs": [
    {
     "data": {
      "text/plain": [
       "12"
      ]
     },
     "execution_count": 31,
     "metadata": {},
     "output_type": "execute_result"
    }
   ],
   "source": [
    "cook = [\"피자\", \"김밥\", \"만두\", \"양념치킨\", \"족발\", \"피자\", \"김치만두\", \"쫄면\", \"소시지\", \"라면\", \"팥빙수\", \"김치전\"]\n",
    "len(cook)"
   ]
  },
  {
   "cell_type": "markdown",
   "id": "08f5a1c7",
   "metadata": {},
   "source": [
    "# 060\n",
    "다음 리스트의 평균을 출력하라.   \n",
    "\n",
    "nums = [1, 2, 3, 4, 5]   \n",
    "실행 예:   \n",
    "3.0"
   ]
  },
  {
   "cell_type": "code",
   "execution_count": 33,
   "id": "ec764b65",
   "metadata": {
    "ExecuteTime": {
     "end_time": "2024-03-04T04:26:17.145479Z",
     "start_time": "2024-03-04T04:26:17.140091Z"
    }
   },
   "outputs": [
    {
     "name": "stdout",
     "output_type": "stream",
     "text": [
      "3.0\n"
     ]
    }
   ],
   "source": [
    "avg=sum(nums)/len(nums)\n",
    "print(avg)"
   ]
  },
  {
   "cell_type": "markdown",
   "id": "b3344430",
   "metadata": {},
   "source": [
    "# 061\n",
    "price 변수에는 날짜와 종가 정보가 저장돼 있다. 날짜 정보를 제외하고 가격 정보만을 출력하라. (힌트 : 슬라이싱)   \n",
    "\n",
    "price = ['20180728', 100, 130, 140, 150, 160, 170]   \n",
    "출력 예시:   \n",
    "[100, 130, 140, 150, 160, 170]   "
   ]
  },
  {
   "cell_type": "code",
   "execution_count": 34,
   "id": "cc1e6200",
   "metadata": {
    "ExecuteTime": {
     "end_time": "2024-03-04T04:32:03.627818Z",
     "start_time": "2024-03-04T04:32:03.623829Z"
    }
   },
   "outputs": [],
   "source": [
    "price = ['20180728', 100, 130, 140, 150, 160, 170]"
   ]
  },
  {
   "cell_type": "code",
   "execution_count": 35,
   "id": "1ef1ec54",
   "metadata": {
    "ExecuteTime": {
     "end_time": "2024-03-04T04:32:29.184644Z",
     "start_time": "2024-03-04T04:32:29.176451Z"
    }
   },
   "outputs": [
    {
     "name": "stdout",
     "output_type": "stream",
     "text": [
      "[100, 130, 140, 150, 160, 170]\n"
     ]
    }
   ],
   "source": [
    "print(price[1:])"
   ]
  },
  {
   "cell_type": "markdown",
   "id": "bb50b360",
   "metadata": {},
   "source": [
    "# 062\n",
    "슬라이싱을 사용해서 홀수만 출력하라.   \n",
    "\n",
    "nums = [1, 2, 3, 4, 5, 6, 7, 8, 9, 10]"
   ]
  },
  {
   "cell_type": "code",
   "execution_count": 36,
   "id": "e38f679f",
   "metadata": {
    "ExecuteTime": {
     "end_time": "2024-03-04T04:35:37.352881Z",
     "start_time": "2024-03-04T04:35:37.346460Z"
    }
   },
   "outputs": [],
   "source": [
    "nums = [1, 2, 3, 4, 5, 6, 7, 8, 9, 10]"
   ]
  },
  {
   "cell_type": "code",
   "execution_count": 37,
   "id": "e8054efb",
   "metadata": {
    "ExecuteTime": {
     "end_time": "2024-03-04T04:35:54.165847Z",
     "start_time": "2024-03-04T04:35:54.159774Z"
    }
   },
   "outputs": [
    {
     "name": "stdout",
     "output_type": "stream",
     "text": [
      "[1, 3, 5, 7, 9]\n"
     ]
    }
   ],
   "source": [
    "print(nums[::2])"
   ]
  },
  {
   "cell_type": "markdown",
   "id": "1fd772bb",
   "metadata": {},
   "source": [
    "# 063\n",
    "슬라이싱을 사용해서 짝수만 출력하라."
   ]
  },
  {
   "cell_type": "code",
   "execution_count": 38,
   "id": "c826993e",
   "metadata": {
    "ExecuteTime": {
     "end_time": "2024-03-04T04:36:18.187667Z",
     "start_time": "2024-03-04T04:36:18.182169Z"
    }
   },
   "outputs": [
    {
     "name": "stdout",
     "output_type": "stream",
     "text": [
      "[2, 4, 6, 8, 10]\n"
     ]
    }
   ],
   "source": [
    "nums = [1, 2, 3, 4, 5, 6, 7, 8, 9, 10]\n",
    "print(nums[1::2])"
   ]
  },
  {
   "cell_type": "markdown",
   "id": "3777f8bc",
   "metadata": {},
   "source": [
    "# 064\n",
    "슬라이싱을 사용해서 리스트의 숫자를 역 방향으로 출력하라.  \n",
    "nums = [1, 2, 3, 4, 5]"
   ]
  },
  {
   "cell_type": "code",
   "execution_count": 40,
   "id": "74e96136",
   "metadata": {
    "ExecuteTime": {
     "end_time": "2024-03-04T04:37:30.548714Z",
     "start_time": "2024-03-04T04:37:30.542716Z"
    }
   },
   "outputs": [
    {
     "name": "stdout",
     "output_type": "stream",
     "text": [
      "[5, 4, 3, 2, 1]\n"
     ]
    }
   ],
   "source": [
    "nums = [1, 2, 3, 4, 5]\n",
    "print(nums[::-1])"
   ]
  },
  {
   "cell_type": "markdown",
   "id": "82d2c822",
   "metadata": {},
   "source": [
    "# 065\n",
    "interest 리스트에는 아래의 데이터가 바인딩되어 있다.   \n",
    "\n",
    "interest = ['삼성전자', 'LG전자', 'Naver']  \n",
    "\n",
    "interest 리스트를 사용하여 아래와 같이 화면에 출력하라.\n",
    "\n",
    "출력 예시:\n",
    "삼성전자 Naver"
   ]
  },
  {
   "cell_type": "code",
   "execution_count": 41,
   "id": "b767ff0b",
   "metadata": {
    "ExecuteTime": {
     "end_time": "2024-03-04T04:38:29.305984Z",
     "start_time": "2024-03-04T04:38:29.299770Z"
    }
   },
   "outputs": [
    {
     "name": "stdout",
     "output_type": "stream",
     "text": [
      "삼성전자 Naver\n"
     ]
    }
   ],
   "source": [
    "interest = ['삼성전자', 'LG전자', 'Naver']\n",
    "print(interest[0],interest[2])"
   ]
  },
  {
   "cell_type": "markdown",
   "id": "37a0c2dc",
   "metadata": {},
   "source": [
    "# 066 join 메서드\n",
    "interest 리스트에는 아래의 데이터가 바인딩되어 있다.   \n",
    "\n",
    "interest = ['삼성전자', 'LG전자', 'Naver', 'SK하이닉스', '미래에셋대우']   \n",
    "interest 리스트를 사용하여 아래와 같이 화면에 출력하라.   \n",
    "\n",
    "출력 예시: \n",
    "삼성전자 LG전자 Naver SK하이닉스 미래에셋대우"
   ]
  },
  {
   "cell_type": "code",
   "execution_count": 42,
   "id": "d346afbd",
   "metadata": {
    "ExecuteTime": {
     "end_time": "2024-03-04T04:39:20.420928Z",
     "start_time": "2024-03-04T04:39:20.416194Z"
    }
   },
   "outputs": [
    {
     "name": "stdout",
     "output_type": "stream",
     "text": [
      "삼성전자 LG전자 Naver SK하이닉스 미래에셋대우\n"
     ]
    }
   ],
   "source": [
    "interest = ['삼성전자', 'LG전자', 'Naver', 'SK하이닉스', '미래에셋대우']\n",
    "print(\" \".join(interest))"
   ]
  },
  {
   "cell_type": "markdown",
   "id": "e0085618",
   "metadata": {},
   "source": [
    "# 067 join 메서드\n",
    "interest 리스트에는 아래의 데이터가 바인딩되어 있다.   \n",
    "\n",
    "interest = ['삼성전자', 'LG전자', 'Naver', 'SK하이닉스', '미래에셋대우']   \n",
    "interest 리스트를 사용하여 아래와 같이 화면에 출력하라.   \n",
    "\n",
    "출력 예시:    \n",
    "삼성전자/LG전자/Naver/SK하이닉스/미래에셋대우"
   ]
  },
  {
   "cell_type": "code",
   "execution_count": 43,
   "id": "6c672e17",
   "metadata": {
    "ExecuteTime": {
     "end_time": "2024-03-04T04:40:11.845524Z",
     "start_time": "2024-03-04T04:40:11.840445Z"
    }
   },
   "outputs": [
    {
     "name": "stdout",
     "output_type": "stream",
     "text": [
      "삼성전자/LG전자/Naver/SK하이닉스/미래에셋대우\n"
     ]
    }
   ],
   "source": [
    "print(\"/\".join(interest))"
   ]
  },
  {
   "cell_type": "markdown",
   "id": "6a280510",
   "metadata": {},
   "source": [
    "# 068 join 메서드\n",
    "interest 리스트에는 아래의 데이터가 바인딩되어 있다.   \n",
    "\n",
    "interest = ['삼성전자', 'LG전자', 'Naver', 'SK하이닉스', '미래에셋대우']   \n",
    "join() 메서드를 사용해서 interest 리스트를 아래와 같이 화면에 출력하라.   \n",
    "\n",
    "출력 예시:  \n",
    "삼성전자  \n",
    "LG전자  \n",
    "Naver  \n",
    "SK하이닉스  \n",
    "미래에셋대우  "
   ]
  },
  {
   "cell_type": "code",
   "execution_count": 44,
   "id": "e8cb1479",
   "metadata": {
    "ExecuteTime": {
     "end_time": "2024-03-04T04:40:48.809070Z",
     "start_time": "2024-03-04T04:40:48.801835Z"
    }
   },
   "outputs": [
    {
     "name": "stdout",
     "output_type": "stream",
     "text": [
      "삼성전자\n",
      "LG전자\n",
      "Naver\n",
      "SK하이닉스\n",
      "미래에셋대우\n"
     ]
    }
   ],
   "source": [
    "print(\"\\n\".join(interest))"
   ]
  },
  {
   "cell_type": "markdown",
   "id": "caa39b61",
   "metadata": {},
   "source": [
    "# 069 문자열 split 메서드\n",
    "회사 이름이 슬래시 ('/')로 구분되어 하나의 문자열로 저장되어 있다.   \n",
    "\n",
    "string = \"삼성전자/LG전자/Naver\"   \n",
    "이를 interest 이름의 리스트로 분리 저장하라.   \n",
    "\n",
    "실행 예시   \n",
    ">> print(interest)   \n",
    "['삼성전자', 'LG전자', 'Naver']"
   ]
  },
  {
   "cell_type": "code",
   "execution_count": 45,
   "id": "502b8920",
   "metadata": {
    "ExecuteTime": {
     "end_time": "2024-03-04T04:41:54.596267Z",
     "start_time": "2024-03-04T04:41:54.591218Z"
    }
   },
   "outputs": [
    {
     "name": "stdout",
     "output_type": "stream",
     "text": [
      "['삼성전자', 'LG전자', 'Naver']\n"
     ]
    }
   ],
   "source": [
    "string = \"삼성전자/LG전자/Naver\"\n",
    "interest = string.split(\"/\")\n",
    "print(interest)"
   ]
  },
  {
   "cell_type": "markdown",
   "id": "14d08a2e",
   "metadata": {},
   "source": [
    "# 070 리스트 정렬\n",
    "리스트에 있는 값을 오름차순으로 정렬하세요.    \n",
    "\n",
    "data = [2, 4, 3, 1, 5, 10, 9]"
   ]
  },
  {
   "cell_type": "code",
   "execution_count": 47,
   "id": "ea9f109e",
   "metadata": {
    "ExecuteTime": {
     "end_time": "2024-03-04T04:42:21.330298Z",
     "start_time": "2024-03-04T04:42:21.324270Z"
    }
   },
   "outputs": [
    {
     "name": "stdout",
     "output_type": "stream",
     "text": [
      "[1, 2, 3, 4, 5, 9, 10]\n"
     ]
    }
   ],
   "source": [
    "data = [2, 4, 3, 1, 5, 10, 9]\n",
    "data.sort()\n",
    "print(data)"
   ]
  },
  {
   "cell_type": "markdown",
   "id": "e70f009d",
   "metadata": {},
   "source": [
    "# 071\n",
    "my_variable 이름의 비어있는 튜플을 만들라."
   ]
  },
  {
   "cell_type": "code",
   "execution_count": 48,
   "id": "7626accf",
   "metadata": {
    "ExecuteTime": {
     "end_time": "2024-03-04T04:43:46.098348Z",
     "start_time": "2024-03-04T04:43:46.094324Z"
    }
   },
   "outputs": [
    {
     "name": "stdout",
     "output_type": "stream",
     "text": [
      "()\n"
     ]
    }
   ],
   "source": [
    "my_variable=()\n",
    "print(my_variable)"
   ]
  },
  {
   "cell_type": "markdown",
   "id": "5b686f1f",
   "metadata": {},
   "source": [
    "# 072\n",
    "2016년 11월 영화 예매 순위 기준 top3는 다음과 같다. 영화 제목을 movie_rank 이름의 튜플에 저장하라. (순위 정보는 저장하지 않는다.)   \n",
    "\n",
    "순위\t영화   \n",
    "1\t닥터 스트레인지   \n",
    "2\t스플릿   \n",
    "3\t럭키   "
   ]
  },
  {
   "cell_type": "code",
   "execution_count": 49,
   "id": "79b11064",
   "metadata": {
    "ExecuteTime": {
     "end_time": "2024-03-04T04:47:47.654245Z",
     "start_time": "2024-03-04T04:47:47.647806Z"
    }
   },
   "outputs": [
    {
     "name": "stdout",
     "output_type": "stream",
     "text": [
      "('닥터 스트레인지', '스플릿', '럭키')\n"
     ]
    }
   ],
   "source": [
    "movie_rank=(\"닥터 스트레인지\", \"스플릿\", \"럭키\")\n",
    "print(movie_rank)"
   ]
  },
  {
   "cell_type": "markdown",
   "id": "c8564ff8",
   "metadata": {},
   "source": [
    "# 073\n",
    "숫자 1 이 저장된 튜플을 생성하라."
   ]
  },
  {
   "cell_type": "code",
   "execution_count": 1,
   "id": "75a1f0db",
   "metadata": {
    "ExecuteTime": {
     "end_time": "2024-03-04T14:23:08.660635Z",
     "start_time": "2024-03-04T14:23:08.654627Z"
    }
   },
   "outputs": [
    {
     "name": "stdout",
     "output_type": "stream",
     "text": [
      "1\n"
     ]
    }
   ],
   "source": [
    "tuple = (1)\n",
    "print(tuple)"
   ]
  },
  {
   "cell_type": "markdown",
   "id": "e00cde17",
   "metadata": {},
   "source": [
    "# 074\n",
    "다음 코드를 실행해보고 오류가 발생하는 원인을 설명하라."
   ]
  },
  {
   "cell_type": "code",
   "execution_count": 2,
   "id": "27aae15c",
   "metadata": {
    "ExecuteTime": {
     "end_time": "2024-03-04T14:29:06.246134Z",
     "start_time": "2024-03-04T14:29:05.524567Z"
    }
   },
   "outputs": [
    {
     "ename": "TypeError",
     "evalue": "'tuple' object does not support item assignment",
     "output_type": "error",
     "traceback": [
      "\u001b[1;31m---------------------------------------------------------------------------\u001b[0m",
      "\u001b[1;31mTypeError\u001b[0m                                 Traceback (most recent call last)",
      "Cell \u001b[1;32mIn[2], line 2\u001b[0m\n\u001b[0;32m      1\u001b[0m t \u001b[38;5;241m=\u001b[39m (\u001b[38;5;241m1\u001b[39m, \u001b[38;5;241m2\u001b[39m, \u001b[38;5;241m3\u001b[39m)\n\u001b[1;32m----> 2\u001b[0m t[\u001b[38;5;241m0\u001b[39m] \u001b[38;5;241m=\u001b[39m \u001b[38;5;124m'\u001b[39m\u001b[38;5;124ma\u001b[39m\u001b[38;5;124m'\u001b[39m\n",
      "\u001b[1;31mTypeError\u001b[0m: 'tuple' object does not support item assignment"
     ]
    }
   ],
   "source": [
    "t = (1, 2, 3)\n",
    "t[0] = 'a'"
   ]
  },
  {
   "cell_type": "markdown",
   "id": "63f6498c",
   "metadata": {},
   "source": [
    "튜플은 원소를 바꿀 수 없다"
   ]
  },
  {
   "cell_type": "markdown",
   "id": "9f9a1535",
   "metadata": {},
   "source": [
    "# 075 \n",
    "아래와 같이 t에는 1, 2, 3, 4 데이터가 바인딩되어 있다. t가 바인딩하는 데이터 타입은 무엇인가?\n",
    "\n",
    "t = 1, 2, 3, 4"
   ]
  },
  {
   "cell_type": "code",
   "execution_count": 3,
   "id": "f321ce05",
   "metadata": {
    "ExecuteTime": {
     "end_time": "2024-03-04T14:31:18.965741Z",
     "start_time": "2024-03-04T14:31:18.958538Z"
    }
   },
   "outputs": [
    {
     "name": "stdout",
     "output_type": "stream",
     "text": [
      "<class 'tuple'>\n"
     ]
    }
   ],
   "source": [
    "t = 1, 2, 3, 4\n",
    "print(type(t))"
   ]
  },
  {
   "cell_type": "markdown",
   "id": "27b86cf0",
   "metadata": {},
   "source": [
    "# 076\n",
    "변수 t에는 아래와 같은 값이 저장되어 있다. 변수 t가 ('A', 'b', 'c') 튜플을 가리키도록 수정 하라.\n",
    "\n",
    "t = ('a', 'b', 'c')"
   ]
  },
  {
   "cell_type": "code",
   "execution_count": 4,
   "id": "1fc9e6b0",
   "metadata": {
    "ExecuteTime": {
     "end_time": "2024-03-04T14:36:44.815142Z",
     "start_time": "2024-03-04T14:36:44.811712Z"
    }
   },
   "outputs": [],
   "source": [
    "t = ('a', 'b', 'c')"
   ]
  },
  {
   "cell_type": "markdown",
   "id": "3a8fcc75",
   "metadata": {},
   "source": [
    "요소를 바꿀수 없으니 아예 새로 선언해야함."
   ]
  },
  {
   "cell_type": "code",
   "execution_count": 5,
   "id": "4bdfe7ad",
   "metadata": {
    "ExecuteTime": {
     "end_time": "2024-03-04T14:37:20.279886Z",
     "start_time": "2024-03-04T14:37:20.273860Z"
    }
   },
   "outputs": [],
   "source": [
    "t = ('A', 'b', 'c')"
   ]
  },
  {
   "cell_type": "markdown",
   "id": "5a259ba0",
   "metadata": {},
   "source": [
    "# 077\n",
    "다음 튜플을 리스트로 변환하라.\n",
    "\n",
    "interest = ('삼성전자', 'LG전자', 'SK Hynix')"
   ]
  },
  {
   "cell_type": "code",
   "execution_count": 6,
   "id": "bd541754",
   "metadata": {
    "ExecuteTime": {
     "end_time": "2024-03-04T14:39:01.786533Z",
     "start_time": "2024-03-04T14:39:01.781810Z"
    }
   },
   "outputs": [],
   "source": [
    "interest = ('삼성전자', 'LG전자', 'SK Hynix')\n",
    "interest_list= list(interest)"
   ]
  },
  {
   "cell_type": "markdown",
   "id": "59796a6a",
   "metadata": {},
   "source": [
    "# 078\n",
    "다음 리스트를 튜플로 변경하라.\n",
    "\n",
    "interest = ['삼성전자', 'LG전자', 'SK Hynix']"
   ]
  },
  {
   "cell_type": "code",
   "execution_count": 15,
   "id": "c65b4f5a",
   "metadata": {
    "ExecuteTime": {
     "end_time": "2024-03-04T14:42:51.089029Z",
     "start_time": "2024-03-04T14:42:51.085023Z"
    }
   },
   "outputs": [],
   "source": [
    "interest2 = ['삼성전자', 'LG전자', 'SK Hynix']"
   ]
  },
  {
   "cell_type": "code",
   "execution_count": 16,
   "id": "766f88ed",
   "metadata": {
    "ExecuteTime": {
     "end_time": "2024-03-04T14:42:51.765297Z",
     "start_time": "2024-03-04T14:42:51.758799Z"
    }
   },
   "outputs": [],
   "source": [
    "data = tuple(interest2)"
   ]
  },
  {
   "cell_type": "markdown",
   "id": "026265ae",
   "metadata": {
    "ExecuteTime": {
     "end_time": "2024-03-04T14:42:48.133409Z",
     "start_time": "2024-03-04T14:42:48.128054Z"
    }
   },
   "source": [
    "# 079 튜플 언팩킹\n",
    "다음 코드의 실행 결과를 예상하라.\n",
    "\n",
    "temp = ('apple', 'banana', 'cake')  \n",
    "a, b, c = temp  \n",
    "print(a, b, c)  "
   ]
  },
  {
   "cell_type": "code",
   "execution_count": 17,
   "id": "81ef5a08",
   "metadata": {
    "ExecuteTime": {
     "end_time": "2024-03-04T14:43:26.796464Z",
     "start_time": "2024-03-04T14:43:26.787113Z"
    }
   },
   "outputs": [
    {
     "name": "stdout",
     "output_type": "stream",
     "text": [
      "apple banana cake\n"
     ]
    }
   ],
   "source": [
    "temp = ('apple', 'banana', 'cake')  \n",
    "a, b, c = temp  \n",
    "print(a, b, c)"
   ]
  },
  {
   "cell_type": "markdown",
   "id": "8bc9df75",
   "metadata": {},
   "source": [
    "# 080 range 함수\n",
    "1 부터 99까지의 정수 중 짝수만 저장된 튜플을 생성하라."
   ]
  },
  {
   "cell_type": "code",
   "execution_count": 18,
   "id": "fb0c868f",
   "metadata": {
    "ExecuteTime": {
     "end_time": "2024-03-04T14:43:49.529059Z",
     "start_time": "2024-03-04T14:43:49.524552Z"
    }
   },
   "outputs": [
    {
     "name": "stdout",
     "output_type": "stream",
     "text": [
      "(2, 4, 6, 8, 10, 12, 14, 16, 18, 20, 22, 24, 26, 28, 30, 32, 34, 36, 38, 40, 42, 44, 46, 48, 50, 52, 54, 56, 58, 60, 62, 64, 66, 68, 70, 72, 74, 76, 78, 80, 82, 84, 86, 88, 90, 92, 94, 96, 98)\n"
     ]
    }
   ],
   "source": [
    "data = tuple(range(2, 100, 2))\n",
    "print( data )"
   ]
  },
  {
   "cell_type": "markdown",
   "id": "a118ad74",
   "metadata": {},
   "source": [
    "# 081 별 표현식\n",
    "기본적으로 데이터 언패킹은 좌변의 변수와 우변 데이터 개수가 같아야 합니다. 하지만 star expression을 사용하면 변수의 개수가 달라도 데이터 언패킹을 할 수 있습니다. 튜플에 저장된 데이터 중에서 앞에 있는 두 개의 데이터만 필요할 경우 나머지 데이터의 언패킹 코드를 작성할 필요가 없습니다.    \n",
    "\n",
    ">> a, b, *c = (0, 1, 2, 3, 4, 5)  \n",
    ">> a  \n",
    "0  \n",
    ">> b  \n",
    "1   \n",
    ">> c \n",
    "[2, 3, 4, 5]\n",
    "\n",
    "\n",
    "다음과 같이 10개의 값이 저장된 scores 리스트가 있을 때, start expression을 사용하여 좌측 8개의 값을 valid_score 변수에 바인딩하여라.   \n",
    "\n",
    "scores = [8.8, 8.9, 8.7, 9.2, 9.3, 9.7, 9.9, 9.5, 7.8, 9.4]   "
   ]
  },
  {
   "cell_type": "code",
   "execution_count": 19,
   "id": "0cdfbc69",
   "metadata": {
    "ExecuteTime": {
     "end_time": "2024-03-04T14:48:39.514440Z",
     "start_time": "2024-03-04T14:48:39.509087Z"
    }
   },
   "outputs": [
    {
     "name": "stdout",
     "output_type": "stream",
     "text": [
      "[8.8, 8.9, 8.7, 9.2, 9.3, 9.7, 9.9, 9.5]\n"
     ]
    }
   ],
   "source": [
    "scores = [8.8, 8.9, 8.7, 9.2, 9.3, 9.7, 9.9, 9.5, 7.8, 9.4]\n",
    "*valid_score, _, _= scores\n",
    "print(valid_score)"
   ]
  },
  {
   "cell_type": "markdown",
   "id": "42f17223",
   "metadata": {},
   "source": [
    "# 082  \n",
    "다음과 같이 10개의 값이 저장된 scores 리스트가 있을 때, start expression을 사용하여 우측 8개의 값을 valid_score 변수에 바인딩하여라.  \n",
    "\n",
    "scores = [8.8, 8.9, 8.7, 9.2, 9.3, 9.7, 9.9, 9.5, 7.8, 9.4]  "
   ]
  },
  {
   "cell_type": "code",
   "execution_count": 20,
   "id": "f4b42fb2",
   "metadata": {
    "ExecuteTime": {
     "end_time": "2024-03-04T14:59:19.105711Z",
     "start_time": "2024-03-04T14:59:19.099591Z"
    }
   },
   "outputs": [
    {
     "name": "stdout",
     "output_type": "stream",
     "text": [
      "[8.7, 9.2, 9.3, 9.7, 9.9, 9.5, 7.8, 9.4]\n"
     ]
    }
   ],
   "source": [
    "scores = [8.8, 8.9, 8.7, 9.2, 9.3, 9.7, 9.9, 9.5, 7.8, 9.4]\n",
    "a, b, *valid_score = scores\n",
    "print(valid_score)"
   ]
  },
  {
   "cell_type": "markdown",
   "id": "d4e207b4",
   "metadata": {},
   "source": [
    "# 083\n",
    "다음과 같이 10개의 값이 저장된 scores 리스트가 있을 때, start expression을 사용하여 가운데 있는 8개의 값을 valid_score 변수에 바인딩하여라.\n",
    "\n",
    "scores = [8.8, 8.9, 8.7, 9.2, 9.3, 9.7, 9.9, 9.5, 7.8, 9.4]"
   ]
  },
  {
   "cell_type": "code",
   "execution_count": 21,
   "id": "d1d8a0c8",
   "metadata": {
    "ExecuteTime": {
     "end_time": "2024-03-04T14:59:43.992441Z",
     "start_time": "2024-03-04T14:59:43.984040Z"
    }
   },
   "outputs": [
    {
     "name": "stdout",
     "output_type": "stream",
     "text": [
      "[8.9, 8.7, 9.2, 9.3, 9.7, 9.9, 9.5, 7.8]\n"
     ]
    }
   ],
   "source": [
    "scores = [8.8, 8.9, 8.7, 9.2, 9.3, 9.7, 9.9, 9.5, 7.8, 9.4]\n",
    "a, *valid_score, b = scores\n",
    "print(valid_score)"
   ]
  },
  {
   "cell_type": "markdown",
   "id": "49617f69",
   "metadata": {},
   "source": [
    "# 084 비어있는 딕셔너리\n",
    "temp 이름의 비어있는 딕셔너리를 만들라."
   ]
  },
  {
   "cell_type": "code",
   "execution_count": 22,
   "id": "63a119fb",
   "metadata": {
    "ExecuteTime": {
     "end_time": "2024-03-04T15:00:06.060424Z",
     "start_time": "2024-03-04T15:00:06.054746Z"
    }
   },
   "outputs": [],
   "source": [
    "temp = { }"
   ]
  },
  {
   "cell_type": "markdown",
   "id": "fd017460",
   "metadata": {},
   "source": [
    "# 085\n",
    "다음 아이스크림 이름과 희망 가격을 딕셔너리로 구성하라.\n",
    "\n",
    "이름\t희망 가격   \n",
    "메로나\t1000   \n",
    "폴라포\t1200   \n",
    "빵빠레\t1800  "
   ]
  },
  {
   "cell_type": "code",
   "execution_count": 23,
   "id": "7b5f4e49",
   "metadata": {
    "ExecuteTime": {
     "end_time": "2024-03-04T15:01:51.795214Z",
     "start_time": "2024-03-04T15:01:51.790072Z"
    }
   },
   "outputs": [
    {
     "name": "stdout",
     "output_type": "stream",
     "text": [
      "{'메로나': 1000, '폴라포': 1200, '빵빠레': 1800}\n"
     ]
    }
   ],
   "source": [
    "ice_cream= {\"메로나\": 1000, \"폴라포\": 1200, \"빵빠레\": 1800}\n",
    "print(ice_cream)"
   ]
  },
  {
   "cell_type": "markdown",
   "id": "ff3cb736",
   "metadata": {},
   "source": [
    "# 086\n",
    "085 번의 딕셔너리에 아래 아이스크림 가격정보를 추가하라.\n",
    "\n",
    "이름\t희망 가격  \n",
    "죠스바\t1200  \n",
    "월드콘\t1500  "
   ]
  },
  {
   "cell_type": "code",
   "execution_count": 24,
   "id": "ab31508c",
   "metadata": {
    "ExecuteTime": {
     "end_time": "2024-03-04T15:02:47.702567Z",
     "start_time": "2024-03-04T15:02:47.694888Z"
    }
   },
   "outputs": [],
   "source": [
    "ice_cream[\"죠스바\"] = 1200\n",
    "ice_cream[\"월드콘\"] = 1500"
   ]
  },
  {
   "cell_type": "code",
   "execution_count": 25,
   "id": "7d4f218c",
   "metadata": {
    "ExecuteTime": {
     "end_time": "2024-03-04T15:02:55.339018Z",
     "start_time": "2024-03-04T15:02:55.332001Z"
    }
   },
   "outputs": [
    {
     "name": "stdout",
     "output_type": "stream",
     "text": [
      "{'메로나': 1000, '폴라포': 1200, '빵빠레': 1800, '죠스바': 1200, '월드콘': 1500}\n"
     ]
    }
   ],
   "source": [
    "print(ice_cream)"
   ]
  },
  {
   "cell_type": "markdown",
   "id": "b9ca4b3e",
   "metadata": {},
   "source": [
    "# 087\n",
    "다음 딕셔너리를 사용하여 메로나 가격을 출력하라.   \n",
    "\n",
    "ice = {'메로나': 1000,  \n",
    "       '폴로포': 1200,  \n",
    "       '빵빠레': 1800,  \n",
    "       '죠스바': 1200,  \n",
    "       '월드콘': 1500}\n",
    "실행 예:    \n",
    "메로나 가격: 1000  "
   ]
  },
  {
   "cell_type": "code",
   "execution_count": 26,
   "id": "6a8bc47d",
   "metadata": {
    "ExecuteTime": {
     "end_time": "2024-03-04T15:04:10.407992Z",
     "start_time": "2024-03-04T15:04:10.402429Z"
    }
   },
   "outputs": [],
   "source": [
    "ice = {'메로나': 1000,\n",
    "'폴로포': 1200,\n",
    "'빵빠레': 1800,\n",
    "'죠스바': 1200,\n",
    "'월드콘': 1500}"
   ]
  },
  {
   "cell_type": "code",
   "execution_count": 27,
   "id": "b25b2150",
   "metadata": {
    "ExecuteTime": {
     "end_time": "2024-03-04T15:04:12.828047Z",
     "start_time": "2024-03-04T15:04:12.820450Z"
    }
   },
   "outputs": [
    {
     "name": "stdout",
     "output_type": "stream",
     "text": [
      "메로나 가격:  1000\n"
     ]
    }
   ],
   "source": [
    "print(\"메로나 가격: \", ice[\"메로나\"])"
   ]
  },
  {
   "cell_type": "markdown",
   "id": "859f7142",
   "metadata": {},
   "source": [
    "# 088\n",
    "다음 딕셔너리에서 메로나의 가격을 1300으로 수정하라."
   ]
  },
  {
   "cell_type": "code",
   "execution_count": 28,
   "id": "43d5ea32",
   "metadata": {
    "ExecuteTime": {
     "end_time": "2024-03-04T15:04:34.118944Z",
     "start_time": "2024-03-04T15:04:34.114624Z"
    }
   },
   "outputs": [],
   "source": [
    "ice[\"메로나\"] = 1300"
   ]
  },
  {
   "cell_type": "markdown",
   "id": "6c01f15c",
   "metadata": {},
   "source": [
    "# 089\n",
    "다음 딕셔너리에서 메로나를 삭제하라."
   ]
  },
  {
   "cell_type": "code",
   "execution_count": 29,
   "id": "2dde9338",
   "metadata": {
    "ExecuteTime": {
     "end_time": "2024-03-04T15:04:52.232320Z",
     "start_time": "2024-03-04T15:04:52.227961Z"
    }
   },
   "outputs": [
    {
     "name": "stdout",
     "output_type": "stream",
     "text": [
      "{'폴로포': 1200, '빵빠레': 1800, '죠스바': 1200, '월드콘': 1500}\n"
     ]
    }
   ],
   "source": [
    "del ice[\"메로나\"]\n",
    "print(ice)"
   ]
  },
  {
   "cell_type": "markdown",
   "id": "3a64b8c7",
   "metadata": {},
   "source": [
    "# 090\n",
    "다음 코드에서 에러가 발생한 원인을 설명하라.         \n",
    "\n",
    ">> icecream = {'폴라포': 1200, '빵빠레': 1800, '월드콘': 1500, '메로나': 1000}          \n",
    ">> icecream['누가바']        \n",
    "Traceback (most recent call last):     \n",
    "  File \"<pyshell#69>\", line 1, in <module>    \n",
    "    icecream['누가바']     \n",
    "KeyError: '누가바'    "
   ]
  },
  {
   "cell_type": "markdown",
   "id": "2e155bcf",
   "metadata": {},
   "source": [
    "누가바라는 키가 없는데 왜 찾아.."
   ]
  },
  {
   "cell_type": "markdown",
   "id": "65f5225b",
   "metadata": {},
   "source": [
    "# 091 딕셔너리 생성    \n",
    "아래의 표에서, 아이스크림 이름을 키값으로, (가격, 재고) 리스트를 딕셔너리의 값으로 저장하라. 딕셔너리의 이름은 inventory로 한다.   \n",
    "\n",
    "이름\t가격\t재고    \n",
    "메로나\t300\t20   \n",
    "비비빅\t400\t3   \n",
    "죠스바\t250\t100  "
   ]
  },
  {
   "cell_type": "code",
   "execution_count": 30,
   "id": "93c30ec5",
   "metadata": {
    "ExecuteTime": {
     "end_time": "2024-03-04T15:20:59.915020Z",
     "start_time": "2024-03-04T15:20:59.908667Z"
    }
   },
   "outputs": [
    {
     "name": "stdout",
     "output_type": "stream",
     "text": [
      "{'메로나': [300, 20], '비비빅': [400, 3], '죠스바': [250, 100]}\n"
     ]
    }
   ],
   "source": [
    "inventory = {\"메로나\": [300, 20], \n",
    "             \"비비빅\": [400, 3], \n",
    "             \"죠스바\": [250, 100]}\n",
    "print(inventory)"
   ]
  },
  {
   "cell_type": "markdown",
   "id": "68497e83",
   "metadata": {},
   "source": [
    "# 092 딕셔너리 인덱싱\n",
    "inventory 딕셔너리에서 메로나의 가격을 화면에 출력하라.\n",
    "\n",
    "inventory = {\"메로나\": [300, 20],\n",
    "              \"비비빅\": [400, 3],\n",
    "              \n",
    "실행 예시:\n",
    "300 원"
   ]
  },
  {
   "cell_type": "code",
   "execution_count": 31,
   "id": "62781e7f",
   "metadata": {
    "ExecuteTime": {
     "end_time": "2024-03-04T15:21:41.055939Z",
     "start_time": "2024-03-04T15:21:41.051123Z"
    }
   },
   "outputs": [
    {
     "name": "stdout",
     "output_type": "stream",
     "text": [
      "300 원\n"
     ]
    }
   ],
   "source": [
    "print(inventory[\"메로나\"][0], \"원\")"
   ]
  },
  {
   "cell_type": "markdown",
   "id": "700b26dc",
   "metadata": {},
   "source": [
    "# 093 딕셔너리 인덱싱\n",
    "inventory 딕셔너리에서 메로나의 재고를 화면에 출력하라.   \n",
    "\n",
    "inventory = {\"메로나\": [300, 20],  \n",
    "              \"비비빅\": [400, 3],  \n",
    "              \"죠스바\": [250, 100]}  \n",
    "실행 예시:   \n",
    "20 개   "
   ]
  },
  {
   "cell_type": "code",
   "execution_count": 32,
   "id": "114a99de",
   "metadata": {
    "ExecuteTime": {
     "end_time": "2024-03-04T15:23:02.588046Z",
     "start_time": "2024-03-04T15:23:02.581010Z"
    }
   },
   "outputs": [
    {
     "name": "stdout",
     "output_type": "stream",
     "text": [
      "20 개\n"
     ]
    }
   ],
   "source": [
    "print(inventory[\"메로나\"][1], \"개\")"
   ]
  },
  {
   "cell_type": "markdown",
   "id": "8db5cd8b",
   "metadata": {},
   "source": [
    "# 094 딕셔너리 추가\n",
    "inventory 딕셔너리에 아래 데이터를 추가하라.\n",
    "\n",
    "inventory = {\"메로나\": [300, 20],  \n",
    "              \"비비빅\": [400, 3],  \n",
    "              \"죠스바\": [250, 100]}  \n",
    "이름\t가격\t재고  \n",
    "월드콘\t500\t7  "
   ]
  },
  {
   "cell_type": "code",
   "execution_count": 33,
   "id": "fa813b9f",
   "metadata": {
    "ExecuteTime": {
     "end_time": "2024-03-04T15:23:34.785398Z",
     "start_time": "2024-03-04T15:23:34.780772Z"
    }
   },
   "outputs": [],
   "source": [
    "inventory[\"월드콘\"] = [500, 7]"
   ]
  },
  {
   "cell_type": "code",
   "execution_count": 34,
   "id": "bcc96f45",
   "metadata": {
    "ExecuteTime": {
     "end_time": "2024-03-04T15:23:40.167728Z",
     "start_time": "2024-03-04T15:23:40.161197Z"
    }
   },
   "outputs": [
    {
     "name": "stdout",
     "output_type": "stream",
     "text": [
      "{'메로나': [300, 20], '비비빅': [400, 3], '죠스바': [250, 100], '월드콘': [500, 7]}\n"
     ]
    }
   ],
   "source": [
    "print(inventory)"
   ]
  },
  {
   "cell_type": "markdown",
   "id": "a1e43632",
   "metadata": {},
   "source": [
    "# 095 딕셔너리 keys() 메서드\n",
    "다음의 딕셔너리로부터 key 값으로만 구성된 리스트를 생성하라.\n",
    "\n",
    "icecream = {'탱크보이': 1200, '폴라포': 1200, '빵빠레': 1800, '월드콘': 1500, '메로나': 1000}"
   ]
  },
  {
   "cell_type": "code",
   "execution_count": 35,
   "id": "b750e2c2",
   "metadata": {
    "ExecuteTime": {
     "end_time": "2024-03-04T15:24:05.478253Z",
     "start_time": "2024-03-04T15:24:05.472636Z"
    }
   },
   "outputs": [],
   "source": [
    "icecream = {'탱크보이': 1200, '폴라포': 1200, '빵빠레': 1800, '월드콘': 1500, '메로나': 1000}"
   ]
  },
  {
   "cell_type": "code",
   "execution_count": 36,
   "id": "989e30f6",
   "metadata": {
    "ExecuteTime": {
     "end_time": "2024-03-04T15:24:36.691214Z",
     "start_time": "2024-03-04T15:24:36.685724Z"
    }
   },
   "outputs": [],
   "source": [
    "ice_name=list(icecream.keys())"
   ]
  },
  {
   "cell_type": "code",
   "execution_count": 37,
   "id": "e91541fa",
   "metadata": {
    "ExecuteTime": {
     "end_time": "2024-03-04T15:24:40.649652Z",
     "start_time": "2024-03-04T15:24:40.642261Z"
    }
   },
   "outputs": [
    {
     "name": "stdout",
     "output_type": "stream",
     "text": [
      "['탱크보이', '폴라포', '빵빠레', '월드콘', '메로나']\n"
     ]
    }
   ],
   "source": [
    "print(ice_name)"
   ]
  },
  {
   "cell_type": "markdown",
   "id": "0f2c09d2",
   "metadata": {},
   "source": [
    "# 096 딕셔너리 values() 메서드\n",
    "다음의 딕셔너리에서 values 값으로만 구성된 리스트를 생성하라."
   ]
  },
  {
   "cell_type": "code",
   "execution_count": 38,
   "id": "be807f33",
   "metadata": {
    "ExecuteTime": {
     "end_time": "2024-03-04T15:25:16.329272Z",
     "start_time": "2024-03-04T15:25:16.320906Z"
    }
   },
   "outputs": [
    {
     "name": "stdout",
     "output_type": "stream",
     "text": [
      "[1200, 1200, 1800, 1500, 1000]\n"
     ]
    }
   ],
   "source": [
    "ice_price=list(icecream.values())\n",
    "print(ice_price)"
   ]
  },
  {
   "cell_type": "markdown",
   "id": "16cee320",
   "metadata": {},
   "source": [
    "# 097 딕셔너리 values() 메서드\n",
    "icecream 딕셔너리에서 아이스크림 판매 금액의 총합을 출력하라"
   ]
  },
  {
   "cell_type": "code",
   "execution_count": 39,
   "id": "7ae33444",
   "metadata": {
    "ExecuteTime": {
     "end_time": "2024-03-04T15:25:56.094209Z",
     "start_time": "2024-03-04T15:25:56.087308Z"
    }
   },
   "outputs": [
    {
     "name": "stdout",
     "output_type": "stream",
     "text": [
      "6700\n"
     ]
    }
   ],
   "source": [
    "print(sum(ice_price))"
   ]
  },
  {
   "cell_type": "markdown",
   "id": "f06808b4",
   "metadata": {},
   "source": [
    "# 098 딕셔너리 update 메서드\n",
    "아래의 new_product 딕셔너리를 다음 icecream 딕셔너리에 추가하라.\n",
    "\n",
    "new_product = {'팥빙수':2700, '아맛나':1000}"
   ]
  },
  {
   "cell_type": "code",
   "execution_count": 40,
   "id": "3e34fb6a",
   "metadata": {
    "ExecuteTime": {
     "end_time": "2024-03-04T15:26:25.683389Z",
     "start_time": "2024-03-04T15:26:25.678417Z"
    }
   },
   "outputs": [
    {
     "name": "stdout",
     "output_type": "stream",
     "text": [
      "{'탱크보이': 1200, '폴라포': 1200, '빵빠레': 1800, '월드콘': 1500, '메로나': 1000, '팥빙수': 2700, '아맛나': 1000}\n"
     ]
    }
   ],
   "source": [
    "new_product = {'팥빙수':2700, '아맛나':1000}\n",
    "icecream.update(new_product)\n",
    "print(icecream)"
   ]
  },
  {
   "cell_type": "markdown",
   "id": "5f612834",
   "metadata": {},
   "source": [
    "# 099 zip과 dict\n",
    "아래 두 개의 튜플을 하나의 딕셔너리로 변환하라. keys를 키로, vals를 값으로 result 이름의 딕셔너리로 저장한다.  \n",
    "keys = (\"apple\", \"pear\", \"peach\")   \n",
    "vals = (300, 250, 400)"
   ]
  },
  {
   "cell_type": "code",
   "execution_count": 41,
   "id": "40247c38",
   "metadata": {
    "ExecuteTime": {
     "end_time": "2024-03-04T15:26:56.060931Z",
     "start_time": "2024-03-04T15:26:56.053425Z"
    }
   },
   "outputs": [
    {
     "name": "stdout",
     "output_type": "stream",
     "text": [
      "{'apple': 300, 'pear': 250, 'peach': 400}\n"
     ]
    }
   ],
   "source": [
    "keys = (\"apple\", \"pear\", \"peach\")\n",
    "vals = (300, 250, 400)\n",
    "result = dict(zip(keys, vals))\n",
    "print(result)"
   ]
  },
  {
   "cell_type": "markdown",
   "id": "927da366",
   "metadata": {},
   "source": [
    "# 100 zip과 dict\n",
    "date와 close_price 두 개의 리스트를 close_table 이름의 딕셔너리로 생성하라.   \n",
    "\n",
    "date = ['09/05', '09/06', '09/07', '09/08', '09/09']   \n",
    "close_price = [10500, 10300, 10100, 10800, 11000]   "
   ]
  },
  {
   "cell_type": "code",
   "execution_count": 42,
   "id": "869f9090",
   "metadata": {
    "ExecuteTime": {
     "end_time": "2024-03-04T15:27:18.331954Z",
     "start_time": "2024-03-04T15:27:18.324367Z"
    }
   },
   "outputs": [
    {
     "name": "stdout",
     "output_type": "stream",
     "text": [
      "{'09/05': 10500, '09/06': 10300, '09/07': 10100, '09/08': 10800, '09/09': 11000}\n"
     ]
    }
   ],
   "source": [
    "date = ['09/05', '09/06', '09/07', '09/08', '09/09']\n",
    "close_price = [10500, 10300, 10100, 10800, 11000]\n",
    "close_table = dict(zip(date, close_price))\n",
    "print(close_table)"
   ]
  },
  {
   "cell_type": "code",
   "execution_count": null,
   "id": "ee466211",
   "metadata": {},
   "outputs": [],
   "source": []
  }
 ],
 "metadata": {
  "kernelspec": {
   "display_name": "Python 3 (ipykernel)",
   "language": "python",
   "name": "python3"
  },
  "language_info": {
   "codemirror_mode": {
    "name": "ipython",
    "version": 3
   },
   "file_extension": ".py",
   "mimetype": "text/x-python",
   "name": "python",
   "nbconvert_exporter": "python",
   "pygments_lexer": "ipython3",
   "version": "3.11.5"
  },
  "toc": {
   "base_numbering": 1,
   "nav_menu": {},
   "number_sections": true,
   "sideBar": true,
   "skip_h1_title": false,
   "title_cell": "Table of Contents",
   "title_sidebar": "Contents",
   "toc_cell": false,
   "toc_position": {},
   "toc_section_display": true,
   "toc_window_display": false
  }
 },
 "nbformat": 4,
 "nbformat_minor": 5
}
