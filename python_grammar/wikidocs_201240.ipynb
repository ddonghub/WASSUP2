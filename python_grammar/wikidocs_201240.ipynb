{
 "cells": [
  {
   "cell_type": "code",
   "execution_count": 1,
   "id": "612285f7",
   "metadata": {
    "ExecuteTime": {
     "end_time": "2024-03-07T11:05:58.205263Z",
     "start_time": "2024-03-07T11:05:58.200585Z"
    }
   },
   "outputs": [],
   "source": [
    "# 201\n",
    "def print_coin():\n",
    "    print(\"비트코인\")"
   ]
  },
  {
   "cell_type": "code",
   "execution_count": 2,
   "id": "8213f573",
   "metadata": {
    "ExecuteTime": {
     "end_time": "2024-03-07T11:06:16.909959Z",
     "start_time": "2024-03-07T11:06:16.906345Z"
    }
   },
   "outputs": [
    {
     "name": "stdout",
     "output_type": "stream",
     "text": [
      "비트코인\n"
     ]
    }
   ],
   "source": [
    "#202\n",
    "print_coin()"
   ]
  },
  {
   "cell_type": "code",
   "execution_count": 4,
   "id": "cd77b395",
   "metadata": {
    "ExecuteTime": {
     "end_time": "2024-03-07T11:07:07.734599Z",
     "start_time": "2024-03-07T11:07:07.730118Z"
    }
   },
   "outputs": [
    {
     "name": "stdout",
     "output_type": "stream",
     "text": [
      "비트코인\n",
      "비트코인\n",
      "비트코인\n",
      "비트코인\n",
      "비트코인\n",
      "비트코인\n",
      "비트코인\n",
      "비트코인\n",
      "비트코인\n",
      "비트코인\n",
      "비트코인\n",
      "비트코인\n",
      "비트코인\n",
      "비트코인\n",
      "비트코인\n",
      "비트코인\n",
      "비트코인\n",
      "비트코인\n",
      "비트코인\n",
      "비트코인\n",
      "비트코인\n",
      "비트코인\n",
      "비트코인\n",
      "비트코인\n",
      "비트코인\n",
      "비트코인\n",
      "비트코인\n",
      "비트코인\n",
      "비트코인\n",
      "비트코인\n",
      "비트코인\n",
      "비트코인\n",
      "비트코인\n",
      "비트코인\n",
      "비트코인\n",
      "비트코인\n",
      "비트코인\n",
      "비트코인\n",
      "비트코인\n",
      "비트코인\n",
      "비트코인\n",
      "비트코인\n",
      "비트코인\n",
      "비트코인\n",
      "비트코인\n",
      "비트코인\n",
      "비트코인\n",
      "비트코인\n",
      "비트코인\n",
      "비트코인\n",
      "비트코인\n",
      "비트코인\n",
      "비트코인\n",
      "비트코인\n",
      "비트코인\n",
      "비트코인\n",
      "비트코인\n",
      "비트코인\n",
      "비트코인\n",
      "비트코인\n",
      "비트코인\n",
      "비트코인\n",
      "비트코인\n",
      "비트코인\n",
      "비트코인\n",
      "비트코인\n",
      "비트코인\n",
      "비트코인\n",
      "비트코인\n",
      "비트코인\n",
      "비트코인\n",
      "비트코인\n",
      "비트코인\n",
      "비트코인\n",
      "비트코인\n",
      "비트코인\n",
      "비트코인\n",
      "비트코인\n",
      "비트코인\n",
      "비트코인\n",
      "비트코인\n",
      "비트코인\n",
      "비트코인\n",
      "비트코인\n",
      "비트코인\n",
      "비트코인\n",
      "비트코인\n",
      "비트코인\n",
      "비트코인\n",
      "비트코인\n",
      "비트코인\n",
      "비트코인\n",
      "비트코인\n",
      "비트코인\n",
      "비트코인\n",
      "비트코인\n",
      "비트코인\n",
      "비트코인\n",
      "비트코인\n",
      "비트코인\n"
     ]
    }
   ],
   "source": [
    "#203\n",
    "for i in range(100):\n",
    "    print_coin()"
   ]
  },
  {
   "cell_type": "code",
   "execution_count": 3,
   "id": "c8defaf5",
   "metadata": {
    "ExecuteTime": {
     "end_time": "2024-03-07T11:06:32.707056Z",
     "start_time": "2024-03-07T11:06:32.703199Z"
    }
   },
   "outputs": [],
   "source": [
    "#204\n",
    "def print_coins():\n",
    "    for i in range(100):\n",
    "        print(\"비트코인\")"
   ]
  },
  {
   "cell_type": "code",
   "execution_count": 5,
   "id": "1f8fee5d",
   "metadata": {
    "ExecuteTime": {
     "end_time": "2024-03-07T11:07:33.666739Z",
     "start_time": "2024-03-07T11:07:32.648235Z"
    }
   },
   "outputs": [
    {
     "ename": "NameError",
     "evalue": "name 'hello' is not defined",
     "output_type": "error",
     "traceback": [
      "\u001b[1;31m---------------------------------------------------------------------------\u001b[0m",
      "\u001b[1;31mNameError\u001b[0m                                 Traceback (most recent call last)",
      "Cell \u001b[1;32mIn[5], line 2\u001b[0m\n\u001b[0;32m      1\u001b[0m \u001b[38;5;66;03m#205\u001b[39;00m\n\u001b[1;32m----> 2\u001b[0m hello()\n\u001b[0;32m      3\u001b[0m \u001b[38;5;28;01mdef\u001b[39;00m \u001b[38;5;21mhello\u001b[39m():\n\u001b[0;32m      4\u001b[0m     \u001b[38;5;28mprint\u001b[39m(\u001b[38;5;124m\"\u001b[39m\u001b[38;5;124mHi\u001b[39m\u001b[38;5;124m\"\u001b[39m)\n",
      "\u001b[1;31mNameError\u001b[0m: name 'hello' is not defined"
     ]
    }
   ],
   "source": [
    "#205\n",
    "hello()\n",
    "def hello():\n",
    "    print(\"Hi\")"
   ]
  },
  {
   "cell_type": "markdown",
   "id": "c5964484",
   "metadata": {},
   "source": [
    "함수가 정의되기전에 호출을 해버리면 어카누.."
   ]
  },
  {
   "cell_type": "markdown",
   "id": "8871032b",
   "metadata": {},
   "source": [
    "#206\n",
    "def message() :\n",
    "    print(\"A\")\n",
    "    print(\"B\")\n",
    "\n",
    "message()\n",
    "print(\"C\")\n",
    "message()\n",
    "\n",
    "\n",
    "A\n",
    "B\n",
    "C\n",
    "A\n",
    "B"
   ]
  },
  {
   "cell_type": "code",
   "execution_count": 6,
   "id": "d43141b1",
   "metadata": {
    "ExecuteTime": {
     "end_time": "2024-03-07T11:08:34.893077Z",
     "start_time": "2024-03-07T11:08:34.884504Z"
    }
   },
   "outputs": [
    {
     "name": "stdout",
     "output_type": "stream",
     "text": [
      "A\n",
      "B\n",
      "C\n",
      "A\n",
      "B\n"
     ]
    }
   ],
   "source": [
    "def message() :\n",
    "    print(\"A\")\n",
    "    print(\"B\")\n",
    "\n",
    "message()\n",
    "print(\"C\")\n",
    "message()\n"
   ]
  },
  {
   "cell_type": "markdown",
   "id": "6fb3fc2b",
   "metadata": {},
   "source": [
    "#207\n",
    "\n",
    "print(\"A\")\n",
    "\n",
    "def message() :\n",
    "    print(\"B\")\n",
    "\n",
    "print(\"C\")\n",
    "message()\n",
    "\n",
    "\n",
    "A\n",
    "C\n",
    "B"
   ]
  },
  {
   "cell_type": "code",
   "execution_count": 7,
   "id": "95cdca97",
   "metadata": {
    "ExecuteTime": {
     "end_time": "2024-03-07T11:09:04.694432Z",
     "start_time": "2024-03-07T11:09:04.686537Z"
    }
   },
   "outputs": [
    {
     "name": "stdout",
     "output_type": "stream",
     "text": [
      "A\n",
      "C\n",
      "B\n"
     ]
    }
   ],
   "source": [
    "print(\"A\")\n",
    "\n",
    "def message() :\n",
    "    print(\"B\")\n",
    "\n",
    "print(\"C\")\n",
    "message()\n"
   ]
  },
  {
   "cell_type": "markdown",
   "id": "85c9367e",
   "metadata": {},
   "source": [
    "#208\n",
    "\n",
    "print(\"A\")\n",
    "def message1() :\n",
    "    print(\"B\")\n",
    "print(\"C\")\n",
    "def message2() :\n",
    "    print(\"D\")\n",
    "message1()\n",
    "print(\"E\")\n",
    "message2()\n",
    "\n",
    "A\n",
    "C\n",
    "B\n",
    "E\n",
    "D"
   ]
  },
  {
   "cell_type": "code",
   "execution_count": 8,
   "id": "1550639a",
   "metadata": {
    "ExecuteTime": {
     "end_time": "2024-03-07T11:09:44.053585Z",
     "start_time": "2024-03-07T11:09:44.044392Z"
    }
   },
   "outputs": [
    {
     "name": "stdout",
     "output_type": "stream",
     "text": [
      "A\n",
      "C\n",
      "B\n",
      "E\n",
      "D\n"
     ]
    }
   ],
   "source": [
    "print(\"A\")\n",
    "def message1() :\n",
    "    print(\"B\")\n",
    "print(\"C\")\n",
    "def message2() :\n",
    "    print(\"D\")\n",
    "message1()\n",
    "print(\"E\")\n",
    "message2()"
   ]
  },
  {
   "cell_type": "markdown",
   "id": "0bde5a19",
   "metadata": {},
   "source": [
    "#209\n",
    "def message1():\n",
    "    print(\"A\")\n",
    "\n",
    "def message2():\n",
    "    print(\"B\")\n",
    "    message1()\n",
    "\n",
    "message2()\n",
    "\n",
    "B\n",
    "A"
   ]
  },
  {
   "cell_type": "code",
   "execution_count": 9,
   "id": "77666b1d",
   "metadata": {
    "ExecuteTime": {
     "end_time": "2024-03-07T11:10:24.144223Z",
     "start_time": "2024-03-07T11:10:24.135841Z"
    }
   },
   "outputs": [
    {
     "name": "stdout",
     "output_type": "stream",
     "text": [
      "B\n",
      "A\n"
     ]
    }
   ],
   "source": [
    "def message1():\n",
    "    print(\"A\")\n",
    "\n",
    "def message2():\n",
    "    print(\"B\")\n",
    "    message1()\n",
    "\n",
    "message2()"
   ]
  },
  {
   "cell_type": "markdown",
   "id": "c36b0f38",
   "metadata": {},
   "source": [
    "#210\n",
    "\n",
    "def message1():\n",
    "    print(\"A\")\n",
    "\n",
    "def message2():\n",
    "    print(\"B\")\n",
    "\n",
    "def message3():\n",
    "    for i in range (3) :\n",
    "        message2()\n",
    "        print(\"C\")\n",
    "    message1()\n",
    "\n",
    "message3()\n",
    "\n",
    "B\n",
    "C\n",
    "B\n",
    "C\n",
    "B\n",
    "C\n",
    "A"
   ]
  },
  {
   "cell_type": "code",
   "execution_count": 10,
   "id": "2abb4802",
   "metadata": {
    "ExecuteTime": {
     "end_time": "2024-03-07T11:11:12.780707Z",
     "start_time": "2024-03-07T11:11:12.772416Z"
    }
   },
   "outputs": [
    {
     "name": "stdout",
     "output_type": "stream",
     "text": [
      "B\n",
      "C\n",
      "B\n",
      "C\n",
      "B\n",
      "C\n",
      "A\n"
     ]
    }
   ],
   "source": [
    "def message1():\n",
    "    print(\"A\")\n",
    "\n",
    "def message2():\n",
    "    print(\"B\")\n",
    "\n",
    "def message3():\n",
    "    for i in range (3) :\n",
    "        message2()\n",
    "        print(\"C\")\n",
    "    message1()\n",
    "\n",
    "message3()"
   ]
  },
  {
   "cell_type": "markdown",
   "id": "799fc3a0",
   "metadata": {},
   "source": [
    "#211\n",
    "\n",
    "def 함수(문자열) :\n",
    "    print(문자열)\n",
    "\n",
    "함수(\"안녕\")\n",
    "함수(\"Hi\")\n",
    "\n",
    "안녕\n",
    "Hi"
   ]
  },
  {
   "cell_type": "code",
   "execution_count": 11,
   "id": "4c8114ef",
   "metadata": {
    "ExecuteTime": {
     "end_time": "2024-03-07T11:12:09.360290Z",
     "start_time": "2024-03-07T11:12:09.342604Z"
    }
   },
   "outputs": [
    {
     "name": "stdout",
     "output_type": "stream",
     "text": [
      "안녕\n",
      "Hi\n"
     ]
    }
   ],
   "source": [
    "\n",
    "def 함수(문자열) :\n",
    "    print(문자열)\n",
    "\n",
    "함수(\"안녕\")\n",
    "함수(\"Hi\")\n"
   ]
  },
  {
   "cell_type": "markdown",
   "id": "8acdd239",
   "metadata": {},
   "source": [
    "#212\n",
    "def 함수(a, b) :\n",
    "    print(a + b)\n",
    "\n",
    "함수(3, 4)\n",
    "함수(7, 8)\n",
    "\n",
    "7\n",
    "15"
   ]
  },
  {
   "cell_type": "code",
   "execution_count": 12,
   "id": "ee303e62",
   "metadata": {
    "ExecuteTime": {
     "end_time": "2024-03-07T11:12:29.372905Z",
     "start_time": "2024-03-07T11:12:29.365150Z"
    }
   },
   "outputs": [
    {
     "name": "stdout",
     "output_type": "stream",
     "text": [
      "7\n",
      "15\n"
     ]
    }
   ],
   "source": [
    "def 함수(a, b) :\n",
    "    print(a + b)\n",
    "\n",
    "함수(3, 4)\n",
    "함수(7, 8)\n"
   ]
  },
  {
   "cell_type": "markdown",
   "id": "ede1a8dd",
   "metadata": {},
   "source": [
    "#213\n",
    "\n",
    "def 함수(문자열) :\n",
    "    print(문자열)"
   ]
  },
  {
   "cell_type": "code",
   "execution_count": 17,
   "id": "6e6ad2f4",
   "metadata": {
    "ExecuteTime": {
     "end_time": "2024-03-07T14:55:33.921397Z",
     "start_time": "2024-03-07T14:55:33.893820Z"
    }
   },
   "outputs": [
    {
     "ename": "TypeError",
     "evalue": "함수() missing 1 required positional argument: '문자열'",
     "output_type": "error",
     "traceback": [
      "\u001b[1;31m---------------------------------------------------------------------------\u001b[0m",
      "\u001b[1;31mTypeError\u001b[0m                                 Traceback (most recent call last)",
      "Cell \u001b[1;32mIn[17], line 4\u001b[0m\n\u001b[0;32m      1\u001b[0m \u001b[38;5;28;01mdef\u001b[39;00m \u001b[38;5;21m함수\u001b[39m(문자열) :\n\u001b[0;32m      2\u001b[0m     \u001b[38;5;28mprint\u001b[39m(문자열)\n\u001b[1;32m----> 4\u001b[0m 함수()\n",
      "\u001b[1;31mTypeError\u001b[0m: 함수() missing 1 required positional argument: '문자열'"
     ]
    }
   ],
   "source": [
    "def 함수(문자열) :\n",
    "    print(문자열)\n",
    "    \n",
    "함수()"
   ]
  },
  {
   "cell_type": "markdown",
   "id": "bfb841fa",
   "metadata": {},
   "source": [
    "문자열을 인자로 호출안해놓고 머하니"
   ]
  },
  {
   "cell_type": "code",
   "execution_count": 18,
   "id": "640e3108",
   "metadata": {
    "ExecuteTime": {
     "end_time": "2024-03-07T14:56:33.327576Z",
     "start_time": "2024-03-07T14:56:33.294792Z"
    }
   },
   "outputs": [
    {
     "ename": "TypeError",
     "evalue": "can only concatenate str (not \"int\") to str",
     "output_type": "error",
     "traceback": [
      "\u001b[1;31m---------------------------------------------------------------------------\u001b[0m",
      "\u001b[1;31mTypeError\u001b[0m                                 Traceback (most recent call last)",
      "Cell \u001b[1;32mIn[18], line 5\u001b[0m\n\u001b[0;32m      2\u001b[0m \u001b[38;5;28;01mdef\u001b[39;00m \u001b[38;5;21m함수\u001b[39m(a, b) :\n\u001b[0;32m      3\u001b[0m     \u001b[38;5;28mprint\u001b[39m(a \u001b[38;5;241m+\u001b[39m b)\n\u001b[1;32m----> 5\u001b[0m 함수(\u001b[38;5;124m\"\u001b[39m\u001b[38;5;124m안녕\u001b[39m\u001b[38;5;124m\"\u001b[39m, \u001b[38;5;241m3\u001b[39m)\n",
      "Cell \u001b[1;32mIn[18], line 3\u001b[0m, in \u001b[0;36m함수\u001b[1;34m(a, b)\u001b[0m\n\u001b[0;32m      2\u001b[0m \u001b[38;5;28;01mdef\u001b[39;00m \u001b[38;5;21m함수\u001b[39m(a, b) :\n\u001b[1;32m----> 3\u001b[0m     \u001b[38;5;28mprint\u001b[39m(a \u001b[38;5;241m+\u001b[39m b)\n",
      "\u001b[1;31mTypeError\u001b[0m: can only concatenate str (not \"int\") to str"
     ]
    }
   ],
   "source": [
    "#214\n",
    "def 함수(a, b) :\n",
    "    print(a + b)\n",
    "\n",
    "함수(\"안녕\", 3)"
   ]
  },
  {
   "cell_type": "markdown",
   "id": "797d9f40",
   "metadata": {},
   "source": [
    "문자열과 숫자는 더할수가 없는걸..? 3을 문자열로 변환하든지 해라 좀"
   ]
  },
  {
   "cell_type": "code",
   "execution_count": 19,
   "id": "614800aa",
   "metadata": {
    "ExecuteTime": {
     "end_time": "2024-03-07T14:58:10.094580Z",
     "start_time": "2024-03-07T14:58:10.088129Z"
    }
   },
   "outputs": [
    {
     "name": "stdout",
     "output_type": "stream",
     "text": [
      "아잉 나는 너무 귀여워:D\n"
     ]
    }
   ],
   "source": [
    "#215 \n",
    "def print_with_smile (string) :\n",
    "    print (string + \":D\")\n",
    "    \n",
    "print_with_smile(\"아잉 나는 너무 귀여워\")"
   ]
  },
  {
   "cell_type": "code",
   "execution_count": 20,
   "id": "10f227d2",
   "metadata": {
    "ExecuteTime": {
     "end_time": "2024-03-07T14:58:51.692984Z",
     "start_time": "2024-03-07T14:58:51.687843Z"
    }
   },
   "outputs": [
    {
     "name": "stdout",
     "output_type": "stream",
     "text": [
      "안녕하세요:D\n"
     ]
    }
   ],
   "source": [
    "#216\n",
    "\n",
    "print_with_smile(\"안녕하세요\")"
   ]
  },
  {
   "cell_type": "code",
   "execution_count": 25,
   "id": "ab9fa6a2",
   "metadata": {
    "ExecuteTime": {
     "end_time": "2024-03-07T15:00:24.534672Z",
     "start_time": "2024-03-07T15:00:24.527712Z"
    }
   },
   "outputs": [],
   "source": [
    "#217\n",
    "def print_upper_price(a):\n",
    "    print(a*1.3)"
   ]
  },
  {
   "cell_type": "code",
   "execution_count": 26,
   "id": "1879dcdc",
   "metadata": {
    "ExecuteTime": {
     "end_time": "2024-03-07T15:00:25.105349Z",
     "start_time": "2024-03-07T15:00:25.097372Z"
    }
   },
   "outputs": [
    {
     "name": "stdout",
     "output_type": "stream",
     "text": [
      "195.0\n"
     ]
    }
   ],
   "source": [
    "print_upper_price(150)"
   ]
  },
  {
   "cell_type": "code",
   "execution_count": 27,
   "id": "31ba58d6",
   "metadata": {
    "ExecuteTime": {
     "end_time": "2024-03-07T15:01:08.855101Z",
     "start_time": "2024-03-07T15:01:08.851397Z"
    }
   },
   "outputs": [],
   "source": [
    "#218\n",
    "def print_sum(a,b):\n",
    "    print(a+b)"
   ]
  },
  {
   "cell_type": "code",
   "execution_count": 28,
   "id": "3e5a6ea2",
   "metadata": {
    "ExecuteTime": {
     "end_time": "2024-03-07T15:03:22.820031Z",
     "start_time": "2024-03-07T15:03:22.814538Z"
    }
   },
   "outputs": [],
   "source": [
    "#219\n",
    "def print_arithmetic_operation(a,b):\n",
    "    print(a+b)\n",
    "    print(a-b)\n",
    "    print(a*b)\n",
    "    print(a/b)"
   ]
  },
  {
   "cell_type": "code",
   "execution_count": 29,
   "id": "4790da42",
   "metadata": {
    "ExecuteTime": {
     "end_time": "2024-03-07T15:03:35.828861Z",
     "start_time": "2024-03-07T15:03:35.821569Z"
    }
   },
   "outputs": [
    {
     "name": "stdout",
     "output_type": "stream",
     "text": [
      "9\n",
      "3\n",
      "18\n",
      "2.0\n"
     ]
    }
   ],
   "source": [
    "print_arithmetic_operation(6,3)"
   ]
  },
  {
   "cell_type": "code",
   "execution_count": 31,
   "id": "7baebf5e",
   "metadata": {
    "ExecuteTime": {
     "end_time": "2024-03-07T15:05:23.681752Z",
     "start_time": "2024-03-07T15:05:23.673857Z"
    }
   },
   "outputs": [],
   "source": [
    "#220\n",
    "def print_max(a, b, c) :\n",
    "    if a>=b and a>=b:\n",
    "        print (a)\n",
    "    elif b>=a and b>=c:\n",
    "        print (b)\n",
    "    elif c>=a and c>=b:\n",
    "        print (c)"
   ]
  },
  {
   "cell_type": "code",
   "execution_count": 39,
   "id": "c91bc7f8",
   "metadata": {
    "ExecuteTime": {
     "end_time": "2024-03-07T15:10:31.568534Z",
     "start_time": "2024-03-07T15:10:31.563637Z"
    }
   },
   "outputs": [
    {
     "name": "stdout",
     "output_type": "stream",
     "text": [
      "4\n"
     ]
    }
   ],
   "source": [
    "print_max (2,3,4)"
   ]
  },
  {
   "cell_type": "code",
   "execution_count": 35,
   "id": "ed114390",
   "metadata": {
    "ExecuteTime": {
     "end_time": "2024-03-07T15:07:29.820899Z",
     "start_time": "2024-03-07T15:07:29.813741Z"
    }
   },
   "outputs": [
    {
     "name": "stdout",
     "output_type": "stream",
     "text": [
      "nohtyp\n"
     ]
    }
   ],
   "source": [
    "#221\n",
    "def print_reverse(string) :\n",
    "    print(string[::-1])\n",
    "\n",
    "print_reverse('python')"
   ]
  },
  {
   "cell_type": "code",
   "execution_count": 36,
   "id": "11c6226c",
   "metadata": {
    "ExecuteTime": {
     "end_time": "2024-03-07T15:08:04.043984Z",
     "start_time": "2024-03-07T15:08:04.037810Z"
    }
   },
   "outputs": [],
   "source": [
    "#222\n",
    "def print_score(list) :\n",
    "    print(sum(list)/len(list))"
   ]
  },
  {
   "cell_type": "code",
   "execution_count": 37,
   "id": "70630b4d",
   "metadata": {
    "ExecuteTime": {
     "end_time": "2024-03-07T15:08:32.575373Z",
     "start_time": "2024-03-07T15:08:32.567291Z"
    }
   },
   "outputs": [
    {
     "name": "stdout",
     "output_type": "stream",
     "text": [
      "4.0\n"
     ]
    }
   ],
   "source": [
    "print_score([2,3,4,5,6])"
   ]
  },
  {
   "cell_type": "code",
   "execution_count": 40,
   "id": "90d52aa1",
   "metadata": {
    "ExecuteTime": {
     "end_time": "2024-03-07T15:11:00.771366Z",
     "start_time": "2024-03-07T15:11:00.765445Z"
    }
   },
   "outputs": [],
   "source": [
    "#223\n",
    "def print_even(list):\n",
    "    for i in list:\n",
    "        if i % 2 ==0:\n",
    "            print(i)"
   ]
  },
  {
   "cell_type": "code",
   "execution_count": 41,
   "id": "17c83f50",
   "metadata": {
    "ExecuteTime": {
     "end_time": "2024-03-07T15:11:02.959508Z",
     "start_time": "2024-03-07T15:11:02.951526Z"
    }
   },
   "outputs": [
    {
     "name": "stdout",
     "output_type": "stream",
     "text": [
      "2\n",
      "10\n",
      "12\n"
     ]
    }
   ],
   "source": [
    "print_even ([1, 3, 2, 10, 12, 11, 15])"
   ]
  },
  {
   "cell_type": "code",
   "execution_count": 42,
   "id": "9cfceccc",
   "metadata": {
    "ExecuteTime": {
     "end_time": "2024-03-07T15:14:21.262464Z",
     "start_time": "2024-03-07T15:14:21.255972Z"
    }
   },
   "outputs": [],
   "source": [
    "#224\n",
    "def print_keys(a):\n",
    "    for keys in a.keys():\n",
    "        print(keys)"
   ]
  },
  {
   "cell_type": "code",
   "execution_count": 43,
   "id": "0f2651b2",
   "metadata": {
    "ExecuteTime": {
     "end_time": "2024-03-07T15:14:30.236089Z",
     "start_time": "2024-03-07T15:14:30.228080Z"
    }
   },
   "outputs": [
    {
     "name": "stdout",
     "output_type": "stream",
     "text": [
      "이름\n",
      "나이\n",
      "성별\n"
     ]
    }
   ],
   "source": [
    "print_keys ({\"이름\":\"김말똥\", \"나이\":30, \"성별\":0})"
   ]
  },
  {
   "cell_type": "code",
   "execution_count": 44,
   "id": "701d4d94",
   "metadata": {
    "ExecuteTime": {
     "end_time": "2024-03-07T15:16:31.373621Z",
     "start_time": "2024-03-07T15:16:31.365151Z"
    }
   },
   "outputs": [],
   "source": [
    "#225\n",
    "def print_value_by_key (dic, key) :\n",
    "    print(dic[key])"
   ]
  },
  {
   "cell_type": "code",
   "execution_count": 45,
   "id": "451cd17b",
   "metadata": {
    "ExecuteTime": {
     "end_time": "2024-03-07T15:16:55.250196Z",
     "start_time": "2024-03-07T15:16:55.243345Z"
    }
   },
   "outputs": [],
   "source": [
    "dic= {\"10/26\" : [100, 130, 100, 100],\"10/27\" : [10, 12, 10, 11]}"
   ]
  },
  {
   "cell_type": "code",
   "execution_count": 47,
   "id": "12e2d985",
   "metadata": {
    "ExecuteTime": {
     "end_time": "2024-03-07T15:17:21.960327Z",
     "start_time": "2024-03-07T15:17:21.952306Z"
    }
   },
   "outputs": [
    {
     "name": "stdout",
     "output_type": "stream",
     "text": [
      "[100, 130, 100, 100]\n"
     ]
    }
   ],
   "source": [
    "print_value_by_key(dic,\"10/26\")"
   ]
  },
  {
   "cell_type": "code",
   "execution_count": 57,
   "id": "41c11fb9",
   "metadata": {
    "ExecuteTime": {
     "end_time": "2024-03-07T15:25:06.473282Z",
     "start_time": "2024-03-07T15:25:06.466936Z"
    }
   },
   "outputs": [],
   "source": [
    "#226\n",
    "def print5xn(b):\n",
    "    lines=int(len(b)/5)\n",
    "    for i in range(lines + 1) :\n",
    "        print(b[i*5:i*5+5])"
   ]
  },
  {
   "cell_type": "code",
   "execution_count": 58,
   "id": "1ac51b56",
   "metadata": {
    "ExecuteTime": {
     "end_time": "2024-03-07T15:25:08.086429Z",
     "start_time": "2024-03-07T15:25:08.079000Z"
    }
   },
   "outputs": [
    {
     "name": "stdout",
     "output_type": "stream",
     "text": [
      "저스트꿈이\n",
      "아닌현실은\n",
      "데자뷰\n"
     ]
    }
   ],
   "source": [
    "print5xn(\"저스트꿈이아닌현실은데자뷰\")"
   ]
  },
  {
   "cell_type": "code",
   "execution_count": 59,
   "id": "65c90c16",
   "metadata": {
    "ExecuteTime": {
     "end_time": "2024-03-07T15:28:46.799029Z",
     "start_time": "2024-03-07T15:28:46.791419Z"
    }
   },
   "outputs": [],
   "source": [
    "#227\n",
    "def printmxn(a,b):\n",
    "    lines=int(len(a)/b)\n",
    "    for i in range(lines+1):\n",
    "        print(a[i*b:i*b+b])\n",
    "        "
   ]
  },
  {
   "cell_type": "code",
   "execution_count": 61,
   "id": "94969c9a",
   "metadata": {
    "ExecuteTime": {
     "end_time": "2024-03-07T15:28:59.447707Z",
     "start_time": "2024-03-07T15:28:59.439663Z"
    }
   },
   "outputs": [
    {
     "name": "stdout",
     "output_type": "stream",
     "text": [
      "저스트\n",
      "꿈이아\n",
      "닌현실\n",
      "은데자\n",
      "뷰\n"
     ]
    }
   ],
   "source": [
    "printmxn(\"저스트꿈이아닌현실은데자뷰\",3)"
   ]
  },
  {
   "cell_type": "code",
   "execution_count": 62,
   "id": "c581ade9",
   "metadata": {
    "ExecuteTime": {
     "end_time": "2024-03-07T15:29:43.765562Z",
     "start_time": "2024-03-07T15:29:43.760517Z"
    }
   },
   "outputs": [],
   "source": [
    "#228\n",
    "def calc_monthly_salary(a) :\n",
    "    b = int(a / 12)\n",
    "    return b"
   ]
  },
  {
   "cell_type": "code",
   "execution_count": 63,
   "id": "caf27126",
   "metadata": {
    "ExecuteTime": {
     "end_time": "2024-03-07T15:30:01.636198Z",
     "start_time": "2024-03-07T15:30:01.619077Z"
    }
   },
   "outputs": [
    {
     "data": {
      "text/plain": [
       "1000000"
      ]
     },
     "execution_count": 63,
     "metadata": {},
     "output_type": "execute_result"
    }
   ],
   "source": [
    "calc_monthly_salary(12000000)"
   ]
  },
  {
   "cell_type": "code",
   "execution_count": 64,
   "id": "92df5ddb",
   "metadata": {
    "ExecuteTime": {
     "end_time": "2024-03-07T15:30:38.168093Z",
     "start_time": "2024-03-07T15:30:38.160116Z"
    }
   },
   "outputs": [
    {
     "name": "stdout",
     "output_type": "stream",
     "text": [
      "왼쪽: 100\n",
      "오른쪽: 200\n"
     ]
    }
   ],
   "source": [
    "#229\n",
    "def my_print (a, b) :\n",
    "    print(\"왼쪽:\", a)\n",
    "    print(\"오른쪽:\", b)\n",
    "\n",
    "my_print(a=100, b=200)"
   ]
  },
  {
   "cell_type": "code",
   "execution_count": 65,
   "id": "2e0d3bde",
   "metadata": {
    "ExecuteTime": {
     "end_time": "2024-03-07T15:30:50.987743Z",
     "start_time": "2024-03-07T15:30:50.979119Z"
    }
   },
   "outputs": [
    {
     "name": "stdout",
     "output_type": "stream",
     "text": [
      "왼쪽: 200\n",
      "오른쪽: 100\n"
     ]
    }
   ],
   "source": [
    "#230\n",
    "def my_print (a, b) :\n",
    "    print(\"왼쪽:\", a)\n",
    "    print(\"오른쪽:\", b)\n",
    "\n",
    "my_print(b=100, a=200)"
   ]
  },
  {
   "cell_type": "code",
   "execution_count": 66,
   "id": "a6a2f665",
   "metadata": {
    "ExecuteTime": {
     "end_time": "2024-03-07T15:32:01.127217Z",
     "start_time": "2024-03-07T15:32:01.088173Z"
    }
   },
   "outputs": [
    {
     "ename": "NameError",
     "evalue": "name 'result' is not defined",
     "output_type": "error",
     "traceback": [
      "\u001b[1;31m---------------------------------------------------------------------------\u001b[0m",
      "\u001b[1;31mNameError\u001b[0m                                 Traceback (most recent call last)",
      "Cell \u001b[1;32mIn[66], line 7\u001b[0m\n\u001b[0;32m      4\u001b[0m     result \u001b[38;5;241m=\u001b[39m n \u001b[38;5;241m+\u001b[39m \u001b[38;5;241m1\u001b[39m\n\u001b[0;32m      6\u001b[0m n_plus_1(\u001b[38;5;241m3\u001b[39m)\n\u001b[1;32m----> 7\u001b[0m \u001b[38;5;28mprint\u001b[39m (result)\n",
      "\u001b[1;31mNameError\u001b[0m: name 'result' is not defined"
     ]
    }
   ],
   "source": [
    "#231\n",
    "\n",
    "def n_plus_1 (n)\n",
    "    result = n + 1\n",
    "\n",
    "n_plus_1(3)\n",
    "print (result)"
   ]
  },
  {
   "cell_type": "markdown",
   "id": "56530ac8",
   "metadata": {},
   "source": [
    "result는 로컬변수이므로 글로벌에선느 선언이 안되어있음"
   ]
  },
  {
   "cell_type": "code",
   "execution_count": 74,
   "id": "be6d1376",
   "metadata": {
    "ExecuteTime": {
     "end_time": "2024-03-07T15:34:38.922472Z",
     "start_time": "2024-03-07T15:34:38.915481Z"
    }
   },
   "outputs": [],
   "source": [
    "#232\n",
    "def make_url(a):\n",
    "    print(\"www.\"+a+\".com\")"
   ]
  },
  {
   "cell_type": "code",
   "execution_count": 75,
   "id": "3998ff4a",
   "metadata": {
    "ExecuteTime": {
     "end_time": "2024-03-07T15:34:39.421703Z",
     "start_time": "2024-03-07T15:34:39.413854Z"
    }
   },
   "outputs": [
    {
     "name": "stdout",
     "output_type": "stream",
     "text": [
      "www.naver.com\n"
     ]
    }
   ],
   "source": [
    "make_url(\"naver\")"
   ]
  },
  {
   "cell_type": "code",
   "execution_count": 78,
   "id": "6a6f0c46",
   "metadata": {
    "ExecuteTime": {
     "end_time": "2024-03-07T15:37:53.938098Z",
     "start_time": "2024-03-07T15:37:53.929902Z"
    }
   },
   "outputs": [],
   "source": [
    "#233\n",
    "def make_list(a):\n",
    "    new_list=[]\n",
    "    for i in a:\n",
    "        new_list.append(i)\n",
    "    print(new_list)"
   ]
  },
  {
   "cell_type": "code",
   "execution_count": 79,
   "id": "19ee6914",
   "metadata": {
    "ExecuteTime": {
     "end_time": "2024-03-07T15:37:54.617111Z",
     "start_time": "2024-03-07T15:37:54.609916Z"
    }
   },
   "outputs": [
    {
     "name": "stdout",
     "output_type": "stream",
     "text": [
      "['l', 'e', 's', 's', 'e', 'r', 'a', 'f', 'i', 'm']\n"
     ]
    }
   ],
   "source": [
    "make_list(\"lesserafim\")"
   ]
  },
  {
   "cell_type": "code",
   "execution_count": 82,
   "id": "a65e58bd",
   "metadata": {
    "ExecuteTime": {
     "end_time": "2024-03-07T15:42:00.459777Z",
     "start_time": "2024-03-07T15:42:00.452037Z"
    }
   },
   "outputs": [],
   "source": [
    "#234\n",
    "def pickup_even(a):\n",
    "    evens=[]\n",
    "    for i in a:\n",
    "        if i%2==0:\n",
    "            evens.append(i)\n",
    "    print(evens)"
   ]
  },
  {
   "cell_type": "code",
   "execution_count": 83,
   "id": "6a45733d",
   "metadata": {
    "ExecuteTime": {
     "end_time": "2024-03-07T15:42:01.493465Z",
     "start_time": "2024-03-07T15:42:01.488950Z"
    }
   },
   "outputs": [
    {
     "name": "stdout",
     "output_type": "stream",
     "text": [
      "[2, 6, 68]\n"
     ]
    }
   ],
   "source": [
    "pickup_even([2,7,6,7,68])"
   ]
  },
  {
   "cell_type": "code",
   "execution_count": 84,
   "id": "0e610da2",
   "metadata": {
    "ExecuteTime": {
     "end_time": "2024-03-07T15:42:56.642458Z",
     "start_time": "2024-03-07T15:42:56.636770Z"
    }
   },
   "outputs": [],
   "source": [
    "#235\n",
    "def convert_int (a) :\n",
    "    return int(a.replace(',', ''))"
   ]
  },
  {
   "cell_type": "code",
   "execution_count": 85,
   "id": "17e3e833",
   "metadata": {
    "ExecuteTime": {
     "end_time": "2024-03-07T15:43:04.021744Z",
     "start_time": "2024-03-07T15:43:04.013162Z"
    }
   },
   "outputs": [
    {
     "data": {
      "text/plain": [
       "1234567"
      ]
     },
     "execution_count": 85,
     "metadata": {},
     "output_type": "execute_result"
    }
   ],
   "source": [
    "convert_int(\"1,234,567\")"
   ]
  },
  {
   "cell_type": "code",
   "execution_count": 86,
   "id": "d72abf60",
   "metadata": {
    "ExecuteTime": {
     "end_time": "2024-03-07T15:43:16.250173Z",
     "start_time": "2024-03-07T15:43:16.243026Z"
    }
   },
   "outputs": [
    {
     "name": "stdout",
     "output_type": "stream",
     "text": [
      "22\n"
     ]
    }
   ],
   "source": [
    "#236\n",
    "def 함수(num) :\n",
    "    return num + 4\n",
    "\n",
    "a = 함수(10)\n",
    "b = 함수(a)\n",
    "c = 함수(b)\n",
    "print(c)"
   ]
  },
  {
   "cell_type": "markdown",
   "id": "e7d1f09c",
   "metadata": {},
   "source": [
    "#237\n",
    "236을 걍 한줄로 적은거임;;"
   ]
  },
  {
   "cell_type": "code",
   "execution_count": 88,
   "id": "ea555981",
   "metadata": {
    "ExecuteTime": {
     "end_time": "2024-03-07T15:44:35.443338Z",
     "start_time": "2024-03-07T15:44:35.437637Z"
    }
   },
   "outputs": [
    {
     "name": "stdout",
     "output_type": "stream",
     "text": [
      "140\n"
     ]
    }
   ],
   "source": [
    "#238\n",
    "def 함수1(num) :\n",
    "    return num + 4\n",
    "\n",
    "def 함수2(num) :\n",
    "    return num * 10\n",
    "\n",
    "a = 함수1(10)\n",
    "c = 함수2(a)\n",
    "print(c)"
   ]
  },
  {
   "cell_type": "code",
   "execution_count": 89,
   "id": "c032c55a",
   "metadata": {
    "ExecuteTime": {
     "end_time": "2024-03-07T15:44:45.712918Z",
     "start_time": "2024-03-07T15:44:45.706579Z"
    }
   },
   "outputs": [
    {
     "name": "stdout",
     "output_type": "stream",
     "text": [
      "16\n"
     ]
    }
   ],
   "source": [
    "#239\n",
    "def 함수1(num) :\n",
    "    return num + 4\n",
    "\n",
    "def 함수2(num) :\n",
    "    num = num + 2\n",
    "    return 함수1(num)\n",
    "\n",
    "c = 함수2(10)\n",
    "print(c)"
   ]
  },
  {
   "cell_type": "code",
   "execution_count": 90,
   "id": "72fe2a6c",
   "metadata": {
    "ExecuteTime": {
     "end_time": "2024-03-07T15:44:54.197477Z",
     "start_time": "2024-03-07T15:44:54.190095Z"
    }
   },
   "outputs": [
    {
     "name": "stdout",
     "output_type": "stream",
     "text": [
      "28\n"
     ]
    }
   ],
   "source": [
    "#240\n",
    "def 함수0(num) :\n",
    "    return num * 2\n",
    "\n",
    "def 함수1(num) :\n",
    "    return 함수0(num + 2)\n",
    "\n",
    "def 함수2(num) :\n",
    "    num = num + 10\n",
    "    return 함수1(num)\n",
    "\n",
    "c = 함수2(2)\n",
    "print(c)"
   ]
  },
  {
   "cell_type": "code",
   "execution_count": null,
   "id": "45fb9687",
   "metadata": {},
   "outputs": [],
   "source": []
  }
 ],
 "metadata": {
  "kernelspec": {
   "display_name": "Python 3 (ipykernel)",
   "language": "python",
   "name": "python3"
  },
  "language_info": {
   "codemirror_mode": {
    "name": "ipython",
    "version": 3
   },
   "file_extension": ".py",
   "mimetype": "text/x-python",
   "name": "python",
   "nbconvert_exporter": "python",
   "pygments_lexer": "ipython3",
   "version": "3.11.5"
  },
  "toc": {
   "base_numbering": 1,
   "nav_menu": {},
   "number_sections": true,
   "sideBar": true,
   "skip_h1_title": false,
   "title_cell": "Table of Contents",
   "title_sidebar": "Contents",
   "toc_cell": false,
   "toc_position": {},
   "toc_section_display": true,
   "toc_window_display": false
  }
 },
 "nbformat": 4,
 "nbformat_minor": 5
}
